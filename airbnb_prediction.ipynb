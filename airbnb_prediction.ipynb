{
 "cells": [
  {
   "attachments": {},
   "cell_type": "markdown",
   "id": "79dc9465",
   "metadata": {},
   "source": [
    "# 0.0 IMPORTS"
   ]
  },
  {
   "attachments": {},
   "cell_type": "markdown",
   "id": "a50225ed",
   "metadata": {},
   "source": [
    "## packages"
   ]
  },
  {
   "cell_type": "code",
   "execution_count": 856,
   "id": "3aa9ffad",
   "metadata": {},
   "outputs": [
    {
     "data": {
      "text/plain": [
       "'p:\\\\Python\\\\GitHub\\\\airbnb_prediction'"
      ]
     },
     "execution_count": 856,
     "metadata": {},
     "output_type": "execute_result"
    }
   ],
   "source": [
    "import os, pickle, datetime, json\n",
    "import re\n",
    "import numpy as np\n",
    "import matplotlib.pyplot as plt\n",
    "import pandas as pd\n",
    "import random\n",
    "import seaborn as sns\n",
    "import pickle\n",
    "from sklearn.model_selection import train_test_split, StratifiedKFold\n",
    "import itertools\n",
    "from keras import models as ml\n",
    "from keras import layers as l\n",
    "from category_encoders.target_encoder import TargetEncoder\n",
    "from pandas_profiling import ProfileReport\n",
    "from scipy import stats as ss\n",
    "from catboost import CatBoostClassifier\n",
    "from lightgbm import LGBMClassifier\n",
    "import sweetviz as sv\n",
    "from sklearn.preprocessing import OneHotEncoder, RobustScaler, MinMaxScaler, StandardScaler, LabelEncoder\n",
    "from sklearn.metrics import balanced_accuracy_score, cohen_kappa_score, accuracy_score, classification_report, confusion_matrix, roc_auc_score\n",
    "from sklearn.preprocessing import OneHotEncoder\n",
    "from sklearn.ensemble import RandomForestClassifier\n",
    "from sklearn.base                       import BaseEstimator, TransformerMixin\n",
    "from skopt import gp_minimize\n",
    "import scipy.stats as stats\n",
    "from sklearn.feature_selection import SelectKBest, SelectPercentile, f_regression, f_classif\n",
    "from xgboost import XGBClassifier\n",
    "\n",
    "\n",
    "\n",
    "\n",
    "pd.options.display.max_columns = 500 # this will set limit of columns to 500\n",
    "pd.set_option('display.float_format', lambda x: '%.5f' % x)\n",
    "\n",
    "%matplotlib inline\n",
    "os.getcwd()"
   ]
  },
  {
   "attachments": {},
   "cell_type": "markdown",
   "id": "f806856f",
   "metadata": {},
   "source": [
    "## 0.1 Helper Function"
   ]
  },
  {
   "cell_type": "code",
   "execution_count": 857,
   "id": "ba6c08a3",
   "metadata": {},
   "outputs": [],
   "source": [
    "def plot_confusion_matrix(cm, classes,\n",
    "                          normalize=False,\n",
    "                          title='Confusion matrix',\n",
    "                          cmap=plt.cm.Blues):\n",
    "    \"\"\"\n",
    "    This function prints and plots the confusion matrix.\n",
    "    Normalization can be applied by setting `normalize=True`.\n",
    "    \"\"\"\n",
    "    import itertools\n",
    "    if normalize:\n",
    "        cm = cm.astype('float') / cm.sum(axis=1)[:, np.newaxis]\n",
    "        print(\"Normalized confusion matrix\")\n",
    "    else:\n",
    "        print('Confusion matrix, without normalization')\n",
    "\n",
    "    print(cm)\n",
    "\n",
    "    plt.imshow(cm, interpolation='nearest', cmap=cmap)\n",
    "    plt.title(title)\n",
    "    plt.colorbar()\n",
    "    tick_marks = np.arange(len(classes))\n",
    "    plt.xticks(tick_marks, classes, rotation=45)\n",
    "    plt.yticks(tick_marks, classes)\n",
    "\n",
    "    fmt = '.2f' if normalize else 'd'\n",
    "    thresh = cm.max() / 2.\n",
    "    for i, j in itertools.product(range(cm.shape[0]), range(cm.shape[1])):\n",
    "        plt.text(j, i, format(cm[i, j], fmt),\n",
    "                 horizontalalignment=\"center\",\n",
    "                 color=\"white\" if cm[i, j] > thresh else \"black\")\n",
    "\n",
    "    plt.ylabel('True label')\n",
    "    plt.xlabel('Predicted label')\n",
    "    plt.tight_layout()"
   ]
  },
  {
   "cell_type": "code",
   "execution_count": 858,
   "id": "238abb39",
   "metadata": {},
   "outputs": [],
   "source": [
    "def cramers_corrected_stat(confusion_matrix):\n",
    "    \"\"\" calculate Cramers V statistic for categorical-categorical association.\n",
    "        uses correction from Bergsma and Wicher, \n",
    "        Journal of the Korean Statistical Society 42 (2013): 323-328\n",
    "    \"\"\"\n",
    "    chi2 = ss.chi2_contingency(confusion_matrix)[0]\n",
    "    n = confusion_matrix.sum().sum()\n",
    "    phi2 = chi2/n\n",
    "    r,k = confusion_matrix.shape\n",
    "    phi2corr = max(0, phi2 - ((k-1)*(r-1))/(n-1))    \n",
    "    rcorr = r - ((r-1)**2)/(n-1)\n",
    "    kcorr = k - ((k-1)**2)/(n-1)\n",
    "    return np.sqrt(phi2corr / min( (kcorr-1), (rcorr-1)))"
   ]
  },
  {
   "cell_type": "code",
   "execution_count": 859,
   "id": "bf09d3fb",
   "metadata": {},
   "outputs": [],
   "source": [
    "def get_metrics( ytrue, ypred):\n",
    "    acc_nn = accuracy_score(ytrue, ypred)\n",
    "    bacc_nn = balanced_accuracy_score(ytrue, ypred)\n",
    "    kappa_nn = cohen_kappa_score(ytrue, ypred)\n",
    "    print( acc_nn, \"\\n\", bacc_nn, \"\\n\", kappa_nn)"
   ]
  },
  {
   "attachments": {},
   "cell_type": "markdown",
   "id": "6378bf2c",
   "metadata": {},
   "source": [
    "## 0.2 Loading Data"
   ]
  },
  {
   "cell_type": "code",
   "execution_count": 860,
   "id": "f6633406",
   "metadata": {},
   "outputs": [
    {
     "name": "stdout",
     "output_type": "stream",
     "text": [
      "29239\n",
      "59669\n",
      "0.3288680433706753\n"
     ]
    },
    {
     "data": {
      "text/html": [
       "<div>\n",
       "<style scoped>\n",
       "    .dataframe tbody tr th:only-of-type {\n",
       "        vertical-align: middle;\n",
       "    }\n",
       "\n",
       "    .dataframe tbody tr th {\n",
       "        vertical-align: top;\n",
       "    }\n",
       "\n",
       "    .dataframe thead th {\n",
       "        text-align: right;\n",
       "    }\n",
       "</style>\n",
       "<table border=\"1\" class=\"dataframe\">\n",
       "  <thead>\n",
       "    <tr style=\"text-align: right;\">\n",
       "      <th></th>\n",
       "      <th>id</th>\n",
       "      <th>date_account_created</th>\n",
       "      <th>timestamp_first_active</th>\n",
       "      <th>date_first_booking</th>\n",
       "      <th>gender</th>\n",
       "      <th>age</th>\n",
       "      <th>signup_method</th>\n",
       "      <th>signup_flow</th>\n",
       "      <th>language</th>\n",
       "      <th>affiliate_channel</th>\n",
       "      <th>affiliate_provider</th>\n",
       "      <th>first_affiliate_tracked</th>\n",
       "      <th>signup_app</th>\n",
       "      <th>first_device_type</th>\n",
       "      <th>first_browser</th>\n",
       "      <th>country_destination</th>\n",
       "    </tr>\n",
       "  </thead>\n",
       "  <tbody>\n",
       "    <tr>\n",
       "      <th>2</th>\n",
       "      <td>4ft3gnwmtx</td>\n",
       "      <td>2010-09-28</td>\n",
       "      <td>20090609231247</td>\n",
       "      <td>2010-08-02</td>\n",
       "      <td>FEMALE</td>\n",
       "      <td>56.00000</td>\n",
       "      <td>basic</td>\n",
       "      <td>3</td>\n",
       "      <td>en</td>\n",
       "      <td>direct</td>\n",
       "      <td>direct</td>\n",
       "      <td>untracked</td>\n",
       "      <td>Web</td>\n",
       "      <td>Windows Desktop</td>\n",
       "      <td>IE</td>\n",
       "      <td>US</td>\n",
       "    </tr>\n",
       "    <tr>\n",
       "      <th>3</th>\n",
       "      <td>bjjt8pjhuk</td>\n",
       "      <td>2011-12-05</td>\n",
       "      <td>20091031060129</td>\n",
       "      <td>2012-09-08</td>\n",
       "      <td>FEMALE</td>\n",
       "      <td>42.00000</td>\n",
       "      <td>facebook</td>\n",
       "      <td>0</td>\n",
       "      <td>en</td>\n",
       "      <td>direct</td>\n",
       "      <td>direct</td>\n",
       "      <td>untracked</td>\n",
       "      <td>Web</td>\n",
       "      <td>Mac Desktop</td>\n",
       "      <td>Firefox</td>\n",
       "      <td>other</td>\n",
       "    </tr>\n",
       "    <tr>\n",
       "      <th>4</th>\n",
       "      <td>87mebub9p4</td>\n",
       "      <td>2010-09-14</td>\n",
       "      <td>20091208061105</td>\n",
       "      <td>2010-02-18</td>\n",
       "      <td>-unknown-</td>\n",
       "      <td>41.00000</td>\n",
       "      <td>basic</td>\n",
       "      <td>0</td>\n",
       "      <td>en</td>\n",
       "      <td>direct</td>\n",
       "      <td>direct</td>\n",
       "      <td>untracked</td>\n",
       "      <td>Web</td>\n",
       "      <td>Mac Desktop</td>\n",
       "      <td>Chrome</td>\n",
       "      <td>US</td>\n",
       "    </tr>\n",
       "  </tbody>\n",
       "</table>\n",
       "</div>"
      ],
      "text/plain": [
       "           id date_account_created  timestamp_first_active date_first_booking  \\\n",
       "2  4ft3gnwmtx           2010-09-28          20090609231247         2010-08-02   \n",
       "3  bjjt8pjhuk           2011-12-05          20091031060129         2012-09-08   \n",
       "4  87mebub9p4           2010-09-14          20091208061105         2010-02-18   \n",
       "\n",
       "      gender      age signup_method  signup_flow language affiliate_channel  \\\n",
       "2     FEMALE 56.00000         basic            3       en            direct   \n",
       "3     FEMALE 42.00000      facebook            0       en            direct   \n",
       "4  -unknown- 41.00000         basic            0       en            direct   \n",
       "\n",
       "  affiliate_provider first_affiliate_tracked signup_app first_device_type  \\\n",
       "2             direct               untracked        Web   Windows Desktop   \n",
       "3             direct               untracked        Web       Mac Desktop   \n",
       "4             direct               untracked        Web       Mac Desktop   \n",
       "\n",
       "  first_browser country_destination  \n",
       "2            IE                  US  \n",
       "3       Firefox               other  \n",
       "4        Chrome                  US  "
      ]
     },
     "execution_count": 860,
     "metadata": {},
     "output_type": "execute_result"
    }
   ],
   "source": [
    "df0 = pd.read_csv(\"data/train_users_2.csv\")\n",
    "df0.columns = df0.columns.str.lower()\n",
    "df0['date_account_created'] = pd.to_datetime(df0[\"date_account_created\"])\n",
    "df0 = df0[df0[\"date_first_booking\"].notnull()]\n",
    "test = df0[df0['date_account_created']>=\"2014-01-01\"]\n",
    "print( len(test) )\n",
    "df0 = df0[df0['date_account_created']<\"2014-01-01\"]\n",
    "print( len(df0) )\n",
    "print( len(test)/(len(df0)+len(test)) )\n",
    "df0.head(3)"
   ]
  },
  {
   "cell_type": "code",
   "execution_count": 861,
   "id": "b0dca874",
   "metadata": {},
   "outputs": [
    {
     "data": {
      "text/plain": [
       "US       0.00380\n",
       "other   -0.01933\n",
       "FR       0.00973\n",
       "IT      -0.00314\n",
       "GB       0.00119\n",
       "ES       0.00131\n",
       "CA       0.00100\n",
       "DE       0.00479\n",
       "NL      -0.00002\n",
       "AU       0.00129\n",
       "PT      -0.00059\n",
       "Name: country_destination, dtype: float64"
      ]
     },
     "execution_count": 861,
     "metadata": {},
     "output_type": "execute_result"
    }
   ],
   "source": [
    "## Check classes imbalances\n",
    "\n",
    "df0['country_destination'].value_counts(normalize=True)-test['country_destination'].value_counts(normalize=True)"
   ]
  },
  {
   "cell_type": "code",
   "execution_count": 862,
   "id": "bae78b61",
   "metadata": {},
   "outputs": [
    {
     "data": {
      "text/html": [
       "<div>\n",
       "<style scoped>\n",
       "    .dataframe tbody tr th:only-of-type {\n",
       "        vertical-align: middle;\n",
       "    }\n",
       "\n",
       "    .dataframe tbody tr th {\n",
       "        vertical-align: top;\n",
       "    }\n",
       "\n",
       "    .dataframe thead th {\n",
       "        text-align: right;\n",
       "    }\n",
       "</style>\n",
       "<table border=\"1\" class=\"dataframe\">\n",
       "  <thead>\n",
       "    <tr style=\"text-align: right;\">\n",
       "      <th></th>\n",
       "      <th>user_id</th>\n",
       "      <th>action</th>\n",
       "      <th>action_type</th>\n",
       "      <th>action_detail</th>\n",
       "      <th>device_type</th>\n",
       "      <th>secs_elapsed</th>\n",
       "    </tr>\n",
       "  </thead>\n",
       "  <tbody>\n",
       "    <tr>\n",
       "      <th>0</th>\n",
       "      <td>d1mm9tcy42</td>\n",
       "      <td>lookup</td>\n",
       "      <td>NaN</td>\n",
       "      <td>NaN</td>\n",
       "      <td>Windows Desktop</td>\n",
       "      <td>319.00000</td>\n",
       "    </tr>\n",
       "    <tr>\n",
       "      <th>1</th>\n",
       "      <td>d1mm9tcy42</td>\n",
       "      <td>search_results</td>\n",
       "      <td>click</td>\n",
       "      <td>view_search_results</td>\n",
       "      <td>Windows Desktop</td>\n",
       "      <td>67753.00000</td>\n",
       "    </tr>\n",
       "    <tr>\n",
       "      <th>2</th>\n",
       "      <td>d1mm9tcy42</td>\n",
       "      <td>lookup</td>\n",
       "      <td>NaN</td>\n",
       "      <td>NaN</td>\n",
       "      <td>Windows Desktop</td>\n",
       "      <td>301.00000</td>\n",
       "    </tr>\n",
       "  </tbody>\n",
       "</table>\n",
       "</div>"
      ],
      "text/plain": [
       "      user_id          action action_type        action_detail  \\\n",
       "0  d1mm9tcy42          lookup         NaN                  NaN   \n",
       "1  d1mm9tcy42  search_results       click  view_search_results   \n",
       "2  d1mm9tcy42          lookup         NaN                  NaN   \n",
       "\n",
       "       device_type  secs_elapsed  \n",
       "0  Windows Desktop     319.00000  \n",
       "1  Windows Desktop   67753.00000  \n",
       "2  Windows Desktop     301.00000  "
      ]
     },
     "execution_count": 862,
     "metadata": {},
     "output_type": "execute_result"
    }
   ],
   "source": [
    "df_sessions = pd.read_csv( \"data/sessions.csv\" )\n",
    "df_sessions.columns = df_sessions.columns.str.lower()\n",
    "df_sessions.head(3)"
   ]
  },
  {
   "attachments": {},
   "cell_type": "markdown",
   "id": "ac04ab1b",
   "metadata": {},
   "source": [
    "# 1.0 Data Cleaning"
   ]
  },
  {
   "cell_type": "code",
   "execution_count": 863,
   "id": "6d7b3edb",
   "metadata": {},
   "outputs": [],
   "source": [
    "os.makedirs( os.getcwd()+\"\\cleaners\", exist_ok=True)"
   ]
  },
  {
   "cell_type": "code",
   "execution_count": 864,
   "id": "4570efb1",
   "metadata": {},
   "outputs": [],
   "source": [
    "df1 = df0.copy()"
   ]
  },
  {
   "attachments": {},
   "cell_type": "markdown",
   "id": "c12d6dae",
   "metadata": {},
   "source": [
    "## 1.1 Check Data Types"
   ]
  },
  {
   "cell_type": "code",
   "execution_count": 865,
   "id": "8013877d",
   "metadata": {},
   "outputs": [],
   "source": [
    "class DtypeChanger(BaseEstimator, TransformerMixin):\n",
    "    def __init__(self):\n",
    "        pass\n",
    "    def fit(self, X,y=None):\n",
    "        return self\n",
    "    def transform(self, X, y=None):\n",
    "        X2=X.copy()\n",
    "\n",
    "        # CHANGE DATA TYPES\n",
    "        for i in [\"date_account_created\", \"date_first_booking\"]:\n",
    "            X2[i] = pd.to_datetime(X2[i])\n",
    "        X2[ 'timestamp_first_active' ] = pd.to_datetime( X2['timestamp_first_active'], format=\"%Y%m%d%H%M%S\" )\n",
    "        X2['first_active'] = pd.to_datetime( X2['timestamp_first_active'].dt.strftime(\"%Y-%m-%d\") )\n",
    "        X2['age'] = X2['age'].astype(\"Int64\")\n",
    "        X2['signup_flow'] = X2['signup_flow'].astype(\"object\")\n",
    "\n",
    "        \n",
    "        return X2"
   ]
  },
  {
   "cell_type": "code",
   "execution_count": 866,
   "id": "b4320687",
   "metadata": {},
   "outputs": [
    {
     "name": "stdout",
     "output_type": "stream",
     "text": [
      "id                                 object\n",
      "date_account_created       datetime64[ns]\n",
      "timestamp_first_active              int64\n",
      "date_first_booking                 object\n",
      "gender                             object\n",
      "age                               float64\n",
      "signup_method                      object\n",
      "signup_flow                         int64\n",
      "language                           object\n",
      "affiliate_channel                  object\n",
      "affiliate_provider                 object\n",
      "first_affiliate_tracked            object\n",
      "signup_app                         object\n",
      "first_device_type                  object\n",
      "first_browser                      object\n",
      "country_destination                object\n",
      "dtype: object\n",
      "id                                 object\n",
      "date_account_created       datetime64[ns]\n",
      "timestamp_first_active     datetime64[ns]\n",
      "date_first_booking         datetime64[ns]\n",
      "gender                             object\n",
      "age                                 Int64\n",
      "signup_method                      object\n",
      "signup_flow                        object\n",
      "language                           object\n",
      "affiliate_channel                  object\n",
      "affiliate_provider                 object\n",
      "first_affiliate_tracked            object\n",
      "signup_app                         object\n",
      "first_device_type                  object\n",
      "first_browser                      object\n",
      "country_destination                object\n",
      "first_active               datetime64[ns]\n",
      "dtype: object\n"
     ]
    }
   ],
   "source": [
    "dtypechange = DtypeChanger()\n",
    "print( df1.dtypes )\n",
    "df1 = dtypechange.fit_transform( df1 )\n",
    "pickle.dump(dtypechange, open(f'cleaners/1_{dtypechange.__class__.__name__}.pkl', 'wb'))\n",
    "print( df1.dtypes )"
   ]
  },
  {
   "attachments": {},
   "cell_type": "markdown",
   "id": "a17d8fa5",
   "metadata": {},
   "source": [
    "## 1.2 Check Duplicates"
   ]
  },
  {
   "cell_type": "code",
   "execution_count": 867,
   "id": "cb1222cc",
   "metadata": {},
   "outputs": [],
   "source": [
    "class DuplicatesDropper(BaseEstimator, TransformerMixin):\n",
    "    def __init__(self):\n",
    "        pass\n",
    "    def fit(self, X,y=None):\n",
    "        return self\n",
    "    \n",
    "    def transform(self, X, y=None):\n",
    "        X2 = X.copy()\n",
    "        X2 = X2.drop_duplicates()\n",
    "\n",
    "        return X2"
   ]
  },
  {
   "cell_type": "code",
   "execution_count": 868,
   "id": "7e0777eb",
   "metadata": {},
   "outputs": [],
   "source": [
    "dropper = DuplicatesDropper()\n",
    "df1 = dropper.fit_transform(df1)\n",
    "pickle.dump(dropper, open(f'cleaners/2_{dropper.__class__.__name__}.pkl', 'wb'))"
   ]
  },
  {
   "attachments": {},
   "cell_type": "markdown",
   "id": "1601d4c1",
   "metadata": {},
   "source": [
    "## 1.3 Check Outliers"
   ]
  },
  {
   "cell_type": "code",
   "execution_count": 869,
   "id": "3e73075f",
   "metadata": {},
   "outputs": [],
   "source": [
    "\n",
    "class OutlierRemoval(BaseEstimator, TransformerMixin):\n",
    "    def __init__(self, iqr_range = 1.5 , columns = None):\n",
    "        assert type(columns) == list\n",
    "        self.iqr_range = iqr_range\n",
    "        self.columns = columns\n",
    "        pass\n",
    "    def fit( self, X, y=None):\n",
    "        X2 = X.copy()\n",
    "        self.lower = {}\n",
    "        self.upper= {}\n",
    "\n",
    "        # for i in self.columns:\n",
    "\n",
    "            # q1 = X2[i].quantile(0.25)\n",
    "            # q3 = X2[i].quantile(0.75)\n",
    "            # iqr = q3 - q1\n",
    "            # self.lower[f\"{i}_lower\"] = q1 - self.iqr_range * iqr\n",
    "            # self.upper[f\"{i}_upper\"] = q3 + self.iqr_range * iqr\n",
    "   \n",
    "\n",
    "        return self\n",
    "    \n",
    "    def transform( self, X, y=None):\n",
    "        X2 = X.copy()\n",
    "        # for i in self.columns:\n",
    "        #     X2 = X2[(X2[i] >= self.lower[f\"{i}_lower\"]) & (X2[i] <= self.upper[f\"{i}_upper\"]) | X2[i].isnull()]\n",
    "        X2 = X2[((X2['age']>18) & (X2['age']<100)) | (X2['age'].isnull())]\n",
    "\n",
    "        return X2\n",
    "\n",
    "\n"
   ]
  },
  {
   "cell_type": "code",
   "execution_count": 870,
   "id": "30a0777e",
   "metadata": {},
   "outputs": [
    {
     "name": "stdout",
     "output_type": "stream",
     "text": [
      "(59669, 17)\n",
      "(58468, 17)\n"
     ]
    }
   ],
   "source": [
    "aux0 = df1.copy()\n",
    "print( aux0.shape )\n",
    "for i in [\"age\"]:\n",
    "    outlier_remover = OutlierRemoval( columns=[i], iqr_range=1.8 )\n",
    "    aux0 = outlier_remover.fit_transform(aux0)\n",
    "    pickle.dump(outlier_remover, open(f'cleaners/3_{outlier_remover.__class__.__name__}_{i}.pkl', 'wb'))\n",
    "\n",
    "print( aux0.shape )"
   ]
  },
  {
   "attachments": {},
   "cell_type": "markdown",
   "id": "e9b3736b",
   "metadata": {},
   "source": [
    "## 1.4 Check Nulls"
   ]
  },
  {
   "cell_type": "code",
   "execution_count": 871,
   "id": "d0544478",
   "metadata": {},
   "outputs": [],
   "source": [
    "class NAimputer(BaseEstimator, TransformerMixin):\n",
    "    def __init__(self):\n",
    "\n",
    "        pass\n",
    "    def fit(self, X,y=None):\n",
    "        X2=X.copy()\n",
    "        self.date_first_booking_max = X2['date_first_booking'].max().strftime( \"%Y-%m-%d\" )\n",
    "        self.age_mean = X2['age'].mean().round()\n",
    "        return self\n",
    "    \n",
    "    def transform(self, X, y=None):\n",
    "\n",
    "        X2=X.copy()\n",
    "        X2['age'] = X2['age'].fillna( self.age_mean ) # Fill age NaNs with the mean\n",
    "        X2[X2['first_affiliate_tracked'].notnull()] # No Affiliate tracked\n",
    "\n",
    "\n",
    "        return X2"
   ]
  },
  {
   "cell_type": "code",
   "execution_count": 872,
   "id": "61bf0126",
   "metadata": {},
   "outputs": [
    {
     "name": "stdout",
     "output_type": "stream",
     "text": [
      "id                        0.00000\n",
      "date_account_created      0.00000\n",
      "timestamp_first_active    0.00000\n",
      "date_first_booking        0.00000\n",
      "gender                    0.00000\n",
      "age                       0.23848\n",
      "signup_method             0.00000\n",
      "signup_flow               0.00000\n",
      "language                  0.00000\n",
      "affiliate_channel         0.00000\n",
      "affiliate_provider        0.00000\n",
      "first_affiliate_tracked   0.02903\n",
      "signup_app                0.00000\n",
      "first_device_type         0.00000\n",
      "first_browser             0.00000\n",
      "country_destination       0.00000\n",
      "first_active              0.00000\n",
      "dtype: float64\n",
      "id                        0.00000\n",
      "date_account_created      0.00000\n",
      "timestamp_first_active    0.00000\n",
      "date_first_booking        0.00000\n",
      "gender                    0.00000\n",
      "age                       0.00000\n",
      "signup_method             0.00000\n",
      "signup_flow               0.00000\n",
      "language                  0.00000\n",
      "affiliate_channel         0.00000\n",
      "affiliate_provider        0.00000\n",
      "first_affiliate_tracked   0.02903\n",
      "signup_app                0.00000\n",
      "first_device_type         0.00000\n",
      "first_browser             0.00000\n",
      "country_destination       0.00000\n",
      "first_active              0.00000\n",
      "dtype: float64\n"
     ]
    }
   ],
   "source": [
    "print( df1.isnull().sum()/len(df1) )\n",
    "imputer = NAimputer()\n",
    "df1 = imputer.fit_transform(df1)\n",
    "pickle.dump(imputer, open(f'cleaners/4_{imputer.__class__.__name__}.pkl', 'wb'))\n",
    "print( df1.isnull().sum()/len(df1) )\n"
   ]
  },
  {
   "attachments": {},
   "cell_type": "markdown",
   "id": "85cb1c6a",
   "metadata": {},
   "source": [
    "# 2.0 Feature Engineering"
   ]
  },
  {
   "cell_type": "code",
   "execution_count": 873,
   "id": "32525796",
   "metadata": {},
   "outputs": [],
   "source": [
    "df2 = df1.copy()"
   ]
  },
  {
   "attachments": {},
   "cell_type": "markdown",
   "id": "602ee56a",
   "metadata": {},
   "source": [
    "## 2.1 Creature nem features"
   ]
  },
  {
   "cell_type": "code",
   "execution_count": 874,
   "id": "58eb1310",
   "metadata": {},
   "outputs": [
    {
     "data": {
      "text/html": [
       "<div>\n",
       "<style scoped>\n",
       "    .dataframe tbody tr th:only-of-type {\n",
       "        vertical-align: middle;\n",
       "    }\n",
       "\n",
       "    .dataframe tbody tr th {\n",
       "        vertical-align: top;\n",
       "    }\n",
       "\n",
       "    .dataframe thead th {\n",
       "        text-align: right;\n",
       "    }\n",
       "</style>\n",
       "<table border=\"1\" class=\"dataframe\">\n",
       "  <thead>\n",
       "    <tr style=\"text-align: right;\">\n",
       "      <th></th>\n",
       "      <th>id</th>\n",
       "      <th>date_account_created</th>\n",
       "      <th>timestamp_first_active</th>\n",
       "      <th>date_first_booking</th>\n",
       "      <th>gender</th>\n",
       "      <th>age</th>\n",
       "      <th>signup_method</th>\n",
       "      <th>signup_flow</th>\n",
       "      <th>language</th>\n",
       "      <th>affiliate_channel</th>\n",
       "      <th>affiliate_provider</th>\n",
       "      <th>first_affiliate_tracked</th>\n",
       "      <th>signup_app</th>\n",
       "      <th>first_device_type</th>\n",
       "      <th>first_browser</th>\n",
       "      <th>country_destination</th>\n",
       "      <th>first_active</th>\n",
       "    </tr>\n",
       "  </thead>\n",
       "  <tbody>\n",
       "    <tr>\n",
       "      <th>2</th>\n",
       "      <td>4ft3gnwmtx</td>\n",
       "      <td>2010-09-28</td>\n",
       "      <td>2009-06-09 23:12:47</td>\n",
       "      <td>2010-08-02</td>\n",
       "      <td>FEMALE</td>\n",
       "      <td>56</td>\n",
       "      <td>basic</td>\n",
       "      <td>3</td>\n",
       "      <td>en</td>\n",
       "      <td>direct</td>\n",
       "      <td>direct</td>\n",
       "      <td>untracked</td>\n",
       "      <td>Web</td>\n",
       "      <td>Windows Desktop</td>\n",
       "      <td>IE</td>\n",
       "      <td>US</td>\n",
       "      <td>2009-06-09</td>\n",
       "    </tr>\n",
       "    <tr>\n",
       "      <th>3</th>\n",
       "      <td>bjjt8pjhuk</td>\n",
       "      <td>2011-12-05</td>\n",
       "      <td>2009-10-31 06:01:29</td>\n",
       "      <td>2012-09-08</td>\n",
       "      <td>FEMALE</td>\n",
       "      <td>42</td>\n",
       "      <td>facebook</td>\n",
       "      <td>0</td>\n",
       "      <td>en</td>\n",
       "      <td>direct</td>\n",
       "      <td>direct</td>\n",
       "      <td>untracked</td>\n",
       "      <td>Web</td>\n",
       "      <td>Mac Desktop</td>\n",
       "      <td>Firefox</td>\n",
       "      <td>other</td>\n",
       "      <td>2009-10-31</td>\n",
       "    </tr>\n",
       "  </tbody>\n",
       "</table>\n",
       "</div>"
      ],
      "text/plain": [
       "           id date_account_created timestamp_first_active date_first_booking  \\\n",
       "2  4ft3gnwmtx           2010-09-28    2009-06-09 23:12:47         2010-08-02   \n",
       "3  bjjt8pjhuk           2011-12-05    2009-10-31 06:01:29         2012-09-08   \n",
       "\n",
       "   gender  age signup_method signup_flow language affiliate_channel  \\\n",
       "2  FEMALE   56         basic           3       en            direct   \n",
       "3  FEMALE   42      facebook           0       en            direct   \n",
       "\n",
       "  affiliate_provider first_affiliate_tracked signup_app first_device_type  \\\n",
       "2             direct               untracked        Web   Windows Desktop   \n",
       "3             direct               untracked        Web       Mac Desktop   \n",
       "\n",
       "  first_browser country_destination first_active  \n",
       "2            IE                  US   2009-06-09  \n",
       "3       Firefox               other   2009-10-31  "
      ]
     },
     "execution_count": 874,
     "metadata": {},
     "output_type": "execute_result"
    }
   ],
   "source": [
    "df2.head(2)"
   ]
  },
  {
   "cell_type": "code",
   "execution_count": 875,
   "id": "7c73994d",
   "metadata": {},
   "outputs": [],
   "source": [
    "class FeatureEngineering( TransformerMixin, BaseEstimator ):\n",
    "    def __init__(self):\n",
    "        pass\n",
    "\n",
    "    def fit(self, X,y=None):\n",
    "        return self\n",
    "    \n",
    "    def transform(self, X, y=None):\n",
    "        X2 = X.copy()\n",
    "        for i in [\"date_account_created\",\"first_active\"]:\n",
    "            X2[f\"days_from_first_active_until_{i}\"] = (X2[i] - X2['first_active']).apply( lambda x: x.days)\n",
    "\n",
    "        for i in [\"first_active\",\"date_account_created\"]:\n",
    "            X2[f\"year_{i}\"] = X2[i].dt.year\n",
    "            X2[f\"month_{i}\"] = X2[i].dt.month\n",
    "            X2[f\"day_{i}\"] = X2[i].dt.day\n",
    "            X2[f\"day_of_week_{i}\"] = X2[i].dt.day_of_week\n",
    "            X2[f\"day_of_year_first_active_{i}\"] = X2[i].dt.day_of_year\n",
    "\n",
    "        return X2\n",
    "\n"
   ]
  },
  {
   "cell_type": "code",
   "execution_count": 876,
   "id": "866752bd",
   "metadata": {},
   "outputs": [
    {
     "data": {
      "text/html": [
       "<div>\n",
       "<style scoped>\n",
       "    .dataframe tbody tr th:only-of-type {\n",
       "        vertical-align: middle;\n",
       "    }\n",
       "\n",
       "    .dataframe tbody tr th {\n",
       "        vertical-align: top;\n",
       "    }\n",
       "\n",
       "    .dataframe thead th {\n",
       "        text-align: right;\n",
       "    }\n",
       "</style>\n",
       "<table border=\"1\" class=\"dataframe\">\n",
       "  <thead>\n",
       "    <tr style=\"text-align: right;\">\n",
       "      <th></th>\n",
       "      <th>id</th>\n",
       "      <th>date_account_created</th>\n",
       "      <th>timestamp_first_active</th>\n",
       "      <th>date_first_booking</th>\n",
       "      <th>gender</th>\n",
       "      <th>age</th>\n",
       "      <th>signup_method</th>\n",
       "      <th>signup_flow</th>\n",
       "      <th>language</th>\n",
       "      <th>affiliate_channel</th>\n",
       "      <th>affiliate_provider</th>\n",
       "      <th>first_affiliate_tracked</th>\n",
       "      <th>signup_app</th>\n",
       "      <th>first_device_type</th>\n",
       "      <th>first_browser</th>\n",
       "      <th>country_destination</th>\n",
       "      <th>first_active</th>\n",
       "      <th>days_from_first_active_until_date_account_created</th>\n",
       "      <th>days_from_first_active_until_first_active</th>\n",
       "      <th>year_first_active</th>\n",
       "      <th>month_first_active</th>\n",
       "      <th>day_first_active</th>\n",
       "      <th>day_of_week_first_active</th>\n",
       "      <th>day_of_year_first_active_first_active</th>\n",
       "      <th>year_date_account_created</th>\n",
       "      <th>month_date_account_created</th>\n",
       "      <th>day_date_account_created</th>\n",
       "      <th>day_of_week_date_account_created</th>\n",
       "      <th>day_of_year_first_active_date_account_created</th>\n",
       "    </tr>\n",
       "  </thead>\n",
       "  <tbody>\n",
       "    <tr>\n",
       "      <th>2</th>\n",
       "      <td>4ft3gnwmtx</td>\n",
       "      <td>2010-09-28</td>\n",
       "      <td>2009-06-09 23:12:47</td>\n",
       "      <td>2010-08-02</td>\n",
       "      <td>FEMALE</td>\n",
       "      <td>56</td>\n",
       "      <td>basic</td>\n",
       "      <td>3</td>\n",
       "      <td>en</td>\n",
       "      <td>direct</td>\n",
       "      <td>direct</td>\n",
       "      <td>untracked</td>\n",
       "      <td>Web</td>\n",
       "      <td>Windows Desktop</td>\n",
       "      <td>IE</td>\n",
       "      <td>US</td>\n",
       "      <td>2009-06-09</td>\n",
       "      <td>476</td>\n",
       "      <td>0</td>\n",
       "      <td>2009</td>\n",
       "      <td>6</td>\n",
       "      <td>9</td>\n",
       "      <td>1</td>\n",
       "      <td>160</td>\n",
       "      <td>2010</td>\n",
       "      <td>9</td>\n",
       "      <td>28</td>\n",
       "      <td>1</td>\n",
       "      <td>271</td>\n",
       "    </tr>\n",
       "    <tr>\n",
       "      <th>3</th>\n",
       "      <td>bjjt8pjhuk</td>\n",
       "      <td>2011-12-05</td>\n",
       "      <td>2009-10-31 06:01:29</td>\n",
       "      <td>2012-09-08</td>\n",
       "      <td>FEMALE</td>\n",
       "      <td>42</td>\n",
       "      <td>facebook</td>\n",
       "      <td>0</td>\n",
       "      <td>en</td>\n",
       "      <td>direct</td>\n",
       "      <td>direct</td>\n",
       "      <td>untracked</td>\n",
       "      <td>Web</td>\n",
       "      <td>Mac Desktop</td>\n",
       "      <td>Firefox</td>\n",
       "      <td>other</td>\n",
       "      <td>2009-10-31</td>\n",
       "      <td>765</td>\n",
       "      <td>0</td>\n",
       "      <td>2009</td>\n",
       "      <td>10</td>\n",
       "      <td>31</td>\n",
       "      <td>5</td>\n",
       "      <td>304</td>\n",
       "      <td>2011</td>\n",
       "      <td>12</td>\n",
       "      <td>5</td>\n",
       "      <td>0</td>\n",
       "      <td>339</td>\n",
       "    </tr>\n",
       "    <tr>\n",
       "      <th>4</th>\n",
       "      <td>87mebub9p4</td>\n",
       "      <td>2010-09-14</td>\n",
       "      <td>2009-12-08 06:11:05</td>\n",
       "      <td>2010-02-18</td>\n",
       "      <td>-unknown-</td>\n",
       "      <td>41</td>\n",
       "      <td>basic</td>\n",
       "      <td>0</td>\n",
       "      <td>en</td>\n",
       "      <td>direct</td>\n",
       "      <td>direct</td>\n",
       "      <td>untracked</td>\n",
       "      <td>Web</td>\n",
       "      <td>Mac Desktop</td>\n",
       "      <td>Chrome</td>\n",
       "      <td>US</td>\n",
       "      <td>2009-12-08</td>\n",
       "      <td>280</td>\n",
       "      <td>0</td>\n",
       "      <td>2009</td>\n",
       "      <td>12</td>\n",
       "      <td>8</td>\n",
       "      <td>1</td>\n",
       "      <td>342</td>\n",
       "      <td>2010</td>\n",
       "      <td>9</td>\n",
       "      <td>14</td>\n",
       "      <td>1</td>\n",
       "      <td>257</td>\n",
       "    </tr>\n",
       "    <tr>\n",
       "      <th>5</th>\n",
       "      <td>osr2jwljor</td>\n",
       "      <td>2010-01-01</td>\n",
       "      <td>2010-01-01 21:56:19</td>\n",
       "      <td>2010-01-02</td>\n",
       "      <td>-unknown-</td>\n",
       "      <td>51</td>\n",
       "      <td>basic</td>\n",
       "      <td>0</td>\n",
       "      <td>en</td>\n",
       "      <td>other</td>\n",
       "      <td>other</td>\n",
       "      <td>omg</td>\n",
       "      <td>Web</td>\n",
       "      <td>Mac Desktop</td>\n",
       "      <td>Chrome</td>\n",
       "      <td>US</td>\n",
       "      <td>2010-01-01</td>\n",
       "      <td>0</td>\n",
       "      <td>0</td>\n",
       "      <td>2010</td>\n",
       "      <td>1</td>\n",
       "      <td>1</td>\n",
       "      <td>4</td>\n",
       "      <td>1</td>\n",
       "      <td>2010</td>\n",
       "      <td>1</td>\n",
       "      <td>1</td>\n",
       "      <td>4</td>\n",
       "      <td>1</td>\n",
       "    </tr>\n",
       "    <tr>\n",
       "      <th>6</th>\n",
       "      <td>lsw9q7uk0j</td>\n",
       "      <td>2010-01-02</td>\n",
       "      <td>2010-01-02 01:25:58</td>\n",
       "      <td>2010-01-05</td>\n",
       "      <td>FEMALE</td>\n",
       "      <td>46</td>\n",
       "      <td>basic</td>\n",
       "      <td>0</td>\n",
       "      <td>en</td>\n",
       "      <td>other</td>\n",
       "      <td>craigslist</td>\n",
       "      <td>untracked</td>\n",
       "      <td>Web</td>\n",
       "      <td>Mac Desktop</td>\n",
       "      <td>Safari</td>\n",
       "      <td>US</td>\n",
       "      <td>2010-01-02</td>\n",
       "      <td>0</td>\n",
       "      <td>0</td>\n",
       "      <td>2010</td>\n",
       "      <td>1</td>\n",
       "      <td>2</td>\n",
       "      <td>5</td>\n",
       "      <td>2</td>\n",
       "      <td>2010</td>\n",
       "      <td>1</td>\n",
       "      <td>2</td>\n",
       "      <td>5</td>\n",
       "      <td>2</td>\n",
       "    </tr>\n",
       "  </tbody>\n",
       "</table>\n",
       "</div>"
      ],
      "text/plain": [
       "           id date_account_created timestamp_first_active date_first_booking  \\\n",
       "2  4ft3gnwmtx           2010-09-28    2009-06-09 23:12:47         2010-08-02   \n",
       "3  bjjt8pjhuk           2011-12-05    2009-10-31 06:01:29         2012-09-08   \n",
       "4  87mebub9p4           2010-09-14    2009-12-08 06:11:05         2010-02-18   \n",
       "5  osr2jwljor           2010-01-01    2010-01-01 21:56:19         2010-01-02   \n",
       "6  lsw9q7uk0j           2010-01-02    2010-01-02 01:25:58         2010-01-05   \n",
       "\n",
       "      gender  age signup_method signup_flow language affiliate_channel  \\\n",
       "2     FEMALE   56         basic           3       en            direct   \n",
       "3     FEMALE   42      facebook           0       en            direct   \n",
       "4  -unknown-   41         basic           0       en            direct   \n",
       "5  -unknown-   51         basic           0       en             other   \n",
       "6     FEMALE   46         basic           0       en             other   \n",
       "\n",
       "  affiliate_provider first_affiliate_tracked signup_app first_device_type  \\\n",
       "2             direct               untracked        Web   Windows Desktop   \n",
       "3             direct               untracked        Web       Mac Desktop   \n",
       "4             direct               untracked        Web       Mac Desktop   \n",
       "5              other                     omg        Web       Mac Desktop   \n",
       "6         craigslist               untracked        Web       Mac Desktop   \n",
       "\n",
       "  first_browser country_destination first_active  \\\n",
       "2            IE                  US   2009-06-09   \n",
       "3       Firefox               other   2009-10-31   \n",
       "4        Chrome                  US   2009-12-08   \n",
       "5        Chrome                  US   2010-01-01   \n",
       "6        Safari                  US   2010-01-02   \n",
       "\n",
       "   days_from_first_active_until_date_account_created  \\\n",
       "2                                                476   \n",
       "3                                                765   \n",
       "4                                                280   \n",
       "5                                                  0   \n",
       "6                                                  0   \n",
       "\n",
       "   days_from_first_active_until_first_active  year_first_active  \\\n",
       "2                                          0               2009   \n",
       "3                                          0               2009   \n",
       "4                                          0               2009   \n",
       "5                                          0               2010   \n",
       "6                                          0               2010   \n",
       "\n",
       "   month_first_active  day_first_active  day_of_week_first_active  \\\n",
       "2                   6                 9                         1   \n",
       "3                  10                31                         5   \n",
       "4                  12                 8                         1   \n",
       "5                   1                 1                         4   \n",
       "6                   1                 2                         5   \n",
       "\n",
       "   day_of_year_first_active_first_active  year_date_account_created  \\\n",
       "2                                    160                       2010   \n",
       "3                                    304                       2011   \n",
       "4                                    342                       2010   \n",
       "5                                      1                       2010   \n",
       "6                                      2                       2010   \n",
       "\n",
       "   month_date_account_created  day_date_account_created  \\\n",
       "2                           9                        28   \n",
       "3                          12                         5   \n",
       "4                           9                        14   \n",
       "5                           1                         1   \n",
       "6                           1                         2   \n",
       "\n",
       "   day_of_week_date_account_created  \\\n",
       "2                                 1   \n",
       "3                                 0   \n",
       "4                                 1   \n",
       "5                                 4   \n",
       "6                                 5   \n",
       "\n",
       "   day_of_year_first_active_date_account_created  \n",
       "2                                            271  \n",
       "3                                            339  \n",
       "4                                            257  \n",
       "5                                              1  \n",
       "6                                              2  "
      ]
     },
     "execution_count": 876,
     "metadata": {},
     "output_type": "execute_result"
    }
   ],
   "source": [
    "feature_eng = FeatureEngineering()\n",
    "df2 = feature_eng.fit_transform(df2)\n",
    "os.makedirs( os.getcwd()+r\"\\feature_engineering\", exist_ok=True)\n",
    "pickle.dump(feature_eng, open(f'feature_engineering/{feature_eng.__class__.__name__}.pkl', 'wb'))\n",
    "df2.head()"
   ]
  },
  {
   "attachments": {},
   "cell_type": "markdown",
   "id": "d8375f88",
   "metadata": {},
   "source": [
    "# 3.0 Data Filtering"
   ]
  },
  {
   "cell_type": "code",
   "execution_count": 877,
   "id": "05a56bb0",
   "metadata": {},
   "outputs": [],
   "source": [
    "df3 = df2.copy()"
   ]
  },
  {
   "attachments": {},
   "cell_type": "markdown",
   "id": "3f4cd506",
   "metadata": {},
   "source": [
    "## 3.1 Filtering Rows"
   ]
  },
  {
   "cell_type": "code",
   "execution_count": 878,
   "id": "3b240879",
   "metadata": {},
   "outputs": [],
   "source": [
    "# age - greater than 15 and lower than 120 - There are few people over 120 years old\n",
    "#df3 = df3[ (df3['age']>15) & (df3['age']<100) ]\n",
    "\n",
    "# secs_elapsed - There is no possible 0 secs elapsed on website\n",
    "#df3 = df3[df3['secs_elapsed']>0 ]"
   ]
  },
  {
   "attachments": {},
   "cell_type": "markdown",
   "id": "1986f482",
   "metadata": {},
   "source": [
    "# 4.0 EDA"
   ]
  },
  {
   "cell_type": "code",
   "execution_count": 879,
   "id": "61f230ce",
   "metadata": {},
   "outputs": [],
   "source": [
    "df4 = df3.copy()"
   ]
  },
  {
   "cell_type": "code",
   "execution_count": 880,
   "id": "be99147b",
   "metadata": {},
   "outputs": [
    {
     "ename": "NameError",
     "evalue": "name 'jlklklkjlkjkj' is not defined",
     "output_type": "error",
     "traceback": [
      "\u001b[1;31m---------------------------------------------------------------------------\u001b[0m",
      "\u001b[1;31mNameError\u001b[0m                                 Traceback (most recent call last)",
      "Cell \u001b[1;32mIn[880], line 1\u001b[0m\n\u001b[1;32m----> 1\u001b[0m jlklklkjlkjkj\n",
      "\u001b[1;31mNameError\u001b[0m: name 'jlklklkjlkjkj' is not defined"
     ]
    }
   ],
   "source": [
    "jlklklkjlkjkj"
   ]
  },
  {
   "attachments": {},
   "cell_type": "markdown",
   "id": "4a76055c",
   "metadata": {},
   "source": [
    "## 4.1 Univariate Analysis"
   ]
  },
  {
   "cell_type": "code",
   "execution_count": null,
   "id": "35eee658",
   "metadata": {},
   "outputs": [
    {
     "data": {
      "application/vnd.jupyter.widget-view+json": {
       "model_id": "3d7bd6377f59471d90fc67364e79835e",
       "version_major": 2,
       "version_minor": 0
      },
      "text/plain": [
       "Summarize dataset:   0%|          | 0/5 [00:00<?, ?it/s]"
      ]
     },
     "metadata": {},
     "output_type": "display_data"
    },
    {
     "ename": "KeyboardInterrupt",
     "evalue": "",
     "output_type": "error",
     "traceback": [
      "\u001b[1;31m---------------------------------------------------------------------------\u001b[0m",
      "\u001b[1;31mIndexError\u001b[0m                                Traceback (most recent call last)",
      "File \u001b[1;32m~\\AppData\\Local\\Programs\\Python\\Python310\\lib\\multiprocessing\\pool.py:853\u001b[0m, in \u001b[0;36mIMapIterator.next\u001b[1;34m(self, timeout)\u001b[0m\n\u001b[0;32m    852\u001b[0m \u001b[39mtry\u001b[39;00m:\n\u001b[1;32m--> 853\u001b[0m     item \u001b[39m=\u001b[39m \u001b[39mself\u001b[39;49m\u001b[39m.\u001b[39;49m_items\u001b[39m.\u001b[39;49mpopleft()\n\u001b[0;32m    854\u001b[0m \u001b[39mexcept\u001b[39;00m \u001b[39mIndexError\u001b[39;00m:\n",
      "\u001b[1;31mIndexError\u001b[0m: pop from an empty deque",
      "\nDuring handling of the above exception, another exception occurred:\n",
      "\u001b[1;31mKeyboardInterrupt\u001b[0m                         Traceback (most recent call last)",
      "Cell \u001b[1;32mIn[802], line 4\u001b[0m\n\u001b[0;32m      1\u001b[0m profile \u001b[39m=\u001b[39m ProfileReport(df4, explorative\u001b[39m=\u001b[39m\u001b[39mTrue\u001b[39;00m)\n\u001b[0;32m      3\u001b[0m \u001b[39m#Saving results to a HTML file\u001b[39;00m\n\u001b[1;32m----> 4\u001b[0m profile\u001b[39m.\u001b[39;49mto_file(\u001b[39m\"\u001b[39;49m\u001b[39moutput.html\u001b[39;49m\u001b[39m\"\u001b[39;49m)\n",
      "File \u001b[1;32mp:\\Python\\GitHub\\airbnb_prediction\\env_airbnb\\lib\\site-packages\\typeguard\\__init__.py:1033\u001b[0m, in \u001b[0;36mtypechecked.<locals>.wrapper\u001b[1;34m(*args, **kwargs)\u001b[0m\n\u001b[0;32m   1031\u001b[0m memo \u001b[39m=\u001b[39m _CallMemo(python_func, _localns, args\u001b[39m=\u001b[39margs, kwargs\u001b[39m=\u001b[39mkwargs)\n\u001b[0;32m   1032\u001b[0m check_argument_types(memo)\n\u001b[1;32m-> 1033\u001b[0m retval \u001b[39m=\u001b[39m func(\u001b[39m*\u001b[39margs, \u001b[39m*\u001b[39m\u001b[39m*\u001b[39mkwargs)\n\u001b[0;32m   1034\u001b[0m \u001b[39mtry\u001b[39;00m:\n\u001b[0;32m   1035\u001b[0m     check_return_type(retval, memo)\n",
      "File \u001b[1;32mp:\\Python\\GitHub\\airbnb_prediction\\env_airbnb\\lib\\site-packages\\pandas_profiling\\profile_report.py:309\u001b[0m, in \u001b[0;36mProfileReport.to_file\u001b[1;34m(self, output_file, silent)\u001b[0m\n\u001b[0;32m    306\u001b[0m         \u001b[39mself\u001b[39m\u001b[39m.\u001b[39mconfig\u001b[39m.\u001b[39mhtml\u001b[39m.\u001b[39massets_prefix \u001b[39m=\u001b[39m \u001b[39mstr\u001b[39m(output_file\u001b[39m.\u001b[39mstem) \u001b[39m+\u001b[39m \u001b[39m\"\u001b[39m\u001b[39m_assets\u001b[39m\u001b[39m\"\u001b[39m\n\u001b[0;32m    307\u001b[0m     create_html_assets(\u001b[39mself\u001b[39m\u001b[39m.\u001b[39mconfig, output_file)\n\u001b[1;32m--> 309\u001b[0m data \u001b[39m=\u001b[39m \u001b[39mself\u001b[39;49m\u001b[39m.\u001b[39;49mto_html()\n\u001b[0;32m    311\u001b[0m \u001b[39mif\u001b[39;00m output_file\u001b[39m.\u001b[39msuffix \u001b[39m!=\u001b[39m \u001b[39m\"\u001b[39m\u001b[39m.html\u001b[39m\u001b[39m\"\u001b[39m:\n\u001b[0;32m    312\u001b[0m     suffix \u001b[39m=\u001b[39m output_file\u001b[39m.\u001b[39msuffix\n",
      "File \u001b[1;32mp:\\Python\\GitHub\\airbnb_prediction\\env_airbnb\\lib\\site-packages\\typeguard\\__init__.py:1033\u001b[0m, in \u001b[0;36mtypechecked.<locals>.wrapper\u001b[1;34m(*args, **kwargs)\u001b[0m\n\u001b[0;32m   1031\u001b[0m memo \u001b[39m=\u001b[39m _CallMemo(python_func, _localns, args\u001b[39m=\u001b[39margs, kwargs\u001b[39m=\u001b[39mkwargs)\n\u001b[0;32m   1032\u001b[0m check_argument_types(memo)\n\u001b[1;32m-> 1033\u001b[0m retval \u001b[39m=\u001b[39m func(\u001b[39m*\u001b[39margs, \u001b[39m*\u001b[39m\u001b[39m*\u001b[39mkwargs)\n\u001b[0;32m   1034\u001b[0m \u001b[39mtry\u001b[39;00m:\n\u001b[0;32m   1035\u001b[0m     check_return_type(retval, memo)\n",
      "File \u001b[1;32mp:\\Python\\GitHub\\airbnb_prediction\\env_airbnb\\lib\\site-packages\\pandas_profiling\\profile_report.py:420\u001b[0m, in \u001b[0;36mProfileReport.to_html\u001b[1;34m(self)\u001b[0m\n\u001b[0;32m    412\u001b[0m \u001b[39mdef\u001b[39;00m \u001b[39mto_html\u001b[39m(\u001b[39mself\u001b[39m) \u001b[39m-\u001b[39m\u001b[39m>\u001b[39m \u001b[39mstr\u001b[39m:\n\u001b[0;32m    413\u001b[0m \u001b[39m    \u001b[39m\u001b[39m\"\"\"Generate and return complete template as lengthy string\u001b[39;00m\n\u001b[0;32m    414\u001b[0m \u001b[39m        for using with frameworks.\u001b[39;00m\n\u001b[0;32m    415\u001b[0m \n\u001b[1;32m   (...)\u001b[0m\n\u001b[0;32m    418\u001b[0m \n\u001b[0;32m    419\u001b[0m \u001b[39m    \"\"\"\u001b[39;00m\n\u001b[1;32m--> 420\u001b[0m     \u001b[39mreturn\u001b[39;00m \u001b[39mself\u001b[39;49m\u001b[39m.\u001b[39;49mhtml\n",
      "File \u001b[1;32mp:\\Python\\GitHub\\airbnb_prediction\\env_airbnb\\lib\\site-packages\\typeguard\\__init__.py:1033\u001b[0m, in \u001b[0;36mtypechecked.<locals>.wrapper\u001b[1;34m(*args, **kwargs)\u001b[0m\n\u001b[0;32m   1031\u001b[0m memo \u001b[39m=\u001b[39m _CallMemo(python_func, _localns, args\u001b[39m=\u001b[39margs, kwargs\u001b[39m=\u001b[39mkwargs)\n\u001b[0;32m   1032\u001b[0m check_argument_types(memo)\n\u001b[1;32m-> 1033\u001b[0m retval \u001b[39m=\u001b[39m func(\u001b[39m*\u001b[39margs, \u001b[39m*\u001b[39m\u001b[39m*\u001b[39mkwargs)\n\u001b[0;32m   1034\u001b[0m \u001b[39mtry\u001b[39;00m:\n\u001b[0;32m   1035\u001b[0m     check_return_type(retval, memo)\n",
      "File \u001b[1;32mp:\\Python\\GitHub\\airbnb_prediction\\env_airbnb\\lib\\site-packages\\pandas_profiling\\profile_report.py:231\u001b[0m, in \u001b[0;36mProfileReport.html\u001b[1;34m(self)\u001b[0m\n\u001b[0;32m    228\u001b[0m \u001b[39m@property\u001b[39m\n\u001b[0;32m    229\u001b[0m \u001b[39mdef\u001b[39;00m \u001b[39mhtml\u001b[39m(\u001b[39mself\u001b[39m) \u001b[39m-\u001b[39m\u001b[39m>\u001b[39m \u001b[39mstr\u001b[39m:\n\u001b[0;32m    230\u001b[0m     \u001b[39mif\u001b[39;00m \u001b[39mself\u001b[39m\u001b[39m.\u001b[39m_html \u001b[39mis\u001b[39;00m \u001b[39mNone\u001b[39;00m:\n\u001b[1;32m--> 231\u001b[0m         \u001b[39mself\u001b[39m\u001b[39m.\u001b[39m_html \u001b[39m=\u001b[39m \u001b[39mself\u001b[39;49m\u001b[39m.\u001b[39;49m_render_html()\n\u001b[0;32m    232\u001b[0m     \u001b[39mreturn\u001b[39;00m \u001b[39mself\u001b[39m\u001b[39m.\u001b[39m_html\n",
      "File \u001b[1;32mp:\\Python\\GitHub\\airbnb_prediction\\env_airbnb\\lib\\site-packages\\typeguard\\__init__.py:1033\u001b[0m, in \u001b[0;36mtypechecked.<locals>.wrapper\u001b[1;34m(*args, **kwargs)\u001b[0m\n\u001b[0;32m   1031\u001b[0m memo \u001b[39m=\u001b[39m _CallMemo(python_func, _localns, args\u001b[39m=\u001b[39margs, kwargs\u001b[39m=\u001b[39mkwargs)\n\u001b[0;32m   1032\u001b[0m check_argument_types(memo)\n\u001b[1;32m-> 1033\u001b[0m retval \u001b[39m=\u001b[39m func(\u001b[39m*\u001b[39margs, \u001b[39m*\u001b[39m\u001b[39m*\u001b[39mkwargs)\n\u001b[0;32m   1034\u001b[0m \u001b[39mtry\u001b[39;00m:\n\u001b[0;32m   1035\u001b[0m     check_return_type(retval, memo)\n",
      "File \u001b[1;32mp:\\Python\\GitHub\\airbnb_prediction\\env_airbnb\\lib\\site-packages\\pandas_profiling\\profile_report.py:339\u001b[0m, in \u001b[0;36mProfileReport._render_html\u001b[1;34m(self)\u001b[0m\n\u001b[0;32m    336\u001b[0m \u001b[39mdef\u001b[39;00m \u001b[39m_render_html\u001b[39m(\u001b[39mself\u001b[39m) \u001b[39m-\u001b[39m\u001b[39m>\u001b[39m \u001b[39mstr\u001b[39m:\n\u001b[0;32m    337\u001b[0m     \u001b[39mfrom\u001b[39;00m \u001b[39mpandas_profiling\u001b[39;00m\u001b[39m.\u001b[39;00m\u001b[39mreport\u001b[39;00m\u001b[39m.\u001b[39;00m\u001b[39mpresentation\u001b[39;00m\u001b[39m.\u001b[39;00m\u001b[39mflavours\u001b[39;00m \u001b[39mimport\u001b[39;00m HTMLReport\n\u001b[1;32m--> 339\u001b[0m     report \u001b[39m=\u001b[39m \u001b[39mself\u001b[39;49m\u001b[39m.\u001b[39;49mreport\n\u001b[0;32m    341\u001b[0m     \u001b[39mwith\u001b[39;00m tqdm(\n\u001b[0;32m    342\u001b[0m         total\u001b[39m=\u001b[39m\u001b[39m1\u001b[39m, desc\u001b[39m=\u001b[39m\u001b[39m\"\u001b[39m\u001b[39mRender HTML\u001b[39m\u001b[39m\"\u001b[39m, disable\u001b[39m=\u001b[39m\u001b[39mnot\u001b[39;00m \u001b[39mself\u001b[39m\u001b[39m.\u001b[39mconfig\u001b[39m.\u001b[39mprogress_bar\n\u001b[0;32m    343\u001b[0m     ) \u001b[39mas\u001b[39;00m pbar:\n\u001b[0;32m    344\u001b[0m         html \u001b[39m=\u001b[39m HTMLReport(copy\u001b[39m.\u001b[39mdeepcopy(report))\u001b[39m.\u001b[39mrender(\n\u001b[0;32m    345\u001b[0m             nav\u001b[39m=\u001b[39m\u001b[39mself\u001b[39m\u001b[39m.\u001b[39mconfig\u001b[39m.\u001b[39mhtml\u001b[39m.\u001b[39mnavbar_show,\n\u001b[0;32m    346\u001b[0m             offline\u001b[39m=\u001b[39m\u001b[39mself\u001b[39m\u001b[39m.\u001b[39mconfig\u001b[39m.\u001b[39mhtml\u001b[39m.\u001b[39muse_local_assets,\n\u001b[1;32m   (...)\u001b[0m\n\u001b[0;32m    354\u001b[0m             version\u001b[39m=\u001b[39m\u001b[39mself\u001b[39m\u001b[39m.\u001b[39mdescription_set[\u001b[39m\"\u001b[39m\u001b[39mpackage\u001b[39m\u001b[39m\"\u001b[39m][\u001b[39m\"\u001b[39m\u001b[39mpandas_profiling_version\u001b[39m\u001b[39m\"\u001b[39m],\n\u001b[0;32m    355\u001b[0m         )\n",
      "File \u001b[1;32mp:\\Python\\GitHub\\airbnb_prediction\\env_airbnb\\lib\\site-packages\\typeguard\\__init__.py:1033\u001b[0m, in \u001b[0;36mtypechecked.<locals>.wrapper\u001b[1;34m(*args, **kwargs)\u001b[0m\n\u001b[0;32m   1031\u001b[0m memo \u001b[39m=\u001b[39m _CallMemo(python_func, _localns, args\u001b[39m=\u001b[39margs, kwargs\u001b[39m=\u001b[39mkwargs)\n\u001b[0;32m   1032\u001b[0m check_argument_types(memo)\n\u001b[1;32m-> 1033\u001b[0m retval \u001b[39m=\u001b[39m func(\u001b[39m*\u001b[39margs, \u001b[39m*\u001b[39m\u001b[39m*\u001b[39mkwargs)\n\u001b[0;32m   1034\u001b[0m \u001b[39mtry\u001b[39;00m:\n\u001b[0;32m   1035\u001b[0m     check_return_type(retval, memo)\n",
      "File \u001b[1;32mp:\\Python\\GitHub\\airbnb_prediction\\env_airbnb\\lib\\site-packages\\pandas_profiling\\profile_report.py:225\u001b[0m, in \u001b[0;36mProfileReport.report\u001b[1;34m(self)\u001b[0m\n\u001b[0;32m    222\u001b[0m \u001b[39m@property\u001b[39m\n\u001b[0;32m    223\u001b[0m \u001b[39mdef\u001b[39;00m \u001b[39mreport\u001b[39m(\u001b[39mself\u001b[39m) \u001b[39m-\u001b[39m\u001b[39m>\u001b[39m Root:\n\u001b[0;32m    224\u001b[0m     \u001b[39mif\u001b[39;00m \u001b[39mself\u001b[39m\u001b[39m.\u001b[39m_report \u001b[39mis\u001b[39;00m \u001b[39mNone\u001b[39;00m:\n\u001b[1;32m--> 225\u001b[0m         \u001b[39mself\u001b[39m\u001b[39m.\u001b[39m_report \u001b[39m=\u001b[39m get_report_structure(\u001b[39mself\u001b[39m\u001b[39m.\u001b[39mconfig, \u001b[39mself\u001b[39;49m\u001b[39m.\u001b[39;49mdescription_set)\n\u001b[0;32m    226\u001b[0m     \u001b[39mreturn\u001b[39;00m \u001b[39mself\u001b[39m\u001b[39m.\u001b[39m_report\n",
      "File \u001b[1;32mp:\\Python\\GitHub\\airbnb_prediction\\env_airbnb\\lib\\site-packages\\typeguard\\__init__.py:1033\u001b[0m, in \u001b[0;36mtypechecked.<locals>.wrapper\u001b[1;34m(*args, **kwargs)\u001b[0m\n\u001b[0;32m   1031\u001b[0m memo \u001b[39m=\u001b[39m _CallMemo(python_func, _localns, args\u001b[39m=\u001b[39margs, kwargs\u001b[39m=\u001b[39mkwargs)\n\u001b[0;32m   1032\u001b[0m check_argument_types(memo)\n\u001b[1;32m-> 1033\u001b[0m retval \u001b[39m=\u001b[39m func(\u001b[39m*\u001b[39margs, \u001b[39m*\u001b[39m\u001b[39m*\u001b[39mkwargs)\n\u001b[0;32m   1034\u001b[0m \u001b[39mtry\u001b[39;00m:\n\u001b[0;32m   1035\u001b[0m     check_return_type(retval, memo)\n",
      "File \u001b[1;32mp:\\Python\\GitHub\\airbnb_prediction\\env_airbnb\\lib\\site-packages\\pandas_profiling\\profile_report.py:207\u001b[0m, in \u001b[0;36mProfileReport.description_set\u001b[1;34m(self)\u001b[0m\n\u001b[0;32m    204\u001b[0m \u001b[39m@property\u001b[39m\n\u001b[0;32m    205\u001b[0m \u001b[39mdef\u001b[39;00m \u001b[39mdescription_set\u001b[39m(\u001b[39mself\u001b[39m) \u001b[39m-\u001b[39m\u001b[39m>\u001b[39m Dict[\u001b[39mstr\u001b[39m, Any]:\n\u001b[0;32m    206\u001b[0m     \u001b[39mif\u001b[39;00m \u001b[39mself\u001b[39m\u001b[39m.\u001b[39m_description_set \u001b[39mis\u001b[39;00m \u001b[39mNone\u001b[39;00m:\n\u001b[1;32m--> 207\u001b[0m         \u001b[39mself\u001b[39m\u001b[39m.\u001b[39m_description_set \u001b[39m=\u001b[39m describe_df(\n\u001b[0;32m    208\u001b[0m             \u001b[39mself\u001b[39;49m\u001b[39m.\u001b[39;49mconfig,\n\u001b[0;32m    209\u001b[0m             \u001b[39mself\u001b[39;49m\u001b[39m.\u001b[39;49mdf,\n\u001b[0;32m    210\u001b[0m             \u001b[39mself\u001b[39;49m\u001b[39m.\u001b[39;49msummarizer,\n\u001b[0;32m    211\u001b[0m             \u001b[39mself\u001b[39;49m\u001b[39m.\u001b[39;49mtypeset,\n\u001b[0;32m    212\u001b[0m             \u001b[39mself\u001b[39;49m\u001b[39m.\u001b[39;49m_sample,\n\u001b[0;32m    213\u001b[0m         )\n\u001b[0;32m    214\u001b[0m     \u001b[39mreturn\u001b[39;00m \u001b[39mself\u001b[39m\u001b[39m.\u001b[39m_description_set\n",
      "File \u001b[1;32mp:\\Python\\GitHub\\airbnb_prediction\\env_airbnb\\lib\\site-packages\\pandas_profiling\\model\\describe.py:71\u001b[0m, in \u001b[0;36mdescribe\u001b[1;34m(config, df, summarizer, typeset, sample)\u001b[0m\n\u001b[0;32m     69\u001b[0m \u001b[39m# Variable-specific\u001b[39;00m\n\u001b[0;32m     70\u001b[0m pbar\u001b[39m.\u001b[39mtotal \u001b[39m+\u001b[39m\u001b[39m=\u001b[39m \u001b[39mlen\u001b[39m(df\u001b[39m.\u001b[39mcolumns)\n\u001b[1;32m---> 71\u001b[0m series_description \u001b[39m=\u001b[39m get_series_descriptions(\n\u001b[0;32m     72\u001b[0m     config, df, summarizer, typeset, pbar\n\u001b[0;32m     73\u001b[0m )\n\u001b[0;32m     75\u001b[0m pbar\u001b[39m.\u001b[39mset_postfix_str(\u001b[39m\"\u001b[39m\u001b[39mGet variable types\u001b[39m\u001b[39m\"\u001b[39m)\n\u001b[0;32m     76\u001b[0m pbar\u001b[39m.\u001b[39mtotal \u001b[39m+\u001b[39m\u001b[39m=\u001b[39m \u001b[39m1\u001b[39m\n",
      "File \u001b[1;32mp:\\Python\\GitHub\\airbnb_prediction\\env_airbnb\\lib\\site-packages\\multimethod\\__init__.py:315\u001b[0m, in \u001b[0;36mmultimethod.__call__\u001b[1;34m(self, *args, **kwargs)\u001b[0m\n\u001b[0;32m    313\u001b[0m func \u001b[39m=\u001b[39m \u001b[39mself\u001b[39m[\u001b[39mtuple\u001b[39m(func(arg) \u001b[39mfor\u001b[39;00m func, arg \u001b[39min\u001b[39;00m \u001b[39mzip\u001b[39m(\u001b[39mself\u001b[39m\u001b[39m.\u001b[39mtype_checkers, args))]\n\u001b[0;32m    314\u001b[0m \u001b[39mtry\u001b[39;00m:\n\u001b[1;32m--> 315\u001b[0m     \u001b[39mreturn\u001b[39;00m func(\u001b[39m*\u001b[39margs, \u001b[39m*\u001b[39m\u001b[39m*\u001b[39mkwargs)\n\u001b[0;32m    316\u001b[0m \u001b[39mexcept\u001b[39;00m \u001b[39mTypeError\u001b[39;00m \u001b[39mas\u001b[39;00m ex:\n\u001b[0;32m    317\u001b[0m     \u001b[39mraise\u001b[39;00m DispatchError(\u001b[39mf\u001b[39m\u001b[39m\"\u001b[39m\u001b[39mFunction \u001b[39m\u001b[39m{\u001b[39;00mfunc\u001b[39m.\u001b[39m\u001b[39m__code__\u001b[39m\u001b[39m}\u001b[39;00m\u001b[39m\"\u001b[39m) \u001b[39mfrom\u001b[39;00m \u001b[39mex\u001b[39;00m\n",
      "File \u001b[1;32mp:\\Python\\GitHub\\airbnb_prediction\\env_airbnb\\lib\\site-packages\\pandas_profiling\\model\\pandas\\summary_pandas.py:92\u001b[0m, in \u001b[0;36mpandas_get_series_descriptions\u001b[1;34m(config, df, summarizer, typeset, pbar)\u001b[0m\n\u001b[0;32m     89\u001b[0m \u001b[39melse\u001b[39;00m:\n\u001b[0;32m     90\u001b[0m     \u001b[39m# TODO: use `Pool` for Linux-based systems\u001b[39;00m\n\u001b[0;32m     91\u001b[0m     \u001b[39mwith\u001b[39;00m multiprocessing\u001b[39m.\u001b[39mpool\u001b[39m.\u001b[39mThreadPool(pool_size) \u001b[39mas\u001b[39;00m executor:\n\u001b[1;32m---> 92\u001b[0m         \u001b[39mfor\u001b[39;00m i, (column, description) \u001b[39min\u001b[39;00m \u001b[39menumerate\u001b[39m(\n\u001b[0;32m     93\u001b[0m             executor\u001b[39m.\u001b[39mimap_unordered(multiprocess_1d, args)\n\u001b[0;32m     94\u001b[0m         ):\n\u001b[0;32m     95\u001b[0m             pbar\u001b[39m.\u001b[39mset_postfix_str(\u001b[39mf\u001b[39m\u001b[39m\"\u001b[39m\u001b[39mDescribe variable:\u001b[39m\u001b[39m{\u001b[39;00mcolumn\u001b[39m}\u001b[39;00m\u001b[39m\"\u001b[39m)\n\u001b[0;32m     96\u001b[0m             series_description[column] \u001b[39m=\u001b[39m description\n",
      "File \u001b[1;32m~\\AppData\\Local\\Programs\\Python\\Python310\\lib\\multiprocessing\\pool.py:858\u001b[0m, in \u001b[0;36mIMapIterator.next\u001b[1;34m(self, timeout)\u001b[0m\n\u001b[0;32m    856\u001b[0m     \u001b[39mself\u001b[39m\u001b[39m.\u001b[39m_pool \u001b[39m=\u001b[39m \u001b[39mNone\u001b[39;00m\n\u001b[0;32m    857\u001b[0m     \u001b[39mraise\u001b[39;00m \u001b[39mStopIteration\u001b[39;00m \u001b[39mfrom\u001b[39;00m \u001b[39mNone\u001b[39;00m\n\u001b[1;32m--> 858\u001b[0m \u001b[39mself\u001b[39;49m\u001b[39m.\u001b[39;49m_cond\u001b[39m.\u001b[39;49mwait(timeout)\n\u001b[0;32m    859\u001b[0m \u001b[39mtry\u001b[39;00m:\n\u001b[0;32m    860\u001b[0m     item \u001b[39m=\u001b[39m \u001b[39mself\u001b[39m\u001b[39m.\u001b[39m_items\u001b[39m.\u001b[39mpopleft()\n",
      "File \u001b[1;32m~\\AppData\\Local\\Programs\\Python\\Python310\\lib\\threading.py:320\u001b[0m, in \u001b[0;36mCondition.wait\u001b[1;34m(self, timeout)\u001b[0m\n\u001b[0;32m    318\u001b[0m \u001b[39mtry\u001b[39;00m:    \u001b[39m# restore state no matter what (e.g., KeyboardInterrupt)\u001b[39;00m\n\u001b[0;32m    319\u001b[0m     \u001b[39mif\u001b[39;00m timeout \u001b[39mis\u001b[39;00m \u001b[39mNone\u001b[39;00m:\n\u001b[1;32m--> 320\u001b[0m         waiter\u001b[39m.\u001b[39;49macquire()\n\u001b[0;32m    321\u001b[0m         gotit \u001b[39m=\u001b[39m \u001b[39mTrue\u001b[39;00m\n\u001b[0;32m    322\u001b[0m     \u001b[39melse\u001b[39;00m:\n",
      "\u001b[1;31mKeyboardInterrupt\u001b[0m: "
     ]
    }
   ],
   "source": [
    "profile = ProfileReport(df4, explorative=True)\n",
    "\n",
    "#Saving results to a HTML file\n",
    "profile.to_file(\"output.html\")"
   ]
  },
  {
   "cell_type": "code",
   "execution_count": null,
   "id": "383afdb6",
   "metadata": {},
   "outputs": [],
   "source": [
    "# remove columns with a lot of zeros ( >90%)\n",
    "\n",
    "# aux0 = (df4==0).sum(axis=0)\n",
    "# cols_zeros = (aux0/len(df4)).sort_values(ascending=False)\n",
    "# cols_zeros = cols_zeros[cols_zeros>0.9]\n",
    "# print( cols_zeros )\n",
    "# print( df4.shape )\n",
    "# df4 = df4.drop(cols_zeros.index, axis=1)\n",
    "# print( df4.shape )"
   ]
  },
  {
   "cell_type": "code",
   "execution_count": null,
   "id": "b5a08fc4",
   "metadata": {},
   "outputs": [
    {
     "name": "stdout",
     "output_type": "stream",
     "text": [
      "['language', 'signup_app', 'days_from_first_active_until_date_account_created']\n",
      "(59669, 28)\n",
      "(59669, 25)\n"
     ]
    }
   ],
   "source": [
    "# remove columns with almost no information ( very low cardinality )\n",
    "\n",
    "low_card_cols = []\n",
    "\n",
    "for i in df4.columns:\n",
    "    if df4[i].value_counts(normalize=True).max()>0.85:\n",
    "        low_card_cols.append(i)\n",
    "\n",
    "print( low_card_cols )\n",
    "\n",
    "print( df4.shape )\n",
    "df4 = df4.drop( low_card_cols , axis=1 )\n",
    "print( df4.shape )"
   ]
  },
  {
   "attachments": {},
   "cell_type": "markdown",
   "id": "c0b21abf",
   "metadata": {},
   "source": [
    "## 4.2 Bivariate Analysis\n"
   ]
  },
  {
   "cell_type": "code",
   "execution_count": null,
   "id": "544dffae",
   "metadata": {},
   "outputs": [
    {
     "name": "stdout",
     "output_type": "stream",
     "text": [
      "columns to drop: ['day_of_year_first_active_first_active', 'year_date_account_created', 'month_date_account_created', 'day_date_account_created', 'day_of_week_date_account_created', 'day_of_year_first_active_date_account_created']\n"
     ]
    },
    {
     "data": {
      "image/png": "[encoded data removed]",
      "text/plain": [
       "<Figure size 1100x900 with 2 Axes>"
      ]
     },
     "metadata": {},
     "output_type": "display_data"
    }
   ],
   "source": [
    "\n",
    "# Compute the correlation matrix\n",
    "corr = df4.select_dtypes(exclude=[\"object\",\"datetime64[ns]\"]).corr().abs()\n",
    "\n",
    "# Generate a mask for the upper triangle\n",
    "mask = np.triu(np.ones_like(corr, dtype=bool))\n",
    "\n",
    "# Set up the matplotlib figure\n",
    "f, ax = plt.subplots(figsize=(11, 9))\n",
    "\n",
    "# Generate a custom diverging colormap\n",
    "cmap = sns.diverging_palette(230, 20, as_cmap=True)\n",
    "\n",
    "# Draw the heatmap with the mask and correct aspect ratio\n",
    "sns.heatmap(corr, mask=mask, cmap=cmap, vmax=.3, center=0,\n",
    "            square=True, linewidths=.5, cbar_kws={\"shrink\": .5})\n",
    "\n",
    "# Select upper triangle of correlation matrix\n",
    "upper = corr.where(np.triu(np.ones(corr.shape), k=1).astype(bool))\n",
    "\n",
    "# Find features with correlation greater than 0.95\n",
    "to_drop = [column for column in upper.columns if any(upper[column] > 0.80)]\n",
    "\n",
    "# Drop features \n",
    "print( f\"columns to drop: {to_drop}\")\n"
   ]
  },
  {
   "cell_type": "code",
   "execution_count": null,
   "id": "9e70353c",
   "metadata": {},
   "outputs": [
    {
     "name": "stdout",
     "output_type": "stream",
     "text": [
      "['day_of_year_first_active_first_active', 'year_date_account_created', 'month_date_account_created', 'day_date_account_created', 'day_of_week_date_account_created', 'day_of_year_first_active_date_account_created']\n"
     ]
    }
   ],
   "source": [
    "# only \"booking\" columns will be tested\n",
    "\n",
    "to_drop2 = [x for x in to_drop if not re.search(r'first_booking', x)]\n",
    "print(to_drop2)"
   ]
  },
  {
   "cell_type": "code",
   "execution_count": null,
   "id": "0942cffd",
   "metadata": {},
   "outputs": [
    {
     "data": {
      "text/plain": [
       "<AxesSubplot: >"
      ]
     },
     "execution_count": 752,
     "metadata": {},
     "output_type": "execute_result"
    },
    {
     "data": {
      "image/png": "[encoded data removed]",
      "text/plain": [
       "<Figure size 1100x900 with 2 Axes>"
      ]
     },
     "metadata": {},
     "output_type": "display_data"
    }
   ],
   "source": [
    "df4 = df4.drop(to_drop2, axis=1)\n",
    "# Compute the correlation matrix\n",
    "corr2 = df4.select_dtypes(exclude=[\"object\",\"datetime64[ns]\"]).corr().abs()\n",
    "\n",
    "# Generate a mask for the upper triangle\n",
    "mask = np.triu(np.ones_like(corr2, dtype=bool))\n",
    "\n",
    "# Set up the matplotlib figure\n",
    "f, ax = plt.subplots(figsize=(11, 9))\n",
    "\n",
    "# Generate a custom diverging colormap\n",
    "cmap = sns.diverging_palette(230, 20, as_cmap=True)\n",
    "\n",
    "# Draw the heatmap with the mask and correct aspect ratio\n",
    "sns.heatmap(corr2, mask=mask, cmap=cmap, vmax=.3, center=0,\n",
    "            square=True, linewidths=.5, cbar_kws={\"shrink\": .5})"
   ]
  },
  {
   "cell_type": "code",
   "execution_count": null,
   "id": "14a7e3f3",
   "metadata": {},
   "outputs": [
    {
     "data": {
      "image/png": "[encoded data removed]",
      "text/plain": [
       "<Figure size 700x600 with 2 Axes>"
      ]
     },
     "metadata": {},
     "output_type": "display_data"
    }
   ],
   "source": [
    "\n",
    "\n",
    "\n",
    "cols = df4.select_dtypes(include='object').columns.tolist()\n",
    "corrM = np.zeros((len(cols),len(cols)))\n",
    "# there's probably a nice pandas way to do this\n",
    "for col1, col2 in itertools.combinations(cols, 2):\n",
    "    idx1, idx2 = cols.index(col1), cols.index(col2)\n",
    "    corrM[idx1, idx2] = cramers_corrected_stat(pd.crosstab(df4[col1], df4[col2]))\n",
    "    corrM[idx2, idx1] = corrM[idx1, idx2]\n",
    "\n",
    "corr = pd.DataFrame(corrM, index=cols, columns=cols)\n",
    "fig, ax = plt.subplots(figsize=(7, 6))\n",
    "ax = sns.heatmap(corr, annot=True, ax=ax); ax.set_title(\"Cramer V Correlation between Variables\");"
   ]
  },
  {
   "cell_type": "code",
   "execution_count": null,
   "id": "f054c9b3",
   "metadata": {},
   "outputs": [
    {
     "name": "stdout",
     "output_type": "stream",
     "text": [
      "affiliate_channel\n",
      "first_device_type\n"
     ]
    }
   ],
   "source": [
    "# affiliate channel is highly correlated with affiliate provider, the one with less cardinality will be kept ( In general, the same information with less cardinality is better than high's)\n",
    "\n",
    "col_remove1= df4[['affiliate_channel', 'affiliate_provider']].nunique().idxmin()\n",
    "print( col_remove1 )\n",
    "df4 = df4.drop( col_remove1, axis=1 )\n",
    "\n",
    "\n",
    "\n",
    "# affiliate first device type is highly correlated with first_browser ( In general, the same information with less cardinality is better than high's)\n",
    "\n",
    "col_remove2 = df4[['first_device_type', 'first_browser']].nunique().idxmin()\n",
    "print( col_remove2 )\n",
    "df4 = df4.drop( col_remove2 , axis=1 )\n",
    "\n"
   ]
  },
  {
   "attachments": {},
   "cell_type": "markdown",
   "id": "ee7d76ab",
   "metadata": {},
   "source": [
    "## 4.3 Multivariate analysis - Hypoteses Validation"
   ]
  },
  {
   "cell_type": "raw",
   "id": "c24a6bf5",
   "metadata": {},
   "source": [
    "H01 Em all destinatios, the users takes in average 15 days to book the airbnb - FALSE"
   ]
  },
  {
   "cell_type": "code",
   "execution_count": null,
   "id": "8cbacebb",
   "metadata": {},
   "outputs": [
    {
     "ename": "KeyError",
     "evalue": "'Column not found: days_from_first_active_until_booking'",
     "output_type": "error",
     "traceback": [
      "\u001b[1;31m---------------------------------------------------------------------------\u001b[0m",
      "\u001b[1;31mKeyError\u001b[0m                                  Traceback (most recent call last)",
      "Cell \u001b[1;32mIn[755], line 1\u001b[0m\n\u001b[1;32m----> 1\u001b[0m df4\u001b[39m.\u001b[39;49mgroupby(\u001b[39m\"\u001b[39;49m\u001b[39mcountry_destination\u001b[39;49m\u001b[39m\"\u001b[39;49m)[\u001b[39m\"\u001b[39;49m\u001b[39mdays_from_first_active_until_booking\u001b[39;49m\u001b[39m\"\u001b[39;49m]\u001b[39m.\u001b[39mmedian()\u001b[39m.\u001b[39mplot(kind\u001b[39m=\u001b[39m\u001b[39m'\u001b[39m\u001b[39mbar\u001b[39m\u001b[39m'\u001b[39m)\n",
      "File \u001b[1;32mp:\\Python\\GitHub\\airbnb_prediction\\env_airbnb\\lib\\site-packages\\pandas\\core\\groupby\\generic.py:1416\u001b[0m, in \u001b[0;36mDataFrameGroupBy.__getitem__\u001b[1;34m(self, key)\u001b[0m\n\u001b[0;32m   1407\u001b[0m \u001b[39mif\u001b[39;00m \u001b[39misinstance\u001b[39m(key, \u001b[39mtuple\u001b[39m) \u001b[39mand\u001b[39;00m \u001b[39mlen\u001b[39m(key) \u001b[39m>\u001b[39m \u001b[39m1\u001b[39m:\n\u001b[0;32m   1408\u001b[0m     \u001b[39m# if len == 1, then it becomes a SeriesGroupBy and this is actually\u001b[39;00m\n\u001b[0;32m   1409\u001b[0m     \u001b[39m# valid syntax, so don't raise warning\u001b[39;00m\n\u001b[0;32m   1410\u001b[0m     warnings\u001b[39m.\u001b[39mwarn(\n\u001b[0;32m   1411\u001b[0m         \u001b[39m\"\u001b[39m\u001b[39mIndexing with multiple keys (implicitly converted to a tuple \u001b[39m\u001b[39m\"\u001b[39m\n\u001b[0;32m   1412\u001b[0m         \u001b[39m\"\u001b[39m\u001b[39mof keys) will be deprecated, use a list instead.\u001b[39m\u001b[39m\"\u001b[39m,\n\u001b[0;32m   1413\u001b[0m         \u001b[39mFutureWarning\u001b[39;00m,\n\u001b[0;32m   1414\u001b[0m         stacklevel\u001b[39m=\u001b[39mfind_stack_level(),\n\u001b[0;32m   1415\u001b[0m     )\n\u001b[1;32m-> 1416\u001b[0m \u001b[39mreturn\u001b[39;00m \u001b[39msuper\u001b[39;49m()\u001b[39m.\u001b[39;49m\u001b[39m__getitem__\u001b[39;49m(key)\n",
      "File \u001b[1;32mp:\\Python\\GitHub\\airbnb_prediction\\env_airbnb\\lib\\site-packages\\pandas\\core\\base.py:248\u001b[0m, in \u001b[0;36mSelectionMixin.__getitem__\u001b[1;34m(self, key)\u001b[0m\n\u001b[0;32m    246\u001b[0m \u001b[39melse\u001b[39;00m:\n\u001b[0;32m    247\u001b[0m     \u001b[39mif\u001b[39;00m key \u001b[39mnot\u001b[39;00m \u001b[39min\u001b[39;00m \u001b[39mself\u001b[39m\u001b[39m.\u001b[39mobj:\n\u001b[1;32m--> 248\u001b[0m         \u001b[39mraise\u001b[39;00m \u001b[39mKeyError\u001b[39;00m(\u001b[39mf\u001b[39m\u001b[39m\"\u001b[39m\u001b[39mColumn not found: \u001b[39m\u001b[39m{\u001b[39;00mkey\u001b[39m}\u001b[39;00m\u001b[39m\"\u001b[39m)\n\u001b[0;32m    249\u001b[0m     subset \u001b[39m=\u001b[39m \u001b[39mself\u001b[39m\u001b[39m.\u001b[39mobj[key]\n\u001b[0;32m    250\u001b[0m     ndim \u001b[39m=\u001b[39m subset\u001b[39m.\u001b[39mndim\n",
      "\u001b[1;31mKeyError\u001b[0m: 'Column not found: days_from_first_active_until_booking'"
     ]
    }
   ],
   "source": [
    "df4.groupby(\"country_destination\")[\"days_from_first_active_until_booking\"].median().plot(kind='bar')"
   ]
  },
  {
   "cell_type": "code",
   "execution_count": null,
   "id": "b8580a3c",
   "metadata": {},
   "outputs": [
    {
     "data": {
      "text/plain": [
       "<AxesSubplot: xlabel='country_destination'>"
      ]
     },
     "execution_count": 30,
     "metadata": {},
     "output_type": "execute_result"
    },
    {
     "data": {
      "image/png": "[encoded data removed]",
      "text/plain": [
       "<Figure size 640x480 with 1 Axes>"
      ]
     },
     "metadata": {},
     "output_type": "display_data"
    }
   ],
   "source": [
    "df4[df4[\"country_destination\"]!=\"NDF\"].groupby(\"country_destination\")[\"days_from_first_active_until_booking\"].median().sort_values().plot(kind='bar')"
   ]
  },
  {
   "cell_type": "raw",
   "id": "4698de19",
   "metadata": {},
   "source": [
    "H02 At leatst 50% of all web bookings is concentrated in US - FALSE"
   ]
  },
  {
   "cell_type": "raw",
   "id": "025f1f55",
   "metadata": {},
   "source": [
    "H03 The booking increases year to year - TRUE"
   ]
  },
  {
   "cell_type": "code",
   "execution_count": null,
   "id": "f8abd85d",
   "metadata": {},
   "outputs": [
    {
     "data": {
      "text/plain": [
       "<AxesSubplot: xlabel='year_first_booking'>"
      ]
     },
     "execution_count": 31,
     "metadata": {},
     "output_type": "execute_result"
    },
    {
     "data": {
      "image/png": "[encoded data removed]",
      "text/plain": [
       "<Figure size 640x480 with 1 Axes>"
      ]
     },
     "metadata": {},
     "output_type": "display_data"
    }
   ],
   "source": [
    "df4.groupby(\"year_first_booking\")['id'].count().sort_index().plot()"
   ]
  },
  {
   "cell_type": "raw",
   "id": "4fa3857a",
   "metadata": {},
   "source": [
    "H04 The google channel is the most representative in bookings - FALSE"
   ]
  },
  {
   "cell_type": "code",
   "execution_count": null,
   "id": "941bca1c",
   "metadata": {},
   "outputs": [
    {
     "data": {
      "text/plain": [
       "<AxesSubplot: >"
      ]
     },
     "execution_count": 32,
     "metadata": {},
     "output_type": "execute_result"
    },
    {
     "data": {
      "image/png": "[encoded data removed]",
      "text/plain": [
       "<Figure size 640x480 with 1 Axes>"
      ]
     },
     "metadata": {},
     "output_type": "display_data"
    }
   ],
   "source": [
    "df4[\"affiliate_provider\"].value_counts().plot()"
   ]
  },
  {
   "cell_type": "raw",
   "id": "833b1e81",
   "metadata": {},
   "source": [
    "H05 The USA is the most representative in bookings - apart from NOT DEFINED: True"
   ]
  },
  {
   "attachments": {},
   "cell_type": "markdown",
   "id": "a8202577",
   "metadata": {},
   "source": [
    "# 5.0 Data Prep"
   ]
  },
  {
   "cell_type": "code",
   "execution_count": 881,
   "id": "87e9a457",
   "metadata": {},
   "outputs": [],
   "source": [
    "df5 = df4.copy()"
   ]
  },
  {
   "cell_type": "code",
   "execution_count": 882,
   "id": "bdc381c4",
   "metadata": {},
   "outputs": [],
   "source": [
    "os.makedirs( os.getcwd()+\"\\preprocessors\", exist_ok=True)"
   ]
  },
  {
   "cell_type": "code",
   "execution_count": 883,
   "id": "543d13c0",
   "metadata": {},
   "outputs": [
    {
     "data": {
      "text/plain": [
       "Index(['age', 'days_from_first_active_until_date_account_created',\n",
       "       'days_from_first_active_until_first_active', 'year_first_active',\n",
       "       'month_first_active', 'day_first_active', 'day_of_week_first_active',\n",
       "       'day_of_year_first_active_first_active', 'year_date_account_created',\n",
       "       'month_date_account_created', 'day_date_account_created',\n",
       "       'day_of_week_date_account_created',\n",
       "       'day_of_year_first_active_date_account_created'],\n",
       "      dtype='object')"
      ]
     },
     "execution_count": 883,
     "metadata": {},
     "output_type": "execute_result"
    }
   ],
   "source": [
    "numeric_cols = df5.select_dtypes(exclude=['object', 'datetime64[ns]']).columns\n",
    "numeric_cols"
   ]
  },
  {
   "attachments": {},
   "cell_type": "markdown",
   "id": "d0961683",
   "metadata": {},
   "source": [
    "## 5.1 Rescaling"
   ]
  },
  {
   "cell_type": "code",
   "execution_count": 884,
   "id": "f37f7e20",
   "metadata": {},
   "outputs": [],
   "source": [
    "# MinMax\n",
    "mms = MinMaxScaler()\n",
    "mms.fit_transform( df5[numeric_cols])\n",
    "pickle.dump(mms, open(f'preprocessors/1_{mms.__class__.__name__}.pkl', 'wb'))"
   ]
  },
  {
   "attachments": {},
   "cell_type": "markdown",
   "id": "87a1648d",
   "metadata": {},
   "source": [
    "## 5.2 Encoding"
   ]
  },
  {
   "cell_type": "code",
   "execution_count": 885,
   "id": "3cfe8f97",
   "metadata": {},
   "outputs": [
    {
     "data": {
      "text/plain": [
       "['gender',\n",
       " 'signup_method',\n",
       " 'signup_flow',\n",
       " 'language',\n",
       " 'affiliate_channel',\n",
       " 'affiliate_provider',\n",
       " 'first_affiliate_tracked',\n",
       " 'signup_app',\n",
       " 'first_device_type',\n",
       " 'first_browser']"
      ]
     },
     "execution_count": 885,
     "metadata": {},
     "output_type": "execute_result"
    }
   ],
   "source": [
    "cols_te = df5.drop([\"country_destination\",\"id\"], axis=1).select_dtypes(include=['object','category']).columns.tolist()\n",
    "cols_te"
   ]
  },
  {
   "cell_type": "code",
   "execution_count": 886,
   "id": "b0eed998",
   "metadata": {},
   "outputs": [
    {
     "data": {
      "text/plain": [
       "signup_method               2\n",
       "gender                      4\n",
       "signup_app                  4\n",
       "first_affiliate_tracked     7\n",
       "affiliate_channel           8\n",
       "first_device_type           9\n",
       "signup_flow                16\n",
       "affiliate_provider         16\n",
       "language                   23\n",
       "first_browser              38\n",
       "dtype: int64"
      ]
     },
     "execution_count": 886,
     "metadata": {},
     "output_type": "execute_result"
    }
   ],
   "source": [
    "df5[cols_te].nunique().sort_values()"
   ]
  },
  {
   "cell_type": "code",
   "execution_count": 887,
   "id": "c3860c50",
   "metadata": {},
   "outputs": [
    {
     "data": {
      "text/plain": [
       "{'US': 0,\n",
       " 'other': 1,\n",
       " 'FR': 2,\n",
       " 'CA': 3,\n",
       " 'GB': 4,\n",
       " 'ES': 5,\n",
       " 'IT': 6,\n",
       " 'PT': 7,\n",
       " 'NL': 8,\n",
       " 'DE': 9,\n",
       " 'AU': 10}"
      ]
     },
     "execution_count": 887,
     "metadata": {},
     "output_type": "execute_result"
    }
   ],
   "source": [
    "dic_countries = {}\n",
    "for n,v in enumerate(df5['country_destination'].unique()):\n",
    "    dic_countries[v]= n\n",
    "dic_countries"
   ]
  },
  {
   "cell_type": "code",
   "execution_count": 888,
   "id": "10e03c14",
   "metadata": {},
   "outputs": [],
   "source": [
    "# for i in cols_te:\n",
    "#     te = TargetEncoder()\n",
    "#     df5[i]=te.fit_transform( df5[i], df5['country_destination'].map(dic_countries) )\n",
    "#     pickle.dump(te, open(f'preprocessors/2_{te.__class__.__name__}_{i}.pkl', 'wb'))"
   ]
  },
  {
   "cell_type": "code",
   "execution_count": 889,
   "id": "bf274a58",
   "metadata": {},
   "outputs": [],
   "source": [
    "# # create an instance of OneHotEncoder\n",
    "# encoder = OneHotEncoder(sparse=False, dtype=int, handle_unknown='ignore')\n",
    "\n",
    "# # fit and transform specified columns\n",
    "# encoded_cols = encoder.fit_transform(df5[cols_ohe])\n",
    "\n",
    "# # create dataframe from encoded data\n",
    "# encoded_df = pd.DataFrame(encoded_cols, \n",
    "#        #                   columns=encoder.get_feature_names_out(cols_to_encode)\n",
    "#                           )\n",
    "\n",
    "# # concatenate original dataframe with encoded dataframe\n",
    "# df5 = pd.concat([df5.drop(cols_ohe, axis=1), encoded_df], axis=1, ignore_index=True)\n",
    "# df5.columns = [str(i) for i in df5.columns]\n",
    "# df5.head()\n",
    "\n",
    "# # pickle.dump( encoder, open(f\"preprocessors/2_{encoder.__class__.__name__}.pkl\", \"wb\"))"
   ]
  },
  {
   "attachments": {},
   "cell_type": "markdown",
   "id": "bf27b816",
   "metadata": {},
   "source": [
    "## 5.3 Nature Transformation"
   ]
  },
  {
   "cell_type": "code",
   "execution_count": 890,
   "id": "72631f95",
   "metadata": {},
   "outputs": [
    {
     "data": {
      "text/html": [
       "<div>\n",
       "<style scoped>\n",
       "    .dataframe tbody tr th:only-of-type {\n",
       "        vertical-align: middle;\n",
       "    }\n",
       "\n",
       "    .dataframe tbody tr th {\n",
       "        vertical-align: top;\n",
       "    }\n",
       "\n",
       "    .dataframe thead th {\n",
       "        text-align: right;\n",
       "    }\n",
       "</style>\n",
       "<table border=\"1\" class=\"dataframe\">\n",
       "  <thead>\n",
       "    <tr style=\"text-align: right;\">\n",
       "      <th></th>\n",
       "      <th>id</th>\n",
       "      <th>date_account_created</th>\n",
       "      <th>timestamp_first_active</th>\n",
       "      <th>date_first_booking</th>\n",
       "      <th>gender</th>\n",
       "      <th>age</th>\n",
       "      <th>signup_method</th>\n",
       "      <th>signup_flow</th>\n",
       "      <th>language</th>\n",
       "      <th>affiliate_channel</th>\n",
       "      <th>affiliate_provider</th>\n",
       "      <th>first_affiliate_tracked</th>\n",
       "      <th>signup_app</th>\n",
       "      <th>first_device_type</th>\n",
       "      <th>first_browser</th>\n",
       "      <th>country_destination</th>\n",
       "      <th>first_active</th>\n",
       "      <th>days_from_first_active_until_date_account_created</th>\n",
       "      <th>days_from_first_active_until_first_active</th>\n",
       "      <th>year_first_active</th>\n",
       "      <th>month_first_active</th>\n",
       "      <th>day_first_active</th>\n",
       "      <th>day_of_week_first_active</th>\n",
       "      <th>day_of_year_first_active_first_active</th>\n",
       "      <th>year_date_account_created</th>\n",
       "      <th>month_date_account_created</th>\n",
       "      <th>day_date_account_created</th>\n",
       "      <th>day_of_week_date_account_created</th>\n",
       "      <th>day_of_year_first_active_date_account_created</th>\n",
       "      <th>day_of_week_first_active_sin</th>\n",
       "      <th>day_of_week_first_active_cos</th>\n",
       "      <th>day_of_week_date_account_created_sin</th>\n",
       "      <th>day_of_week_date_account_created_cos</th>\n",
       "      <th>month_date_account_created_sin</th>\n",
       "      <th>month_date_account_created_cos</th>\n",
       "      <th>day_date_account_created_sin</th>\n",
       "      <th>day_date_account_created_cos</th>\n",
       "      <th>day_of_year_first_active_first_active_sin</th>\n",
       "      <th>day_of_year_first_active_first_active_cos</th>\n",
       "      <th>day_of_year_first_active_date_account_created_sin</th>\n",
       "      <th>day_of_year_first_active_date_account_created_cos</th>\n",
       "    </tr>\n",
       "  </thead>\n",
       "  <tbody>\n",
       "    <tr>\n",
       "      <th>2</th>\n",
       "      <td>4ft3gnwmtx</td>\n",
       "      <td>2010-09-28</td>\n",
       "      <td>2009-06-09 23:12:47</td>\n",
       "      <td>2010-08-02</td>\n",
       "      <td>FEMALE</td>\n",
       "      <td>56</td>\n",
       "      <td>basic</td>\n",
       "      <td>3</td>\n",
       "      <td>en</td>\n",
       "      <td>direct</td>\n",
       "      <td>direct</td>\n",
       "      <td>untracked</td>\n",
       "      <td>Web</td>\n",
       "      <td>Windows Desktop</td>\n",
       "      <td>IE</td>\n",
       "      <td>US</td>\n",
       "      <td>2009-06-09</td>\n",
       "      <td>476</td>\n",
       "      <td>0</td>\n",
       "      <td>2009</td>\n",
       "      <td>6</td>\n",
       "      <td>9</td>\n",
       "      <td>1</td>\n",
       "      <td>160</td>\n",
       "      <td>2010</td>\n",
       "      <td>9</td>\n",
       "      <td>28</td>\n",
       "      <td>1</td>\n",
       "      <td>271</td>\n",
       "      <td>0.78183</td>\n",
       "      <td>0.62349</td>\n",
       "      <td>0.78183</td>\n",
       "      <td>0.62349</td>\n",
       "      <td>-1.00000</td>\n",
       "      <td>-0.00000</td>\n",
       "      <td>-0.57127</td>\n",
       "      <td>0.82076</td>\n",
       "      <td>0.37771</td>\n",
       "      <td>-0.92592</td>\n",
       "      <td>-0.99888</td>\n",
       "      <td>-0.04732</td>\n",
       "    </tr>\n",
       "    <tr>\n",
       "      <th>3</th>\n",
       "      <td>bjjt8pjhuk</td>\n",
       "      <td>2011-12-05</td>\n",
       "      <td>2009-10-31 06:01:29</td>\n",
       "      <td>2012-09-08</td>\n",
       "      <td>FEMALE</td>\n",
       "      <td>42</td>\n",
       "      <td>facebook</td>\n",
       "      <td>0</td>\n",
       "      <td>en</td>\n",
       "      <td>direct</td>\n",
       "      <td>direct</td>\n",
       "      <td>untracked</td>\n",
       "      <td>Web</td>\n",
       "      <td>Mac Desktop</td>\n",
       "      <td>Firefox</td>\n",
       "      <td>other</td>\n",
       "      <td>2009-10-31</td>\n",
       "      <td>765</td>\n",
       "      <td>0</td>\n",
       "      <td>2009</td>\n",
       "      <td>10</td>\n",
       "      <td>31</td>\n",
       "      <td>5</td>\n",
       "      <td>304</td>\n",
       "      <td>2011</td>\n",
       "      <td>12</td>\n",
       "      <td>5</td>\n",
       "      <td>0</td>\n",
       "      <td>339</td>\n",
       "      <td>-0.97493</td>\n",
       "      <td>-0.22252</td>\n",
       "      <td>0.00000</td>\n",
       "      <td>1.00000</td>\n",
       "      <td>-0.00000</td>\n",
       "      <td>1.00000</td>\n",
       "      <td>0.84864</td>\n",
       "      <td>0.52896</td>\n",
       "      <td>-0.86746</td>\n",
       "      <td>0.49751</td>\n",
       "      <td>-0.43278</td>\n",
       "      <td>0.90150</td>\n",
       "    </tr>\n",
       "    <tr>\n",
       "      <th>4</th>\n",
       "      <td>87mebub9p4</td>\n",
       "      <td>2010-09-14</td>\n",
       "      <td>2009-12-08 06:11:05</td>\n",
       "      <td>2010-02-18</td>\n",
       "      <td>-unknown-</td>\n",
       "      <td>41</td>\n",
       "      <td>basic</td>\n",
       "      <td>0</td>\n",
       "      <td>en</td>\n",
       "      <td>direct</td>\n",
       "      <td>direct</td>\n",
       "      <td>untracked</td>\n",
       "      <td>Web</td>\n",
       "      <td>Mac Desktop</td>\n",
       "      <td>Chrome</td>\n",
       "      <td>US</td>\n",
       "      <td>2009-12-08</td>\n",
       "      <td>280</td>\n",
       "      <td>0</td>\n",
       "      <td>2009</td>\n",
       "      <td>12</td>\n",
       "      <td>8</td>\n",
       "      <td>1</td>\n",
       "      <td>342</td>\n",
       "      <td>2010</td>\n",
       "      <td>9</td>\n",
       "      <td>14</td>\n",
       "      <td>1</td>\n",
       "      <td>257</td>\n",
       "      <td>0.78183</td>\n",
       "      <td>0.62349</td>\n",
       "      <td>0.78183</td>\n",
       "      <td>0.62349</td>\n",
       "      <td>-1.00000</td>\n",
       "      <td>-0.00000</td>\n",
       "      <td>0.29936</td>\n",
       "      <td>-0.95414</td>\n",
       "      <td>-0.38566</td>\n",
       "      <td>0.92264</td>\n",
       "      <td>-0.95872</td>\n",
       "      <td>-0.28436</td>\n",
       "    </tr>\n",
       "    <tr>\n",
       "      <th>5</th>\n",
       "      <td>osr2jwljor</td>\n",
       "      <td>2010-01-01</td>\n",
       "      <td>2010-01-01 21:56:19</td>\n",
       "      <td>2010-01-02</td>\n",
       "      <td>-unknown-</td>\n",
       "      <td>51</td>\n",
       "      <td>basic</td>\n",
       "      <td>0</td>\n",
       "      <td>en</td>\n",
       "      <td>other</td>\n",
       "      <td>other</td>\n",
       "      <td>omg</td>\n",
       "      <td>Web</td>\n",
       "      <td>Mac Desktop</td>\n",
       "      <td>Chrome</td>\n",
       "      <td>US</td>\n",
       "      <td>2010-01-01</td>\n",
       "      <td>0</td>\n",
       "      <td>0</td>\n",
       "      <td>2010</td>\n",
       "      <td>1</td>\n",
       "      <td>1</td>\n",
       "      <td>4</td>\n",
       "      <td>1</td>\n",
       "      <td>2010</td>\n",
       "      <td>1</td>\n",
       "      <td>1</td>\n",
       "      <td>4</td>\n",
       "      <td>1</td>\n",
       "      <td>-0.43388</td>\n",
       "      <td>-0.90097</td>\n",
       "      <td>-0.43388</td>\n",
       "      <td>-0.90097</td>\n",
       "      <td>0.50000</td>\n",
       "      <td>0.86603</td>\n",
       "      <td>0.20130</td>\n",
       "      <td>0.97953</td>\n",
       "      <td>0.01721</td>\n",
       "      <td>0.99985</td>\n",
       "      <td>0.01721</td>\n",
       "      <td>0.99985</td>\n",
       "    </tr>\n",
       "    <tr>\n",
       "      <th>6</th>\n",
       "      <td>lsw9q7uk0j</td>\n",
       "      <td>2010-01-02</td>\n",
       "      <td>2010-01-02 01:25:58</td>\n",
       "      <td>2010-01-05</td>\n",
       "      <td>FEMALE</td>\n",
       "      <td>46</td>\n",
       "      <td>basic</td>\n",
       "      <td>0</td>\n",
       "      <td>en</td>\n",
       "      <td>other</td>\n",
       "      <td>craigslist</td>\n",
       "      <td>untracked</td>\n",
       "      <td>Web</td>\n",
       "      <td>Mac Desktop</td>\n",
       "      <td>Safari</td>\n",
       "      <td>US</td>\n",
       "      <td>2010-01-02</td>\n",
       "      <td>0</td>\n",
       "      <td>0</td>\n",
       "      <td>2010</td>\n",
       "      <td>1</td>\n",
       "      <td>2</td>\n",
       "      <td>5</td>\n",
       "      <td>2</td>\n",
       "      <td>2010</td>\n",
       "      <td>1</td>\n",
       "      <td>2</td>\n",
       "      <td>5</td>\n",
       "      <td>2</td>\n",
       "      <td>-0.97493</td>\n",
       "      <td>-0.22252</td>\n",
       "      <td>-0.97493</td>\n",
       "      <td>-0.22252</td>\n",
       "      <td>0.50000</td>\n",
       "      <td>0.86603</td>\n",
       "      <td>0.39436</td>\n",
       "      <td>0.91896</td>\n",
       "      <td>0.03442</td>\n",
       "      <td>0.99941</td>\n",
       "      <td>0.03442</td>\n",
       "      <td>0.99941</td>\n",
       "    </tr>\n",
       "  </tbody>\n",
       "</table>\n",
       "</div>"
      ],
      "text/plain": [
       "           id date_account_created timestamp_first_active date_first_booking  \\\n",
       "2  4ft3gnwmtx           2010-09-28    2009-06-09 23:12:47         2010-08-02   \n",
       "3  bjjt8pjhuk           2011-12-05    2009-10-31 06:01:29         2012-09-08   \n",
       "4  87mebub9p4           2010-09-14    2009-12-08 06:11:05         2010-02-18   \n",
       "5  osr2jwljor           2010-01-01    2010-01-01 21:56:19         2010-01-02   \n",
       "6  lsw9q7uk0j           2010-01-02    2010-01-02 01:25:58         2010-01-05   \n",
       "\n",
       "      gender  age signup_method signup_flow language affiliate_channel  \\\n",
       "2     FEMALE   56         basic           3       en            direct   \n",
       "3     FEMALE   42      facebook           0       en            direct   \n",
       "4  -unknown-   41         basic           0       en            direct   \n",
       "5  -unknown-   51         basic           0       en             other   \n",
       "6     FEMALE   46         basic           0       en             other   \n",
       "\n",
       "  affiliate_provider first_affiliate_tracked signup_app first_device_type  \\\n",
       "2             direct               untracked        Web   Windows Desktop   \n",
       "3             direct               untracked        Web       Mac Desktop   \n",
       "4             direct               untracked        Web       Mac Desktop   \n",
       "5              other                     omg        Web       Mac Desktop   \n",
       "6         craigslist               untracked        Web       Mac Desktop   \n",
       "\n",
       "  first_browser country_destination first_active  \\\n",
       "2            IE                  US   2009-06-09   \n",
       "3       Firefox               other   2009-10-31   \n",
       "4        Chrome                  US   2009-12-08   \n",
       "5        Chrome                  US   2010-01-01   \n",
       "6        Safari                  US   2010-01-02   \n",
       "\n",
       "   days_from_first_active_until_date_account_created  \\\n",
       "2                                                476   \n",
       "3                                                765   \n",
       "4                                                280   \n",
       "5                                                  0   \n",
       "6                                                  0   \n",
       "\n",
       "   days_from_first_active_until_first_active  year_first_active  \\\n",
       "2                                          0               2009   \n",
       "3                                          0               2009   \n",
       "4                                          0               2009   \n",
       "5                                          0               2010   \n",
       "6                                          0               2010   \n",
       "\n",
       "   month_first_active  day_first_active  day_of_week_first_active  \\\n",
       "2                   6                 9                         1   \n",
       "3                  10                31                         5   \n",
       "4                  12                 8                         1   \n",
       "5                   1                 1                         4   \n",
       "6                   1                 2                         5   \n",
       "\n",
       "   day_of_year_first_active_first_active  year_date_account_created  \\\n",
       "2                                    160                       2010   \n",
       "3                                    304                       2011   \n",
       "4                                    342                       2010   \n",
       "5                                      1                       2010   \n",
       "6                                      2                       2010   \n",
       "\n",
       "   month_date_account_created  day_date_account_created  \\\n",
       "2                           9                        28   \n",
       "3                          12                         5   \n",
       "4                           9                        14   \n",
       "5                           1                         1   \n",
       "6                           1                         2   \n",
       "\n",
       "   day_of_week_date_account_created  \\\n",
       "2                                 1   \n",
       "3                                 0   \n",
       "4                                 1   \n",
       "5                                 4   \n",
       "6                                 5   \n",
       "\n",
       "   day_of_year_first_active_date_account_created  \\\n",
       "2                                            271   \n",
       "3                                            339   \n",
       "4                                            257   \n",
       "5                                              1   \n",
       "6                                              2   \n",
       "\n",
       "   day_of_week_first_active_sin  day_of_week_first_active_cos  \\\n",
       "2                       0.78183                       0.62349   \n",
       "3                      -0.97493                      -0.22252   \n",
       "4                       0.78183                       0.62349   \n",
       "5                      -0.43388                      -0.90097   \n",
       "6                      -0.97493                      -0.22252   \n",
       "\n",
       "   day_of_week_date_account_created_sin  day_of_week_date_account_created_cos  \\\n",
       "2                               0.78183                               0.62349   \n",
       "3                               0.00000                               1.00000   \n",
       "4                               0.78183                               0.62349   \n",
       "5                              -0.43388                              -0.90097   \n",
       "6                              -0.97493                              -0.22252   \n",
       "\n",
       "   month_date_account_created_sin  month_date_account_created_cos  \\\n",
       "2                        -1.00000                        -0.00000   \n",
       "3                        -0.00000                         1.00000   \n",
       "4                        -1.00000                        -0.00000   \n",
       "5                         0.50000                         0.86603   \n",
       "6                         0.50000                         0.86603   \n",
       "\n",
       "   day_date_account_created_sin  day_date_account_created_cos  \\\n",
       "2                      -0.57127                       0.82076   \n",
       "3                       0.84864                       0.52896   \n",
       "4                       0.29936                      -0.95414   \n",
       "5                       0.20130                       0.97953   \n",
       "6                       0.39436                       0.91896   \n",
       "\n",
       "   day_of_year_first_active_first_active_sin  \\\n",
       "2                                    0.37771   \n",
       "3                                   -0.86746   \n",
       "4                                   -0.38566   \n",
       "5                                    0.01721   \n",
       "6                                    0.03442   \n",
       "\n",
       "   day_of_year_first_active_first_active_cos  \\\n",
       "2                                   -0.92592   \n",
       "3                                    0.49751   \n",
       "4                                    0.92264   \n",
       "5                                    0.99985   \n",
       "6                                    0.99941   \n",
       "\n",
       "   day_of_year_first_active_date_account_created_sin  \\\n",
       "2                                           -0.99888   \n",
       "3                                           -0.43278   \n",
       "4                                           -0.95872   \n",
       "5                                            0.01721   \n",
       "6                                            0.03442   \n",
       "\n",
       "   day_of_year_first_active_date_account_created_cos  \n",
       "2                                           -0.04732  \n",
       "3                                            0.90150  \n",
       "4                                           -0.28436  \n",
       "5                                            0.99985  \n",
       "6                                            0.99941  "
      ]
     },
     "execution_count": 890,
     "metadata": {},
     "output_type": "execute_result"
    }
   ],
   "source": [
    "\n",
    "class NatureTransformation( TransformerMixin, BaseEstimator ):\n",
    "   def __init__( self ):\n",
    "      pass\n",
    "\n",
    "   def fit( self, X, y=None):\n",
    "      return self\n",
    "   \n",
    "   def transform( self, X, y=None):\n",
    "      X2 = X.copy()\n",
    "      # day of week\n",
    "      for i in X2.filter(regex='day_of_week').columns:\n",
    "         X2[f'{i}_sin'] = X2[i].apply( lambda x: np.sin( x * ( 2. * np.pi/7) ) ) \n",
    "         X2[f'{i}_cos'] = X2[i].apply( lambda x: np.cos( x * ( 2. * np.pi/7) ) ) \n",
    "\n",
    "      #month\n",
    "      for i in X2.filter(regex='month_date').columns:\n",
    "         X2[f'{i}_sin'] = X2[i].apply( lambda x: np.sin( x * ( 2. * np.pi/12) ) ) \n",
    "         X2[f'{i}_cos'] = X2[i].apply( lambda x: np.cos( x * ( 2. * np.pi/12) ) ) \n",
    "\n",
    "      #day of month\n",
    "      for i in X2.filter(regex='day_date').columns:\n",
    "         X2[f'{i}_sin'] = X2[i].apply( lambda x: np.sin( x * ( 2. * np.pi/31) ) ) \n",
    "         X2[f'{i}_cos'] = X2[i].apply( lambda x: np.cos( x * ( 2. * np.pi/31) ) ) \n",
    "\n",
    "      #day of year\n",
    "      for i in X2.filter(regex='day_of_year').columns:\n",
    "         X2[f'{i}_sin'] = X2[i].apply( lambda x: np.sin( x * ( 2. * np.pi/365) ) ) \n",
    "         X2[f'{i}_cos'] = X2[i].apply( lambda x: np.cos( x * ( 2. * np.pi/365) ) ) \n",
    "\n",
    "      return X2\n",
    "\n",
    "naturetransformation = NatureTransformation()\n",
    "df5 = naturetransformation.fit_transform(df5)\n",
    "df5.head()\n"
   ]
  },
  {
   "cell_type": "code",
   "execution_count": 891,
   "id": "786dfe46",
   "metadata": {},
   "outputs": [],
   "source": [
    "pickle.dump( naturetransformation, open(f\"{os.getcwd()}/preprocessors/3_{naturetransformation.__class__.__name__}.pkl\", \"wb\") )"
   ]
  },
  {
   "attachments": {},
   "cell_type": "markdown",
   "id": "5e001cbf",
   "metadata": {},
   "source": [
    "# 6.0 Feature Selection"
   ]
  },
  {
   "cell_type": "code",
   "execution_count": 907,
   "id": "30614045",
   "metadata": {},
   "outputs": [],
   "source": [
    "df6 = df5.copy()"
   ]
  },
  {
   "cell_type": "code",
   "execution_count": 908,
   "id": "39f6d704",
   "metadata": {},
   "outputs": [
    {
     "data": {
      "text/html": [
       "<div>\n",
       "<style scoped>\n",
       "    .dataframe tbody tr th:only-of-type {\n",
       "        vertical-align: middle;\n",
       "    }\n",
       "\n",
       "    .dataframe tbody tr th {\n",
       "        vertical-align: top;\n",
       "    }\n",
       "\n",
       "    .dataframe thead th {\n",
       "        text-align: right;\n",
       "    }\n",
       "</style>\n",
       "<table border=\"1\" class=\"dataframe\">\n",
       "  <thead>\n",
       "    <tr style=\"text-align: right;\">\n",
       "      <th></th>\n",
       "      <th>id</th>\n",
       "      <th>date_account_created</th>\n",
       "      <th>timestamp_first_active</th>\n",
       "      <th>date_first_booking</th>\n",
       "      <th>gender</th>\n",
       "      <th>age</th>\n",
       "      <th>signup_method</th>\n",
       "      <th>signup_flow</th>\n",
       "      <th>language</th>\n",
       "      <th>affiliate_channel</th>\n",
       "      <th>affiliate_provider</th>\n",
       "      <th>first_affiliate_tracked</th>\n",
       "      <th>signup_app</th>\n",
       "      <th>first_device_type</th>\n",
       "      <th>first_browser</th>\n",
       "      <th>country_destination</th>\n",
       "      <th>first_active</th>\n",
       "      <th>days_from_first_active_until_date_account_created</th>\n",
       "      <th>days_from_first_active_until_first_active</th>\n",
       "      <th>year_first_active</th>\n",
       "      <th>month_first_active</th>\n",
       "      <th>day_first_active</th>\n",
       "      <th>day_of_week_first_active</th>\n",
       "      <th>day_of_year_first_active_first_active</th>\n",
       "      <th>year_date_account_created</th>\n",
       "      <th>month_date_account_created</th>\n",
       "      <th>day_date_account_created</th>\n",
       "      <th>day_of_week_date_account_created</th>\n",
       "      <th>day_of_year_first_active_date_account_created</th>\n",
       "      <th>day_of_week_first_active_sin</th>\n",
       "      <th>day_of_week_first_active_cos</th>\n",
       "      <th>day_of_week_date_account_created_sin</th>\n",
       "      <th>day_of_week_date_account_created_cos</th>\n",
       "      <th>month_date_account_created_sin</th>\n",
       "      <th>month_date_account_created_cos</th>\n",
       "      <th>day_date_account_created_sin</th>\n",
       "      <th>day_date_account_created_cos</th>\n",
       "      <th>day_of_year_first_active_first_active_sin</th>\n",
       "      <th>day_of_year_first_active_first_active_cos</th>\n",
       "      <th>day_of_year_first_active_date_account_created_sin</th>\n",
       "      <th>day_of_year_first_active_date_account_created_cos</th>\n",
       "    </tr>\n",
       "  </thead>\n",
       "  <tbody>\n",
       "    <tr>\n",
       "      <th>2</th>\n",
       "      <td>4ft3gnwmtx</td>\n",
       "      <td>2010-09-28</td>\n",
       "      <td>2009-06-09 23:12:47</td>\n",
       "      <td>2010-08-02</td>\n",
       "      <td>FEMALE</td>\n",
       "      <td>56</td>\n",
       "      <td>basic</td>\n",
       "      <td>3</td>\n",
       "      <td>en</td>\n",
       "      <td>direct</td>\n",
       "      <td>direct</td>\n",
       "      <td>untracked</td>\n",
       "      <td>Web</td>\n",
       "      <td>Windows Desktop</td>\n",
       "      <td>IE</td>\n",
       "      <td>US</td>\n",
       "      <td>2009-06-09</td>\n",
       "      <td>476</td>\n",
       "      <td>0</td>\n",
       "      <td>2009</td>\n",
       "      <td>6</td>\n",
       "      <td>9</td>\n",
       "      <td>1</td>\n",
       "      <td>160</td>\n",
       "      <td>2010</td>\n",
       "      <td>9</td>\n",
       "      <td>28</td>\n",
       "      <td>1</td>\n",
       "      <td>271</td>\n",
       "      <td>0.78183</td>\n",
       "      <td>0.62349</td>\n",
       "      <td>0.78183</td>\n",
       "      <td>0.62349</td>\n",
       "      <td>-1.00000</td>\n",
       "      <td>-0.00000</td>\n",
       "      <td>-0.57127</td>\n",
       "      <td>0.82076</td>\n",
       "      <td>0.37771</td>\n",
       "      <td>-0.92592</td>\n",
       "      <td>-0.99888</td>\n",
       "      <td>-0.04732</td>\n",
       "    </tr>\n",
       "    <tr>\n",
       "      <th>3</th>\n",
       "      <td>bjjt8pjhuk</td>\n",
       "      <td>2011-12-05</td>\n",
       "      <td>2009-10-31 06:01:29</td>\n",
       "      <td>2012-09-08</td>\n",
       "      <td>FEMALE</td>\n",
       "      <td>42</td>\n",
       "      <td>facebook</td>\n",
       "      <td>0</td>\n",
       "      <td>en</td>\n",
       "      <td>direct</td>\n",
       "      <td>direct</td>\n",
       "      <td>untracked</td>\n",
       "      <td>Web</td>\n",
       "      <td>Mac Desktop</td>\n",
       "      <td>Firefox</td>\n",
       "      <td>other</td>\n",
       "      <td>2009-10-31</td>\n",
       "      <td>765</td>\n",
       "      <td>0</td>\n",
       "      <td>2009</td>\n",
       "      <td>10</td>\n",
       "      <td>31</td>\n",
       "      <td>5</td>\n",
       "      <td>304</td>\n",
       "      <td>2011</td>\n",
       "      <td>12</td>\n",
       "      <td>5</td>\n",
       "      <td>0</td>\n",
       "      <td>339</td>\n",
       "      <td>-0.97493</td>\n",
       "      <td>-0.22252</td>\n",
       "      <td>0.00000</td>\n",
       "      <td>1.00000</td>\n",
       "      <td>-0.00000</td>\n",
       "      <td>1.00000</td>\n",
       "      <td>0.84864</td>\n",
       "      <td>0.52896</td>\n",
       "      <td>-0.86746</td>\n",
       "      <td>0.49751</td>\n",
       "      <td>-0.43278</td>\n",
       "      <td>0.90150</td>\n",
       "    </tr>\n",
       "    <tr>\n",
       "      <th>4</th>\n",
       "      <td>87mebub9p4</td>\n",
       "      <td>2010-09-14</td>\n",
       "      <td>2009-12-08 06:11:05</td>\n",
       "      <td>2010-02-18</td>\n",
       "      <td>-unknown-</td>\n",
       "      <td>41</td>\n",
       "      <td>basic</td>\n",
       "      <td>0</td>\n",
       "      <td>en</td>\n",
       "      <td>direct</td>\n",
       "      <td>direct</td>\n",
       "      <td>untracked</td>\n",
       "      <td>Web</td>\n",
       "      <td>Mac Desktop</td>\n",
       "      <td>Chrome</td>\n",
       "      <td>US</td>\n",
       "      <td>2009-12-08</td>\n",
       "      <td>280</td>\n",
       "      <td>0</td>\n",
       "      <td>2009</td>\n",
       "      <td>12</td>\n",
       "      <td>8</td>\n",
       "      <td>1</td>\n",
       "      <td>342</td>\n",
       "      <td>2010</td>\n",
       "      <td>9</td>\n",
       "      <td>14</td>\n",
       "      <td>1</td>\n",
       "      <td>257</td>\n",
       "      <td>0.78183</td>\n",
       "      <td>0.62349</td>\n",
       "      <td>0.78183</td>\n",
       "      <td>0.62349</td>\n",
       "      <td>-1.00000</td>\n",
       "      <td>-0.00000</td>\n",
       "      <td>0.29936</td>\n",
       "      <td>-0.95414</td>\n",
       "      <td>-0.38566</td>\n",
       "      <td>0.92264</td>\n",
       "      <td>-0.95872</td>\n",
       "      <td>-0.28436</td>\n",
       "    </tr>\n",
       "  </tbody>\n",
       "</table>\n",
       "</div>"
      ],
      "text/plain": [
       "           id date_account_created timestamp_first_active date_first_booking  \\\n",
       "2  4ft3gnwmtx           2010-09-28    2009-06-09 23:12:47         2010-08-02   \n",
       "3  bjjt8pjhuk           2011-12-05    2009-10-31 06:01:29         2012-09-08   \n",
       "4  87mebub9p4           2010-09-14    2009-12-08 06:11:05         2010-02-18   \n",
       "\n",
       "      gender  age signup_method signup_flow language affiliate_channel  \\\n",
       "2     FEMALE   56         basic           3       en            direct   \n",
       "3     FEMALE   42      facebook           0       en            direct   \n",
       "4  -unknown-   41         basic           0       en            direct   \n",
       "\n",
       "  affiliate_provider first_affiliate_tracked signup_app first_device_type  \\\n",
       "2             direct               untracked        Web   Windows Desktop   \n",
       "3             direct               untracked        Web       Mac Desktop   \n",
       "4             direct               untracked        Web       Mac Desktop   \n",
       "\n",
       "  first_browser country_destination first_active  \\\n",
       "2            IE                  US   2009-06-09   \n",
       "3       Firefox               other   2009-10-31   \n",
       "4        Chrome                  US   2009-12-08   \n",
       "\n",
       "   days_from_first_active_until_date_account_created  \\\n",
       "2                                                476   \n",
       "3                                                765   \n",
       "4                                                280   \n",
       "\n",
       "   days_from_first_active_until_first_active  year_first_active  \\\n",
       "2                                          0               2009   \n",
       "3                                          0               2009   \n",
       "4                                          0               2009   \n",
       "\n",
       "   month_first_active  day_first_active  day_of_week_first_active  \\\n",
       "2                   6                 9                         1   \n",
       "3                  10                31                         5   \n",
       "4                  12                 8                         1   \n",
       "\n",
       "   day_of_year_first_active_first_active  year_date_account_created  \\\n",
       "2                                    160                       2010   \n",
       "3                                    304                       2011   \n",
       "4                                    342                       2010   \n",
       "\n",
       "   month_date_account_created  day_date_account_created  \\\n",
       "2                           9                        28   \n",
       "3                          12                         5   \n",
       "4                           9                        14   \n",
       "\n",
       "   day_of_week_date_account_created  \\\n",
       "2                                 1   \n",
       "3                                 0   \n",
       "4                                 1   \n",
       "\n",
       "   day_of_year_first_active_date_account_created  \\\n",
       "2                                            271   \n",
       "3                                            339   \n",
       "4                                            257   \n",
       "\n",
       "   day_of_week_first_active_sin  day_of_week_first_active_cos  \\\n",
       "2                       0.78183                       0.62349   \n",
       "3                      -0.97493                      -0.22252   \n",
       "4                       0.78183                       0.62349   \n",
       "\n",
       "   day_of_week_date_account_created_sin  day_of_week_date_account_created_cos  \\\n",
       "2                               0.78183                               0.62349   \n",
       "3                               0.00000                               1.00000   \n",
       "4                               0.78183                               0.62349   \n",
       "\n",
       "   month_date_account_created_sin  month_date_account_created_cos  \\\n",
       "2                        -1.00000                        -0.00000   \n",
       "3                        -0.00000                         1.00000   \n",
       "4                        -1.00000                        -0.00000   \n",
       "\n",
       "   day_date_account_created_sin  day_date_account_created_cos  \\\n",
       "2                      -0.57127                       0.82076   \n",
       "3                       0.84864                       0.52896   \n",
       "4                       0.29936                      -0.95414   \n",
       "\n",
       "   day_of_year_first_active_first_active_sin  \\\n",
       "2                                    0.37771   \n",
       "3                                   -0.86746   \n",
       "4                                   -0.38566   \n",
       "\n",
       "   day_of_year_first_active_first_active_cos  \\\n",
       "2                                   -0.92592   \n",
       "3                                    0.49751   \n",
       "4                                    0.92264   \n",
       "\n",
       "   day_of_year_first_active_date_account_created_sin  \\\n",
       "2                                           -0.99888   \n",
       "3                                           -0.43278   \n",
       "4                                           -0.95872   \n",
       "\n",
       "   day_of_year_first_active_date_account_created_cos  \n",
       "2                                           -0.04732  \n",
       "3                                            0.90150  \n",
       "4                                           -0.28436  "
      ]
     },
     "execution_count": 908,
     "metadata": {},
     "output_type": "execute_result"
    }
   ],
   "source": [
    "df5.head(3)"
   ]
  },
  {
   "cell_type": "code",
   "execution_count": 909,
   "id": "c238ebf9",
   "metadata": {},
   "outputs": [
    {
     "data": {
      "text/plain": [
       "{'US': 0,\n",
       " 'other': 1,\n",
       " 'FR': 2,\n",
       " 'CA': 3,\n",
       " 'GB': 4,\n",
       " 'ES': 5,\n",
       " 'IT': 6,\n",
       " 'PT': 7,\n",
       " 'NL': 8,\n",
       " 'DE': 9,\n",
       " 'AU': 10}"
      ]
     },
     "execution_count": 909,
     "metadata": {},
     "output_type": "execute_result"
    }
   ],
   "source": [
    "dic_countries"
   ]
  },
  {
   "cell_type": "code",
   "execution_count": 924,
   "id": "bc1fce16",
   "metadata": {},
   "outputs": [
    {
     "data": {
      "text/plain": [
       "Index(['age', 'days_from_first_active_until_date_account_created',\n",
       "       'days_from_first_active_until_first_active', 'year_first_active',\n",
       "       'month_first_active', 'day_first_active', 'day_of_week_first_active',\n",
       "       'day_of_year_first_active_first_active', 'year_date_account_created',\n",
       "       'month_date_account_created', 'day_date_account_created',\n",
       "       'day_of_week_date_account_created',\n",
       "       'day_of_year_first_active_date_account_created',\n",
       "       'day_of_week_first_active_sin', 'day_of_week_first_active_cos',\n",
       "       'day_of_week_date_account_created_sin',\n",
       "       'day_of_week_date_account_created_cos',\n",
       "       'month_date_account_created_sin', 'month_date_account_created_cos',\n",
       "       'day_date_account_created_sin', 'day_date_account_created_cos',\n",
       "       'day_of_year_first_active_first_active_sin',\n",
       "       'day_of_year_first_active_first_active_cos',\n",
       "       'day_of_year_first_active_date_account_created_sin',\n",
       "       'day_of_year_first_active_date_account_created_cos'],\n",
       "      dtype='object')"
      ]
     },
     "execution_count": 924,
     "metadata": {},
     "output_type": "execute_result"
    }
   ],
   "source": [
    "numerics = ['int16', 'int32', 'int64', 'float16', 'float32', 'float64']\n",
    "\n",
    "df6.select_dtypes(include=numerics).columns"
   ]
  },
  {
   "cell_type": "code",
   "execution_count": 925,
   "id": "4b94a16e",
   "metadata": {},
   "outputs": [
    {
     "data": {
      "text/plain": [
       "2    0\n",
       "3    1\n",
       "4    0\n",
       "Name: country_destination, dtype: int64"
      ]
     },
     "execution_count": 925,
     "metadata": {},
     "output_type": "execute_result"
    }
   ],
   "source": [
    "X = df6[['age', 'days_from_first_active_until_date_account_created',\n",
    "       'days_from_first_active_until_first_active', 'year_first_active',\n",
    "       'month_first_active', 'day_first_active', 'day_of_week_first_active',\n",
    "       'day_of_year_first_active_first_active', 'year_date_account_created',\n",
    "       'month_date_account_created', 'day_date_account_created',\n",
    "       'day_of_week_date_account_created',\n",
    "       'day_of_year_first_active_date_account_created',\n",
    "       'day_of_week_first_active_sin', 'day_of_week_first_active_cos',\n",
    "       'day_of_week_date_account_created_sin',\n",
    "       'day_of_week_date_account_created_cos',\n",
    "       'month_date_account_created_sin', 'month_date_account_created_cos',\n",
    "       'day_date_account_created_sin', 'day_date_account_created_cos',\n",
    "       'day_of_year_first_active_first_active_sin',\n",
    "       'day_of_year_first_active_first_active_cos',\n",
    "       'day_of_year_first_active_date_account_created_sin',\n",
    "       'day_of_year_first_active_date_account_created_cos']]\n",
    "y = df6['country_destination'].map(dic_countries).copy()\n",
    "Xtrain, Xval, ytrain, yval = train_test_split( X, y, test_size = 0.3, random_state=42, stratify=y )\n",
    "y.head(3)"
   ]
  },
  {
   "cell_type": "code",
   "execution_count": 926,
   "id": "a8f6dc13",
   "metadata": {},
   "outputs": [],
   "source": [
    "class FeatureSelection( BaseEstimator, TransformerMixin ):\n",
    "    def __init__(self, columns=None):\n",
    "        self.columns = columns\n",
    "        pass\n",
    "    def fit( self, X, y=None):\n",
    "        return X\n",
    "    def transform( self, X, y=None):\n",
    "        X2 = X.copy()\n",
    "        X2 = X2.drop(self.columns, axis=1)"
   ]
  },
  {
   "cell_type": "code",
   "execution_count": 927,
   "id": "322e5767",
   "metadata": {},
   "outputs": [
    {
     "data": {
      "text/plain": [
       "id                                                  0.00000\n",
       "date_account_created                                0.00000\n",
       "timestamp_first_active                              0.00000\n",
       "date_first_booking                                  0.00000\n",
       "gender                                              0.00000\n",
       "age                                                 0.00000\n",
       "signup_method                                       0.00000\n",
       "signup_flow                                         0.00000\n",
       "language                                            0.00000\n",
       "affiliate_channel                                   0.00000\n",
       "affiliate_provider                                  0.00000\n",
       "first_affiliate_tracked                             0.02903\n",
       "signup_app                                          0.00000\n",
       "first_device_type                                   0.00000\n",
       "first_browser                                       0.00000\n",
       "country_destination                                 0.00000\n",
       "first_active                                        0.00000\n",
       "days_from_first_active_until_date_account_created   0.00000\n",
       "days_from_first_active_until_first_active           0.00000\n",
       "year_first_active                                   0.00000\n",
       "month_first_active                                  0.00000\n",
       "day_first_active                                    0.00000\n",
       "day_of_week_first_active                            0.00000\n",
       "day_of_year_first_active_first_active               0.00000\n",
       "year_date_account_created                           0.00000\n",
       "month_date_account_created                          0.00000\n",
       "day_date_account_created                            0.00000\n",
       "day_of_week_date_account_created                    0.00000\n",
       "day_of_year_first_active_date_account_created       0.00000\n",
       "day_of_week_first_active_sin                        0.00000\n",
       "day_of_week_first_active_cos                        0.00000\n",
       "day_of_week_date_account_created_sin                0.00000\n",
       "day_of_week_date_account_created_cos                0.00000\n",
       "month_date_account_created_sin                      0.00000\n",
       "month_date_account_created_cos                      0.00000\n",
       "day_date_account_created_sin                        0.00000\n",
       "day_date_account_created_cos                        0.00000\n",
       "day_of_year_first_active_first_active_sin           0.00000\n",
       "day_of_year_first_active_first_active_cos           0.00000\n",
       "day_of_year_first_active_date_account_created_sin   0.00000\n",
       "day_of_year_first_active_date_account_created_cos   0.00000\n",
       "dtype: float64"
      ]
     },
     "execution_count": 927,
     "metadata": {},
     "output_type": "execute_result"
    }
   ],
   "source": [
    "df6.isnull().sum()/len(df6)"
   ]
  },
  {
   "cell_type": "code",
   "execution_count": 929,
   "id": "0ff9df2f",
   "metadata": {},
   "outputs": [
    {
     "name": "stderr",
     "output_type": "stream",
     "text": [
      "p:\\Python\\GitHub\\airbnb_prediction\\env_airbnb\\lib\\site-packages\\sklearn\\feature_selection\\_univariate_selection.py:112: UserWarning: Features [2] are constant.\n",
      "  warnings.warn(\"Features %s are constant.\" % constant_features_idx, UserWarning)\n"
     ]
    },
    {
     "name": "stdout",
     "output_type": "stream",
     "text": [
      "0.7028098988883302 \n",
      " 0.09090909090909091 \n",
      " 0.00011194408062453753\n"
     ]
    }
   ],
   "source": [
    "\n",
    "selector = SelectKBest(score_func=f_classif, k=10)\n",
    "\n",
    "Xtrain2 = selector.fit_transform( Xtrain, ytrain )\n",
    "Xval2 = selector.transform( Xval )\n",
    "\n",
    "mdl = RandomForestClassifier( n_estimators=100, n_jobs=-1, random_state=42 )\n",
    "mdl.fit(Xtrain2, ytrain)\n",
    "\n",
    "p = mdl.predict( Xval2 )\n",
    "\n",
    "get_metrics( yval, p)"
   ]
  },
  {
   "attachments": {},
   "cell_type": "markdown",
   "id": "e9732242",
   "metadata": {},
   "source": [
    "# 7.0 Machine Learning Model"
   ]
  },
  {
   "cell_type": "code",
   "execution_count": null,
   "id": "f68eee4c",
   "metadata": {},
   "outputs": [],
   "source": [
    "df7 = df6.copy()"
   ]
  },
  {
   "attachments": {},
   "cell_type": "markdown",
   "id": "874f9dec",
   "metadata": {},
   "source": [
    "## 7.1 Baseline Model"
   ]
  },
  {
   "cell_type": "code",
   "execution_count": null,
   "id": "1f8f79ac",
   "metadata": {},
   "outputs": [
    {
     "data": {
      "text/plain": [
       "array([ 0,  1,  2,  3,  4,  5,  6,  7,  8,  9, 10, 11], dtype=int64)"
      ]
     },
     "execution_count": 265,
     "metadata": {},
     "output_type": "execute_result"
    }
   ],
   "source": [
    "country_list = np.sort(y.unique())\n",
    "country_list"
   ]
  },
  {
   "cell_type": "code",
   "execution_count": null,
   "id": "247c66b1",
   "metadata": {},
   "outputs": [
    {
     "data": {
      "text/plain": [
       "0    0.58347\n",
       "1    0.29223\n",
       "2    0.04729\n",
       "3    0.02353\n",
       "4    0.00669\n",
       "5    0.01089\n",
       "6    0.01054\n",
       "7    0.01328\n",
       "8    0.00102\n",
       "9    0.00357\n",
       "10   0.00497\n",
       "11   0.00253\n",
       "Name: country_destination, dtype: float64"
      ]
     },
     "execution_count": 266,
     "metadata": {},
     "output_type": "execute_result"
    }
   ],
   "source": [
    "weights_country = y.value_counts(normalize=True).sort_index()\n",
    "weights_country"
   ]
  },
  {
   "cell_type": "code",
   "execution_count": null,
   "id": "e5f2c1fd",
   "metadata": {},
   "outputs": [],
   "source": [
    "yhat_random = random.choices( population=country_list, weights=weights_country ,k=len(Xtest))"
   ]
  },
  {
   "cell_type": "code",
   "execution_count": null,
   "id": "6bce7cd7",
   "metadata": {},
   "outputs": [
    {
     "name": "stdout",
     "output_type": "stream",
     "text": [
      "0.42774376912986445 \n",
      " 0.08080222308123168 \n",
      " -0.0038391895181926206\n"
     ]
    }
   ],
   "source": [
    "# accuracy\n",
    "\n",
    "acc_nn = accuracy_score(ytest, yhat_random)\n",
    "\n",
    "bacc_nn = balanced_accuracy_score(ytest, yhat_random)\n",
    "\n",
    "kappa_nn = cohen_kappa_score(ytest, yhat_random)\n",
    "\n",
    "print( acc_nn, \"\\n\", bacc_nn, \"\\n\", kappa_nn)\n"
   ]
  },
  {
   "cell_type": "code",
   "execution_count": null,
   "id": "1239d305",
   "metadata": {},
   "outputs": [
    {
     "name": "stdout",
     "output_type": "stream",
     "text": [
      "Confusion matrix, without normalization\n",
      "[[21833 10886  1749   892   243   416   390   527    31   129   181    86]\n",
      " [11003  5369   887   433   115   202   203   272    20    64    94    51]\n",
      " [ 1784   887   140    65    23    32    30    34     1    10    15     7]\n",
      " [  859   446    84    30    15    14    16    20     1     7     9     6]\n",
      " [  254   131    15     7     1     6     2     7     0     1     2     2]\n",
      " [  405   210    30    20     8     5     5     6     0     5     3     0]\n",
      " [  401   191    30    13     9    10     1     9     1     2     6     2]\n",
      " [  524   223    40    24     6     5     9     9     2     1     8     0]\n",
      " [   32    22     3     5     0     0     0     1     0     0     2     0]\n",
      " [  139    70     5     1     1     5     3     1     1     1     1     1]\n",
      " [  200    84    13     6     3     2     1     4     1     1     2     1]\n",
      " [   90    55     4     3     5     1     1     1     1     1     0     0]]\n"
     ]
    },
    {
     "data": {
      "image/png": "[encoded data removed]",
      "text/plain": [
       "<Figure size 640x480 with 2 Axes>"
      ]
     },
     "metadata": {},
     "output_type": "display_data"
    }
   ],
   "source": [
    "cnf_matrix = confusion_matrix(ytest, yhat_random,labels=y.unique())\n",
    "np.set_printoptions(precision=2)\n",
    "\n",
    "# Plot non-normalized confusion matrix\n",
    "plt.figure()\n",
    "plot_confusion_matrix(cnf_matrix, classes=y.unique(),\n",
    "                      title='Confusion matrix, without normalization')"
   ]
  },
  {
   "attachments": {},
   "cell_type": "markdown",
   "id": "c9c9bff9",
   "metadata": {},
   "source": [
    "## 7.2 Xgboost classifier\n"
   ]
  },
  {
   "cell_type": "code",
   "execution_count": null,
   "id": "c3390b91",
   "metadata": {},
   "outputs": [],
   "source": []
  },
  {
   "cell_type": "code",
   "execution_count": null,
   "id": "f2d6c7cd",
   "metadata": {},
   "outputs": [
    {
     "name": "stdout",
     "output_type": "stream",
     "text": [
      "0.8730713973389969 \n",
      " 0.16800850014656502 \n",
      " 0.7646449567232468\n"
     ]
    }
   ],
   "source": [
    "\n",
    "\n",
    "xgb = XGBClassifier(n_estimators=100, random_state=42, max_depth=10)\n",
    "\n",
    "xgb.fit(Xtrain, ytrain)\n",
    "\n",
    "# prediction\n",
    "pred_xgb = xgb.predict( Xtest )\n",
    "\n",
    "get_metrics( ytest, pred_xgb )"
   ]
  },
  {
   "attachments": {},
   "cell_type": "markdown",
   "id": "8dd71299",
   "metadata": {},
   "source": [
    "## 7.3 CatboostClassifier"
   ]
  },
  {
   "cell_type": "code",
   "execution_count": null,
   "id": "a8b7609f",
   "metadata": {},
   "outputs": [
    {
     "data": {
      "text/plain": [
       "<catboost.core.CatBoostClassifier at 0x224e645dbd0>"
      ]
     },
     "execution_count": 272,
     "metadata": {},
     "output_type": "execute_result"
    }
   ],
   "source": [
    "\n",
    "catmodel = CatBoostClassifier(iterations=1000,\n",
    "                           task_type=\"GPU\",\n",
    "                           devices='0:1')\n",
    "catmodel.fit(Xtrain, ytrain, verbose=False)"
   ]
  },
  {
   "cell_type": "code",
   "execution_count": null,
   "id": "890eb76a",
   "metadata": {},
   "outputs": [
    {
     "name": "stdout",
     "output_type": "stream",
     "text": [
      "0.8749141108126679 \n",
      " 0.16707520656004002 \n",
      " 0.7676453626162763\n"
     ]
    }
   ],
   "source": [
    "# prediction\n",
    "pred_catmodel = catmodel.predict( Xtest )\n",
    "\n",
    "get_metrics( ytest, pred_catmodel )"
   ]
  },
  {
   "attachments": {},
   "cell_type": "markdown",
   "id": "3e64cd7c",
   "metadata": {},
   "source": [
    "## 7.4 LightGBMClassifier"
   ]
  },
  {
   "cell_type": "code",
   "execution_count": null,
   "id": "8a423300",
   "metadata": {},
   "outputs": [
    {
     "name": "stderr",
     "output_type": "stream",
     "text": [
      "p:\\Python\\GitHub\\airbnb_prediction\\env_airbnb\\lib\\site-packages\\lightgbm\\sklearn.py:736: UserWarning: 'verbose' argument is deprecated and will be removed in a future release of LightGBM. Pass 'log_evaluation()' callback via 'callbacks' argument instead.\n",
      "  _log_warning(\"'verbose' argument is deprecated and will be removed in a future release of LightGBM. \"\n"
     ]
    },
    {
     "ename": "ValueError",
     "evalue": "DataFrame.dtypes for data must be int, float or bool.\nDid not expect the data types in the following fields: age",
     "output_type": "error",
     "traceback": [
      "\u001b[1;31m---------------------------------------------------------------------------\u001b[0m",
      "\u001b[1;31mValueError\u001b[0m                                Traceback (most recent call last)",
      "Cell \u001b[1;32mIn[274], line 2\u001b[0m\n\u001b[0;32m      1\u001b[0m lgbm \u001b[39m=\u001b[39m LGBMClassifier( n_estimators \u001b[39m=\u001b[39m \u001b[39m50\u001b[39m, random_state\u001b[39m=\u001b[39m\u001b[39m42\u001b[39m)\n\u001b[1;32m----> 2\u001b[0m lgbm\u001b[39m.\u001b[39;49mfit(Xtrain, ytrain, verbose\u001b[39m=\u001b[39;49m\u001b[39mFalse\u001b[39;49;00m)\n",
      "File \u001b[1;32mp:\\Python\\GitHub\\airbnb_prediction\\env_airbnb\\lib\\site-packages\\lightgbm\\sklearn.py:967\u001b[0m, in \u001b[0;36mLGBMClassifier.fit\u001b[1;34m(self, X, y, sample_weight, init_score, eval_set, eval_names, eval_sample_weight, eval_class_weight, eval_init_score, eval_metric, early_stopping_rounds, verbose, feature_name, categorical_feature, callbacks, init_model)\u001b[0m\n\u001b[0;32m    964\u001b[0m         \u001b[39melse\u001b[39;00m:\n\u001b[0;32m    965\u001b[0m             valid_sets[i] \u001b[39m=\u001b[39m (valid_x, \u001b[39mself\u001b[39m\u001b[39m.\u001b[39m_le\u001b[39m.\u001b[39mtransform(valid_y))\n\u001b[1;32m--> 967\u001b[0m \u001b[39msuper\u001b[39;49m()\u001b[39m.\u001b[39;49mfit(X, _y, sample_weight\u001b[39m=\u001b[39;49msample_weight, init_score\u001b[39m=\u001b[39;49minit_score, eval_set\u001b[39m=\u001b[39;49mvalid_sets,\n\u001b[0;32m    968\u001b[0m             eval_names\u001b[39m=\u001b[39;49meval_names, eval_sample_weight\u001b[39m=\u001b[39;49meval_sample_weight,\n\u001b[0;32m    969\u001b[0m             eval_class_weight\u001b[39m=\u001b[39;49meval_class_weight, eval_init_score\u001b[39m=\u001b[39;49meval_init_score,\n\u001b[0;32m    970\u001b[0m             eval_metric\u001b[39m=\u001b[39;49meval_metric, early_stopping_rounds\u001b[39m=\u001b[39;49mearly_stopping_rounds,\n\u001b[0;32m    971\u001b[0m             verbose\u001b[39m=\u001b[39;49mverbose, feature_name\u001b[39m=\u001b[39;49mfeature_name, categorical_feature\u001b[39m=\u001b[39;49mcategorical_feature,\n\u001b[0;32m    972\u001b[0m             callbacks\u001b[39m=\u001b[39;49mcallbacks, init_model\u001b[39m=\u001b[39;49minit_model)\n\u001b[0;32m    973\u001b[0m \u001b[39mreturn\u001b[39;00m \u001b[39mself\u001b[39m\n",
      "File \u001b[1;32mp:\\Python\\GitHub\\airbnb_prediction\\env_airbnb\\lib\\site-packages\\lightgbm\\sklearn.py:748\u001b[0m, in \u001b[0;36mLGBMModel.fit\u001b[1;34m(self, X, y, sample_weight, init_score, group, eval_set, eval_names, eval_sample_weight, eval_class_weight, eval_init_score, eval_group, eval_metric, early_stopping_rounds, verbose, feature_name, categorical_feature, callbacks, init_model)\u001b[0m\n\u001b[0;32m    745\u001b[0m evals_result \u001b[39m=\u001b[39m {}\n\u001b[0;32m    746\u001b[0m callbacks\u001b[39m.\u001b[39mappend(record_evaluation(evals_result))\n\u001b[1;32m--> 748\u001b[0m \u001b[39mself\u001b[39m\u001b[39m.\u001b[39m_Booster \u001b[39m=\u001b[39m train(\n\u001b[0;32m    749\u001b[0m     params\u001b[39m=\u001b[39;49mparams,\n\u001b[0;32m    750\u001b[0m     train_set\u001b[39m=\u001b[39;49mtrain_set,\n\u001b[0;32m    751\u001b[0m     num_boost_round\u001b[39m=\u001b[39;49m\u001b[39mself\u001b[39;49m\u001b[39m.\u001b[39;49mn_estimators,\n\u001b[0;32m    752\u001b[0m     valid_sets\u001b[39m=\u001b[39;49mvalid_sets,\n\u001b[0;32m    753\u001b[0m     valid_names\u001b[39m=\u001b[39;49meval_names,\n\u001b[0;32m    754\u001b[0m     fobj\u001b[39m=\u001b[39;49m\u001b[39mself\u001b[39;49m\u001b[39m.\u001b[39;49m_fobj,\n\u001b[0;32m    755\u001b[0m     feval\u001b[39m=\u001b[39;49meval_metrics_callable,\n\u001b[0;32m    756\u001b[0m     init_model\u001b[39m=\u001b[39;49minit_model,\n\u001b[0;32m    757\u001b[0m     feature_name\u001b[39m=\u001b[39;49mfeature_name,\n\u001b[0;32m    758\u001b[0m     callbacks\u001b[39m=\u001b[39;49mcallbacks\n\u001b[0;32m    759\u001b[0m )\n\u001b[0;32m    761\u001b[0m \u001b[39mif\u001b[39;00m evals_result:\n\u001b[0;32m    762\u001b[0m     \u001b[39mself\u001b[39m\u001b[39m.\u001b[39m_evals_result \u001b[39m=\u001b[39m evals_result\n",
      "File \u001b[1;32mp:\\Python\\GitHub\\airbnb_prediction\\env_airbnb\\lib\\site-packages\\lightgbm\\engine.py:271\u001b[0m, in \u001b[0;36mtrain\u001b[1;34m(params, train_set, num_boost_round, valid_sets, valid_names, fobj, feval, init_model, feature_name, categorical_feature, early_stopping_rounds, evals_result, verbose_eval, learning_rates, keep_training_booster, callbacks)\u001b[0m\n\u001b[0;32m    269\u001b[0m \u001b[39m# construct booster\u001b[39;00m\n\u001b[0;32m    270\u001b[0m \u001b[39mtry\u001b[39;00m:\n\u001b[1;32m--> 271\u001b[0m     booster \u001b[39m=\u001b[39m Booster(params\u001b[39m=\u001b[39;49mparams, train_set\u001b[39m=\u001b[39;49mtrain_set)\n\u001b[0;32m    272\u001b[0m     \u001b[39mif\u001b[39;00m is_valid_contain_train:\n\u001b[0;32m    273\u001b[0m         booster\u001b[39m.\u001b[39mset_train_data_name(train_data_name)\n",
      "File \u001b[1;32mp:\\Python\\GitHub\\airbnb_prediction\\env_airbnb\\lib\\site-packages\\lightgbm\\basic.py:2605\u001b[0m, in \u001b[0;36mBooster.__init__\u001b[1;34m(self, params, train_set, model_file, model_str, silent)\u001b[0m\n\u001b[0;32m   2598\u001b[0m     \u001b[39mself\u001b[39m\u001b[39m.\u001b[39mset_network(\n\u001b[0;32m   2599\u001b[0m         machines\u001b[39m=\u001b[39mmachines,\n\u001b[0;32m   2600\u001b[0m         local_listen_port\u001b[39m=\u001b[39mparams[\u001b[39m\"\u001b[39m\u001b[39mlocal_listen_port\u001b[39m\u001b[39m\"\u001b[39m],\n\u001b[0;32m   2601\u001b[0m         listen_time_out\u001b[39m=\u001b[39mparams\u001b[39m.\u001b[39mget(\u001b[39m\"\u001b[39m\u001b[39mtime_out\u001b[39m\u001b[39m\"\u001b[39m, \u001b[39m120\u001b[39m),\n\u001b[0;32m   2602\u001b[0m         num_machines\u001b[39m=\u001b[39mparams[\u001b[39m\"\u001b[39m\u001b[39mnum_machines\u001b[39m\u001b[39m\"\u001b[39m]\n\u001b[0;32m   2603\u001b[0m     )\n\u001b[0;32m   2604\u001b[0m \u001b[39m# construct booster object\u001b[39;00m\n\u001b[1;32m-> 2605\u001b[0m train_set\u001b[39m.\u001b[39;49mconstruct()\n\u001b[0;32m   2606\u001b[0m \u001b[39m# copy the parameters from train_set\u001b[39;00m\n\u001b[0;32m   2607\u001b[0m params\u001b[39m.\u001b[39mupdate(train_set\u001b[39m.\u001b[39mget_params())\n",
      "File \u001b[1;32mp:\\Python\\GitHub\\airbnb_prediction\\env_airbnb\\lib\\site-packages\\lightgbm\\basic.py:1815\u001b[0m, in \u001b[0;36mDataset.construct\u001b[1;34m(self)\u001b[0m\n\u001b[0;32m   1812\u001b[0m             \u001b[39mself\u001b[39m\u001b[39m.\u001b[39m_set_init_score_by_predictor(\u001b[39mself\u001b[39m\u001b[39m.\u001b[39m_predictor, \u001b[39mself\u001b[39m\u001b[39m.\u001b[39mdata, used_indices)\n\u001b[0;32m   1813\u001b[0m \u001b[39melse\u001b[39;00m:\n\u001b[0;32m   1814\u001b[0m     \u001b[39m# create train\u001b[39;00m\n\u001b[1;32m-> 1815\u001b[0m     \u001b[39mself\u001b[39;49m\u001b[39m.\u001b[39;49m_lazy_init(\u001b[39mself\u001b[39;49m\u001b[39m.\u001b[39;49mdata, label\u001b[39m=\u001b[39;49m\u001b[39mself\u001b[39;49m\u001b[39m.\u001b[39;49mlabel,\n\u001b[0;32m   1816\u001b[0m                     weight\u001b[39m=\u001b[39;49m\u001b[39mself\u001b[39;49m\u001b[39m.\u001b[39;49mweight, group\u001b[39m=\u001b[39;49m\u001b[39mself\u001b[39;49m\u001b[39m.\u001b[39;49mgroup,\n\u001b[0;32m   1817\u001b[0m                     init_score\u001b[39m=\u001b[39;49m\u001b[39mself\u001b[39;49m\u001b[39m.\u001b[39;49minit_score, predictor\u001b[39m=\u001b[39;49m\u001b[39mself\u001b[39;49m\u001b[39m.\u001b[39;49m_predictor,\n\u001b[0;32m   1818\u001b[0m                     silent\u001b[39m=\u001b[39;49m\u001b[39mself\u001b[39;49m\u001b[39m.\u001b[39;49msilent, feature_name\u001b[39m=\u001b[39;49m\u001b[39mself\u001b[39;49m\u001b[39m.\u001b[39;49mfeature_name,\n\u001b[0;32m   1819\u001b[0m                     categorical_feature\u001b[39m=\u001b[39;49m\u001b[39mself\u001b[39;49m\u001b[39m.\u001b[39;49mcategorical_feature, params\u001b[39m=\u001b[39;49m\u001b[39mself\u001b[39;49m\u001b[39m.\u001b[39;49mparams)\n\u001b[0;32m   1820\u001b[0m \u001b[39mif\u001b[39;00m \u001b[39mself\u001b[39m\u001b[39m.\u001b[39mfree_raw_data:\n\u001b[0;32m   1821\u001b[0m     \u001b[39mself\u001b[39m\u001b[39m.\u001b[39mdata \u001b[39m=\u001b[39m \u001b[39mNone\u001b[39;00m\n",
      "File \u001b[1;32mp:\\Python\\GitHub\\airbnb_prediction\\env_airbnb\\lib\\site-packages\\lightgbm\\basic.py:1474\u001b[0m, in \u001b[0;36mDataset._lazy_init\u001b[1;34m(self, data, label, reference, weight, group, init_score, predictor, silent, feature_name, categorical_feature, params)\u001b[0m\n\u001b[0;32m   1472\u001b[0m     \u001b[39mself\u001b[39m\u001b[39m.\u001b[39mpandas_categorical \u001b[39m=\u001b[39m reference\u001b[39m.\u001b[39mpandas_categorical\n\u001b[0;32m   1473\u001b[0m     categorical_feature \u001b[39m=\u001b[39m reference\u001b[39m.\u001b[39mcategorical_feature\n\u001b[1;32m-> 1474\u001b[0m data, feature_name, categorical_feature, \u001b[39mself\u001b[39m\u001b[39m.\u001b[39mpandas_categorical \u001b[39m=\u001b[39m _data_from_pandas(data,\n\u001b[0;32m   1475\u001b[0m                                                                                      feature_name,\n\u001b[0;32m   1476\u001b[0m                                                                                      categorical_feature,\n\u001b[0;32m   1477\u001b[0m                                                                                      \u001b[39mself\u001b[39;49m\u001b[39m.\u001b[39;49mpandas_categorical)\n\u001b[0;32m   1478\u001b[0m label \u001b[39m=\u001b[39m _label_from_pandas(label)\n\u001b[0;32m   1480\u001b[0m \u001b[39m# process for args\u001b[39;00m\n",
      "File \u001b[1;32mp:\\Python\\GitHub\\airbnb_prediction\\env_airbnb\\lib\\site-packages\\lightgbm\\basic.py:594\u001b[0m, in \u001b[0;36m_data_from_pandas\u001b[1;34m(data, feature_name, categorical_feature, pandas_categorical)\u001b[0m\n\u001b[0;32m    592\u001b[0m \u001b[39mif\u001b[39;00m bad_indices:\n\u001b[0;32m    593\u001b[0m     bad_index_cols_str \u001b[39m=\u001b[39m \u001b[39m'\u001b[39m\u001b[39m, \u001b[39m\u001b[39m'\u001b[39m\u001b[39m.\u001b[39mjoin(data\u001b[39m.\u001b[39mcolumns[bad_indices])\n\u001b[1;32m--> 594\u001b[0m     \u001b[39mraise\u001b[39;00m \u001b[39mValueError\u001b[39;00m(\u001b[39m\"\u001b[39m\u001b[39mDataFrame.dtypes for data must be int, float or bool.\u001b[39m\u001b[39m\\n\u001b[39;00m\u001b[39m\"\u001b[39m\n\u001b[0;32m    595\u001b[0m                      \u001b[39m\"\u001b[39m\u001b[39mDid not expect the data types in the following fields: \u001b[39m\u001b[39m\"\u001b[39m\n\u001b[0;32m    596\u001b[0m                      \u001b[39mf\u001b[39m\u001b[39m\"\u001b[39m\u001b[39m{\u001b[39;00mbad_index_cols_str\u001b[39m}\u001b[39;00m\u001b[39m\"\u001b[39m)\n\u001b[0;32m    597\u001b[0m data \u001b[39m=\u001b[39m data\u001b[39m.\u001b[39mvalues\n\u001b[0;32m    598\u001b[0m \u001b[39mif\u001b[39;00m data\u001b[39m.\u001b[39mdtype \u001b[39m!=\u001b[39m np\u001b[39m.\u001b[39mfloat32 \u001b[39mand\u001b[39;00m data\u001b[39m.\u001b[39mdtype \u001b[39m!=\u001b[39m np\u001b[39m.\u001b[39mfloat64:\n",
      "\u001b[1;31mValueError\u001b[0m: DataFrame.dtypes for data must be int, float or bool.\nDid not expect the data types in the following fields: age"
     ]
    },
    {
     "ename": "",
     "evalue": "",
     "output_type": "error",
     "traceback": [
      "\u001b[1;31mThe Kernel crashed while executing code in the the current cell or a previous cell. Please review the code in the cell(s) to identify a possible cause of the failure. Click <a href='https://aka.ms/vscodeJupyterKernelCrash'>here</a> for more info. View Jupyter <a href='command:jupyter.viewOutput'>log</a> for further details."
     ]
    }
   ],
   "source": [
    "\n",
    "\n",
    "lgbm = LGBMClassifier( n_estimators = 50, random_state=42)\n",
    "lgbm.fit(Xtrain, ytrain, verbose=False)"
   ]
  },
  {
   "cell_type": "code",
   "execution_count": null,
   "id": "079f435b",
   "metadata": {},
   "outputs": [
    {
     "ename": "NotFittedError",
     "evalue": "Estimator not fitted, call fit before exploiting the model.",
     "output_type": "error",
     "traceback": [
      "\u001b[1;31m---------------------------------------------------------------------------\u001b[0m",
      "\u001b[1;31mNotFittedError\u001b[0m                            Traceback (most recent call last)",
      "Cell \u001b[1;32mIn[253], line 2\u001b[0m\n\u001b[0;32m      1\u001b[0m \u001b[39m# prediction\u001b[39;00m\n\u001b[1;32m----> 2\u001b[0m pred_lgbm \u001b[39m=\u001b[39m lgbm\u001b[39m.\u001b[39;49mpredict( Xtest )\n\u001b[0;32m      4\u001b[0m get_metrics( ytest, pred_lgbm )\n",
      "File \u001b[1;32mp:\\Python\\GitHub\\airbnb_prediction\\env_airbnb\\lib\\site-packages\\lightgbm\\sklearn.py:984\u001b[0m, in \u001b[0;36mLGBMClassifier.predict\u001b[1;34m(self, X, raw_score, start_iteration, num_iteration, pred_leaf, pred_contrib, **kwargs)\u001b[0m\n\u001b[0;32m    981\u001b[0m \u001b[39mdef\u001b[39;00m \u001b[39mpredict\u001b[39m(\u001b[39mself\u001b[39m, X, raw_score\u001b[39m=\u001b[39m\u001b[39mFalse\u001b[39;00m, start_iteration\u001b[39m=\u001b[39m\u001b[39m0\u001b[39m, num_iteration\u001b[39m=\u001b[39m\u001b[39mNone\u001b[39;00m,\n\u001b[0;32m    982\u001b[0m             pred_leaf\u001b[39m=\u001b[39m\u001b[39mFalse\u001b[39;00m, pred_contrib\u001b[39m=\u001b[39m\u001b[39mFalse\u001b[39;00m, \u001b[39m*\u001b[39m\u001b[39m*\u001b[39mkwargs):\n\u001b[0;32m    983\u001b[0m \u001b[39m    \u001b[39m\u001b[39m\"\"\"Docstring is inherited from the LGBMModel.\"\"\"\u001b[39;00m\n\u001b[1;32m--> 984\u001b[0m     result \u001b[39m=\u001b[39m \u001b[39mself\u001b[39m\u001b[39m.\u001b[39mpredict_proba(X, raw_score, start_iteration, num_iteration,\n\u001b[0;32m    985\u001b[0m                                 pred_leaf, pred_contrib, \u001b[39m*\u001b[39m\u001b[39m*\u001b[39mkwargs)\n\u001b[0;32m    986\u001b[0m     \u001b[39mif\u001b[39;00m \u001b[39mcallable\u001b[39m(\u001b[39mself\u001b[39m\u001b[39m.\u001b[39m_objective) \u001b[39mor\u001b[39;00m raw_score \u001b[39mor\u001b[39;00m pred_leaf \u001b[39mor\u001b[39;00m pred_contrib:\n\u001b[0;32m    987\u001b[0m         \u001b[39mreturn\u001b[39;00m result\n",
      "File \u001b[1;32mp:\\Python\\GitHub\\airbnb_prediction\\env_airbnb\\lib\\site-packages\\lightgbm\\sklearn.py:997\u001b[0m, in \u001b[0;36mLGBMClassifier.predict_proba\u001b[1;34m(self, X, raw_score, start_iteration, num_iteration, pred_leaf, pred_contrib, **kwargs)\u001b[0m\n\u001b[0;32m    994\u001b[0m \u001b[39mdef\u001b[39;00m \u001b[39mpredict_proba\u001b[39m(\u001b[39mself\u001b[39m, X, raw_score\u001b[39m=\u001b[39m\u001b[39mFalse\u001b[39;00m, start_iteration\u001b[39m=\u001b[39m\u001b[39m0\u001b[39m, num_iteration\u001b[39m=\u001b[39m\u001b[39mNone\u001b[39;00m,\n\u001b[0;32m    995\u001b[0m                   pred_leaf\u001b[39m=\u001b[39m\u001b[39mFalse\u001b[39;00m, pred_contrib\u001b[39m=\u001b[39m\u001b[39mFalse\u001b[39;00m, \u001b[39m*\u001b[39m\u001b[39m*\u001b[39mkwargs):\n\u001b[0;32m    996\u001b[0m \u001b[39m    \u001b[39m\u001b[39m\"\"\"Docstring is set after definition, using a template.\"\"\"\u001b[39;00m\n\u001b[1;32m--> 997\u001b[0m     result \u001b[39m=\u001b[39m \u001b[39msuper\u001b[39m()\u001b[39m.\u001b[39mpredict(X, raw_score, start_iteration, num_iteration, pred_leaf, pred_contrib, \u001b[39m*\u001b[39m\u001b[39m*\u001b[39mkwargs)\n\u001b[0;32m    998\u001b[0m     \u001b[39mif\u001b[39;00m \u001b[39mcallable\u001b[39m(\u001b[39mself\u001b[39m\u001b[39m.\u001b[39m_objective) \u001b[39mand\u001b[39;00m \u001b[39mnot\u001b[39;00m (raw_score \u001b[39mor\u001b[39;00m pred_leaf \u001b[39mor\u001b[39;00m pred_contrib):\n\u001b[0;32m    999\u001b[0m         _log_warning(\u001b[39m\"\u001b[39m\u001b[39mCannot compute class probabilities or labels \u001b[39m\u001b[39m\"\u001b[39m\n\u001b[0;32m   1000\u001b[0m                      \u001b[39m\"\u001b[39m\u001b[39mdue to the usage of customized objective function.\u001b[39m\u001b[39m\\n\u001b[39;00m\u001b[39m\"\u001b[39m\n\u001b[0;32m   1001\u001b[0m                      \u001b[39m\"\u001b[39m\u001b[39mReturning raw scores instead.\u001b[39m\u001b[39m\"\u001b[39m)\n",
      "File \u001b[1;32mp:\\Python\\GitHub\\airbnb_prediction\\env_airbnb\\lib\\site-packages\\lightgbm\\sklearn.py:795\u001b[0m, in \u001b[0;36mLGBMModel.predict\u001b[1;34m(self, X, raw_score, start_iteration, num_iteration, pred_leaf, pred_contrib, **kwargs)\u001b[0m\n\u001b[0;32m    793\u001b[0m \u001b[39m\u001b[39m\u001b[39m\"\"\"Docstring is set after definition, using a template.\"\"\"\u001b[39;00m\n\u001b[0;32m    794\u001b[0m \u001b[39mif\u001b[39;00m \u001b[39mnot\u001b[39;00m \u001b[39mself\u001b[39m\u001b[39m.\u001b[39m__sklearn_is_fitted__():\n\u001b[1;32m--> 795\u001b[0m     \u001b[39mraise\u001b[39;00m LGBMNotFittedError(\u001b[39m\"\u001b[39m\u001b[39mEstimator not fitted, call fit before exploiting the model.\u001b[39m\u001b[39m\"\u001b[39m)\n\u001b[0;32m    796\u001b[0m \u001b[39mif\u001b[39;00m \u001b[39mnot\u001b[39;00m \u001b[39misinstance\u001b[39m(X, (pd_DataFrame, dt_DataTable)):\n\u001b[0;32m    797\u001b[0m     X \u001b[39m=\u001b[39m _LGBMCheckArray(X, accept_sparse\u001b[39m=\u001b[39m\u001b[39mTrue\u001b[39;00m, force_all_finite\u001b[39m=\u001b[39m\u001b[39mFalse\u001b[39;00m)\n",
      "\u001b[1;31mNotFittedError\u001b[0m: Estimator not fitted, call fit before exploiting the model."
     ]
    }
   ],
   "source": [
    "# prediction\n",
    "pred_lgbm = lgbm.predict( Xtest )\n",
    "\n",
    "get_metrics( ytest, pred_lgbm )"
   ]
  },
  {
   "attachments": {},
   "cell_type": "markdown",
   "id": "ac8be24e",
   "metadata": {},
   "source": [
    "## 7.5 Random Forest Classifier"
   ]
  },
  {
   "cell_type": "code",
   "execution_count": null,
   "id": "07b6e971",
   "metadata": {},
   "outputs": [
    {
     "data": {
      "text/html": [
       "<style>#sk-container-id-4 {color: black;background-color: white;}#sk-container-id-4 pre{padding: 0;}#sk-container-id-4 div.sk-toggleable {background-color: white;}#sk-container-id-4 label.sk-toggleable__label {cursor: pointer;display: block;width: 100%;margin-bottom: 0;padding: 0.3em;box-sizing: border-box;text-align: center;}#sk-container-id-4 label.sk-toggleable__label-arrow:before {content: \"▸\";float: left;margin-right: 0.25em;color: #696969;}#sk-container-id-4 label.sk-toggleable__label-arrow:hover:before {color: black;}#sk-container-id-4 div.sk-estimator:hover label.sk-toggleable__label-arrow:before {color: black;}#sk-container-id-4 div.sk-toggleable__content {max-height: 0;max-width: 0;overflow: hidden;text-align: left;background-color: #f0f8ff;}#sk-container-id-4 div.sk-toggleable__content pre {margin: 0.2em;color: black;border-radius: 0.25em;background-color: #f0f8ff;}#sk-container-id-4 input.sk-toggleable__control:checked~div.sk-toggleable__content {max-height: 200px;max-width: 100%;overflow: auto;}#sk-container-id-4 input.sk-toggleable__control:checked~label.sk-toggleable__label-arrow:before {content: \"▾\";}#sk-container-id-4 div.sk-estimator input.sk-toggleable__control:checked~label.sk-toggleable__label {background-color: #d4ebff;}#sk-container-id-4 div.sk-label input.sk-toggleable__control:checked~label.sk-toggleable__label {background-color: #d4ebff;}#sk-container-id-4 input.sk-hidden--visually {border: 0;clip: rect(1px 1px 1px 1px);clip: rect(1px, 1px, 1px, 1px);height: 1px;margin: -1px;overflow: hidden;padding: 0;position: absolute;width: 1px;}#sk-container-id-4 div.sk-estimator {font-family: monospace;background-color: #f0f8ff;border: 1px dotted black;border-radius: 0.25em;box-sizing: border-box;margin-bottom: 0.5em;}#sk-container-id-4 div.sk-estimator:hover {background-color: #d4ebff;}#sk-container-id-4 div.sk-parallel-item::after {content: \"\";width: 100%;border-bottom: 1px solid gray;flex-grow: 1;}#sk-container-id-4 div.sk-label:hover label.sk-toggleable__label {background-color: #d4ebff;}#sk-container-id-4 div.sk-serial::before {content: \"\";position: absolute;border-left: 1px solid gray;box-sizing: border-box;top: 0;bottom: 0;left: 50%;z-index: 0;}#sk-container-id-4 div.sk-serial {display: flex;flex-direction: column;align-items: center;background-color: white;padding-right: 0.2em;padding-left: 0.2em;position: relative;}#sk-container-id-4 div.sk-item {position: relative;z-index: 1;}#sk-container-id-4 div.sk-parallel {display: flex;align-items: stretch;justify-content: center;background-color: white;position: relative;}#sk-container-id-4 div.sk-item::before, #sk-container-id-4 div.sk-parallel-item::before {content: \"\";position: absolute;border-left: 1px solid gray;box-sizing: border-box;top: 0;bottom: 0;left: 50%;z-index: -1;}#sk-container-id-4 div.sk-parallel-item {display: flex;flex-direction: column;z-index: 1;position: relative;background-color: white;}#sk-container-id-4 div.sk-parallel-item:first-child::after {align-self: flex-end;width: 50%;}#sk-container-id-4 div.sk-parallel-item:last-child::after {align-self: flex-start;width: 50%;}#sk-container-id-4 div.sk-parallel-item:only-child::after {width: 0;}#sk-container-id-4 div.sk-dashed-wrapped {border: 1px dashed gray;margin: 0 0.4em 0.5em 0.4em;box-sizing: border-box;padding-bottom: 0.4em;background-color: white;}#sk-container-id-4 div.sk-label label {font-family: monospace;font-weight: bold;display: inline-block;line-height: 1.2em;}#sk-container-id-4 div.sk-label-container {text-align: center;}#sk-container-id-4 div.sk-container {/* jupyter's `normalize.less` sets `[hidden] { display: none; }` but bootstrap.min.css set `[hidden] { display: none !important; }` so we also need the `!important` here to be able to override the default hidden behavior on the sphinx rendered scikit-learn.org. See: https://github.com/scikit-learn/scikit-learn/issues/21755 */display: inline-block !important;position: relative;}#sk-container-id-4 div.sk-text-repr-fallback {display: none;}</style><div id=\"sk-container-id-4\" class=\"sk-top-container\"><div class=\"sk-text-repr-fallback\"><pre>RandomForestClassifier(n_estimators=200, random_state=42)</pre><b>In a Jupyter environment, please rerun this cell to show the HTML representation or trust the notebook. <br />On GitHub, the HTML representation is unable to render, please try loading this page with nbviewer.org.</b></div><div class=\"sk-container\" hidden><div class=\"sk-item\"><div class=\"sk-estimator sk-toggleable\"><input class=\"sk-toggleable__control sk-hidden--visually\" id=\"sk-estimator-id-4\" type=\"checkbox\" checked><label for=\"sk-estimator-id-4\" class=\"sk-toggleable__label sk-toggleable__label-arrow\">RandomForestClassifier</label><div class=\"sk-toggleable__content\"><pre>RandomForestClassifier(n_estimators=200, random_state=42)</pre></div></div></div></div></div>"
      ],
      "text/plain": [
       "RandomForestClassifier(n_estimators=200, random_state=42)"
      ]
     },
     "execution_count": 148,
     "metadata": {},
     "output_type": "execute_result"
    }
   ],
   "source": [
    "rf = RandomForestClassifier( n_estimators = 200, random_state=42)\n",
    "rf.fit(Xtrain, ytrain)"
   ]
  },
  {
   "cell_type": "code",
   "execution_count": null,
   "id": "52111f4c",
   "metadata": {},
   "outputs": [
    {
     "name": "stdout",
     "output_type": "stream",
     "text": [
      "0.8649643937176861 \n",
      " 0.16661179355616076 \n",
      " 0.7512357566843145\n"
     ]
    }
   ],
   "source": [
    "# prediction\n",
    "pred_rf = rf.predict( Xtest )\n",
    "\n",
    "get_metrics( ytest, pred_rf )"
   ]
  },
  {
   "cell_type": "code",
   "execution_count": null,
   "id": "dd797216",
   "metadata": {},
   "outputs": [],
   "source": []
  },
  {
   "attachments": {},
   "cell_type": "markdown",
   "id": "31436483",
   "metadata": {},
   "source": [
    "## 8.0 Hyperparameter Tuning"
   ]
  },
  {
   "cell_type": "code",
   "execution_count": null,
   "id": "e61dd3d8",
   "metadata": {},
   "outputs": [
    {
     "name": "stdout",
     "output_type": "stream",
     "text": [
      "\u001b[1;31mSignature:\u001b[0m\n",
      "\u001b[0mdummy_minimize\u001b[0m\u001b[1;33m(\u001b[0m\u001b[1;33m\n",
      "\u001b[0m    \u001b[0mfunc\u001b[0m\u001b[1;33m,\u001b[0m\u001b[1;33m\n",
      "\u001b[0m    \u001b[0mdimensions\u001b[0m\u001b[1;33m,\u001b[0m\u001b[1;33m\n",
      "\u001b[0m    \u001b[0mn_calls\u001b[0m\u001b[1;33m=\u001b[0m\u001b[1;36m100\u001b[0m\u001b[1;33m,\u001b[0m\u001b[1;33m\n",
      "\u001b[0m    \u001b[0minitial_point_generator\u001b[0m\u001b[1;33m=\u001b[0m\u001b[1;34m'random'\u001b[0m\u001b[1;33m,\u001b[0m\u001b[1;33m\n",
      "\u001b[0m    \u001b[0mx0\u001b[0m\u001b[1;33m=\u001b[0m\u001b[1;32mNone\u001b[0m\u001b[1;33m,\u001b[0m\u001b[1;33m\n",
      "\u001b[0m    \u001b[0my0\u001b[0m\u001b[1;33m=\u001b[0m\u001b[1;32mNone\u001b[0m\u001b[1;33m,\u001b[0m\u001b[1;33m\n",
      "\u001b[0m    \u001b[0mrandom_state\u001b[0m\u001b[1;33m=\u001b[0m\u001b[1;32mNone\u001b[0m\u001b[1;33m,\u001b[0m\u001b[1;33m\n",
      "\u001b[0m    \u001b[0mverbose\u001b[0m\u001b[1;33m=\u001b[0m\u001b[1;32mFalse\u001b[0m\u001b[1;33m,\u001b[0m\u001b[1;33m\n",
      "\u001b[0m    \u001b[0mcallback\u001b[0m\u001b[1;33m=\u001b[0m\u001b[1;32mNone\u001b[0m\u001b[1;33m,\u001b[0m\u001b[1;33m\n",
      "\u001b[0m    \u001b[0mmodel_queue_size\u001b[0m\u001b[1;33m=\u001b[0m\u001b[1;32mNone\u001b[0m\u001b[1;33m,\u001b[0m\u001b[1;33m\n",
      "\u001b[0m    \u001b[0minit_point_gen_kwargs\u001b[0m\u001b[1;33m=\u001b[0m\u001b[1;32mNone\u001b[0m\u001b[1;33m,\u001b[0m\u001b[1;33m\n",
      "\u001b[0m\u001b[1;33m)\u001b[0m\u001b[1;33m\u001b[0m\u001b[1;33m\u001b[0m\u001b[0m\n",
      "\u001b[1;31mDocstring:\u001b[0m\n",
      "Random search by uniform sampling within the given bounds.\n",
      "\n",
      "Parameters\n",
      "----------\n",
      "func : callable\n",
      "    Function to minimize. Should take a single list of parameters\n",
      "    and return the objective value.\n",
      "\n",
      "    If you have a search-space where all dimensions have names,\n",
      "    then you can use :func:`skopt.utils.use_named_args` as a decorator\n",
      "    on your objective function, in order to call it directly\n",
      "    with the named arguments. See `use_named_args` for an example.\n",
      "\n",
      "dimensions : list, shape (n_dims,)\n",
      "    List of search space dimensions.\n",
      "    Each search dimension can be defined either as\n",
      "\n",
      "    - a `(lower_bound, upper_bound)` tuple (for `Real` or `Integer`\n",
      "      dimensions),\n",
      "    - a `(lower_bound, upper_bound, prior)` tuple (for `Real`\n",
      "      dimensions),\n",
      "    - as a list of categories (for `Categorical` dimensions), or\n",
      "    - an instance of a `Dimension` object (`Real`, `Integer` or\n",
      "      `Categorical`).\n",
      "\n",
      "n_calls : int, default: 100\n",
      "    Number of calls to `func` to find the minimum.\n",
      "\n",
      "initial_point_generator : str, InitialPointGenerator instance,             default: `\"random\"`\n",
      "    Sets a initial points generator. Can be either\n",
      "\n",
      "    - `\"random\"` for uniform random numbers,\n",
      "    - `\"sobol\"` for a Sobol' sequence,\n",
      "    - `\"halton\"` for a Halton sequence,\n",
      "    - `\"hammersly\"` for a Hammersly sequence,\n",
      "    - `\"lhs\"` for a latin hypercube sequence,\n",
      "    - `\"grid\"` for a uniform grid sequence\n",
      "\n",
      "x0 : list, list of lists or `None`\n",
      "    Initial input points.\n",
      "\n",
      "    - If it is a list of lists, use it as a list of input points.\n",
      "    - If it is a list, use it as a single initial input point.\n",
      "    - If it is `None`, no initial input points are used.\n",
      "\n",
      "y0 : list, scalar or `None`\n",
      "    Evaluation of initial input points.\n",
      "\n",
      "    - If it is a list, then it corresponds to evaluations of the function\n",
      "      at each element of `x0` : the i-th element of `y0` corresponds\n",
      "      to the function evaluated at the i-th element of `x0`.\n",
      "    - If it is a scalar, then it corresponds to the evaluation of the\n",
      "      function at `x0`.\n",
      "    - If it is None and `x0` is provided, then the function is evaluated\n",
      "      at each element of `x0`.\n",
      "\n",
      "random_state : int, RandomState instance, or None (default)\n",
      "    Set random state to something other than None for reproducible\n",
      "    results.\n",
      "\n",
      "verbose : boolean, default: False\n",
      "    Control the verbosity. It is advised to set the verbosity to True\n",
      "    for long optimization runs.\n",
      "\n",
      "callback : callable, list of callables, optional\n",
      "    If callable then `callback(res)` is called after each call to `func`.\n",
      "    If list of callables, then each callable in the list is called.\n",
      "\n",
      "model_queue_size : int or None, default: None\n",
      "    Keeps list of models only as long as the argument given. In the\n",
      "    case of None, the list has no capped length.\n",
      "\n",
      "Returns\n",
      "-------\n",
      "res : `OptimizeResult`, scipy object\n",
      "    The optimization result returned as a OptimizeResult object.\n",
      "    Important attributes are:\n",
      "\n",
      "    - `x` [list]: location of the minimum.\n",
      "    - `fun` [float]: function value at the minimum.\n",
      "    - `x_iters` [list of lists]: location of function evaluation for each\n",
      "      iteration.\n",
      "    - `func_vals` [array]: function value for each iteration.\n",
      "    - `space` [Space]: the optimisation space.\n",
      "    - `specs` [dict]: the call specifications.\n",
      "    - `rng` [RandomState instance]: State of the random state\n",
      "      at the end of minimization.\n",
      "\n",
      "    For more details related to the OptimizeResult object, refer\n",
      "    http://docs.scipy.org/doc/scipy/reference/generated/scipy.optimize.OptimizeResult.html\n",
      "\n",
      ".. seealso:: functions :class:`skopt.gp_minimize`,\n",
      "    :class:`skopt.forest_minimize`, :class:`skopt.gbrt_minimize`\n",
      "\u001b[1;31mFile:\u001b[0m      p:\\python\\github\\airbnb_prediction\\env_airbnb\\lib\\site-packages\\skopt\\optimizer\\dummy.py\n",
      "\u001b[1;31mType:\u001b[0m      function"
     ]
    }
   ],
   "source": [
    "from skopt import dummy_minimize\n",
    "?dummy_minimize"
   ]
  },
  {
   "cell_type": "code",
   "execution_count": null,
   "id": "3da16617",
   "metadata": {},
   "outputs": [
    {
     "name": "stdout",
     "output_type": "stream",
     "text": [
      "Iteration No: 1 started. Evaluating function at random point.\n",
      "[0.09871192514273254, 74, 10, 0.3372159440002478, 0.23208030173540176] \n",
      "\n",
      "Iteration No: 1 ended. Evaluation done at random point.\n",
      "Time taken: 19.5620\n",
      "Function value obtained: -0.7470\n",
      "Current minimum: -0.7470\n",
      "Iteration No: 2 started. Evaluating function at random point.\n",
      "[0.001529949829431263, 78, 72, 0.3782826906908954, 0.457090726807603] \n",
      "\n",
      "Iteration No: 2 ended. Evaluation done at random point.\n",
      "Time taken: 14.7770\n",
      "Function value obtained: -0.8525\n",
      "Current minimum: -0.8525\n",
      "Iteration No: 3 started. Evaluating function at random point.\n",
      "[0.01195730942971637, 128, 19, 0.5483207515942279, 0.49910760440160107] \n",
      "\n",
      "Iteration No: 3 ended. Evaluation done at random point.\n",
      "Time taken: 20.9980\n",
      "Function value obtained: -0.8492\n",
      "Current minimum: -0.8525\n",
      "Iteration No: 4 started. Evaluating function at random point.\n",
      "[0.0028784217488024557, 16, 51, 0.9182639233502714, 0.5114843271882895] \n",
      "\n",
      "Iteration No: 4 ended. Evaluation done at random point.\n",
      "Time taken: 9.7820\n",
      "Function value obtained: -0.8536\n",
      "Current minimum: -0.8536\n",
      "Iteration No: 5 started. Evaluating function at random point.\n",
      "[0.007267702383040958, 96, 97, 0.7894697745197069, 0.7443734643715278] \n",
      "\n",
      "Iteration No: 5 ended. Evaluation done at random point.\n",
      "Time taken: 24.5930\n",
      "Function value obtained: -0.8512\n",
      "Current minimum: -0.8536\n",
      "Iteration No: 6 started. Evaluating function at random point.\n",
      "[0.04031948793713315, 63, 23, 0.5422449214947946, 0.8785182267810852] \n",
      "\n",
      "Iteration No: 6 ended. Evaluation done at random point.\n",
      "Time taken: 20.0520\n",
      "Function value obtained: -0.8481\n",
      "Current minimum: -0.8536\n",
      "Iteration No: 7 started. Evaluating function at random point.\n",
      "[0.045529597892867466, 90, 14, 0.30939747550591, 0.15331888117140713] \n",
      "\n",
      "Iteration No: 7 ended. Evaluation done at random point.\n",
      "Time taken: 13.8400\n",
      "Function value obtained: -0.8423\n",
      "Current minimum: -0.8536\n",
      "Iteration No: 8 started. Evaluating function at random point.\n",
      "[0.021930881089764206, 73, 4, 0.6880713925510277, 0.47060909107214777] \n",
      "\n",
      "Iteration No: 8 ended. Evaluation done at random point.\n",
      "Time taken: 13.0840\n",
      "Function value obtained: -0.8485\n",
      "Current minimum: -0.8536\n",
      "Iteration No: 9 started. Evaluating function at random point.\n",
      "[0.002483715204721354, 26, 44, 0.7021758812975045, 0.8511631047076357] \n",
      "\n",
      "Iteration No: 9 ended. Evaluation done at random point.\n",
      "Time taken: 11.7180\n",
      "Function value obtained: -0.8529\n",
      "Current minimum: -0.8536\n",
      "Iteration No: 10 started. Evaluating function at random point.\n",
      "[0.0010878688833867167, 43, 83, 0.98941803446117, 0.7733490889418555] \n",
      "\n",
      "Iteration No: 10 ended. Evaluation done at random point.\n",
      "Time taken: 16.3130\n",
      "Function value obtained: -0.8508\n",
      "Current minimum: -0.8536\n",
      "Iteration No: 11 started. Evaluating function at random point.\n",
      "[0.003638211850540798, 89, 8, 0.14806470624875995, 0.5031041735583147] \n",
      "\n",
      "Iteration No: 11 ended. Evaluation done at random point.\n",
      "Time taken: 14.1550\n",
      "Function value obtained: -0.8433\n",
      "Current minimum: -0.8536\n",
      "Iteration No: 12 started. Evaluating function at random point.\n",
      "[0.06564339077069616, 105, 24, 0.163515944581681, 0.572319439183401] \n",
      "\n",
      "Iteration No: 12 ended. Evaluation done at random point.\n",
      "Time taken: 14.2320\n",
      "Function value obtained: -0.8313\n",
      "Current minimum: -0.8536\n",
      "Iteration No: 13 started. Evaluating function at random point.\n",
      "[0.0014697585967435188, 40, 9, 0.9149259627034465, 0.36903710098874454] \n",
      "\n",
      "Iteration No: 13 ended. Evaluation done at random point.\n",
      "Time taken: 11.3060\n",
      "Function value obtained: -0.8514\n",
      "Current minimum: -0.8536\n",
      "Iteration No: 14 started. Evaluating function at random point.\n",
      "[0.014749532034944692, 89, 26, 0.633241401906253, 0.9608820910034701] \n",
      "\n",
      "Iteration No: 14 ended. Evaluation done at random point.\n",
      "Time taken: 18.2545\n",
      "Function value obtained: -0.8490\n",
      "Current minimum: -0.8536\n",
      "Iteration No: 15 started. Evaluating function at random point.\n",
      "[0.0033262735259356143, 34, 89, 0.5567760660749166, 0.9549443246793757] \n",
      "\n",
      "Iteration No: 15 ended. Evaluation done at random point.\n",
      "Time taken: 19.1580\n",
      "Function value obtained: -0.8537\n",
      "Current minimum: -0.8537\n",
      "Iteration No: 16 started. Evaluating function at random point.\n",
      "[0.009685436253688836, 2, 78, 0.09307844214592059, 0.225969507272543] \n",
      "\n",
      "Iteration No: 16 ended. Evaluation done at random point.\n",
      "Time taken: 3.8775\n",
      "Function value obtained: -0.8237\n",
      "Current minimum: -0.8537\n",
      "Iteration No: 17 started. Evaluating function at random point.\n",
      "[0.03844210597293627, 93, 22, 0.8889692020284521, 0.5867093706408683] \n",
      "\n",
      "Iteration No: 17 ended. Evaluation done at random point.\n",
      "Time taken: 25.7701\n",
      "Function value obtained: -0.8484\n",
      "Current minimum: -0.8537\n",
      "Iteration No: 18 started. Evaluating function at random point.\n",
      "[0.00786973960931508, 45, 21, 0.40870512409353993, 0.5845822248519866] \n",
      "\n",
      "Iteration No: 18 ended. Evaluation done at random point.\n",
      "Time taken: 14.1170\n",
      "Function value obtained: -0.8518\n",
      "Current minimum: -0.8537\n",
      "Iteration No: 19 started. Evaluating function at random point.\n",
      "[0.020164978538544195, 59, 83, 0.6559446598566927, 0.2136833965403995] \n",
      "\n",
      "Iteration No: 19 ended. Evaluation done at random point.\n",
      "Time taken: 12.8384\n",
      "Function value obtained: -0.8508\n",
      "Current minimum: -0.8537\n",
      "Iteration No: 20 started. Evaluating function at random point.\n",
      "[0.024010940718920456, 9, 25, 0.3814534248789504, 0.3429351025885235] \n",
      "\n",
      "Iteration No: 20 ended. Evaluation done at random point.\n",
      "Time taken: 8.3401\n",
      "Function value obtained: -0.8573\n",
      "Current minimum: -0.8573\n",
      "Iteration No: 21 started. Evaluating function at random point.\n",
      "[0.061911658253265375, 96, 61, 0.9665980447909663, 0.6970973480366033] \n",
      "\n",
      "Iteration No: 21 ended. Evaluation done at random point.\n",
      "Time taken: 24.9725\n",
      "Function value obtained: -0.8464\n",
      "Current minimum: -0.8573\n",
      "Iteration No: 22 started. Evaluating function at random point.\n",
      "[0.01751424579956557, 110, 93, 0.9520147957717178, 0.5049209201319466] \n",
      "\n",
      "Iteration No: 22 ended. Evaluation done at random point.\n",
      "Time taken: 23.6570\n",
      "Function value obtained: -0.8518\n",
      "Current minimum: -0.8573\n",
      "Iteration No: 23 started. Evaluating function at random point.\n",
      "[0.014347598955915168, 84, 87, 0.27517563123087635, 0.9130415685060285] \n",
      "\n",
      "Iteration No: 23 ended. Evaluation done at random point.\n",
      "Time taken: 17.3920\n",
      "Function value obtained: -0.8501\n",
      "Current minimum: -0.8573\n",
      "Iteration No: 24 started. Evaluating function at random point.\n",
      "[0.014039737029591284, 17, 6, 0.6362876679396877, 0.3939804115948866] \n",
      "\n",
      "Iteration No: 24 ended. Evaluation done at random point.\n",
      "Time taken: 10.5628\n",
      "Function value obtained: -0.8536\n",
      "Current minimum: -0.8573\n",
      "Iteration No: 25 started. Evaluating function at random point.\n",
      "[0.011327034010293172, 103, 14, 0.3894062720023748, 0.9176816358278194] \n",
      "\n",
      "Iteration No: 25 ended. Evaluation done at random point.\n",
      "Time taken: 17.1136\n",
      "Function value obtained: -0.8495\n",
      "Current minimum: -0.8573\n",
      "Iteration No: 26 started. Evaluating function at random point.\n",
      "[0.017649005221070314, 98, 56, 0.9329653720565734, 0.7218072257652316] \n",
      "\n",
      "Iteration No: 26 ended. Evaluation done at random point.\n",
      "Time taken: 22.8547\n",
      "Function value obtained: -0.8489\n",
      "Current minimum: -0.8573\n",
      "Iteration No: 27 started. Evaluating function at random point.\n",
      "[0.09877469581360704, 123, 84, 0.18027896214743389, 0.9393359167334473] \n",
      "\n",
      "Iteration No: 27 ended. Evaluation done at random point.\n",
      "Time taken: 24.3490\n",
      "Function value obtained: -0.8246\n",
      "Current minimum: -0.8573\n",
      "Iteration No: 28 started. Evaluating function at random point.\n",
      "[0.024753483395116363, 45, 7, 0.7676898999723432, 0.7784885696151218] \n",
      "\n",
      "Iteration No: 28 ended. Evaluation done at random point.\n",
      "Time taken: 17.0565\n",
      "Function value obtained: -0.8529\n",
      "Current minimum: -0.8573\n",
      "Iteration No: 29 started. Evaluating function at random point.\n",
      "[0.07015345605895347, 11, 67, 0.16805741387355647, 0.11789212045581604] \n",
      "\n",
      "Iteration No: 29 ended. Evaluation done at random point.\n",
      "Time taken: 6.8822\n",
      "Function value obtained: -0.8336\n",
      "Current minimum: -0.8573\n",
      "Iteration No: 30 started. Evaluating function at random point.\n",
      "[0.0011282932078263237, 23, 41, 0.28390051422289364, 0.8740251538145993] \n",
      "\n",
      "Iteration No: 30 ended. Evaluation done at random point.\n",
      "Time taken: 9.1190\n",
      "Function value obtained: -0.8542\n",
      "Current minimum: -0.8573\n"
     ]
    }
   ],
   "source": [
    "def treinar_modelo(params):\n",
    "    learning_rate = params[0]\n",
    "    num_leaves = params[1]\n",
    "    min_child_samples = params[2]\n",
    "    subsample = params[3]\n",
    "    colsample_bytree = params[4]\n",
    "    \n",
    "    print(params, '\\n')\n",
    "    \n",
    "    mdl = LGBMClassifier(learning_rate=learning_rate, num_leaves=num_leaves, min_child_samples=min_child_samples,\n",
    "                        subsample=subsample, colsample_bytree=colsample_bytree, random_state=42, subsample_freq=1, \n",
    "                         n_estimators=100)\n",
    "    mdl.fit(Xtrain, ytrain)\n",
    "    \n",
    "    p = mdl.predict_proba(Xtest)\n",
    "    \n",
    "    return -roc_auc_score(ytest, p, multi_class='ovr')\n",
    "\n",
    "space = [(1e-3, 1e-1, 'log-uniform'), #learning rate\n",
    "         (2, 128), # num_leaves\n",
    "         (1, 100), # min_child_samples\n",
    "         (0.05, 1.0), # subsample\n",
    "         (0.1, 1.0)] # colsample bytree\n",
    "\n",
    "resultado = dummy_minimize(treinar_modelo, space, random_state=1, verbose=1, n_calls=30)"
   ]
  },
  {
   "cell_type": "code",
   "execution_count": null,
   "id": "e3a3b054",
   "metadata": {},
   "outputs": [
    {
     "data": {
      "text/plain": [
       "['fun',\n",
       " 'func_vals',\n",
       " 'models',\n",
       " 'random_state',\n",
       " 'space',\n",
       " 'specs',\n",
       " 'x',\n",
       " 'x_iters']"
      ]
     },
     "execution_count": 165,
     "metadata": {},
     "output_type": "execute_result"
    }
   ],
   "source": [
    "dir(resultado)"
   ]
  },
  {
   "cell_type": "code",
   "execution_count": null,
   "id": "f7c0dc88",
   "metadata": {},
   "outputs": [
    {
     "data": {
      "text/plain": [
       "[0.024010940718920456, 9, 25, 0.3814534248789504, 0.3429351025885235]"
      ]
     },
     "execution_count": 163,
     "metadata": {},
     "output_type": "execute_result"
    }
   ],
   "source": [
    "resultado.x"
   ]
  },
  {
   "cell_type": "code",
   "execution_count": null,
   "id": "f36ac984",
   "metadata": {},
   "outputs": [
    {
     "name": "stderr",
     "output_type": "stream",
     "text": [
      "p:\\Python\\GitHub\\airbnb_prediction\\env_airbnb\\lib\\site-packages\\lightgbm\\sklearn.py:736: UserWarning: 'verbose' argument is deprecated and will be removed in a future release of LightGBM. Pass 'log_evaluation()' callback via 'callbacks' argument instead.\n",
      "  _log_warning(\"'verbose' argument is deprecated and will be removed in a future release of LightGBM. \"\n"
     ]
    },
    {
     "name": "stdout",
     "output_type": "stream",
     "text": [
      "0.8726953467954346 \n",
      " 0.16666666666666666 \n",
      " 0.7640573431952373\n"
     ]
    }
   ],
   "source": [
    "\n",
    "lgbm = LGBMClassifier(learning_rate=resultado.x[0], num_leaves=resultado.x[1], min_child_samples=resultado.x[2],\n",
    "                        subsample=resultado.x[3], colsample_bytree=resultado.x[4], random_state=42, subsample_freq=1, \n",
    "                         n_estimators=100)\n",
    "lgbm.fit(Xtrain, ytrain, verbose=False)\n",
    "# prediction\n",
    "pred_lgbm = lgbm.predict( Xtest )\n",
    "pred_proba_lgbm = lgbm.predict_proba( Xtest )\n",
    "get_metrics( ytest, pred_lgbm )\n"
   ]
  },
  {
   "cell_type": "code",
   "execution_count": null,
   "id": "a5bee962",
   "metadata": {},
   "outputs": [],
   "source": []
  },
  {
   "cell_type": "code",
   "execution_count": null,
   "id": "1903cdad",
   "metadata": {},
   "outputs": [
    {
     "ename": "AxisError",
     "evalue": "axis 1 is out of bounds for array of dimension 1",
     "output_type": "error",
     "traceback": [
      "\u001b[1;31m---------------------------------------------------------------------------\u001b[0m",
      "\u001b[1;31mAxisError\u001b[0m                                 Traceback (most recent call last)",
      "Cell \u001b[1;32mIn[177], line 1\u001b[0m\n\u001b[1;32m----> 1\u001b[0m roc_auc_score(ytest, pred_lgbm, multi_class\u001b[39m=\u001b[39;49m\u001b[39m\"\u001b[39;49m\u001b[39movr\u001b[39;49m\u001b[39m\"\u001b[39;49m)\n",
      "File \u001b[1;32mp:\\Python\\GitHub\\airbnb_prediction\\env_airbnb\\lib\\site-packages\\sklearn\\metrics\\_ranking.py:566\u001b[0m, in \u001b[0;36mroc_auc_score\u001b[1;34m(y_true, y_score, average, sample_weight, max_fpr, multi_class, labels)\u001b[0m\n\u001b[0;32m    564\u001b[0m     \u001b[39mif\u001b[39;00m multi_class \u001b[39m==\u001b[39m \u001b[39m\"\u001b[39m\u001b[39mraise\u001b[39m\u001b[39m\"\u001b[39m:\n\u001b[0;32m    565\u001b[0m         \u001b[39mraise\u001b[39;00m \u001b[39mValueError\u001b[39;00m(\u001b[39m\"\u001b[39m\u001b[39mmulti_class must be in (\u001b[39m\u001b[39m'\u001b[39m\u001b[39movo\u001b[39m\u001b[39m'\u001b[39m\u001b[39m, \u001b[39m\u001b[39m'\u001b[39m\u001b[39movr\u001b[39m\u001b[39m'\u001b[39m\u001b[39m)\u001b[39m\u001b[39m\"\u001b[39m)\n\u001b[1;32m--> 566\u001b[0m     \u001b[39mreturn\u001b[39;00m _multiclass_roc_auc_score(\n\u001b[0;32m    567\u001b[0m         y_true, y_score, labels, multi_class, average, sample_weight\n\u001b[0;32m    568\u001b[0m     )\n\u001b[0;32m    569\u001b[0m \u001b[39melif\u001b[39;00m y_type \u001b[39m==\u001b[39m \u001b[39m\"\u001b[39m\u001b[39mbinary\u001b[39m\u001b[39m\"\u001b[39m:\n\u001b[0;32m    570\u001b[0m     labels \u001b[39m=\u001b[39m np\u001b[39m.\u001b[39munique(y_true)\n",
      "File \u001b[1;32mp:\\Python\\GitHub\\airbnb_prediction\\env_airbnb\\lib\\site-packages\\sklearn\\metrics\\_ranking.py:638\u001b[0m, in \u001b[0;36m_multiclass_roc_auc_score\u001b[1;34m(y_true, y_score, labels, multi_class, average, sample_weight)\u001b[0m\n\u001b[0;32m    592\u001b[0m \u001b[39m\u001b[39m\u001b[39m\"\"\"Multiclass roc auc score.\u001b[39;00m\n\u001b[0;32m    593\u001b[0m \n\u001b[0;32m    594\u001b[0m \u001b[39mParameters\u001b[39;00m\n\u001b[1;32m   (...)\u001b[0m\n\u001b[0;32m    635\u001b[0m \n\u001b[0;32m    636\u001b[0m \u001b[39m\"\"\"\u001b[39;00m\n\u001b[0;32m    637\u001b[0m \u001b[39m# validation of the input y_score\u001b[39;00m\n\u001b[1;32m--> 638\u001b[0m \u001b[39mif\u001b[39;00m \u001b[39mnot\u001b[39;00m np\u001b[39m.\u001b[39mallclose(\u001b[39m1\u001b[39m, y_score\u001b[39m.\u001b[39;49msum(axis\u001b[39m=\u001b[39;49m\u001b[39m1\u001b[39;49m)):\n\u001b[0;32m    639\u001b[0m     \u001b[39mraise\u001b[39;00m \u001b[39mValueError\u001b[39;00m(\n\u001b[0;32m    640\u001b[0m         \u001b[39m\"\u001b[39m\u001b[39mTarget scores need to be probabilities for multiclass \u001b[39m\u001b[39m\"\u001b[39m\n\u001b[0;32m    641\u001b[0m         \u001b[39m\"\u001b[39m\u001b[39mroc_auc, i.e. they should sum up to 1.0 over classes\u001b[39m\u001b[39m\"\u001b[39m\n\u001b[0;32m    642\u001b[0m     )\n\u001b[0;32m    644\u001b[0m \u001b[39m# validation for multiclass parameter specifications\u001b[39;00m\n",
      "File \u001b[1;32mp:\\Python\\GitHub\\airbnb_prediction\\env_airbnb\\lib\\site-packages\\numpy\\core\\_methods.py:48\u001b[0m, in \u001b[0;36m_sum\u001b[1;34m(a, axis, dtype, out, keepdims, initial, where)\u001b[0m\n\u001b[0;32m     46\u001b[0m \u001b[39mdef\u001b[39;00m \u001b[39m_sum\u001b[39m(a, axis\u001b[39m=\u001b[39m\u001b[39mNone\u001b[39;00m, dtype\u001b[39m=\u001b[39m\u001b[39mNone\u001b[39;00m, out\u001b[39m=\u001b[39m\u001b[39mNone\u001b[39;00m, keepdims\u001b[39m=\u001b[39m\u001b[39mFalse\u001b[39;00m,\n\u001b[0;32m     47\u001b[0m          initial\u001b[39m=\u001b[39m_NoValue, where\u001b[39m=\u001b[39m\u001b[39mTrue\u001b[39;00m):\n\u001b[1;32m---> 48\u001b[0m     \u001b[39mreturn\u001b[39;00m umr_sum(a, axis, dtype, out, keepdims, initial, where)\n",
      "\u001b[1;31mAxisError\u001b[0m: axis 1 is out of bounds for array of dimension 1"
     ]
    }
   ],
   "source": [
    "roc_auc_score(ytest, pred_lgbmpred_proba_lgbm, multi_class=\"ovr\")"
   ]
  },
  {
   "cell_type": "code",
   "execution_count": null,
   "id": "2cd1ce11",
   "metadata": {},
   "outputs": [
    {
     "name": "stdout",
     "output_type": "stream",
     "text": [
      "Fold Number: 1/5\n"
     ]
    },
    {
     "name": "stderr",
     "output_type": "stream",
     "text": [
      "p:\\Python\\GitHub\\airbnb_prediction\\env_airbnb\\lib\\site-packages\\lightgbm\\sklearn.py:736: UserWarning: 'verbose' argument is deprecated and will be removed in a future release of LightGBM. Pass 'log_evaluation()' callback via 'callbacks' argument instead.\n",
      "  _log_warning(\"'verbose' argument is deprecated and will be removed in a future release of LightGBM. \"\n"
     ]
    },
    {
     "name": "stdout",
     "output_type": "stream",
     "text": [
      "Fold Number: 1/5\n"
     ]
    },
    {
     "name": "stderr",
     "output_type": "stream",
     "text": [
      "p:\\Python\\GitHub\\airbnb_prediction\\env_airbnb\\lib\\site-packages\\lightgbm\\sklearn.py:736: UserWarning: 'verbose' argument is deprecated and will be removed in a future release of LightGBM. Pass 'log_evaluation()' callback via 'callbacks' argument instead.\n",
      "  _log_warning(\"'verbose' argument is deprecated and will be removed in a future release of LightGBM. \"\n"
     ]
    },
    {
     "name": "stdout",
     "output_type": "stream",
     "text": [
      "Fold Number: 1/5\n"
     ]
    },
    {
     "name": "stderr",
     "output_type": "stream",
     "text": [
      "p:\\Python\\GitHub\\airbnb_prediction\\env_airbnb\\lib\\site-packages\\lightgbm\\sklearn.py:736: UserWarning: 'verbose' argument is deprecated and will be removed in a future release of LightGBM. Pass 'log_evaluation()' callback via 'callbacks' argument instead.\n",
      "  _log_warning(\"'verbose' argument is deprecated and will be removed in a future release of LightGBM. \"\n"
     ]
    },
    {
     "name": "stdout",
     "output_type": "stream",
     "text": [
      "Fold Number: 1/5\n"
     ]
    },
    {
     "name": "stderr",
     "output_type": "stream",
     "text": [
      "p:\\Python\\GitHub\\airbnb_prediction\\env_airbnb\\lib\\site-packages\\lightgbm\\sklearn.py:736: UserWarning: 'verbose' argument is deprecated and will be removed in a future release of LightGBM. Pass 'log_evaluation()' callback via 'callbacks' argument instead.\n",
      "  _log_warning(\"'verbose' argument is deprecated and will be removed in a future release of LightGBM. \"\n"
     ]
    },
    {
     "name": "stdout",
     "output_type": "stream",
     "text": [
      "Fold Number: 1/5\n"
     ]
    },
    {
     "name": "stderr",
     "output_type": "stream",
     "text": [
      "p:\\Python\\GitHub\\airbnb_prediction\\env_airbnb\\lib\\site-packages\\lightgbm\\sklearn.py:736: UserWarning: 'verbose' argument is deprecated and will be removed in a future release of LightGBM. Pass 'log_evaluation()' callback via 'callbacks' argument instead.\n",
      "  _log_warning(\"'verbose' argument is deprecated and will be removed in a future release of LightGBM. \"\n"
     ]
    }
   ],
   "source": [
    "# generate k-fold\n",
    "num_folds = 5\n",
    "kfold = StratifiedKFold( n_splits=num_folds, shuffle=True, random_state=32 )\n",
    "\n",
    "balanced_acc_list = []\n",
    "kappa_acc_list = []\n",
    "\n",
    "i = 1\n",
    "for train_ix, val_ix in kfold.split( Xtrain, ytrain ):\n",
    "    print( 'Fold Number: {}/{}'.format( i, num_folds ) )\n",
    "    \n",
    "    # get fold\n",
    "    Xtrain_fold = Xtrain.iloc[train_ix]\n",
    "    ytrain_fold = ytrain.iloc[train_ix]\n",
    "    \n",
    "    x_val_fold = Xtrain.iloc[val_ix]\n",
    "    y_val_fold = ytrain.iloc[val_ix]\n",
    "\n",
    "    model = LGBMClassifier(learning_rate=resultado.x[0], num_leaves=resultado.x[1], min_child_samples=resultado.x[2],\n",
    "                        subsample=resultado.x[3], colsample_bytree=resultado.x[4], random_state=42, subsample_freq=1, \n",
    "                         n_estimators=100)\n",
    "    \n",
    "    model.fit(Xtrain_fold, ytrain_fold, verbose=False)\n",
    "\n",
    "    # prediction\n",
    "    pred = model.predict( x_val_fold )\n",
    "    \n",
    "\n",
    "    # metrics\n",
    "    ## Balanced Accuracy \n",
    "    balanced_acc = balanced_accuracy_score( y_val_fold, pred )\n",
    "    balanced_acc_list.append( balanced_acc )\n",
    "    \n",
    "    ## Kappa Metrics\n",
    "    kappa_acc = cohen_kappa_score( y_val_fold, pred )\n",
    "    kappa_acc_list.append( kappa_acc )"
   ]
  },
  {
   "cell_type": "code",
   "execution_count": null,
   "id": "15367605",
   "metadata": {},
   "outputs": [
    {
     "data": {
      "text/plain": [
       "0.1666649386556074"
      ]
     },
     "execution_count": 183,
     "metadata": {},
     "output_type": "execute_result"
    }
   ],
   "source": [
    "np.mean(balanced_acc_list)"
   ]
  },
  {
   "cell_type": "code",
   "execution_count": null,
   "id": "d2e423aa",
   "metadata": {},
   "outputs": [
    {
     "data": {
      "text/plain": [
       "[0.16666666666666666,\n",
       " 0.16666666666666666,\n",
       " 0.16666666666666666,\n",
       " 0.1666580266113703,\n",
       " 0.16666666666666666]"
      ]
     },
     "execution_count": 184,
     "metadata": {},
     "output_type": "execute_result"
    }
   ],
   "source": [
    "balanced_acc_list"
   ]
  },
  {
   "attachments": {},
   "cell_type": "markdown",
   "id": "0495306b",
   "metadata": {},
   "source": [
    "# 9.0 Business Evaluation"
   ]
  },
  {
   "attachments": {},
   "cell_type": "markdown",
   "id": "fd3cb007",
   "metadata": {},
   "source": [
    "# 10.0 Full Pipeline"
   ]
  },
  {
   "cell_type": "code",
   "execution_count": null,
   "id": "1d54a062",
   "metadata": {},
   "outputs": [],
   "source": [
    "import os, pickle, datetime, json\n",
    "import re\n",
    "import numpy as np\n",
    "import matplotlib.pyplot as plt\n",
    "import pandas as pd\n",
    "import random\n",
    "import seaborn as sns\n",
    "import pickle\n",
    "from sklearn.model_selection import train_test_split, StratifiedKFold\n",
    "import itertools\n",
    "from keras import models as ml\n",
    "from keras import layers as l\n",
    "from category_encoders.target_encoder import TargetEncoder\n",
    "from pandas_profiling import ProfileReport\n",
    "from scipy import stats as ss\n",
    "from catboost import CatBoostClassifier\n",
    "from lightgbm import LGBMClassifier\n",
    "import sweetviz as sv\n",
    "from sklearn.preprocessing import OneHotEncoder, RobustScaler, MinMaxScaler, StandardScaler, LabelEncoder\n",
    "from sklearn.metrics import balanced_accuracy_score, cohen_kappa_score, accuracy_score, classification_report, confusion_matrix, roc_auc_score\n",
    "from sklearn.preprocessing import OneHotEncoder\n",
    "from sklearn.ensemble import RandomForestClassifier\n",
    "from sklearn.base                       import BaseEstimator, TransformerMixin\n",
    "from skopt import gp_minimize\n",
    "import scipy.stats as stats\n",
    "from sklearn.feature_selection import SelectKBest, SelectPercentile, f_regression, f_classif\n",
    "from xgboost import XGBClassifier\n"
   ]
  },
  {
   "cell_type": "code",
   "execution_count": null,
   "id": "86f759c5",
   "metadata": {},
   "outputs": [
    {
     "ename": "ValueError",
     "evalue": "Unexpected input dimension 34, expected 1",
     "output_type": "error",
     "traceback": [
      "\u001b[1;31m---------------------------------------------------------------------------\u001b[0m",
      "\u001b[1;31mValueError\u001b[0m                                Traceback (most recent call last)",
      "Cell \u001b[1;32mIn[420], line 38\u001b[0m\n\u001b[0;32m     36\u001b[0m aux1 \u001b[39m=\u001b[39m air\u001b[39m.\u001b[39mcleaner(test)\n\u001b[0;32m     37\u001b[0m aux1 \u001b[39m=\u001b[39m air\u001b[39m.\u001b[39mfeature_engineering(aux1)\n\u001b[1;32m---> 38\u001b[0m aux1 \u001b[39m=\u001b[39m air\u001b[39m.\u001b[39;49mpreprocessors(aux1)\n\u001b[0;32m     39\u001b[0m aux1\u001b[39m.\u001b[39mhead()\n",
      "Cell \u001b[1;32mIn[420], line 28\u001b[0m, in \u001b[0;36mAirbnbPrediction.preprocessors\u001b[1;34m(self, X)\u001b[0m\n\u001b[0;32m     26\u001b[0m         X2[features] \u001b[39m=\u001b[39m transformer\u001b[39m.\u001b[39mtransform(X2[features])\n\u001b[0;32m     27\u001b[0m     \u001b[39melse\u001b[39;00m:\n\u001b[1;32m---> 28\u001b[0m         X2 \u001b[39m=\u001b[39m transformer\u001b[39m.\u001b[39;49mtransform(X2)\n\u001b[0;32m     29\u001b[0m \u001b[39mreturn\u001b[39;00m X2\n",
      "File \u001b[1;32mp:\\Python\\GitHub\\airbnb_prediction\\env_airbnb\\lib\\site-packages\\sklearn\\utils\\_set_output.py:140\u001b[0m, in \u001b[0;36m_wrap_method_output.<locals>.wrapped\u001b[1;34m(self, X, *args, **kwargs)\u001b[0m\n\u001b[0;32m    138\u001b[0m \u001b[39m@wraps\u001b[39m(f)\n\u001b[0;32m    139\u001b[0m \u001b[39mdef\u001b[39;00m \u001b[39mwrapped\u001b[39m(\u001b[39mself\u001b[39m, X, \u001b[39m*\u001b[39margs, \u001b[39m*\u001b[39m\u001b[39m*\u001b[39mkwargs):\n\u001b[1;32m--> 140\u001b[0m     data_to_wrap \u001b[39m=\u001b[39m f(\u001b[39mself\u001b[39m, X, \u001b[39m*\u001b[39margs, \u001b[39m*\u001b[39m\u001b[39m*\u001b[39mkwargs)\n\u001b[0;32m    141\u001b[0m     \u001b[39mif\u001b[39;00m \u001b[39misinstance\u001b[39m(data_to_wrap, \u001b[39mtuple\u001b[39m):\n\u001b[0;32m    142\u001b[0m         \u001b[39m# only wrap the first output for cross decomposition\u001b[39;00m\n\u001b[0;32m    143\u001b[0m         \u001b[39mreturn\u001b[39;00m (\n\u001b[0;32m    144\u001b[0m             _wrap_data_with_container(method, data_to_wrap[\u001b[39m0\u001b[39m], X, \u001b[39mself\u001b[39m),\n\u001b[0;32m    145\u001b[0m             \u001b[39m*\u001b[39mdata_to_wrap[\u001b[39m1\u001b[39m:],\n\u001b[0;32m    146\u001b[0m         )\n",
      "File \u001b[1;32mp:\\Python\\GitHub\\airbnb_prediction\\env_airbnb\\lib\\site-packages\\category_encoders\\utils.py:424\u001b[0m, in \u001b[0;36mSupervisedTransformerMixin.transform\u001b[1;34m(self, X, y, override_return_df)\u001b[0m\n\u001b[0;32m    422\u001b[0m \u001b[39m# first check the type\u001b[39;00m\n\u001b[0;32m    423\u001b[0m X, y \u001b[39m=\u001b[39m convert_inputs(X, y, deep\u001b[39m=\u001b[39m\u001b[39mTrue\u001b[39;00m)\n\u001b[1;32m--> 424\u001b[0m \u001b[39mself\u001b[39;49m\u001b[39m.\u001b[39;49m_check_transform_inputs(X)\n\u001b[0;32m    426\u001b[0m \u001b[39mif\u001b[39;00m \u001b[39mnot\u001b[39;00m \u001b[39mlist\u001b[39m(\u001b[39mself\u001b[39m\u001b[39m.\u001b[39mcols):\n\u001b[0;32m    427\u001b[0m     \u001b[39mreturn\u001b[39;00m X\n",
      "File \u001b[1;32mp:\\Python\\GitHub\\airbnb_prediction\\env_airbnb\\lib\\site-packages\\category_encoders\\utils.py:334\u001b[0m, in \u001b[0;36mBaseEncoder._check_transform_inputs\u001b[1;34m(self, X)\u001b[0m\n\u001b[0;32m    332\u001b[0m \u001b[39m# then make sure that it is the right size\u001b[39;00m\n\u001b[0;32m    333\u001b[0m \u001b[39mif\u001b[39;00m X\u001b[39m.\u001b[39mshape[\u001b[39m1\u001b[39m] \u001b[39m!=\u001b[39m \u001b[39mself\u001b[39m\u001b[39m.\u001b[39m_dim:\n\u001b[1;32m--> 334\u001b[0m     \u001b[39mraise\u001b[39;00m \u001b[39mValueError\u001b[39;00m(\u001b[39mf\u001b[39m\u001b[39m'\u001b[39m\u001b[39mUnexpected input dimension \u001b[39m\u001b[39m{\u001b[39;00mX\u001b[39m.\u001b[39mshape[\u001b[39m1\u001b[39m]\u001b[39m}\u001b[39;00m\u001b[39m, expected \u001b[39m\u001b[39m{\u001b[39;00m\u001b[39mself\u001b[39m\u001b[39m.\u001b[39m_dim\u001b[39m}\u001b[39;00m\u001b[39m'\u001b[39m)\n",
      "\u001b[1;31mValueError\u001b[0m: Unexpected input dimension 34, expected 1"
     ]
    }
   ],
   "source": [
    "from glob import glob\n",
    "import pickle\n",
    "\n",
    "class AirbnbPrediction( TransformerMixin, BaseEstimator ):\n",
    "    def __init__( self ):\n",
    "        self.home_path = os.getcwd()\n",
    "\n",
    "    def cleaner( self, X):\n",
    "        X2 = X.copy()\n",
    "        for i in sorted(glob(r'cleaners\\*.pkl')) :\n",
    "            X2 = pickle.load( open(i, \"rb\") ).transform(X2)\n",
    "        return X2\n",
    "\n",
    "    def feature_engineering( self, X):\n",
    "        X2 = X.copy()\n",
    "        for i in sorted(glob(r'feature_engineering\\*.pkl')) :\n",
    "            X2 = pickle.load( open(i, \"rb\") ).transform(X2)\n",
    "        return X2\n",
    "    \n",
    "    def preprocessors( self, X):\n",
    "        X2 = X.copy()\n",
    "        for i in sorted(glob(r'preprocessors\\*.pkl')) :\n",
    "            transformer = pickle.load( open(i, \"rb\") )\n",
    "            if \"MinMax\" in transformer.__class__.__name__:\n",
    "                features = transformer.feature_names_in_.tolist()\n",
    "                X2[features] = transformer.transform(X2[features])\n",
    "            else:\n",
    "                X2 = transformer.transform(X2)\n",
    "        return X2\n",
    "\n",
    "\n",
    "\n",
    "\n",
    "\n",
    "air = AirbnbPrediction()\n",
    "aux1 = air.cleaner(test)\n",
    "aux1 = air.feature_engineering(aux1)\n",
    "aux1 = air.preprocessors(aux1)\n",
    "aux1.head()\n"
   ]
  },
  {
   "cell_type": "code",
   "execution_count": null,
   "id": "30c7ab4c",
   "metadata": {},
   "outputs": [
    {
     "data": {
      "text/plain": [
       "Index(['id', 'date_account_created', 'timestamp_first_active',\n",
       "       'date_first_booking', 'gender', 'age', 'signup_method', 'signup_flow',\n",
       "       'language', 'affiliate_channel', 'affiliate_provider',\n",
       "       'first_affiliate_tracked', 'signup_app', 'first_device_type',\n",
       "       'first_browser', 'country_destination', 'first_active',\n",
       "       'days_from_first_active_until_date_first_booking',\n",
       "       'days_from_first_active_until_date_account_created',\n",
       "       'year_first_active', 'month_first_active', 'day_first_active',\n",
       "       'day_of_week_first_active', 'day_of_year_first_active_first_active',\n",
       "       'year_date_first_booking', 'month_date_first_booking',\n",
       "       'day_date_first_booking', 'day_of_week_date_first_booking',\n",
       "       'day_of_year_first_active_date_first_booking',\n",
       "       'year_date_account_created', 'month_date_account_created',\n",
       "       'day_date_account_created', 'day_of_week_date_account_created',\n",
       "       'day_of_year_first_active_date_account_created'],\n",
       "      dtype='object')"
      ]
     },
     "execution_count": 418,
     "metadata": {},
     "output_type": "execute_result"
    }
   ],
   "source": [
    "aux1.columns"
   ]
  },
  {
   "cell_type": "code",
   "execution_count": null,
   "id": "d61731f6",
   "metadata": {},
   "outputs": [
    {
     "data": {
      "text/plain": [
       "Index(['id', 'date_account_created', 'timestamp_first_active',\n",
       "       'date_first_booking', 'gender', 'age', 'signup_method', 'signup_flow',\n",
       "       'language', 'affiliate_channel', 'affiliate_provider',\n",
       "       'first_affiliate_tracked', 'signup_app', 'first_device_type',\n",
       "       'first_browser', 'country_destination', 'first_active',\n",
       "       'days_from_first_active_until_date_first_booking',\n",
       "       'days_from_first_active_until_date_account_created',\n",
       "       'year_first_active', 'month_first_active', 'day_first_active',\n",
       "       'day_of_week_first_active', 'day_of_year_first_active_first_active',\n",
       "       'year_date_first_booking', 'month_date_first_booking',\n",
       "       'day_date_first_booking', 'day_of_week_date_first_booking',\n",
       "       'day_of_year_first_active_date_first_booking',\n",
       "       'year_date_account_created', 'month_date_account_created',\n",
       "       'day_date_account_created', 'day_of_week_date_account_created',\n",
       "       'day_of_year_first_active_date_account_created',\n",
       "       'day_of_week_first_active_sin', 'day_of_week_first_active_cos',\n",
       "       'day_of_week_date_first_booking_sin',\n",
       "       'day_of_week_date_first_booking_cos',\n",
       "       'day_of_week_date_account_created_sin',\n",
       "       'day_of_week_date_account_created_cos', 'month_date_first_booking_sin',\n",
       "       'month_date_first_booking_cos', 'month_date_account_created_sin',\n",
       "       'month_date_account_created_cos', 'day_date_first_booking_sin',\n",
       "       'day_date_first_booking_cos', 'day_date_account_created_sin',\n",
       "       'day_date_account_created_cos',\n",
       "       'day_of_year_first_active_first_active_sin',\n",
       "       'day_of_year_first_active_first_active_cos',\n",
       "       'day_of_year_first_active_date_first_booking_sin',\n",
       "       'day_of_year_first_active_date_first_booking_cos',\n",
       "       'day_of_year_first_active_date_account_created_sin',\n",
       "       'day_of_year_first_active_date_account_created_cos'],\n",
       "      dtype='object')"
      ]
     },
     "execution_count": 413,
     "metadata": {},
     "output_type": "execute_result"
    }
   ],
   "source": [
    "df5.columns"
   ]
  },
  {
   "cell_type": "code",
   "execution_count": null,
   "id": "7e2cacc1",
   "metadata": {},
   "outputs": [
    {
     "data": {
      "text/plain": [
       "(75482, 34)"
      ]
     },
     "execution_count": 406,
     "metadata": {},
     "output_type": "execute_result"
    }
   ],
   "source": [
    "aux1.shape"
   ]
  },
  {
   "cell_type": "code",
   "execution_count": null,
   "id": "98955ae8",
   "metadata": {},
   "outputs": [
    {
     "data": {
      "text/plain": [
       "(213451, 54)"
      ]
     },
     "execution_count": 407,
     "metadata": {},
     "output_type": "execute_result"
    }
   ],
   "source": [
    "df5.shape"
   ]
  },
  {
   "cell_type": "code",
   "execution_count": null,
   "metadata": {},
   "outputs": [
    {
     "data": {
      "text/plain": [
       "(75482, 17)"
      ]
     },
     "execution_count": 394,
     "metadata": {},
     "output_type": "execute_result"
    }
   ],
   "source": [
    "aux1.shape"
   ]
  },
  {
   "cell_type": "code",
   "execution_count": null,
   "id": "fe88f5f3",
   "metadata": {},
   "outputs": [
    {
     "ename": "TypeError",
     "evalue": "bad operand type for unary -: 'list'",
     "output_type": "error",
     "traceback": [
      "\u001b[1;31m---------------------------------------------------------------------------\u001b[0m",
      "\u001b[1;31mTypeError\u001b[0m                                 Traceback (most recent call last)",
      "Cell \u001b[1;32mIn[81], line 2\u001b[0m\n\u001b[0;32m      1\u001b[0m \u001b[39mfrom\u001b[39;00m \u001b[39mglob\u001b[39;00m \u001b[39mimport\u001b[39;00m glob\n\u001b[1;32m----> 2\u001b[0m cleaners \u001b[39m=\u001b[39m \u001b[39m-\u001b[39;49m\u001b[39msorted\u001b[39;49m([os\u001b[39m.\u001b[39;49mpath\u001b[39m.\u001b[39;49mbasename(x) \u001b[39mfor\u001b[39;49;00m x \u001b[39min\u001b[39;49;00m glob(\u001b[39mr\u001b[39;49m\u001b[39m'\u001b[39;49m\u001b[39mcleaners\u001b[39;49m\u001b[39m\\\u001b[39;49m\u001b[39m*.pkl\u001b[39;49m\u001b[39m'\u001b[39;49m)])\n\u001b[0;32m      3\u001b[0m cleaners\n",
      "\u001b[1;31mTypeError\u001b[0m: bad operand type for unary -: 'list'"
     ]
    }
   ],
   "source": [
    "from glob import glob\n",
    "cleaners = sorted([os.path.basename(x) for x in glob(r'cleaners\\*.pkl')])\n",
    "cleaners"
   ]
  },
  {
   "cell_type": "code",
   "execution_count": null,
   "id": "5b7d7c45",
   "metadata": {},
   "outputs": [],
   "source": [
    "for i in "
   ]
  }
 ],
 "metadata": {
  "kernelspec": {
   "display_name": "airbnb_env",
   "language": "python",
   "name": "python3"
  },
  "language_info": {
   "codemirror_mode": {
    "name": "ipython",
    "version": 3
   },
   "file_extension": ".py",
   "mimetype": "text/x-python",
   "name": "python",
   "nbconvert_exporter": "python",
   "pygments_lexer": "ipython3",
   "version": "3.10.4"
  },
  "toc-autonumbering": false,
  "toc-showmarkdowntxt": false,
  "vscode": {
   "interpreter": {
    "hash": "23d1fed749eb81f671e1ddaa2d06563fa3d71b2ecd23edccd00be5402ce84e06"
   }
  }
 },
 "nbformat": 4,
 "nbformat_minor": 5
}
