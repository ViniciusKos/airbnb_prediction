{
 "cells": [
  {
   "attachments": {},
   "cell_type": "markdown",
   "id": "79dc9465",
   "metadata": {},
   "source": [
    "# 0.0 IMPORTS"
   ]
  },
  {
   "attachments": {},
   "cell_type": "markdown",
   "id": "a50225ed",
   "metadata": {},
   "source": [
    "## packages"
   ]
  },
  {
   "cell_type": "code",
   "execution_count": 159,
   "id": "3aa9ffad",
   "metadata": {},
   "outputs": [
    {
     "data": {
      "text/plain": [
       "'p:\\\\Python\\\\GitHub\\\\airbnb_prediction'"
      ]
     },
     "execution_count": 159,
     "metadata": {},
     "output_type": "execute_result"
    }
   ],
   "source": [
    "import os, pickle, datetime, json\n",
    "import re\n",
    "import numpy as np\n",
    "import matplotlib.pyplot as plt\n",
    "import pandas as pd\n",
    "import random\n",
    "import seaborn as sns\n",
    "import pickle\n",
    "from sklearn.model_selection import train_test_split, StratifiedKFold\n",
    "import itertools\n",
    "from keras import models as ml\n",
    "from keras import layers as l\n",
    "from category_encoders.target_encoder import TargetEncoder\n",
    "from pandas_profiling import ProfileReport\n",
    "from scipy import stats as ss\n",
    "from catboost import CatBoostClassifier\n",
    "from lightgbm import LGBMClassifier\n",
    "import sweetviz as sv\n",
    "from sklearn.preprocessing import OneHotEncoder, RobustScaler, MinMaxScaler, StandardScaler, LabelEncoder\n",
    "from sklearn.metrics import balanced_accuracy_score, cohen_kappa_score, accuracy_score, classification_report, confusion_matrix, roc_auc_score\n",
    "from sklearn.preprocessing import OneHotEncoder\n",
    "from sklearn.ensemble import RandomForestClassifier\n",
    "from skopt import gp_minimize\n",
    "\n",
    "\n",
    "\n",
    "pd.options.display.max_columns = 500 # this will set limit of columns to 500\n",
    "pd.set_option('display.float_format', lambda x: '%.5f' % x)\n",
    "\n",
    "%matplotlib inline\n",
    "os.getcwd()"
   ]
  },
  {
   "attachments": {},
   "cell_type": "markdown",
   "id": "f806856f",
   "metadata": {},
   "source": [
    "## 0.1 Helper Function"
   ]
  },
  {
   "cell_type": "code",
   "execution_count": 2,
   "id": "ba6c08a3",
   "metadata": {},
   "outputs": [],
   "source": [
    "def plot_confusion_matrix(cm, classes,\n",
    "                          normalize=False,\n",
    "                          title='Confusion matrix',\n",
    "                          cmap=plt.cm.Blues):\n",
    "    \"\"\"\n",
    "    This function prints and plots the confusion matrix.\n",
    "    Normalization can be applied by setting `normalize=True`.\n",
    "    \"\"\"\n",
    "    import itertools\n",
    "    if normalize:\n",
    "        cm = cm.astype('float') / cm.sum(axis=1)[:, np.newaxis]\n",
    "        print(\"Normalized confusion matrix\")\n",
    "    else:\n",
    "        print('Confusion matrix, without normalization')\n",
    "\n",
    "    print(cm)\n",
    "\n",
    "    plt.imshow(cm, interpolation='nearest', cmap=cmap)\n",
    "    plt.title(title)\n",
    "    plt.colorbar()\n",
    "    tick_marks = np.arange(len(classes))\n",
    "    plt.xticks(tick_marks, classes, rotation=45)\n",
    "    plt.yticks(tick_marks, classes)\n",
    "\n",
    "    fmt = '.2f' if normalize else 'd'\n",
    "    thresh = cm.max() / 2.\n",
    "    for i, j in itertools.product(range(cm.shape[0]), range(cm.shape[1])):\n",
    "        plt.text(j, i, format(cm[i, j], fmt),\n",
    "                 horizontalalignment=\"center\",\n",
    "                 color=\"white\" if cm[i, j] > thresh else \"black\")\n",
    "\n",
    "    plt.ylabel('True label')\n",
    "    plt.xlabel('Predicted label')\n",
    "    plt.tight_layout()"
   ]
  },
  {
   "cell_type": "code",
   "execution_count": 3,
   "id": "238abb39",
   "metadata": {},
   "outputs": [],
   "source": [
    "def cramers_corrected_stat(confusion_matrix):\n",
    "    \"\"\" calculate Cramers V statistic for categorical-categorical association.\n",
    "        uses correction from Bergsma and Wicher, \n",
    "        Journal of the Korean Statistical Society 42 (2013): 323-328\n",
    "    \"\"\"\n",
    "    chi2 = ss.chi2_contingency(confusion_matrix)[0]\n",
    "    n = confusion_matrix.sum().sum()\n",
    "    phi2 = chi2/n\n",
    "    r,k = confusion_matrix.shape\n",
    "    phi2corr = max(0, phi2 - ((k-1)*(r-1))/(n-1))    \n",
    "    rcorr = r - ((r-1)**2)/(n-1)\n",
    "    kcorr = k - ((k-1)**2)/(n-1)\n",
    "    return np.sqrt(phi2corr / min( (kcorr-1), (rcorr-1)))"
   ]
  },
  {
   "attachments": {},
   "cell_type": "markdown",
   "id": "6378bf2c",
   "metadata": {},
   "source": [
    "## 0.2 Loading Data"
   ]
  },
  {
   "cell_type": "code",
   "execution_count": 4,
   "id": "f6633406",
   "metadata": {},
   "outputs": [
    {
     "data": {
      "text/html": [
       "<div>\n",
       "<style scoped>\n",
       "    .dataframe tbody tr th:only-of-type {\n",
       "        vertical-align: middle;\n",
       "    }\n",
       "\n",
       "    .dataframe tbody tr th {\n",
       "        vertical-align: top;\n",
       "    }\n",
       "\n",
       "    .dataframe thead th {\n",
       "        text-align: right;\n",
       "    }\n",
       "</style>\n",
       "<table border=\"1\" class=\"dataframe\">\n",
       "  <thead>\n",
       "    <tr style=\"text-align: right;\">\n",
       "      <th></th>\n",
       "      <th>id</th>\n",
       "      <th>date_account_created</th>\n",
       "      <th>timestamp_first_active</th>\n",
       "      <th>date_first_booking</th>\n",
       "      <th>gender</th>\n",
       "      <th>age</th>\n",
       "      <th>signup_method</th>\n",
       "      <th>signup_flow</th>\n",
       "      <th>language</th>\n",
       "      <th>affiliate_channel</th>\n",
       "      <th>affiliate_provider</th>\n",
       "      <th>first_affiliate_tracked</th>\n",
       "      <th>signup_app</th>\n",
       "      <th>first_device_type</th>\n",
       "      <th>first_browser</th>\n",
       "      <th>country_destination</th>\n",
       "    </tr>\n",
       "  </thead>\n",
       "  <tbody>\n",
       "    <tr>\n",
       "      <th>0</th>\n",
       "      <td>gxn3p5htnn</td>\n",
       "      <td>2010-06-28</td>\n",
       "      <td>20090319043255</td>\n",
       "      <td>NaN</td>\n",
       "      <td>-unknown-</td>\n",
       "      <td>NaN</td>\n",
       "      <td>facebook</td>\n",
       "      <td>0</td>\n",
       "      <td>en</td>\n",
       "      <td>direct</td>\n",
       "      <td>direct</td>\n",
       "      <td>untracked</td>\n",
       "      <td>Web</td>\n",
       "      <td>Mac Desktop</td>\n",
       "      <td>Chrome</td>\n",
       "      <td>NDF</td>\n",
       "    </tr>\n",
       "    <tr>\n",
       "      <th>1</th>\n",
       "      <td>820tgsjxq7</td>\n",
       "      <td>2011-05-25</td>\n",
       "      <td>20090523174809</td>\n",
       "      <td>NaN</td>\n",
       "      <td>MALE</td>\n",
       "      <td>38.00000</td>\n",
       "      <td>facebook</td>\n",
       "      <td>0</td>\n",
       "      <td>en</td>\n",
       "      <td>seo</td>\n",
       "      <td>google</td>\n",
       "      <td>untracked</td>\n",
       "      <td>Web</td>\n",
       "      <td>Mac Desktop</td>\n",
       "      <td>Chrome</td>\n",
       "      <td>NDF</td>\n",
       "    </tr>\n",
       "    <tr>\n",
       "      <th>2</th>\n",
       "      <td>4ft3gnwmtx</td>\n",
       "      <td>2010-09-28</td>\n",
       "      <td>20090609231247</td>\n",
       "      <td>2010-08-02</td>\n",
       "      <td>FEMALE</td>\n",
       "      <td>56.00000</td>\n",
       "      <td>basic</td>\n",
       "      <td>3</td>\n",
       "      <td>en</td>\n",
       "      <td>direct</td>\n",
       "      <td>direct</td>\n",
       "      <td>untracked</td>\n",
       "      <td>Web</td>\n",
       "      <td>Windows Desktop</td>\n",
       "      <td>IE</td>\n",
       "      <td>US</td>\n",
       "    </tr>\n",
       "  </tbody>\n",
       "</table>\n",
       "</div>"
      ],
      "text/plain": [
       "           id date_account_created  timestamp_first_active date_first_booking  \\\n",
       "0  gxn3p5htnn           2010-06-28          20090319043255                NaN   \n",
       "1  820tgsjxq7           2011-05-25          20090523174809                NaN   \n",
       "2  4ft3gnwmtx           2010-09-28          20090609231247         2010-08-02   \n",
       "\n",
       "      gender      age signup_method  signup_flow language affiliate_channel  \\\n",
       "0  -unknown-      NaN      facebook            0       en            direct   \n",
       "1       MALE 38.00000      facebook            0       en               seo   \n",
       "2     FEMALE 56.00000         basic            3       en            direct   \n",
       "\n",
       "  affiliate_provider first_affiliate_tracked signup_app first_device_type  \\\n",
       "0             direct               untracked        Web       Mac Desktop   \n",
       "1             google               untracked        Web       Mac Desktop   \n",
       "2             direct               untracked        Web   Windows Desktop   \n",
       "\n",
       "  first_browser country_destination  \n",
       "0        Chrome                 NDF  \n",
       "1        Chrome                 NDF  \n",
       "2            IE                  US  "
      ]
     },
     "execution_count": 4,
     "metadata": {},
     "output_type": "execute_result"
    }
   ],
   "source": [
    "df0 = pd.read_csv(\"data/train_users_2.csv\")\n",
    "df0.columns = df0.columns.str.lower()\n",
    "df0.head(3)"
   ]
  },
  {
   "cell_type": "code",
   "execution_count": 5,
   "id": "bae78b61",
   "metadata": {},
   "outputs": [
    {
     "data": {
      "text/html": [
       "<div>\n",
       "<style scoped>\n",
       "    .dataframe tbody tr th:only-of-type {\n",
       "        vertical-align: middle;\n",
       "    }\n",
       "\n",
       "    .dataframe tbody tr th {\n",
       "        vertical-align: top;\n",
       "    }\n",
       "\n",
       "    .dataframe thead th {\n",
       "        text-align: right;\n",
       "    }\n",
       "</style>\n",
       "<table border=\"1\" class=\"dataframe\">\n",
       "  <thead>\n",
       "    <tr style=\"text-align: right;\">\n",
       "      <th></th>\n",
       "      <th>user_id</th>\n",
       "      <th>action</th>\n",
       "      <th>action_type</th>\n",
       "      <th>action_detail</th>\n",
       "      <th>device_type</th>\n",
       "      <th>secs_elapsed</th>\n",
       "    </tr>\n",
       "  </thead>\n",
       "  <tbody>\n",
       "    <tr>\n",
       "      <th>0</th>\n",
       "      <td>d1mm9tcy42</td>\n",
       "      <td>lookup</td>\n",
       "      <td>NaN</td>\n",
       "      <td>NaN</td>\n",
       "      <td>Windows Desktop</td>\n",
       "      <td>319.00000</td>\n",
       "    </tr>\n",
       "    <tr>\n",
       "      <th>1</th>\n",
       "      <td>d1mm9tcy42</td>\n",
       "      <td>search_results</td>\n",
       "      <td>click</td>\n",
       "      <td>view_search_results</td>\n",
       "      <td>Windows Desktop</td>\n",
       "      <td>67753.00000</td>\n",
       "    </tr>\n",
       "    <tr>\n",
       "      <th>2</th>\n",
       "      <td>d1mm9tcy42</td>\n",
       "      <td>lookup</td>\n",
       "      <td>NaN</td>\n",
       "      <td>NaN</td>\n",
       "      <td>Windows Desktop</td>\n",
       "      <td>301.00000</td>\n",
       "    </tr>\n",
       "  </tbody>\n",
       "</table>\n",
       "</div>"
      ],
      "text/plain": [
       "      user_id          action action_type        action_detail  \\\n",
       "0  d1mm9tcy42          lookup         NaN                  NaN   \n",
       "1  d1mm9tcy42  search_results       click  view_search_results   \n",
       "2  d1mm9tcy42          lookup         NaN                  NaN   \n",
       "\n",
       "       device_type  secs_elapsed  \n",
       "0  Windows Desktop     319.00000  \n",
       "1  Windows Desktop   67753.00000  \n",
       "2  Windows Desktop     301.00000  "
      ]
     },
     "execution_count": 5,
     "metadata": {},
     "output_type": "execute_result"
    }
   ],
   "source": [
    "df_sessions = pd.read_csv( \"data/sessions.csv\" )\n",
    "df_sessions.columns = df_sessions.columns.str.lower()\n",
    "df_sessions.head(3)"
   ]
  },
  {
   "attachments": {},
   "cell_type": "markdown",
   "id": "ac04ab1b",
   "metadata": {},
   "source": [
    "# 1.0 Data Description"
   ]
  },
  {
   "cell_type": "code",
   "execution_count": 6,
   "id": "4570efb1",
   "metadata": {},
   "outputs": [],
   "source": [
    "df1 = df0.copy()"
   ]
  },
  {
   "cell_type": "code",
   "execution_count": 7,
   "id": "e6e3f4aa",
   "metadata": {},
   "outputs": [],
   "source": [
    "df_sessions1 = df_sessions.copy()"
   ]
  },
  {
   "cell_type": "code",
   "execution_count": 8,
   "id": "be6f581f",
   "metadata": {},
   "outputs": [
    {
     "data": {
      "text/plain": [
       "(213451, 16)"
      ]
     },
     "execution_count": 8,
     "metadata": {},
     "output_type": "execute_result"
    }
   ],
   "source": [
    "df1.shape"
   ]
  },
  {
   "attachments": {},
   "cell_type": "markdown",
   "id": "c12d6dae",
   "metadata": {},
   "source": [
    "## 1.1 Check and Fill NAs"
   ]
  },
  {
   "cell_type": "code",
   "execution_count": 9,
   "id": "aa52e4f2",
   "metadata": {},
   "outputs": [
    {
     "data": {
      "text/html": [
       "<div>\n",
       "<style scoped>\n",
       "    .dataframe tbody tr th:only-of-type {\n",
       "        vertical-align: middle;\n",
       "    }\n",
       "\n",
       "    .dataframe tbody tr th {\n",
       "        vertical-align: top;\n",
       "    }\n",
       "\n",
       "    .dataframe thead th {\n",
       "        text-align: right;\n",
       "    }\n",
       "</style>\n",
       "<table border=\"1\" class=\"dataframe\">\n",
       "  <thead>\n",
       "    <tr style=\"text-align: right;\">\n",
       "      <th></th>\n",
       "      <th>id</th>\n",
       "      <th>date_account_created</th>\n",
       "      <th>timestamp_first_active</th>\n",
       "      <th>date_first_booking</th>\n",
       "      <th>gender</th>\n",
       "      <th>age</th>\n",
       "      <th>signup_method</th>\n",
       "      <th>signup_flow</th>\n",
       "      <th>language</th>\n",
       "      <th>affiliate_channel</th>\n",
       "      <th>affiliate_provider</th>\n",
       "      <th>first_affiliate_tracked</th>\n",
       "      <th>signup_app</th>\n",
       "      <th>first_device_type</th>\n",
       "      <th>first_browser</th>\n",
       "      <th>country_destination</th>\n",
       "    </tr>\n",
       "  </thead>\n",
       "  <tbody>\n",
       "    <tr>\n",
       "      <th>0</th>\n",
       "      <td>gxn3p5htnn</td>\n",
       "      <td>2010-06-28</td>\n",
       "      <td>20090319043255</td>\n",
       "      <td>NaN</td>\n",
       "      <td>-unknown-</td>\n",
       "      <td>NaN</td>\n",
       "      <td>facebook</td>\n",
       "      <td>0</td>\n",
       "      <td>en</td>\n",
       "      <td>direct</td>\n",
       "      <td>direct</td>\n",
       "      <td>untracked</td>\n",
       "      <td>Web</td>\n",
       "      <td>Mac Desktop</td>\n",
       "      <td>Chrome</td>\n",
       "      <td>NDF</td>\n",
       "    </tr>\n",
       "    <tr>\n",
       "      <th>1</th>\n",
       "      <td>820tgsjxq7</td>\n",
       "      <td>2011-05-25</td>\n",
       "      <td>20090523174809</td>\n",
       "      <td>NaN</td>\n",
       "      <td>MALE</td>\n",
       "      <td>38.00000</td>\n",
       "      <td>facebook</td>\n",
       "      <td>0</td>\n",
       "      <td>en</td>\n",
       "      <td>seo</td>\n",
       "      <td>google</td>\n",
       "      <td>untracked</td>\n",
       "      <td>Web</td>\n",
       "      <td>Mac Desktop</td>\n",
       "      <td>Chrome</td>\n",
       "      <td>NDF</td>\n",
       "    </tr>\n",
       "    <tr>\n",
       "      <th>2</th>\n",
       "      <td>4ft3gnwmtx</td>\n",
       "      <td>2010-09-28</td>\n",
       "      <td>20090609231247</td>\n",
       "      <td>2010-08-02</td>\n",
       "      <td>FEMALE</td>\n",
       "      <td>56.00000</td>\n",
       "      <td>basic</td>\n",
       "      <td>3</td>\n",
       "      <td>en</td>\n",
       "      <td>direct</td>\n",
       "      <td>direct</td>\n",
       "      <td>untracked</td>\n",
       "      <td>Web</td>\n",
       "      <td>Windows Desktop</td>\n",
       "      <td>IE</td>\n",
       "      <td>US</td>\n",
       "    </tr>\n",
       "    <tr>\n",
       "      <th>3</th>\n",
       "      <td>bjjt8pjhuk</td>\n",
       "      <td>2011-12-05</td>\n",
       "      <td>20091031060129</td>\n",
       "      <td>2012-09-08</td>\n",
       "      <td>FEMALE</td>\n",
       "      <td>42.00000</td>\n",
       "      <td>facebook</td>\n",
       "      <td>0</td>\n",
       "      <td>en</td>\n",
       "      <td>direct</td>\n",
       "      <td>direct</td>\n",
       "      <td>untracked</td>\n",
       "      <td>Web</td>\n",
       "      <td>Mac Desktop</td>\n",
       "      <td>Firefox</td>\n",
       "      <td>other</td>\n",
       "    </tr>\n",
       "    <tr>\n",
       "      <th>4</th>\n",
       "      <td>87mebub9p4</td>\n",
       "      <td>2010-09-14</td>\n",
       "      <td>20091208061105</td>\n",
       "      <td>2010-02-18</td>\n",
       "      <td>-unknown-</td>\n",
       "      <td>41.00000</td>\n",
       "      <td>basic</td>\n",
       "      <td>0</td>\n",
       "      <td>en</td>\n",
       "      <td>direct</td>\n",
       "      <td>direct</td>\n",
       "      <td>untracked</td>\n",
       "      <td>Web</td>\n",
       "      <td>Mac Desktop</td>\n",
       "      <td>Chrome</td>\n",
       "      <td>US</td>\n",
       "    </tr>\n",
       "  </tbody>\n",
       "</table>\n",
       "</div>"
      ],
      "text/plain": [
       "           id date_account_created  timestamp_first_active date_first_booking  \\\n",
       "0  gxn3p5htnn           2010-06-28          20090319043255                NaN   \n",
       "1  820tgsjxq7           2011-05-25          20090523174809                NaN   \n",
       "2  4ft3gnwmtx           2010-09-28          20090609231247         2010-08-02   \n",
       "3  bjjt8pjhuk           2011-12-05          20091031060129         2012-09-08   \n",
       "4  87mebub9p4           2010-09-14          20091208061105         2010-02-18   \n",
       "\n",
       "      gender      age signup_method  signup_flow language affiliate_channel  \\\n",
       "0  -unknown-      NaN      facebook            0       en            direct   \n",
       "1       MALE 38.00000      facebook            0       en               seo   \n",
       "2     FEMALE 56.00000         basic            3       en            direct   \n",
       "3     FEMALE 42.00000      facebook            0       en            direct   \n",
       "4  -unknown- 41.00000         basic            0       en            direct   \n",
       "\n",
       "  affiliate_provider first_affiliate_tracked signup_app first_device_type  \\\n",
       "0             direct               untracked        Web       Mac Desktop   \n",
       "1             google               untracked        Web       Mac Desktop   \n",
       "2             direct               untracked        Web   Windows Desktop   \n",
       "3             direct               untracked        Web       Mac Desktop   \n",
       "4             direct               untracked        Web       Mac Desktop   \n",
       "\n",
       "  first_browser country_destination  \n",
       "0        Chrome                 NDF  \n",
       "1        Chrome                 NDF  \n",
       "2            IE                  US  \n",
       "3       Firefox               other  \n",
       "4        Chrome                  US  "
      ]
     },
     "execution_count": 9,
     "metadata": {},
     "output_type": "execute_result"
    }
   ],
   "source": [
    "df1.head()"
   ]
  },
  {
   "cell_type": "code",
   "execution_count": 10,
   "id": "6c70c071",
   "metadata": {},
   "outputs": [
    {
     "data": {
      "text/plain": [
       "id                        0.00000\n",
       "date_account_created      0.00000\n",
       "timestamp_first_active    0.00000\n",
       "date_first_booking        0.58347\n",
       "gender                    0.00000\n",
       "age                       0.41223\n",
       "signup_method             0.00000\n",
       "signup_flow               0.00000\n",
       "language                  0.00000\n",
       "affiliate_channel         0.00000\n",
       "affiliate_provider        0.00000\n",
       "first_affiliate_tracked   0.02841\n",
       "signup_app                0.00000\n",
       "first_device_type         0.00000\n",
       "first_browser             0.00000\n",
       "country_destination       0.00000\n",
       "dtype: float64"
      ]
     },
     "execution_count": 10,
     "metadata": {},
     "output_type": "execute_result"
    }
   ],
   "source": [
    "df1.isnull().sum()/len(df1)"
   ]
  },
  {
   "cell_type": "code",
   "execution_count": 11,
   "id": "042a90a8",
   "metadata": {},
   "outputs": [
    {
     "name": "stderr",
     "output_type": "stream",
     "text": [
      "C:\\Users\\kosmo\\AppData\\Local\\Temp\\ipykernel_25480\\3571433752.py:1: UserWarning: \n",
      "\n",
      "`distplot` is a deprecated function and will be removed in seaborn v0.14.0.\n",
      "\n",
      "Please adapt your code to use either `displot` (a figure-level function with\n",
      "similar flexibility) or `histplot` (an axes-level function for histograms).\n",
      "\n",
      "For a guide to updating your code to use the new functions, please see\n",
      "https://gist.github.com/mwaskom/de44147ed2974457ad6372750bbe5751\n",
      "\n",
      "  sns.distplot(df1[df1['age']<65]['age'])\n"
     ]
    },
    {
     "data": {
      "text/plain": [
       "<AxesSubplot: xlabel='age', ylabel='Density'>"
      ]
     },
     "execution_count": 11,
     "metadata": {},
     "output_type": "execute_result"
    },
    {
     "data": {
      "image/png": "[encoded data removed]",
      "text/plain": [
       "<Figure size 640x480 with 1 Axes>"
      ]
     },
     "metadata": {},
     "output_type": "display_data"
    }
   ],
   "source": [
    "sns.distplot(df1[df1['age']<65]['age'])"
   ]
  },
  {
   "cell_type": "code",
   "execution_count": 12,
   "id": "a99dd371",
   "metadata": {},
   "outputs": [
    {
     "name": "stdout",
     "output_type": "stream",
     "text": [
      "0\n",
      "0 None\n",
      "213451\n",
      "207386\n"
     ]
    }
   ],
   "source": [
    "# date first booking\n",
    "for i in [\"date_account_created\", \"date_first_booking\"]:\n",
    "    df1[i] = pd.to_datetime(df1[i])\n",
    "date_first_booking_max = df1['date_first_booking'].max().strftime( \"%Y-%m-%d\" )\n",
    "df1['date_first_booking'] = df1['date_first_booking'].fillna(date_first_booking_max)\n",
    "\n",
    "# age\n",
    "df1['age'] = df1['age'].fillna(df1['age'].mean())\n",
    "\n",
    "print(df1['date_first_booking'].isnull().sum(), print(df1['age'].isnull().sum()))\n",
    "\n",
    "\n",
    "# first_affiliate tracked\n",
    "print( len(df1) )\n",
    "df1 = df1[df1['first_affiliate_tracked'].notnull()]\n",
    "print( len(df1) )"
   ]
  },
  {
   "cell_type": "code",
   "execution_count": 13,
   "id": "71f262b5",
   "metadata": {},
   "outputs": [
    {
     "data": {
      "text/plain": [
       "id                         0\n",
       "date_account_created       0\n",
       "timestamp_first_active     0\n",
       "date_first_booking         0\n",
       "gender                     0\n",
       "age                        0\n",
       "signup_method              0\n",
       "signup_flow                0\n",
       "language                   0\n",
       "affiliate_channel          0\n",
       "affiliate_provider         0\n",
       "first_affiliate_tracked    0\n",
       "signup_app                 0\n",
       "first_device_type          0\n",
       "first_browser              0\n",
       "country_destination        0\n",
       "dtype: int64"
      ]
     },
     "execution_count": 13,
     "metadata": {},
     "output_type": "execute_result"
    }
   ],
   "source": [
    "df1.isnull().sum()"
   ]
  },
  {
   "cell_type": "code",
   "execution_count": 14,
   "id": "ed97f96e",
   "metadata": {},
   "outputs": [
    {
     "data": {
      "text/plain": [
       "user_id         0.00326\n",
       "action          0.00753\n",
       "action_type     0.10657\n",
       "action_detail   0.10657\n",
       "device_type     0.00000\n",
       "secs_elapsed    0.01287\n",
       "dtype: float64"
      ]
     },
     "execution_count": 14,
     "metadata": {},
     "output_type": "execute_result"
    }
   ],
   "source": [
    "df_sessions1.isnull().sum() / len(df_sessions1)"
   ]
  },
  {
   "cell_type": "code",
   "execution_count": 15,
   "id": "148f1db1",
   "metadata": {},
   "outputs": [
    {
     "name": "stdout",
     "output_type": "stream",
     "text": [
      "tamanho: 10533241\n",
      "tamanho: 10453761\n",
      "tamanho: 9330804\n",
      "tamanho: 9330804\n",
      "tamanho: 9330804\n",
      "tamanho: 9213930\n"
     ]
    }
   ],
   "source": [
    "for i in df_sessions1.columns:\n",
    "    df_sessions1 = df_sessions1[df_sessions1[i].notnull()]\n",
    "    print( \"tamanho:\", len(df_sessions1))"
   ]
  },
  {
   "attachments": {},
   "cell_type": "markdown",
   "id": "a17d8fa5",
   "metadata": {},
   "source": [
    "## 1.2 Change Data Types"
   ]
  },
  {
   "cell_type": "code",
   "execution_count": 16,
   "id": "1451fd53",
   "metadata": {},
   "outputs": [],
   "source": [
    "df1[ 'timestamp_first_active' ] = pd.to_datetime( df1['timestamp_first_active'], format=\"%Y%m%d%H%M%S\" )\n"
   ]
  },
  {
   "cell_type": "code",
   "execution_count": 17,
   "id": "0748c2f4",
   "metadata": {},
   "outputs": [
    {
     "data": {
      "text/plain": [
       "id                                 object\n",
       "date_account_created       datetime64[ns]\n",
       "timestamp_first_active     datetime64[ns]\n",
       "date_first_booking         datetime64[ns]\n",
       "gender                             object\n",
       "age                               float64\n",
       "signup_method                      object\n",
       "signup_flow                         int64\n",
       "language                           object\n",
       "affiliate_channel                  object\n",
       "affiliate_provider                 object\n",
       "first_affiliate_tracked            object\n",
       "signup_app                         object\n",
       "first_device_type                  object\n",
       "first_browser                      object\n",
       "country_destination                object\n",
       "dtype: object"
      ]
     },
     "execution_count": 17,
     "metadata": {},
     "output_type": "execute_result"
    }
   ],
   "source": [
    "df1.dtypes"
   ]
  },
  {
   "cell_type": "code",
   "execution_count": 18,
   "id": "2527c91c",
   "metadata": {},
   "outputs": [
    {
     "name": "stdout",
     "output_type": "stream",
     "text": [
      "id                                 object\n",
      "date_account_created       datetime64[ns]\n",
      "timestamp_first_active     datetime64[ns]\n",
      "date_first_booking         datetime64[ns]\n",
      "gender                             object\n",
      "age                                 int32\n",
      "signup_method                      object\n",
      "signup_flow                         int64\n",
      "language                           object\n",
      "affiliate_channel                  object\n",
      "affiliate_provider                 object\n",
      "first_affiliate_tracked            object\n",
      "signup_app                         object\n",
      "first_device_type                  object\n",
      "first_browser                      object\n",
      "country_destination                object\n",
      "dtype: object\n"
     ]
    }
   ],
   "source": [
    "\n",
    "df1[ 'timestamp_first_active' ] = pd.to_datetime( df1['timestamp_first_active'], format=\"%Y%m%d%H%M%S\" )\n",
    "df1['age'] = df1['age'].astype(int)\n",
    "print( df1.dtypes )"
   ]
  },
  {
   "cell_type": "code",
   "execution_count": 19,
   "id": "759823f0",
   "metadata": {},
   "outputs": [
    {
     "name": "stdout",
     "output_type": "stream",
     "text": [
      "207386\n",
      "207386\n"
     ]
    }
   ],
   "source": [
    "print( len(df1) )\n",
    "df1 = df1.dropna()\n",
    "print( len(df1) )"
   ]
  },
  {
   "attachments": {},
   "cell_type": "markdown",
   "id": "e9b3736b",
   "metadata": {},
   "source": [
    "## 1.3 Check Balanced Data"
   ]
  },
  {
   "cell_type": "code",
   "execution_count": 20,
   "id": "61bf0126",
   "metadata": {},
   "outputs": [
    {
     "data": {
      "text/plain": [
       "NDF     0.57967\n",
       "US      0.29446\n",
       "other   0.04813\n",
       "FR      0.02362\n",
       "IT      0.01346\n",
       "GB      0.01107\n",
       "ES      0.01067\n",
       "CA      0.00671\n",
       "DE      0.00502\n",
       "NL      0.00362\n",
       "AU      0.00254\n",
       "PT      0.00103\n",
       "Name: country_destination, dtype: float64"
      ]
     },
     "execution_count": 20,
     "metadata": {},
     "output_type": "execute_result"
    }
   ],
   "source": [
    "df1['country_destination'].value_counts( normalize=True )"
   ]
  },
  {
   "attachments": {},
   "cell_type": "markdown",
   "id": "6a15630e",
   "metadata": {},
   "source": [
    "## 1.4 Descriptive Analysis"
   ]
  },
  {
   "cell_type": "code",
   "execution_count": 21,
   "id": "36bed77d",
   "metadata": {},
   "outputs": [
    {
     "data": {
      "text/html": [
       "<div>\n",
       "<style scoped>\n",
       "    .dataframe tbody tr th:only-of-type {\n",
       "        vertical-align: middle;\n",
       "    }\n",
       "\n",
       "    .dataframe tbody tr th {\n",
       "        vertical-align: top;\n",
       "    }\n",
       "\n",
       "    .dataframe thead th {\n",
       "        text-align: right;\n",
       "    }\n",
       "</style>\n",
       "<table border=\"1\" class=\"dataframe\">\n",
       "  <thead>\n",
       "    <tr style=\"text-align: right;\">\n",
       "      <th></th>\n",
       "      <th>user_id</th>\n",
       "      <th>action</th>\n",
       "      <th>action_type</th>\n",
       "      <th>action_detail</th>\n",
       "      <th>device_type</th>\n",
       "      <th>secs_elapsed</th>\n",
       "    </tr>\n",
       "  </thead>\n",
       "  <tbody>\n",
       "    <tr>\n",
       "      <th>1</th>\n",
       "      <td>d1mm9tcy42</td>\n",
       "      <td>search_results</td>\n",
       "      <td>click</td>\n",
       "      <td>view_search_results</td>\n",
       "      <td>Windows Desktop</td>\n",
       "      <td>67753.00000</td>\n",
       "    </tr>\n",
       "    <tr>\n",
       "      <th>3</th>\n",
       "      <td>d1mm9tcy42</td>\n",
       "      <td>search_results</td>\n",
       "      <td>click</td>\n",
       "      <td>view_search_results</td>\n",
       "      <td>Windows Desktop</td>\n",
       "      <td>22141.00000</td>\n",
       "    </tr>\n",
       "    <tr>\n",
       "      <th>5</th>\n",
       "      <td>d1mm9tcy42</td>\n",
       "      <td>search_results</td>\n",
       "      <td>click</td>\n",
       "      <td>view_search_results</td>\n",
       "      <td>Windows Desktop</td>\n",
       "      <td>7703.00000</td>\n",
       "    </tr>\n",
       "    <tr>\n",
       "      <th>7</th>\n",
       "      <td>d1mm9tcy42</td>\n",
       "      <td>personalize</td>\n",
       "      <td>data</td>\n",
       "      <td>wishlist_content_update</td>\n",
       "      <td>Windows Desktop</td>\n",
       "      <td>831.00000</td>\n",
       "    </tr>\n",
       "    <tr>\n",
       "      <th>8</th>\n",
       "      <td>d1mm9tcy42</td>\n",
       "      <td>index</td>\n",
       "      <td>view</td>\n",
       "      <td>view_search_results</td>\n",
       "      <td>Windows Desktop</td>\n",
       "      <td>20842.00000</td>\n",
       "    </tr>\n",
       "  </tbody>\n",
       "</table>\n",
       "</div>"
      ],
      "text/plain": [
       "      user_id          action action_type            action_detail  \\\n",
       "1  d1mm9tcy42  search_results       click      view_search_results   \n",
       "3  d1mm9tcy42  search_results       click      view_search_results   \n",
       "5  d1mm9tcy42  search_results       click      view_search_results   \n",
       "7  d1mm9tcy42     personalize        data  wishlist_content_update   \n",
       "8  d1mm9tcy42           index        view      view_search_results   \n",
       "\n",
       "       device_type  secs_elapsed  \n",
       "1  Windows Desktop   67753.00000  \n",
       "3  Windows Desktop   22141.00000  \n",
       "5  Windows Desktop    7703.00000  \n",
       "7  Windows Desktop     831.00000  \n",
       "8  Windows Desktop   20842.00000  "
      ]
     },
     "execution_count": 21,
     "metadata": {},
     "output_type": "execute_result"
    }
   ],
   "source": [
    "df_sessions1.head()"
   ]
  },
  {
   "cell_type": "code",
   "execution_count": 22,
   "id": "dd847cd8",
   "metadata": {},
   "outputs": [
    {
     "data": {
      "text/plain": [
       "id                                 object\n",
       "date_account_created       datetime64[ns]\n",
       "timestamp_first_active     datetime64[ns]\n",
       "date_first_booking         datetime64[ns]\n",
       "gender                             object\n",
       "age                                 int32\n",
       "signup_method                      object\n",
       "signup_flow                         int64\n",
       "language                           object\n",
       "affiliate_channel                  object\n",
       "affiliate_provider                 object\n",
       "first_affiliate_tracked            object\n",
       "signup_app                         object\n",
       "first_device_type                  object\n",
       "first_browser                      object\n",
       "country_destination                object\n",
       "dtype: object"
      ]
     },
     "execution_count": 22,
     "metadata": {},
     "output_type": "execute_result"
    }
   ],
   "source": [
    "df1.dtypes"
   ]
  },
  {
   "attachments": {},
   "cell_type": "markdown",
   "id": "85cb1c6a",
   "metadata": {},
   "source": [
    "# 2.0 Feature Engineering"
   ]
  },
  {
   "cell_type": "code",
   "execution_count": 23,
   "id": "32525796",
   "metadata": {},
   "outputs": [],
   "source": [
    "df2 = df1.copy()"
   ]
  },
  {
   "cell_type": "code",
   "execution_count": 24,
   "id": "fb3e6cba",
   "metadata": {},
   "outputs": [
    {
     "data": {
      "text/plain": [
       "id                                 object\n",
       "date_account_created       datetime64[ns]\n",
       "timestamp_first_active     datetime64[ns]\n",
       "date_first_booking         datetime64[ns]\n",
       "gender                             object\n",
       "age                                 int32\n",
       "signup_method                      object\n",
       "signup_flow                         int64\n",
       "language                           object\n",
       "affiliate_channel                  object\n",
       "affiliate_provider                 object\n",
       "first_affiliate_tracked            object\n",
       "signup_app                         object\n",
       "first_device_type                  object\n",
       "first_browser                      object\n",
       "country_destination                object\n",
       "dtype: object"
      ]
     },
     "execution_count": 24,
     "metadata": {},
     "output_type": "execute_result"
    }
   ],
   "source": [
    "df2.dtypes"
   ]
  },
  {
   "attachments": {},
   "cell_type": "markdown",
   "id": "602ee56a",
   "metadata": {},
   "source": [
    "## 2.1 Creature nem features"
   ]
  },
  {
   "cell_type": "code",
   "execution_count": 25,
   "id": "e5a15c40",
   "metadata": {},
   "outputs": [],
   "source": [
    "# days from frist active up to first booking\n",
    "\n",
    "df2['first_active'] = pd.to_datetime( df2['timestamp_first_active'].dt.strftime(\"%Y-%m-%d\") )\n",
    "df2['days_from_first_active_until_booking'] = (df2['date_first_booking'] - df2['first_active']).apply( lambda x: x.days)\n",
    "\n",
    "\n",
    "# days from frist active upt to account created\n",
    "df2['days_from_first_active_until_created'] = (df2['date_account_created'] - df2['first_active']).apply( lambda x: x.days)\n",
    "\n",
    "\n",
    "# days from account created up to first booking\n",
    "df2['days_from_accounted_created_until_first_booking'] = (df2['date_first_booking'] - df2['first_active']).apply( lambda x: x.days)\n",
    "\n",
    "################################ First active ##################################\n",
    "\n",
    "\n",
    "# year of first active\n",
    "df2['year_first_active'] = df2['first_active'].dt.year\n",
    "\n",
    "\n",
    "# month of first active\n",
    "df2['month_first_active'] = df2['first_active'].dt.month\n",
    "\n",
    "\n",
    "# day of first active\n",
    "df2['day_first_active'] = df2['first_active'].dt.day\n",
    "\n",
    "\n",
    "# day of week first active\n",
    "df2['day_of_week_first_active'] = df2['first_active'].dt.day_of_week\n",
    "\n",
    "\n",
    "# week of year first active\n",
    "df2['day_of_year_first_active'] = df2['first_active'].dt.day_of_year\n",
    "\n",
    "\n",
    "######################## Booking #####################\n",
    "\n",
    "# year of first booking\n",
    "df2['year_first_booking'] = df2['date_first_booking'].dt.year\n",
    "\n",
    "\n",
    "# month of first booking\n",
    "df2['month_first_booking'] = df2['date_first_booking'].dt.month\n",
    "\n",
    "\n",
    "# day of first booking\n",
    "df2['day_first_booking'] = df2['date_first_booking'].dt.day\n",
    "\n",
    "\n",
    "# day of week first booking\n",
    "df2['day_of_week_first_booking'] = df2['date_first_booking'].dt.day_of_week\n",
    "\n",
    "\n",
    "# week of year first booking\n",
    "df2['day_of_year_first_booking'] = df2['date_first_booking'].dt.year\n",
    "\n",
    "#=================================== First Account Created ==============================\n",
    "# year of first account_created\n",
    "df2['year_first_account_created'] = df2['date_account_created'].dt.year\n",
    "\n",
    "\n",
    "# month of first account_created\n",
    "df2['month_first_account_created'] = df2['date_account_created'].dt.month\n",
    "\n",
    "\n",
    "# day of first account_created\n",
    "df2['day_first_account_created'] = df2['date_account_created'].dt.day\n",
    "\n",
    "\n",
    "# day of week first account_created\n",
    "df2['day_of_week_first_account_created'] = df2['date_account_created'].dt.day_of_week\n",
    "\n",
    "\n",
    "# week of year first account_created\n",
    "df2['day_of_year_first_account_created'] = df2['date_account_created'].dt.day_of_year"
   ]
  },
  {
   "cell_type": "code",
   "execution_count": 26,
   "metadata": {},
   "outputs": [
    {
     "data": {
      "text/html": [
       "<div>\n",
       "<style scoped>\n",
       "    .dataframe tbody tr th:only-of-type {\n",
       "        vertical-align: middle;\n",
       "    }\n",
       "\n",
       "    .dataframe tbody tr th {\n",
       "        vertical-align: top;\n",
       "    }\n",
       "\n",
       "    .dataframe thead th {\n",
       "        text-align: right;\n",
       "    }\n",
       "</style>\n",
       "<table border=\"1\" class=\"dataframe\">\n",
       "  <thead>\n",
       "    <tr style=\"text-align: right;\">\n",
       "      <th></th>\n",
       "      <th>id</th>\n",
       "      <th>date_account_created</th>\n",
       "      <th>timestamp_first_active</th>\n",
       "      <th>date_first_booking</th>\n",
       "      <th>gender</th>\n",
       "      <th>age</th>\n",
       "      <th>signup_method</th>\n",
       "      <th>signup_flow</th>\n",
       "      <th>language</th>\n",
       "      <th>affiliate_channel</th>\n",
       "      <th>affiliate_provider</th>\n",
       "      <th>first_affiliate_tracked</th>\n",
       "      <th>signup_app</th>\n",
       "      <th>first_device_type</th>\n",
       "      <th>first_browser</th>\n",
       "      <th>country_destination</th>\n",
       "      <th>first_active</th>\n",
       "      <th>days_from_first_active_until_booking</th>\n",
       "      <th>days_from_first_active_until_created</th>\n",
       "      <th>days_from_accounted_created_until_first_booking</th>\n",
       "      <th>year_first_active</th>\n",
       "      <th>month_first_active</th>\n",
       "      <th>day_first_active</th>\n",
       "      <th>day_of_week_first_active</th>\n",
       "      <th>day_of_year_first_active</th>\n",
       "      <th>year_first_booking</th>\n",
       "      <th>month_first_booking</th>\n",
       "      <th>day_first_booking</th>\n",
       "      <th>day_of_week_first_booking</th>\n",
       "      <th>day_of_year_first_booking</th>\n",
       "      <th>year_first_account_created</th>\n",
       "      <th>month_first_account_created</th>\n",
       "      <th>day_first_account_created</th>\n",
       "      <th>day_of_week_first_account_created</th>\n",
       "      <th>day_of_year_first_account_created</th>\n",
       "    </tr>\n",
       "  </thead>\n",
       "  <tbody>\n",
       "    <tr>\n",
       "      <th>0</th>\n",
       "      <td>gxn3p5htnn</td>\n",
       "      <td>2010-06-28</td>\n",
       "      <td>2009-03-19 04:32:55</td>\n",
       "      <td>2015-06-29</td>\n",
       "      <td>-unknown-</td>\n",
       "      <td>49</td>\n",
       "      <td>facebook</td>\n",
       "      <td>0</td>\n",
       "      <td>en</td>\n",
       "      <td>direct</td>\n",
       "      <td>direct</td>\n",
       "      <td>untracked</td>\n",
       "      <td>Web</td>\n",
       "      <td>Mac Desktop</td>\n",
       "      <td>Chrome</td>\n",
       "      <td>NDF</td>\n",
       "      <td>2009-03-19</td>\n",
       "      <td>2293</td>\n",
       "      <td>466</td>\n",
       "      <td>2293</td>\n",
       "      <td>2009</td>\n",
       "      <td>3</td>\n",
       "      <td>19</td>\n",
       "      <td>3</td>\n",
       "      <td>78</td>\n",
       "      <td>2015</td>\n",
       "      <td>6</td>\n",
       "      <td>29</td>\n",
       "      <td>0</td>\n",
       "      <td>2015</td>\n",
       "      <td>2010</td>\n",
       "      <td>6</td>\n",
       "      <td>28</td>\n",
       "      <td>0</td>\n",
       "      <td>179</td>\n",
       "    </tr>\n",
       "    <tr>\n",
       "      <th>1</th>\n",
       "      <td>820tgsjxq7</td>\n",
       "      <td>2011-05-25</td>\n",
       "      <td>2009-05-23 17:48:09</td>\n",
       "      <td>2015-06-29</td>\n",
       "      <td>MALE</td>\n",
       "      <td>38</td>\n",
       "      <td>facebook</td>\n",
       "      <td>0</td>\n",
       "      <td>en</td>\n",
       "      <td>seo</td>\n",
       "      <td>google</td>\n",
       "      <td>untracked</td>\n",
       "      <td>Web</td>\n",
       "      <td>Mac Desktop</td>\n",
       "      <td>Chrome</td>\n",
       "      <td>NDF</td>\n",
       "      <td>2009-05-23</td>\n",
       "      <td>2228</td>\n",
       "      <td>732</td>\n",
       "      <td>2228</td>\n",
       "      <td>2009</td>\n",
       "      <td>5</td>\n",
       "      <td>23</td>\n",
       "      <td>5</td>\n",
       "      <td>143</td>\n",
       "      <td>2015</td>\n",
       "      <td>6</td>\n",
       "      <td>29</td>\n",
       "      <td>0</td>\n",
       "      <td>2015</td>\n",
       "      <td>2011</td>\n",
       "      <td>5</td>\n",
       "      <td>25</td>\n",
       "      <td>2</td>\n",
       "      <td>145</td>\n",
       "    </tr>\n",
       "    <tr>\n",
       "      <th>2</th>\n",
       "      <td>4ft3gnwmtx</td>\n",
       "      <td>2010-09-28</td>\n",
       "      <td>2009-06-09 23:12:47</td>\n",
       "      <td>2010-08-02</td>\n",
       "      <td>FEMALE</td>\n",
       "      <td>56</td>\n",
       "      <td>basic</td>\n",
       "      <td>3</td>\n",
       "      <td>en</td>\n",
       "      <td>direct</td>\n",
       "      <td>direct</td>\n",
       "      <td>untracked</td>\n",
       "      <td>Web</td>\n",
       "      <td>Windows Desktop</td>\n",
       "      <td>IE</td>\n",
       "      <td>US</td>\n",
       "      <td>2009-06-09</td>\n",
       "      <td>419</td>\n",
       "      <td>476</td>\n",
       "      <td>419</td>\n",
       "      <td>2009</td>\n",
       "      <td>6</td>\n",
       "      <td>9</td>\n",
       "      <td>1</td>\n",
       "      <td>160</td>\n",
       "      <td>2010</td>\n",
       "      <td>8</td>\n",
       "      <td>2</td>\n",
       "      <td>0</td>\n",
       "      <td>2010</td>\n",
       "      <td>2010</td>\n",
       "      <td>9</td>\n",
       "      <td>28</td>\n",
       "      <td>1</td>\n",
       "      <td>271</td>\n",
       "    </tr>\n",
       "    <tr>\n",
       "      <th>3</th>\n",
       "      <td>bjjt8pjhuk</td>\n",
       "      <td>2011-12-05</td>\n",
       "      <td>2009-10-31 06:01:29</td>\n",
       "      <td>2012-09-08</td>\n",
       "      <td>FEMALE</td>\n",
       "      <td>42</td>\n",
       "      <td>facebook</td>\n",
       "      <td>0</td>\n",
       "      <td>en</td>\n",
       "      <td>direct</td>\n",
       "      <td>direct</td>\n",
       "      <td>untracked</td>\n",
       "      <td>Web</td>\n",
       "      <td>Mac Desktop</td>\n",
       "      <td>Firefox</td>\n",
       "      <td>other</td>\n",
       "      <td>2009-10-31</td>\n",
       "      <td>1043</td>\n",
       "      <td>765</td>\n",
       "      <td>1043</td>\n",
       "      <td>2009</td>\n",
       "      <td>10</td>\n",
       "      <td>31</td>\n",
       "      <td>5</td>\n",
       "      <td>304</td>\n",
       "      <td>2012</td>\n",
       "      <td>9</td>\n",
       "      <td>8</td>\n",
       "      <td>5</td>\n",
       "      <td>2012</td>\n",
       "      <td>2011</td>\n",
       "      <td>12</td>\n",
       "      <td>5</td>\n",
       "      <td>0</td>\n",
       "      <td>339</td>\n",
       "    </tr>\n",
       "    <tr>\n",
       "      <th>4</th>\n",
       "      <td>87mebub9p4</td>\n",
       "      <td>2010-09-14</td>\n",
       "      <td>2009-12-08 06:11:05</td>\n",
       "      <td>2010-02-18</td>\n",
       "      <td>-unknown-</td>\n",
       "      <td>41</td>\n",
       "      <td>basic</td>\n",
       "      <td>0</td>\n",
       "      <td>en</td>\n",
       "      <td>direct</td>\n",
       "      <td>direct</td>\n",
       "      <td>untracked</td>\n",
       "      <td>Web</td>\n",
       "      <td>Mac Desktop</td>\n",
       "      <td>Chrome</td>\n",
       "      <td>US</td>\n",
       "      <td>2009-12-08</td>\n",
       "      <td>72</td>\n",
       "      <td>280</td>\n",
       "      <td>72</td>\n",
       "      <td>2009</td>\n",
       "      <td>12</td>\n",
       "      <td>8</td>\n",
       "      <td>1</td>\n",
       "      <td>342</td>\n",
       "      <td>2010</td>\n",
       "      <td>2</td>\n",
       "      <td>18</td>\n",
       "      <td>3</td>\n",
       "      <td>2010</td>\n",
       "      <td>2010</td>\n",
       "      <td>9</td>\n",
       "      <td>14</td>\n",
       "      <td>1</td>\n",
       "      <td>257</td>\n",
       "    </tr>\n",
       "  </tbody>\n",
       "</table>\n",
       "</div>"
      ],
      "text/plain": [
       "           id date_account_created timestamp_first_active date_first_booking  \\\n",
       "0  gxn3p5htnn           2010-06-28    2009-03-19 04:32:55         2015-06-29   \n",
       "1  820tgsjxq7           2011-05-25    2009-05-23 17:48:09         2015-06-29   \n",
       "2  4ft3gnwmtx           2010-09-28    2009-06-09 23:12:47         2010-08-02   \n",
       "3  bjjt8pjhuk           2011-12-05    2009-10-31 06:01:29         2012-09-08   \n",
       "4  87mebub9p4           2010-09-14    2009-12-08 06:11:05         2010-02-18   \n",
       "\n",
       "      gender  age signup_method  signup_flow language affiliate_channel  \\\n",
       "0  -unknown-   49      facebook            0       en            direct   \n",
       "1       MALE   38      facebook            0       en               seo   \n",
       "2     FEMALE   56         basic            3       en            direct   \n",
       "3     FEMALE   42      facebook            0       en            direct   \n",
       "4  -unknown-   41         basic            0       en            direct   \n",
       "\n",
       "  affiliate_provider first_affiliate_tracked signup_app first_device_type  \\\n",
       "0             direct               untracked        Web       Mac Desktop   \n",
       "1             google               untracked        Web       Mac Desktop   \n",
       "2             direct               untracked        Web   Windows Desktop   \n",
       "3             direct               untracked        Web       Mac Desktop   \n",
       "4             direct               untracked        Web       Mac Desktop   \n",
       "\n",
       "  first_browser country_destination first_active  \\\n",
       "0        Chrome                 NDF   2009-03-19   \n",
       "1        Chrome                 NDF   2009-05-23   \n",
       "2            IE                  US   2009-06-09   \n",
       "3       Firefox               other   2009-10-31   \n",
       "4        Chrome                  US   2009-12-08   \n",
       "\n",
       "   days_from_first_active_until_booking  days_from_first_active_until_created  \\\n",
       "0                                  2293                                   466   \n",
       "1                                  2228                                   732   \n",
       "2                                   419                                   476   \n",
       "3                                  1043                                   765   \n",
       "4                                    72                                   280   \n",
       "\n",
       "   days_from_accounted_created_until_first_booking  year_first_active  \\\n",
       "0                                             2293               2009   \n",
       "1                                             2228               2009   \n",
       "2                                              419               2009   \n",
       "3                                             1043               2009   \n",
       "4                                               72               2009   \n",
       "\n",
       "   month_first_active  day_first_active  day_of_week_first_active  \\\n",
       "0                   3                19                         3   \n",
       "1                   5                23                         5   \n",
       "2                   6                 9                         1   \n",
       "3                  10                31                         5   \n",
       "4                  12                 8                         1   \n",
       "\n",
       "   day_of_year_first_active  year_first_booking  month_first_booking  \\\n",
       "0                        78                2015                    6   \n",
       "1                       143                2015                    6   \n",
       "2                       160                2010                    8   \n",
       "3                       304                2012                    9   \n",
       "4                       342                2010                    2   \n",
       "\n",
       "   day_first_booking  day_of_week_first_booking  day_of_year_first_booking  \\\n",
       "0                 29                          0                       2015   \n",
       "1                 29                          0                       2015   \n",
       "2                  2                          0                       2010   \n",
       "3                  8                          5                       2012   \n",
       "4                 18                          3                       2010   \n",
       "\n",
       "   year_first_account_created  month_first_account_created  \\\n",
       "0                        2010                            6   \n",
       "1                        2011                            5   \n",
       "2                        2010                            9   \n",
       "3                        2011                           12   \n",
       "4                        2010                            9   \n",
       "\n",
       "   day_first_account_created  day_of_week_first_account_created  \\\n",
       "0                         28                                  0   \n",
       "1                         25                                  2   \n",
       "2                         28                                  1   \n",
       "3                          5                                  0   \n",
       "4                         14                                  1   \n",
       "\n",
       "   day_of_year_first_account_created  \n",
       "0                                179  \n",
       "1                                145  \n",
       "2                                271  \n",
       "3                                339  \n",
       "4                                257  "
      ]
     },
     "execution_count": 26,
     "metadata": {},
     "output_type": "execute_result"
    }
   ],
   "source": [
    "df2.head()"
   ]
  },
  {
   "cell_type": "code",
   "execution_count": 27,
   "metadata": {},
   "outputs": [
    {
     "data": {
      "text/plain": [
       "(207386, 35)"
      ]
     },
     "execution_count": 27,
     "metadata": {},
     "output_type": "execute_result"
    }
   ],
   "source": [
    "df2.shape"
   ]
  },
  {
   "attachments": {},
   "cell_type": "markdown",
   "id": "d8375f88",
   "metadata": {},
   "source": [
    "# 3.0 Data Filtering"
   ]
  },
  {
   "cell_type": "code",
   "execution_count": 28,
   "id": "05a56bb0",
   "metadata": {},
   "outputs": [],
   "source": [
    "df3 = df2.copy()"
   ]
  },
  {
   "attachments": {},
   "cell_type": "markdown",
   "id": "3f4cd506",
   "metadata": {},
   "source": [
    "## 3.1 Filtering Rows"
   ]
  },
  {
   "cell_type": "code",
   "execution_count": 29,
   "id": "3b240879",
   "metadata": {},
   "outputs": [],
   "source": [
    "# age - greater than 15 and lower than 120 - There are few people over 120 years old\n",
    "df3 = df3[ (df3['age']>15) & (df3['age']<100) ]\n",
    "\n",
    "# secs_elapsed - There is no possible 0 secs elapsed on website\n",
    "#df3 = df3[df3['secs_elapsed']>0 ]"
   ]
  },
  {
   "attachments": {},
   "cell_type": "markdown",
   "id": "1986f482",
   "metadata": {},
   "source": [
    "# 4.0 EDA"
   ]
  },
  {
   "cell_type": "code",
   "execution_count": 30,
   "id": "61f230ce",
   "metadata": {},
   "outputs": [],
   "source": [
    "df4 = df3.copy()"
   ]
  },
  {
   "attachments": {},
   "cell_type": "markdown",
   "id": "4a76055c",
   "metadata": {},
   "source": [
    "## 4.1 Univariate Analysis"
   ]
  },
  {
   "cell_type": "code",
   "execution_count": 31,
   "id": "35eee658",
   "metadata": {},
   "outputs": [
    {
     "data": {
      "application/vnd.jupyter.widget-view+json": {
       "model_id": "87f8dc87130342b7a993ab0f29323a39",
       "version_major": 2,
       "version_minor": 0
      },
      "text/plain": [
       "Summarize dataset:   0%|          | 0/5 [00:00<?, ?it/s]"
      ]
     },
     "metadata": {},
     "output_type": "display_data"
    },
    {
     "data": {
      "application/vnd.jupyter.widget-view+json": {
       "model_id": "a09f80df5426491db9a47f32fa953a00",
       "version_major": 2,
       "version_minor": 0
      },
      "text/plain": [
       "Generate report structure:   0%|          | 0/1 [00:00<?, ?it/s]"
      ]
     },
     "metadata": {},
     "output_type": "display_data"
    },
    {
     "data": {
      "application/vnd.jupyter.widget-view+json": {
       "model_id": "418a0ac59e524d1ba90eaec6ee0025ee",
       "version_major": 2,
       "version_minor": 0
      },
      "text/plain": [
       "Render HTML:   0%|          | 0/1 [00:00<?, ?it/s]"
      ]
     },
     "metadata": {},
     "output_type": "display_data"
    },
    {
     "data": {
      "application/vnd.jupyter.widget-view+json": {
       "model_id": "77e9f54a39724870890a538ee7cdcae9",
       "version_major": 2,
       "version_minor": 0
      },
      "text/plain": [
       "Export report to file:   0%|          | 0/1 [00:00<?, ?it/s]"
      ]
     },
     "metadata": {},
     "output_type": "display_data"
    }
   ],
   "source": [
    "profile = ProfileReport(df4, explorative=True)\n",
    "\n",
    "#Saving results to a HTML file\n",
    "profile.to_file(\"output.html\")"
   ]
  },
  {
   "cell_type": "code",
   "execution_count": 32,
   "id": "383afdb6",
   "metadata": {},
   "outputs": [],
   "source": [
    "# remove columns with a lot of zeros ( >90%)\n",
    "\n",
    "# aux0 = (df4==0).sum(axis=0)\n",
    "# cols_zeros = (aux0/len(df4)).sort_values(ascending=False)\n",
    "# cols_zeros = cols_zeros[cols_zeros>0.9]\n",
    "# print( cols_zeros )\n",
    "# print( df4.shape )\n",
    "# df4 = df4.drop(cols_zeros.index, axis=1)\n",
    "# print( df4.shape )"
   ]
  },
  {
   "cell_type": "code",
   "execution_count": 33,
   "id": "b5a08fc4",
   "metadata": {},
   "outputs": [
    {
     "name": "stdout",
     "output_type": "stream",
     "text": [
      "['language', 'signup_app', 'days_from_first_active_until_created']\n",
      "(205019, 35)\n",
      "(205019, 32)\n"
     ]
    }
   ],
   "source": [
    "# remove columns with almost no information ( very low cardinality )\n",
    "\n",
    "low_card_cols = []\n",
    "\n",
    "for i in df4.columns:\n",
    "    if df4[i].value_counts(normalize=True).max()>0.85:\n",
    "        low_card_cols.append(i)\n",
    "\n",
    "print( low_card_cols )\n",
    "\n",
    "print( df4.shape )\n",
    "df4 = df4.drop( low_card_cols , axis=1 )\n",
    "print( df4.shape )"
   ]
  },
  {
   "attachments": {},
   "cell_type": "markdown",
   "id": "c0b21abf",
   "metadata": {},
   "source": [
    "## 4.2 Bivariate Analysis\n"
   ]
  },
  {
   "cell_type": "code",
   "execution_count": 34,
   "id": "544dffae",
   "metadata": {},
   "outputs": [
    {
     "name": "stdout",
     "output_type": "stream",
     "text": [
      "columns to drop: ['days_from_accounted_created_until_first_booking', 'day_of_year_first_active', 'day_of_year_first_booking', 'year_first_account_created', 'month_first_account_created', 'day_first_account_created', 'day_of_week_first_account_created', 'day_of_year_first_account_created']\n"
     ]
    },
    {
     "data": {
      "image/png": "[encoded data removed]",
      "text/plain": [
       "<Figure size 1100x900 with 2 Axes>"
      ]
     },
     "metadata": {},
     "output_type": "display_data"
    }
   ],
   "source": [
    "\n",
    "# Compute the correlation matrix\n",
    "corr = df4.select_dtypes(exclude=[\"object\",\"datetime64[ns]\"]).corr().abs()\n",
    "\n",
    "# Generate a mask for the upper triangle\n",
    "mask = np.triu(np.ones_like(corr, dtype=bool))\n",
    "\n",
    "# Set up the matplotlib figure\n",
    "f, ax = plt.subplots(figsize=(11, 9))\n",
    "\n",
    "# Generate a custom diverging colormap\n",
    "cmap = sns.diverging_palette(230, 20, as_cmap=True)\n",
    "\n",
    "# Draw the heatmap with the mask and correct aspect ratio\n",
    "sns.heatmap(corr, mask=mask, cmap=cmap, vmax=.3, center=0,\n",
    "            square=True, linewidths=.5, cbar_kws={\"shrink\": .5})\n",
    "\n",
    "# Select upper triangle of correlation matrix\n",
    "upper = corr.where(np.triu(np.ones(corr.shape), k=1).astype(bool))\n",
    "\n",
    "# Find features with correlation greater than 0.95\n",
    "to_drop = [column for column in upper.columns if any(upper[column] > 0.80)]\n",
    "\n",
    "# Drop features \n",
    "print( f\"columns to drop: {to_drop}\")\n"
   ]
  },
  {
   "cell_type": "code",
   "execution_count": 35,
   "id": "9e70353c",
   "metadata": {},
   "outputs": [
    {
     "name": "stdout",
     "output_type": "stream",
     "text": [
      "['day_of_year_first_active', 'year_first_account_created', 'month_first_account_created', 'day_first_account_created', 'day_of_week_first_account_created', 'day_of_year_first_account_created']\n"
     ]
    }
   ],
   "source": [
    "# only \"booking\" columns will be tested\n",
    "\n",
    "to_drop2 = [x for x in to_drop if not re.search(r'first_booking', x)]\n",
    "print(to_drop2)"
   ]
  },
  {
   "cell_type": "code",
   "execution_count": 36,
   "id": "0942cffd",
   "metadata": {},
   "outputs": [
    {
     "data": {
      "text/plain": [
       "<AxesSubplot: >"
      ]
     },
     "execution_count": 36,
     "metadata": {},
     "output_type": "execute_result"
    },
    {
     "data": {
      "image/png": "[encoded data removed]",
      "text/plain": [
       "<Figure size 1100x900 with 2 Axes>"
      ]
     },
     "metadata": {},
     "output_type": "display_data"
    }
   ],
   "source": [
    "df4 = df4.drop(to_drop2, axis=1)\n",
    "# Compute the correlation matrix\n",
    "corr2 = df4.select_dtypes(exclude=[\"object\",\"datetime64[ns]\"]).corr().abs()\n",
    "\n",
    "# Generate a mask for the upper triangle\n",
    "mask = np.triu(np.ones_like(corr2, dtype=bool))\n",
    "\n",
    "# Set up the matplotlib figure\n",
    "f, ax = plt.subplots(figsize=(11, 9))\n",
    "\n",
    "# Generate a custom diverging colormap\n",
    "cmap = sns.diverging_palette(230, 20, as_cmap=True)\n",
    "\n",
    "# Draw the heatmap with the mask and correct aspect ratio\n",
    "sns.heatmap(corr2, mask=mask, cmap=cmap, vmax=.3, center=0,\n",
    "            square=True, linewidths=.5, cbar_kws={\"shrink\": .5})"
   ]
  },
  {
   "cell_type": "code",
   "execution_count": 37,
   "id": "14a7e3f3",
   "metadata": {},
   "outputs": [
    {
     "name": "stderr",
     "output_type": "stream",
     "text": [
      "C:\\Users\\kosmo\\AppData\\Local\\Temp\\ipykernel_25480\\4156658604.py:13: RuntimeWarning: invalid value encountered in double_scalars\n",
      "  return np.sqrt(phi2corr / min( (kcorr-1), (rcorr-1)))\n",
      "C:\\Users\\kosmo\\AppData\\Local\\Temp\\ipykernel_25480\\4156658604.py:13: RuntimeWarning: divide by zero encountered in double_scalars\n",
      "  return np.sqrt(phi2corr / min( (kcorr-1), (rcorr-1)))\n",
      "C:\\Users\\kosmo\\AppData\\Local\\Temp\\ipykernel_25480\\4156658604.py:13: RuntimeWarning: divide by zero encountered in double_scalars\n",
      "  return np.sqrt(phi2corr / min( (kcorr-1), (rcorr-1)))\n",
      "C:\\Users\\kosmo\\AppData\\Local\\Temp\\ipykernel_25480\\4156658604.py:13: RuntimeWarning: invalid value encountered in double_scalars\n",
      "  return np.sqrt(phi2corr / min( (kcorr-1), (rcorr-1)))\n",
      "C:\\Users\\kosmo\\AppData\\Local\\Temp\\ipykernel_25480\\4156658604.py:13: RuntimeWarning: invalid value encountered in double_scalars\n",
      "  return np.sqrt(phi2corr / min( (kcorr-1), (rcorr-1)))\n",
      "C:\\Users\\kosmo\\AppData\\Local\\Temp\\ipykernel_25480\\4156658604.py:13: RuntimeWarning: invalid value encountered in double_scalars\n",
      "  return np.sqrt(phi2corr / min( (kcorr-1), (rcorr-1)))\n",
      "C:\\Users\\kosmo\\AppData\\Local\\Temp\\ipykernel_25480\\4156658604.py:13: RuntimeWarning: divide by zero encountered in double_scalars\n",
      "  return np.sqrt(phi2corr / min( (kcorr-1), (rcorr-1)))\n",
      "C:\\Users\\kosmo\\AppData\\Local\\Temp\\ipykernel_25480\\4156658604.py:13: RuntimeWarning: divide by zero encountered in double_scalars\n",
      "  return np.sqrt(phi2corr / min( (kcorr-1), (rcorr-1)))\n"
     ]
    },
    {
     "data": {
      "image/png": "[encoded data removed]",
      "text/plain": [
       "<Figure size 700x600 with 2 Axes>"
      ]
     },
     "metadata": {},
     "output_type": "display_data"
    }
   ],
   "source": [
    "\n",
    "\n",
    "\n",
    "cols = df4.select_dtypes(include='object').columns.tolist()\n",
    "corrM = np.zeros((len(cols),len(cols)))\n",
    "# there's probably a nice pandas way to do this\n",
    "for col1, col2 in itertools.combinations(cols, 2):\n",
    "    idx1, idx2 = cols.index(col1), cols.index(col2)\n",
    "    corrM[idx1, idx2] = cramers_corrected_stat(pd.crosstab(df4[col1], df4[col2]))\n",
    "    corrM[idx2, idx1] = corrM[idx1, idx2]\n",
    "\n",
    "corr = pd.DataFrame(corrM, index=cols, columns=cols)\n",
    "fig, ax = plt.subplots(figsize=(7, 6))\n",
    "ax = sns.heatmap(corr, annot=True, ax=ax); ax.set_title(\"Cramer V Correlation between Variables\");"
   ]
  },
  {
   "cell_type": "code",
   "execution_count": 38,
   "id": "f054c9b3",
   "metadata": {},
   "outputs": [
    {
     "name": "stdout",
     "output_type": "stream",
     "text": [
      "affiliate_channel\n",
      "first_device_type\n"
     ]
    }
   ],
   "source": [
    "# affiliate channel is highly correlated with affiliate provider, the one with less cardinality will be kept ( In general, the same information with less cardinality is better than high's)\n",
    "\n",
    "col_remove1= df4[['affiliate_channel', 'affiliate_provider']].nunique().idxmin()\n",
    "print( col_remove1 )\n",
    "df4 = df4.drop( col_remove1, axis=1 )\n",
    "\n",
    "\n",
    "\n",
    "# affiliate first device type is highly correlated with first_browser ( In general, the same information with less cardinality is better than high's)\n",
    "\n",
    "col_remove2 = df4[['first_device_type', 'first_browser']].nunique().idxmin()\n",
    "print( col_remove2 )\n",
    "df4 = df4.drop( col_remove2 , axis=1 )\n",
    "\n"
   ]
  },
  {
   "attachments": {},
   "cell_type": "markdown",
   "id": "ee7d76ab",
   "metadata": {},
   "source": [
    "## 4.3 Multivariate analysis - Hypoteses Validation"
   ]
  },
  {
   "cell_type": "raw",
   "id": "c24a6bf5",
   "metadata": {},
   "source": [
    "H01 Em all destinatios, the users takes in average 15 days to book the airbnb - FALSE"
   ]
  },
  {
   "cell_type": "code",
   "execution_count": 39,
   "id": "8cbacebb",
   "metadata": {},
   "outputs": [
    {
     "data": {
      "text/plain": [
       "<AxesSubplot: xlabel='country_destination'>"
      ]
     },
     "execution_count": 39,
     "metadata": {},
     "output_type": "execute_result"
    },
    {
     "data": {
      "image/png": "[encoded data removed]",
      "text/plain": [
       "<Figure size 640x480 with 1 Axes>"
      ]
     },
     "metadata": {},
     "output_type": "display_data"
    }
   ],
   "source": [
    "df4.groupby(\"country_destination\")[\"days_from_first_active_until_booking\"].median().plot(kind='bar')"
   ]
  },
  {
   "cell_type": "code",
   "execution_count": 40,
   "id": "b8580a3c",
   "metadata": {},
   "outputs": [
    {
     "data": {
      "text/plain": [
       "<AxesSubplot: xlabel='country_destination'>"
      ]
     },
     "execution_count": 40,
     "metadata": {},
     "output_type": "execute_result"
    },
    {
     "data": {
      "image/png": "[encoded data removed]",
      "text/plain": [
       "<Figure size 640x480 with 1 Axes>"
      ]
     },
     "metadata": {},
     "output_type": "display_data"
    }
   ],
   "source": [
    "df4[df4[\"country_destination\"]!=\"NDF\"].groupby(\"country_destination\")[\"days_from_first_active_until_booking\"].median().sort_values().plot(kind='bar')"
   ]
  },
  {
   "cell_type": "raw",
   "id": "4698de19",
   "metadata": {},
   "source": [
    "H02 At leatst 50% of all web bookings is concentrated in US - FALSE"
   ]
  },
  {
   "cell_type": "raw",
   "id": "025f1f55",
   "metadata": {},
   "source": [
    "H03 The booking increases year to year - TRUE"
   ]
  },
  {
   "cell_type": "code",
   "execution_count": 41,
   "id": "f8abd85d",
   "metadata": {},
   "outputs": [
    {
     "data": {
      "text/plain": [
       "<AxesSubplot: xlabel='year_first_booking'>"
      ]
     },
     "execution_count": 41,
     "metadata": {},
     "output_type": "execute_result"
    },
    {
     "data": {
      "image/png": "[encoded data removed]",
      "text/plain": [
       "<Figure size 640x480 with 1 Axes>"
      ]
     },
     "metadata": {},
     "output_type": "display_data"
    }
   ],
   "source": [
    "df4.groupby(\"year_first_booking\")['id'].count().sort_index().plot()"
   ]
  },
  {
   "cell_type": "raw",
   "id": "4fa3857a",
   "metadata": {},
   "source": [
    "H04 The google channel is the most representative in bookings - FALSE"
   ]
  },
  {
   "cell_type": "code",
   "execution_count": 42,
   "id": "941bca1c",
   "metadata": {},
   "outputs": [
    {
     "data": {
      "text/plain": [
       "<AxesSubplot: >"
      ]
     },
     "execution_count": 42,
     "metadata": {},
     "output_type": "execute_result"
    },
    {
     "data": {
      "image/png": "[encoded data removed]",
      "text/plain": [
       "<Figure size 640x480 with 1 Axes>"
      ]
     },
     "metadata": {},
     "output_type": "display_data"
    }
   ],
   "source": [
    "df4[\"affiliate_provider\"].value_counts().plot()"
   ]
  },
  {
   "cell_type": "raw",
   "id": "833b1e81",
   "metadata": {},
   "source": [
    "H05 The USA is the most representative in bookings - apart from NOT DEFINED: True"
   ]
  },
  {
   "attachments": {},
   "cell_type": "markdown",
   "id": "a8202577",
   "metadata": {},
   "source": [
    "# 5.0 Data Prep"
   ]
  },
  {
   "cell_type": "code",
   "execution_count": 186,
   "id": "bdc381c4",
   "metadata": {},
   "outputs": [],
   "source": [
    "os.makedirs( os.getcwd()+\"\\preprocessors\", exist_ok=True)"
   ]
  },
  {
   "cell_type": "code",
   "execution_count": 43,
   "id": "2022c6a5",
   "metadata": {},
   "outputs": [],
   "source": [
    "df5 = df4.copy()\n",
    "for i in ['signup_flow']:\n",
    "    df5[i] = df5[i].astype(\"category\")"
   ]
  },
  {
   "cell_type": "code",
   "execution_count": 44,
   "id": "543d13c0",
   "metadata": {},
   "outputs": [
    {
     "data": {
      "text/plain": [
       "Index(['age', 'days_from_first_active_until_booking',\n",
       "       'days_from_accounted_created_until_first_booking', 'year_first_active',\n",
       "       'month_first_active', 'day_first_active', 'day_of_week_first_active',\n",
       "       'year_first_booking', 'month_first_booking', 'day_first_booking',\n",
       "       'day_of_week_first_booking', 'day_of_year_first_booking'],\n",
       "      dtype='object')"
      ]
     },
     "execution_count": 44,
     "metadata": {},
     "output_type": "execute_result"
    }
   ],
   "source": [
    "numeric_cols = df5.select_dtypes(exclude=['object', 'datetime64[ns]', \"category\"]).columns\n",
    "numeric_cols"
   ]
  },
  {
   "attachments": {},
   "cell_type": "markdown",
   "id": "d0961683",
   "metadata": {},
   "source": [
    "## 5.1 Rescaling"
   ]
  },
  {
   "cell_type": "raw",
   "id": "fe312650",
   "metadata": {},
   "source": [
    "\n",
    "# StandardScaler\n",
    "standard_cols = df5.filter(regex=\"age|day_of\").columns\n",
    "\n",
    "# MinMax\n",
    "minmax_cols = df5.filter(regex=\"year_first\").columns\n",
    "\n",
    "# RobustScaler\n",
    "robust_cols = df5.filter(regex=\"from\").columns"
   ]
  },
  {
   "cell_type": "code",
   "execution_count": 190,
   "id": "063b9a84",
   "metadata": {},
   "outputs": [],
   "source": [
    "# MinMax\n",
    "for i in numeric_cols:\n",
    "    mms = MinMaxScaler()\n",
    "    mms.fit_transform( df5[[i]])\n",
    "    pickle.dump(mms, open(f'preprocessors/{mms.__class__.__name__}_{i}.pkl', 'wb'))"
   ]
  },
  {
   "attachments": {},
   "cell_type": "markdown",
   "id": "87a1648d",
   "metadata": {},
   "source": [
    "## 5.2 Encoding"
   ]
  },
  {
   "cell_type": "code",
   "execution_count": 191,
   "id": "3cfe8f97",
   "metadata": {},
   "outputs": [
    {
     "data": {
      "text/plain": [
       "[]"
      ]
     },
     "execution_count": 191,
     "metadata": {},
     "output_type": "execute_result"
    }
   ],
   "source": [
    "cols_te = df5.drop([\"country_destination\",\"id\"], axis=1).select_dtypes(include=['object','category']).columns.tolist()\n",
    "cols_te"
   ]
  },
  {
   "cell_type": "code",
   "execution_count": 192,
   "id": "c3860c50",
   "metadata": {},
   "outputs": [
    {
     "data": {
      "text/plain": [
       "{'NDF': 0,\n",
       " 'US': 1,\n",
       " 'other': 2,\n",
       " 'CA': 3,\n",
       " 'FR': 4,\n",
       " 'ES': 5,\n",
       " 'GB': 6,\n",
       " 'IT': 7,\n",
       " 'PT': 8,\n",
       " 'NL': 9,\n",
       " 'DE': 10,\n",
       " 'AU': 11}"
      ]
     },
     "execution_count": 192,
     "metadata": {},
     "output_type": "execute_result"
    }
   ],
   "source": [
    "dic_countries = {}\n",
    "for n,v in enumerate(df5['country_destination'].unique()):\n",
    "    dic_countries[v]= n\n",
    "dic_countries"
   ]
  },
  {
   "cell_type": "code",
   "execution_count": 193,
   "id": "10e03c14",
   "metadata": {},
   "outputs": [],
   "source": [
    "for i in cols_te:\n",
    "    te = TargetEncoder()\n",
    "    df5[i]=te.fit_transform( df5[i], df5['country_destination'].map(dic_countries) )\n",
    "    pickle.dump(te, open(f'preprocessors/{te.__class__.__name__}_{i}.pkl', 'wb'))"
   ]
  },
  {
   "cell_type": "code",
   "execution_count": 194,
   "id": "ee25703a",
   "metadata": {},
   "outputs": [],
   "source": [
    "df5['signup_flow'] = LabelEncoder().fit_transform(df5['signup_flow'].astype(str))"
   ]
  },
  {
   "cell_type": "code",
   "execution_count": 195,
   "id": "20ef3527",
   "metadata": {},
   "outputs": [
    {
     "data": {
      "text/html": [
       "<div>\n",
       "<style scoped>\n",
       "    .dataframe tbody tr th:only-of-type {\n",
       "        vertical-align: middle;\n",
       "    }\n",
       "\n",
       "    .dataframe tbody tr th {\n",
       "        vertical-align: top;\n",
       "    }\n",
       "\n",
       "    .dataframe thead th {\n",
       "        text-align: right;\n",
       "    }\n",
       "</style>\n",
       "<table border=\"1\" class=\"dataframe\">\n",
       "  <thead>\n",
       "    <tr style=\"text-align: right;\">\n",
       "      <th></th>\n",
       "      <th>id</th>\n",
       "      <th>date_account_created</th>\n",
       "      <th>timestamp_first_active</th>\n",
       "      <th>date_first_booking</th>\n",
       "      <th>gender</th>\n",
       "      <th>age</th>\n",
       "      <th>signup_method</th>\n",
       "      <th>signup_flow</th>\n",
       "      <th>affiliate_provider</th>\n",
       "      <th>first_affiliate_tracked</th>\n",
       "      <th>first_browser</th>\n",
       "      <th>country_destination</th>\n",
       "      <th>first_active</th>\n",
       "      <th>days_from_first_active_until_booking</th>\n",
       "      <th>days_from_accounted_created_until_first_booking</th>\n",
       "      <th>year_first_active</th>\n",
       "      <th>month_first_active</th>\n",
       "      <th>day_first_active</th>\n",
       "      <th>day_of_week_first_active</th>\n",
       "      <th>year_first_booking</th>\n",
       "      <th>month_first_booking</th>\n",
       "      <th>day_first_booking</th>\n",
       "      <th>day_of_week_first_booking</th>\n",
       "      <th>day_of_year_first_booking</th>\n",
       "      <th>month_first_active_sin</th>\n",
       "      <th>month_first_active_cos</th>\n",
       "      <th>day_first_active_sin</th>\n",
       "      <th>day_first_active_cos</th>\n",
       "      <th>day_of_week_first_active_sin</th>\n",
       "      <th>day_of_week_first_active_cos</th>\n",
       "      <th>month_first_booking_sin</th>\n",
       "      <th>month_first_booking_cos</th>\n",
       "      <th>day_first_booking_sin</th>\n",
       "      <th>day_first_booking_cos</th>\n",
       "      <th>day_of_week_first_booking_sin</th>\n",
       "      <th>day_of_week_first_booking_cos</th>\n",
       "      <th>day_of_year_first_booking_sin</th>\n",
       "      <th>day_of_year_first_booking_cos</th>\n",
       "    </tr>\n",
       "  </thead>\n",
       "  <tbody>\n",
       "    <tr>\n",
       "      <th>0</th>\n",
       "      <td>gxn3p5htnn</td>\n",
       "      <td>2010-06-28</td>\n",
       "      <td>2009-03-19 04:32:55</td>\n",
       "      <td>2015-06-29</td>\n",
       "      <td>0.59582</td>\n",
       "      <td>49</td>\n",
       "      <td>0.79717</td>\n",
       "      <td>0</td>\n",
       "      <td>0.86239</td>\n",
       "      <td>0.86657</td>\n",
       "      <td>0.91382</td>\n",
       "      <td>NDF</td>\n",
       "      <td>2009-03-19</td>\n",
       "      <td>2293</td>\n",
       "      <td>2293</td>\n",
       "      <td>2009</td>\n",
       "      <td>3</td>\n",
       "      <td>19</td>\n",
       "      <td>3</td>\n",
       "      <td>2015</td>\n",
       "      <td>6</td>\n",
       "      <td>29</td>\n",
       "      <td>0</td>\n",
       "      <td>2015</td>\n",
       "      <td>1.00000</td>\n",
       "      <td>0.00000</td>\n",
       "      <td>-0.65137</td>\n",
       "      <td>-0.75876</td>\n",
       "      <td>0.43388</td>\n",
       "      <td>-0.90097</td>\n",
       "      <td>0.00000</td>\n",
       "      <td>-1.00000</td>\n",
       "      <td>-0.39436</td>\n",
       "      <td>0.91896</td>\n",
       "      <td>0.00000</td>\n",
       "      <td>1.00000</td>\n",
       "      <td>-0.86603</td>\n",
       "      <td>0.50000</td>\n",
       "    </tr>\n",
       "    <tr>\n",
       "      <th>1</th>\n",
       "      <td>820tgsjxq7</td>\n",
       "      <td>2011-05-25</td>\n",
       "      <td>2009-05-23 17:48:09</td>\n",
       "      <td>2015-06-29</td>\n",
       "      <td>1.01958</td>\n",
       "      <td>38</td>\n",
       "      <td>0.79717</td>\n",
       "      <td>0</td>\n",
       "      <td>0.84274</td>\n",
       "      <td>0.86657</td>\n",
       "      <td>0.91382</td>\n",
       "      <td>NDF</td>\n",
       "      <td>2009-05-23</td>\n",
       "      <td>2228</td>\n",
       "      <td>2228</td>\n",
       "      <td>2009</td>\n",
       "      <td>5</td>\n",
       "      <td>23</td>\n",
       "      <td>5</td>\n",
       "      <td>2015</td>\n",
       "      <td>6</td>\n",
       "      <td>29</td>\n",
       "      <td>0</td>\n",
       "      <td>2015</td>\n",
       "      <td>0.50000</td>\n",
       "      <td>-0.86603</td>\n",
       "      <td>-0.99872</td>\n",
       "      <td>-0.05065</td>\n",
       "      <td>-0.97493</td>\n",
       "      <td>-0.22252</td>\n",
       "      <td>0.00000</td>\n",
       "      <td>-1.00000</td>\n",
       "      <td>-0.39436</td>\n",
       "      <td>0.91896</td>\n",
       "      <td>0.00000</td>\n",
       "      <td>1.00000</td>\n",
       "      <td>-0.86603</td>\n",
       "      <td>0.50000</td>\n",
       "    </tr>\n",
       "    <tr>\n",
       "      <th>2</th>\n",
       "      <td>4ft3gnwmtx</td>\n",
       "      <td>2010-09-28</td>\n",
       "      <td>2009-06-09 23:12:47</td>\n",
       "      <td>2010-08-02</td>\n",
       "      <td>1.03023</td>\n",
       "      <td>56</td>\n",
       "      <td>0.85197</td>\n",
       "      <td>3</td>\n",
       "      <td>0.86239</td>\n",
       "      <td>0.86657</td>\n",
       "      <td>0.74898</td>\n",
       "      <td>US</td>\n",
       "      <td>2009-06-09</td>\n",
       "      <td>419</td>\n",
       "      <td>419</td>\n",
       "      <td>2009</td>\n",
       "      <td>6</td>\n",
       "      <td>9</td>\n",
       "      <td>1</td>\n",
       "      <td>2010</td>\n",
       "      <td>8</td>\n",
       "      <td>2</td>\n",
       "      <td>0</td>\n",
       "      <td>2010</td>\n",
       "      <td>0.00000</td>\n",
       "      <td>-1.00000</td>\n",
       "      <td>0.96808</td>\n",
       "      <td>-0.25065</td>\n",
       "      <td>0.78183</td>\n",
       "      <td>0.62349</td>\n",
       "      <td>-0.86603</td>\n",
       "      <td>-0.50000</td>\n",
       "      <td>0.39436</td>\n",
       "      <td>0.91896</td>\n",
       "      <td>0.00000</td>\n",
       "      <td>1.00000</td>\n",
       "      <td>-0.00000</td>\n",
       "      <td>1.00000</td>\n",
       "    </tr>\n",
       "    <tr>\n",
       "      <th>3</th>\n",
       "      <td>bjjt8pjhuk</td>\n",
       "      <td>2011-12-05</td>\n",
       "      <td>2009-10-31 06:01:29</td>\n",
       "      <td>2012-09-08</td>\n",
       "      <td>1.03023</td>\n",
       "      <td>42</td>\n",
       "      <td>0.79717</td>\n",
       "      <td>0</td>\n",
       "      <td>0.86239</td>\n",
       "      <td>0.86657</td>\n",
       "      <td>0.92619</td>\n",
       "      <td>other</td>\n",
       "      <td>2009-10-31</td>\n",
       "      <td>1043</td>\n",
       "      <td>1043</td>\n",
       "      <td>2009</td>\n",
       "      <td>10</td>\n",
       "      <td>31</td>\n",
       "      <td>5</td>\n",
       "      <td>2012</td>\n",
       "      <td>9</td>\n",
       "      <td>8</td>\n",
       "      <td>5</td>\n",
       "      <td>2012</td>\n",
       "      <td>-0.86603</td>\n",
       "      <td>0.50000</td>\n",
       "      <td>-0.00000</td>\n",
       "      <td>1.00000</td>\n",
       "      <td>-0.97493</td>\n",
       "      <td>-0.22252</td>\n",
       "      <td>-1.00000</td>\n",
       "      <td>-0.00000</td>\n",
       "      <td>0.99872</td>\n",
       "      <td>-0.05065</td>\n",
       "      <td>-0.97493</td>\n",
       "      <td>-0.22252</td>\n",
       "      <td>0.86603</td>\n",
       "      <td>-0.50000</td>\n",
       "    </tr>\n",
       "    <tr>\n",
       "      <th>4</th>\n",
       "      <td>87mebub9p4</td>\n",
       "      <td>2010-09-14</td>\n",
       "      <td>2009-12-08 06:11:05</td>\n",
       "      <td>2010-02-18</td>\n",
       "      <td>0.59582</td>\n",
       "      <td>41</td>\n",
       "      <td>0.85197</td>\n",
       "      <td>0</td>\n",
       "      <td>0.86239</td>\n",
       "      <td>0.86657</td>\n",
       "      <td>0.91382</td>\n",
       "      <td>US</td>\n",
       "      <td>2009-12-08</td>\n",
       "      <td>72</td>\n",
       "      <td>72</td>\n",
       "      <td>2009</td>\n",
       "      <td>12</td>\n",
       "      <td>8</td>\n",
       "      <td>1</td>\n",
       "      <td>2010</td>\n",
       "      <td>2</td>\n",
       "      <td>18</td>\n",
       "      <td>3</td>\n",
       "      <td>2010</td>\n",
       "      <td>-0.00000</td>\n",
       "      <td>1.00000</td>\n",
       "      <td>0.99872</td>\n",
       "      <td>-0.05065</td>\n",
       "      <td>0.78183</td>\n",
       "      <td>0.62349</td>\n",
       "      <td>0.86603</td>\n",
       "      <td>0.50000</td>\n",
       "      <td>-0.48530</td>\n",
       "      <td>-0.87435</td>\n",
       "      <td>0.43388</td>\n",
       "      <td>-0.90097</td>\n",
       "      <td>-0.00000</td>\n",
       "      <td>1.00000</td>\n",
       "    </tr>\n",
       "  </tbody>\n",
       "</table>\n",
       "</div>"
      ],
      "text/plain": [
       "           id date_account_created timestamp_first_active date_first_booking  \\\n",
       "0  gxn3p5htnn           2010-06-28    2009-03-19 04:32:55         2015-06-29   \n",
       "1  820tgsjxq7           2011-05-25    2009-05-23 17:48:09         2015-06-29   \n",
       "2  4ft3gnwmtx           2010-09-28    2009-06-09 23:12:47         2010-08-02   \n",
       "3  bjjt8pjhuk           2011-12-05    2009-10-31 06:01:29         2012-09-08   \n",
       "4  87mebub9p4           2010-09-14    2009-12-08 06:11:05         2010-02-18   \n",
       "\n",
       "   gender  age  signup_method  signup_flow  affiliate_provider  \\\n",
       "0 0.59582   49        0.79717            0             0.86239   \n",
       "1 1.01958   38        0.79717            0             0.84274   \n",
       "2 1.03023   56        0.85197            3             0.86239   \n",
       "3 1.03023   42        0.79717            0             0.86239   \n",
       "4 0.59582   41        0.85197            0             0.86239   \n",
       "\n",
       "   first_affiliate_tracked  first_browser country_destination first_active  \\\n",
       "0                  0.86657        0.91382                 NDF   2009-03-19   \n",
       "1                  0.86657        0.91382                 NDF   2009-05-23   \n",
       "2                  0.86657        0.74898                  US   2009-06-09   \n",
       "3                  0.86657        0.92619               other   2009-10-31   \n",
       "4                  0.86657        0.91382                  US   2009-12-08   \n",
       "\n",
       "   days_from_first_active_until_booking  \\\n",
       "0                                  2293   \n",
       "1                                  2228   \n",
       "2                                   419   \n",
       "3                                  1043   \n",
       "4                                    72   \n",
       "\n",
       "   days_from_accounted_created_until_first_booking  year_first_active  \\\n",
       "0                                             2293               2009   \n",
       "1                                             2228               2009   \n",
       "2                                              419               2009   \n",
       "3                                             1043               2009   \n",
       "4                                               72               2009   \n",
       "\n",
       "   month_first_active  day_first_active  day_of_week_first_active  \\\n",
       "0                   3                19                         3   \n",
       "1                   5                23                         5   \n",
       "2                   6                 9                         1   \n",
       "3                  10                31                         5   \n",
       "4                  12                 8                         1   \n",
       "\n",
       "   year_first_booking  month_first_booking  day_first_booking  \\\n",
       "0                2015                    6                 29   \n",
       "1                2015                    6                 29   \n",
       "2                2010                    8                  2   \n",
       "3                2012                    9                  8   \n",
       "4                2010                    2                 18   \n",
       "\n",
       "   day_of_week_first_booking  day_of_year_first_booking  \\\n",
       "0                          0                       2015   \n",
       "1                          0                       2015   \n",
       "2                          0                       2010   \n",
       "3                          5                       2012   \n",
       "4                          3                       2010   \n",
       "\n",
       "   month_first_active_sin  month_first_active_cos  day_first_active_sin  \\\n",
       "0                 1.00000                 0.00000              -0.65137   \n",
       "1                 0.50000                -0.86603              -0.99872   \n",
       "2                 0.00000                -1.00000               0.96808   \n",
       "3                -0.86603                 0.50000              -0.00000   \n",
       "4                -0.00000                 1.00000               0.99872   \n",
       "\n",
       "   day_first_active_cos  day_of_week_first_active_sin  \\\n",
       "0              -0.75876                       0.43388   \n",
       "1              -0.05065                      -0.97493   \n",
       "2              -0.25065                       0.78183   \n",
       "3               1.00000                      -0.97493   \n",
       "4              -0.05065                       0.78183   \n",
       "\n",
       "   day_of_week_first_active_cos  month_first_booking_sin  \\\n",
       "0                      -0.90097                  0.00000   \n",
       "1                      -0.22252                  0.00000   \n",
       "2                       0.62349                 -0.86603   \n",
       "3                      -0.22252                 -1.00000   \n",
       "4                       0.62349                  0.86603   \n",
       "\n",
       "   month_first_booking_cos  day_first_booking_sin  day_first_booking_cos  \\\n",
       "0                 -1.00000               -0.39436                0.91896   \n",
       "1                 -1.00000               -0.39436                0.91896   \n",
       "2                 -0.50000                0.39436                0.91896   \n",
       "3                 -0.00000                0.99872               -0.05065   \n",
       "4                  0.50000               -0.48530               -0.87435   \n",
       "\n",
       "   day_of_week_first_booking_sin  day_of_week_first_booking_cos  \\\n",
       "0                        0.00000                        1.00000   \n",
       "1                        0.00000                        1.00000   \n",
       "2                        0.00000                        1.00000   \n",
       "3                       -0.97493                       -0.22252   \n",
       "4                        0.43388                       -0.90097   \n",
       "\n",
       "   day_of_year_first_booking_sin  day_of_year_first_booking_cos  \n",
       "0                       -0.86603                        0.50000  \n",
       "1                       -0.86603                        0.50000  \n",
       "2                       -0.00000                        1.00000  \n",
       "3                        0.86603                       -0.50000  \n",
       "4                       -0.00000                        1.00000  "
      ]
     },
     "execution_count": 195,
     "metadata": {},
     "output_type": "execute_result"
    }
   ],
   "source": [
    "df5.head()"
   ]
  },
  {
   "attachments": {},
   "cell_type": "markdown",
   "id": "bf27b816",
   "metadata": {},
   "source": [
    "## 5.3 Nature Transformation"
   ]
  },
  {
   "cell_type": "code",
   "execution_count": 111,
   "id": "72631f95",
   "metadata": {},
   "outputs": [],
   "source": [
    "# day of week\n",
    "for i in [ 'month_first_active','day_first_active', 'day_of_week_first_active','month_first_booking', 'day_first_booking','day_of_week_first_booking', 'day_of_year_first_booking']:\n",
    "    T=df5[i].nunique()\n",
    "    df5[f'{i}_sin'] = df5[i].apply( lambda x: np.sin( x * ( 2. * np.pi/T) ) ) \n",
    "    df5[f'{i}_cos'] = df5[i].apply( lambda x: np.cos( x * ( 2. * np.pi/T) ) ) "
   ]
  },
  {
   "attachments": {},
   "cell_type": "markdown",
   "id": "5e001cbf",
   "metadata": {},
   "source": [
    "# 6.0 Feature Selection"
   ]
  },
  {
   "cell_type": "code",
   "execution_count": 112,
   "id": "30614045",
   "metadata": {},
   "outputs": [],
   "source": [
    "df6 = df5.copy()"
   ]
  },
  {
   "cell_type": "code",
   "execution_count": null,
   "id": "0ff9df2f",
   "metadata": {},
   "outputs": [],
   "source": [
    "from sklearn.feature_selection import SelectKBest, SelectPercentile, f_regression, f_classif\n",
    "\n",
    "selector = SelectKBest(score_func=f_classif, k=10)\n",
    "\n",
    "Xtrain2 = selector.fit_transform( Xtrain, ytrain )"
   ]
  },
  {
   "cell_type": "code",
   "execution_count": 113,
   "id": "9e03988a",
   "metadata": {},
   "outputs": [],
   "source": [
    "cols_drop = ['date_account_created', 'timestamp_first_active', \"date_first_booking\", \"first_active\",\"date_first_booking\",]\n",
    "df6 = df6.drop( cols_drop , axis=1)"
   ]
  },
  {
   "attachments": {},
   "cell_type": "markdown",
   "id": "e9732242",
   "metadata": {},
   "source": [
    "# 7.0 Machine Learning Model"
   ]
  },
  {
   "cell_type": "code",
   "execution_count": 114,
   "id": "f68eee4c",
   "metadata": {},
   "outputs": [],
   "source": [
    "df7 = df6.copy()"
   ]
  },
  {
   "cell_type": "code",
   "execution_count": 115,
   "id": "4293b896",
   "metadata": {},
   "outputs": [
    {
     "data": {
      "text/plain": [
       "0    0\n",
       "1    0\n",
       "2    1\n",
       "Name: country_destination, dtype: int64"
      ]
     },
     "execution_count": 115,
     "metadata": {},
     "output_type": "execute_result"
    }
   ],
   "source": [
    "X = df7.drop( [\"country_destination\",\"id\"] , axis=1 )\n",
    "y = df7['country_destination'].map(dic_countries).copy()\n",
    "y.head(3)"
   ]
  },
  {
   "cell_type": "code",
   "execution_count": 116,
   "id": "395a7392",
   "metadata": {},
   "outputs": [],
   "source": [
    "Xtrain, Xtest, ytrain, ytest = train_test_split( X, y, test_size = 0.2, random_state=42 )"
   ]
  },
  {
   "attachments": {},
   "cell_type": "markdown",
   "id": "874f9dec",
   "metadata": {},
   "source": [
    "## 7.1 Baseline Model"
   ]
  },
  {
   "cell_type": "code",
   "execution_count": 117,
   "id": "1f8f79ac",
   "metadata": {},
   "outputs": [
    {
     "data": {
      "text/plain": [
       "array([ 0,  1,  2,  3,  4,  5,  6,  7,  8,  9, 10, 11], dtype=int64)"
      ]
     },
     "execution_count": 117,
     "metadata": {},
     "output_type": "execute_result"
    }
   ],
   "source": [
    "country_list = np.sort(y.unique())\n",
    "country_list"
   ]
  },
  {
   "cell_type": "code",
   "execution_count": 118,
   "id": "247c66b1",
   "metadata": {},
   "outputs": [
    {
     "data": {
      "text/plain": [
       "0    0.58135\n",
       "1    0.29329\n",
       "2    0.04788\n",
       "3    0.00668\n",
       "4    0.02361\n",
       "5    0.01065\n",
       "6    0.01102\n",
       "7    0.01337\n",
       "8    0.00103\n",
       "9    0.00360\n",
       "10   0.00499\n",
       "11   0.00253\n",
       "Name: country_destination, dtype: float64"
      ]
     },
     "execution_count": 118,
     "metadata": {},
     "output_type": "execute_result"
    }
   ],
   "source": [
    "weights_country = y.value_counts(normalize=True).sort_index()\n",
    "weights_country"
   ]
  },
  {
   "cell_type": "code",
   "execution_count": 119,
   "id": "e5f2c1fd",
   "metadata": {},
   "outputs": [],
   "source": [
    "yhat_random = random.choices( population=country_list, weights=weights_country ,k=len(Xtest))"
   ]
  },
  {
   "cell_type": "code",
   "execution_count": 120,
   "id": "6bce7cd7",
   "metadata": {},
   "outputs": [
    {
     "name": "stdout",
     "output_type": "stream",
     "text": [
      "0.4299336650082919 \n",
      " 0.08448205646629971 \n",
      " 0.002185236179226502\n"
     ]
    }
   ],
   "source": [
    "# accuracy\n",
    "\n",
    "acc_nn = accuracy_score(ytest, yhat_random)\n",
    "\n",
    "bacc_nn = balanced_accuracy_score(ytest, yhat_random)\n",
    "\n",
    "kappa_nn = cohen_kappa_score(ytest, yhat_random)\n",
    "\n",
    "print( acc_nn, \"\\n\", bacc_nn, \"\\n\", kappa_nn)\n"
   ]
  },
  {
   "cell_type": "code",
   "execution_count": 121,
   "id": "1239d305",
   "metadata": {},
   "outputs": [
    {
     "name": "stdout",
     "output_type": "stream",
     "text": [
      "Confusion matrix, without normalization\n",
      "[[13960  6964  1117   149   567   248   268   321    27    91   104    67]\n",
      " [ 6955  3518   514    89   273   118   140   154    14    33    63    30]\n",
      " [ 1186   589   109    15    52    20    22    21     1     3    12     2]\n",
      " [  167    81    12     1    13     2     2     6     0     1     1     1]\n",
      " [  554   273    47    11    20    13     8    16     0     2     5     3]\n",
      " [  254   118    20     2     7     7     4     5     0     2     1     1]\n",
      " [  273   144    17     4     8     6     1     6     1     0     2     0]\n",
      " [  316   149    30     6    10     7     4    10     0     1     2     1]\n",
      " [   17    19     2     0     1     1     0     1     0     0     0     0]\n",
      " [   94    55    10     0     1     1     0     1     1     0     2     0]\n",
      " [  116    54    12     0     7     1     2     6     0     1     2     0]\n",
      " [   73    35     5     1     2     1     2     3     0     0     0     1]]\n"
     ]
    },
    {
     "data": {
      "image/png": "[encoded data removed]",
      "text/plain": [
       "<Figure size 640x480 with 2 Axes>"
      ]
     },
     "metadata": {},
     "output_type": "display_data"
    }
   ],
   "source": [
    "cnf_matrix = confusion_matrix(ytest, yhat_random,labels=y.unique())\n",
    "np.set_printoptions(precision=2)\n",
    "\n",
    "# Plot non-normalized confusion matrix\n",
    "plt.figure()\n",
    "plot_confusion_matrix(cnf_matrix, classes=y.unique(),\n",
    "                      title='Confusion matrix, without normalization')"
   ]
  },
  {
   "attachments": {},
   "cell_type": "markdown",
   "id": "c9c9bff9",
   "metadata": {},
   "source": [
    "## 7.2 Xgboost classifier\n"
   ]
  },
  {
   "cell_type": "code",
   "execution_count": 150,
   "id": "c3390b91",
   "metadata": {},
   "outputs": [],
   "source": [
    "def get_metrics( ytrue, ypred):\n",
    "    acc_nn = accuracy_score(ytrue, ypred)\n",
    "    bacc_nn = balanced_accuracy_score(ytrue, ypred)\n",
    "    kappa_nn = cohen_kappa_score(ytrue, ypred)\n",
    "    print( acc_nn, \"\\n\", bacc_nn, \"\\n\", kappa_nn)"
   ]
  },
  {
   "cell_type": "code",
   "execution_count": 133,
   "id": "f2d6c7cd",
   "metadata": {},
   "outputs": [
    {
     "name": "stdout",
     "output_type": "stream",
     "text": [
      "[07:15:47] WARNING: C:\\buildkite-agent\\builds\\buildkite-windows-cpu-autoscaling-group-i-07593ffd91cd9da33-1\\xgboost\\xgboost-ci-windows\\src\\learner.cc:767: \n",
      "Parameters: { \"sample_weight\" } are not used.\n",
      "\n",
      "0.8696712515852112 \n",
      " 0.16779289136373374 \n",
      " 0.7591422209703855\n"
     ]
    }
   ],
   "source": [
    "from xgboost import XGBClassifier\n",
    "\n",
    "\n",
    "xgb = XGBClassifier(n_estimators=100, random_state=42, max_depth=10)\n",
    "\n",
    "xgb.fit(Xtrain, ytrain)\n",
    "\n",
    "# prediction\n",
    "pred_xgb = xgb.predict( Xtest )\n",
    "\n",
    "get_metrics( ytest, pred_xgb )"
   ]
  },
  {
   "attachments": {},
   "cell_type": "markdown",
   "id": "8dd71299",
   "metadata": {},
   "source": [
    "## 7.3 CatboostClassifier"
   ]
  },
  {
   "cell_type": "code",
   "execution_count": 135,
   "id": "a8b7609f",
   "metadata": {},
   "outputs": [
    {
     "data": {
      "text/plain": [
       "<catboost.core.CatBoostClassifier at 0x23ed5dc9420>"
      ]
     },
     "execution_count": 135,
     "metadata": {},
     "output_type": "execute_result"
    }
   ],
   "source": [
    "\n",
    "catmodel = CatBoostClassifier(iterations=1000,\n",
    "                           task_type=\"GPU\",\n",
    "                           devices='0:1')\n",
    "catmodel.fit(Xtrain, ytrain, verbose=False)"
   ]
  },
  {
   "cell_type": "code",
   "execution_count": 136,
   "id": "890eb76a",
   "metadata": {},
   "outputs": [
    {
     "name": "stdout",
     "output_type": "stream",
     "text": [
      "0.8721832016388645 \n",
      " 0.16702068971331388 \n",
      " 0.7632444525068637\n"
     ]
    }
   ],
   "source": [
    "# prediction\n",
    "pred_catmodel = catmodel.predict( Xtest )\n",
    "\n",
    "get_metrics( ytest, pred_catmodel )"
   ]
  },
  {
   "attachments": {},
   "cell_type": "markdown",
   "id": "3e64cd7c",
   "metadata": {},
   "source": [
    "## 7.4 LightGBMClassifier"
   ]
  },
  {
   "cell_type": "code",
   "execution_count": 153,
   "id": "8a423300",
   "metadata": {},
   "outputs": [
    {
     "name": "stderr",
     "output_type": "stream",
     "text": [
      "p:\\Python\\GitHub\\airbnb_prediction\\env_airbnb\\lib\\site-packages\\lightgbm\\sklearn.py:736: UserWarning: 'verbose' argument is deprecated and will be removed in a future release of LightGBM. Pass 'log_evaluation()' callback via 'callbacks' argument instead.\n",
      "  _log_warning(\"'verbose' argument is deprecated and will be removed in a future release of LightGBM. \"\n"
     ]
    },
    {
     "data": {
      "text/html": [
       "<style>#sk-container-id-5 {color: black;background-color: white;}#sk-container-id-5 pre{padding: 0;}#sk-container-id-5 div.sk-toggleable {background-color: white;}#sk-container-id-5 label.sk-toggleable__label {cursor: pointer;display: block;width: 100%;margin-bottom: 0;padding: 0.3em;box-sizing: border-box;text-align: center;}#sk-container-id-5 label.sk-toggleable__label-arrow:before {content: \"▸\";float: left;margin-right: 0.25em;color: #696969;}#sk-container-id-5 label.sk-toggleable__label-arrow:hover:before {color: black;}#sk-container-id-5 div.sk-estimator:hover label.sk-toggleable__label-arrow:before {color: black;}#sk-container-id-5 div.sk-toggleable__content {max-height: 0;max-width: 0;overflow: hidden;text-align: left;background-color: #f0f8ff;}#sk-container-id-5 div.sk-toggleable__content pre {margin: 0.2em;color: black;border-radius: 0.25em;background-color: #f0f8ff;}#sk-container-id-5 input.sk-toggleable__control:checked~div.sk-toggleable__content {max-height: 200px;max-width: 100%;overflow: auto;}#sk-container-id-5 input.sk-toggleable__control:checked~label.sk-toggleable__label-arrow:before {content: \"▾\";}#sk-container-id-5 div.sk-estimator input.sk-toggleable__control:checked~label.sk-toggleable__label {background-color: #d4ebff;}#sk-container-id-5 div.sk-label input.sk-toggleable__control:checked~label.sk-toggleable__label {background-color: #d4ebff;}#sk-container-id-5 input.sk-hidden--visually {border: 0;clip: rect(1px 1px 1px 1px);clip: rect(1px, 1px, 1px, 1px);height: 1px;margin: -1px;overflow: hidden;padding: 0;position: absolute;width: 1px;}#sk-container-id-5 div.sk-estimator {font-family: monospace;background-color: #f0f8ff;border: 1px dotted black;border-radius: 0.25em;box-sizing: border-box;margin-bottom: 0.5em;}#sk-container-id-5 div.sk-estimator:hover {background-color: #d4ebff;}#sk-container-id-5 div.sk-parallel-item::after {content: \"\";width: 100%;border-bottom: 1px solid gray;flex-grow: 1;}#sk-container-id-5 div.sk-label:hover label.sk-toggleable__label {background-color: #d4ebff;}#sk-container-id-5 div.sk-serial::before {content: \"\";position: absolute;border-left: 1px solid gray;box-sizing: border-box;top: 0;bottom: 0;left: 50%;z-index: 0;}#sk-container-id-5 div.sk-serial {display: flex;flex-direction: column;align-items: center;background-color: white;padding-right: 0.2em;padding-left: 0.2em;position: relative;}#sk-container-id-5 div.sk-item {position: relative;z-index: 1;}#sk-container-id-5 div.sk-parallel {display: flex;align-items: stretch;justify-content: center;background-color: white;position: relative;}#sk-container-id-5 div.sk-item::before, #sk-container-id-5 div.sk-parallel-item::before {content: \"\";position: absolute;border-left: 1px solid gray;box-sizing: border-box;top: 0;bottom: 0;left: 50%;z-index: -1;}#sk-container-id-5 div.sk-parallel-item {display: flex;flex-direction: column;z-index: 1;position: relative;background-color: white;}#sk-container-id-5 div.sk-parallel-item:first-child::after {align-self: flex-end;width: 50%;}#sk-container-id-5 div.sk-parallel-item:last-child::after {align-self: flex-start;width: 50%;}#sk-container-id-5 div.sk-parallel-item:only-child::after {width: 0;}#sk-container-id-5 div.sk-dashed-wrapped {border: 1px dashed gray;margin: 0 0.4em 0.5em 0.4em;box-sizing: border-box;padding-bottom: 0.4em;background-color: white;}#sk-container-id-5 div.sk-label label {font-family: monospace;font-weight: bold;display: inline-block;line-height: 1.2em;}#sk-container-id-5 div.sk-label-container {text-align: center;}#sk-container-id-5 div.sk-container {/* jupyter's `normalize.less` sets `[hidden] { display: none; }` but bootstrap.min.css set `[hidden] { display: none !important; }` so we also need the `!important` here to be able to override the default hidden behavior on the sphinx rendered scikit-learn.org. See: https://github.com/scikit-learn/scikit-learn/issues/21755 */display: inline-block !important;position: relative;}#sk-container-id-5 div.sk-text-repr-fallback {display: none;}</style><div id=\"sk-container-id-5\" class=\"sk-top-container\"><div class=\"sk-text-repr-fallback\"><pre>LGBMClassifier(n_estimators=50, random_state=42)</pre><b>In a Jupyter environment, please rerun this cell to show the HTML representation or trust the notebook. <br />On GitHub, the HTML representation is unable to render, please try loading this page with nbviewer.org.</b></div><div class=\"sk-container\" hidden><div class=\"sk-item\"><div class=\"sk-estimator sk-toggleable\"><input class=\"sk-toggleable__control sk-hidden--visually\" id=\"sk-estimator-id-5\" type=\"checkbox\" checked><label for=\"sk-estimator-id-5\" class=\"sk-toggleable__label sk-toggleable__label-arrow\">LGBMClassifier</label><div class=\"sk-toggleable__content\"><pre>LGBMClassifier(n_estimators=50, random_state=42)</pre></div></div></div></div></div>"
      ],
      "text/plain": [
       "LGBMClassifier(n_estimators=50, random_state=42)"
      ]
     },
     "execution_count": 153,
     "metadata": {},
     "output_type": "execute_result"
    }
   ],
   "source": [
    "\n",
    "\n",
    "lgbm = LGBMClassifier( n_estimators = 50, random_state=42)\n",
    "lgbm.fit(Xtrain, ytrain, verbose=False)"
   ]
  },
  {
   "cell_type": "code",
   "execution_count": 154,
   "id": "079f435b",
   "metadata": {},
   "outputs": [
    {
     "name": "stdout",
     "output_type": "stream",
     "text": [
      "0.8714271778363086 \n",
      " 0.16749870172191741 \n",
      " 0.7619757060330685\n"
     ]
    }
   ],
   "source": [
    "# prediction\n",
    "pred_lgbm = lgbm.predict( Xtest )\n",
    "\n",
    "get_metrics( ytest, pred_lgbm )"
   ]
  },
  {
   "attachments": {},
   "cell_type": "markdown",
   "id": "ac8be24e",
   "metadata": {},
   "source": [
    "## 7.5 Random Forest Classifier"
   ]
  },
  {
   "cell_type": "code",
   "execution_count": 148,
   "id": "07b6e971",
   "metadata": {},
   "outputs": [
    {
     "data": {
      "text/html": [
       "<style>#sk-container-id-4 {color: black;background-color: white;}#sk-container-id-4 pre{padding: 0;}#sk-container-id-4 div.sk-toggleable {background-color: white;}#sk-container-id-4 label.sk-toggleable__label {cursor: pointer;display: block;width: 100%;margin-bottom: 0;padding: 0.3em;box-sizing: border-box;text-align: center;}#sk-container-id-4 label.sk-toggleable__label-arrow:before {content: \"▸\";float: left;margin-right: 0.25em;color: #696969;}#sk-container-id-4 label.sk-toggleable__label-arrow:hover:before {color: black;}#sk-container-id-4 div.sk-estimator:hover label.sk-toggleable__label-arrow:before {color: black;}#sk-container-id-4 div.sk-toggleable__content {max-height: 0;max-width: 0;overflow: hidden;text-align: left;background-color: #f0f8ff;}#sk-container-id-4 div.sk-toggleable__content pre {margin: 0.2em;color: black;border-radius: 0.25em;background-color: #f0f8ff;}#sk-container-id-4 input.sk-toggleable__control:checked~div.sk-toggleable__content {max-height: 200px;max-width: 100%;overflow: auto;}#sk-container-id-4 input.sk-toggleable__control:checked~label.sk-toggleable__label-arrow:before {content: \"▾\";}#sk-container-id-4 div.sk-estimator input.sk-toggleable__control:checked~label.sk-toggleable__label {background-color: #d4ebff;}#sk-container-id-4 div.sk-label input.sk-toggleable__control:checked~label.sk-toggleable__label {background-color: #d4ebff;}#sk-container-id-4 input.sk-hidden--visually {border: 0;clip: rect(1px 1px 1px 1px);clip: rect(1px, 1px, 1px, 1px);height: 1px;margin: -1px;overflow: hidden;padding: 0;position: absolute;width: 1px;}#sk-container-id-4 div.sk-estimator {font-family: monospace;background-color: #f0f8ff;border: 1px dotted black;border-radius: 0.25em;box-sizing: border-box;margin-bottom: 0.5em;}#sk-container-id-4 div.sk-estimator:hover {background-color: #d4ebff;}#sk-container-id-4 div.sk-parallel-item::after {content: \"\";width: 100%;border-bottom: 1px solid gray;flex-grow: 1;}#sk-container-id-4 div.sk-label:hover label.sk-toggleable__label {background-color: #d4ebff;}#sk-container-id-4 div.sk-serial::before {content: \"\";position: absolute;border-left: 1px solid gray;box-sizing: border-box;top: 0;bottom: 0;left: 50%;z-index: 0;}#sk-container-id-4 div.sk-serial {display: flex;flex-direction: column;align-items: center;background-color: white;padding-right: 0.2em;padding-left: 0.2em;position: relative;}#sk-container-id-4 div.sk-item {position: relative;z-index: 1;}#sk-container-id-4 div.sk-parallel {display: flex;align-items: stretch;justify-content: center;background-color: white;position: relative;}#sk-container-id-4 div.sk-item::before, #sk-container-id-4 div.sk-parallel-item::before {content: \"\";position: absolute;border-left: 1px solid gray;box-sizing: border-box;top: 0;bottom: 0;left: 50%;z-index: -1;}#sk-container-id-4 div.sk-parallel-item {display: flex;flex-direction: column;z-index: 1;position: relative;background-color: white;}#sk-container-id-4 div.sk-parallel-item:first-child::after {align-self: flex-end;width: 50%;}#sk-container-id-4 div.sk-parallel-item:last-child::after {align-self: flex-start;width: 50%;}#sk-container-id-4 div.sk-parallel-item:only-child::after {width: 0;}#sk-container-id-4 div.sk-dashed-wrapped {border: 1px dashed gray;margin: 0 0.4em 0.5em 0.4em;box-sizing: border-box;padding-bottom: 0.4em;background-color: white;}#sk-container-id-4 div.sk-label label {font-family: monospace;font-weight: bold;display: inline-block;line-height: 1.2em;}#sk-container-id-4 div.sk-label-container {text-align: center;}#sk-container-id-4 div.sk-container {/* jupyter's `normalize.less` sets `[hidden] { display: none; }` but bootstrap.min.css set `[hidden] { display: none !important; }` so we also need the `!important` here to be able to override the default hidden behavior on the sphinx rendered scikit-learn.org. See: https://github.com/scikit-learn/scikit-learn/issues/21755 */display: inline-block !important;position: relative;}#sk-container-id-4 div.sk-text-repr-fallback {display: none;}</style><div id=\"sk-container-id-4\" class=\"sk-top-container\"><div class=\"sk-text-repr-fallback\"><pre>RandomForestClassifier(n_estimators=200, random_state=42)</pre><b>In a Jupyter environment, please rerun this cell to show the HTML representation or trust the notebook. <br />On GitHub, the HTML representation is unable to render, please try loading this page with nbviewer.org.</b></div><div class=\"sk-container\" hidden><div class=\"sk-item\"><div class=\"sk-estimator sk-toggleable\"><input class=\"sk-toggleable__control sk-hidden--visually\" id=\"sk-estimator-id-4\" type=\"checkbox\" checked><label for=\"sk-estimator-id-4\" class=\"sk-toggleable__label sk-toggleable__label-arrow\">RandomForestClassifier</label><div class=\"sk-toggleable__content\"><pre>RandomForestClassifier(n_estimators=200, random_state=42)</pre></div></div></div></div></div>"
      ],
      "text/plain": [
       "RandomForestClassifier(n_estimators=200, random_state=42)"
      ]
     },
     "execution_count": 148,
     "metadata": {},
     "output_type": "execute_result"
    }
   ],
   "source": [
    "rf = RandomForestClassifier( n_estimators = 200, random_state=42)\n",
    "rf.fit(Xtrain, ytrain)"
   ]
  },
  {
   "cell_type": "code",
   "execution_count": 151,
   "id": "52111f4c",
   "metadata": {},
   "outputs": [
    {
     "name": "stdout",
     "output_type": "stream",
     "text": [
      "0.8649643937176861 \n",
      " 0.16661179355616076 \n",
      " 0.7512357566843145\n"
     ]
    }
   ],
   "source": [
    "# prediction\n",
    "pred_rf = rf.predict( Xtest )\n",
    "\n",
    "get_metrics( ytest, pred_rf )"
   ]
  },
  {
   "cell_type": "code",
   "execution_count": null,
   "id": "dd797216",
   "metadata": {},
   "outputs": [],
   "source": []
  },
  {
   "attachments": {},
   "cell_type": "markdown",
   "id": "31436483",
   "metadata": {},
   "source": [
    "## 8.0 Hyperparameter Tuning"
   ]
  },
  {
   "cell_type": "code",
   "execution_count": 157,
   "id": "e61dd3d8",
   "metadata": {},
   "outputs": [
    {
     "name": "stdout",
     "output_type": "stream",
     "text": [
      "\u001b[1;31mSignature:\u001b[0m\n",
      "\u001b[0mdummy_minimize\u001b[0m\u001b[1;33m(\u001b[0m\u001b[1;33m\n",
      "\u001b[0m    \u001b[0mfunc\u001b[0m\u001b[1;33m,\u001b[0m\u001b[1;33m\n",
      "\u001b[0m    \u001b[0mdimensions\u001b[0m\u001b[1;33m,\u001b[0m\u001b[1;33m\n",
      "\u001b[0m    \u001b[0mn_calls\u001b[0m\u001b[1;33m=\u001b[0m\u001b[1;36m100\u001b[0m\u001b[1;33m,\u001b[0m\u001b[1;33m\n",
      "\u001b[0m    \u001b[0minitial_point_generator\u001b[0m\u001b[1;33m=\u001b[0m\u001b[1;34m'random'\u001b[0m\u001b[1;33m,\u001b[0m\u001b[1;33m\n",
      "\u001b[0m    \u001b[0mx0\u001b[0m\u001b[1;33m=\u001b[0m\u001b[1;32mNone\u001b[0m\u001b[1;33m,\u001b[0m\u001b[1;33m\n",
      "\u001b[0m    \u001b[0my0\u001b[0m\u001b[1;33m=\u001b[0m\u001b[1;32mNone\u001b[0m\u001b[1;33m,\u001b[0m\u001b[1;33m\n",
      "\u001b[0m    \u001b[0mrandom_state\u001b[0m\u001b[1;33m=\u001b[0m\u001b[1;32mNone\u001b[0m\u001b[1;33m,\u001b[0m\u001b[1;33m\n",
      "\u001b[0m    \u001b[0mverbose\u001b[0m\u001b[1;33m=\u001b[0m\u001b[1;32mFalse\u001b[0m\u001b[1;33m,\u001b[0m\u001b[1;33m\n",
      "\u001b[0m    \u001b[0mcallback\u001b[0m\u001b[1;33m=\u001b[0m\u001b[1;32mNone\u001b[0m\u001b[1;33m,\u001b[0m\u001b[1;33m\n",
      "\u001b[0m    \u001b[0mmodel_queue_size\u001b[0m\u001b[1;33m=\u001b[0m\u001b[1;32mNone\u001b[0m\u001b[1;33m,\u001b[0m\u001b[1;33m\n",
      "\u001b[0m    \u001b[0minit_point_gen_kwargs\u001b[0m\u001b[1;33m=\u001b[0m\u001b[1;32mNone\u001b[0m\u001b[1;33m,\u001b[0m\u001b[1;33m\n",
      "\u001b[0m\u001b[1;33m)\u001b[0m\u001b[1;33m\u001b[0m\u001b[1;33m\u001b[0m\u001b[0m\n",
      "\u001b[1;31mDocstring:\u001b[0m\n",
      "Random search by uniform sampling within the given bounds.\n",
      "\n",
      "Parameters\n",
      "----------\n",
      "func : callable\n",
      "    Function to minimize. Should take a single list of parameters\n",
      "    and return the objective value.\n",
      "\n",
      "    If you have a search-space where all dimensions have names,\n",
      "    then you can use :func:`skopt.utils.use_named_args` as a decorator\n",
      "    on your objective function, in order to call it directly\n",
      "    with the named arguments. See `use_named_args` for an example.\n",
      "\n",
      "dimensions : list, shape (n_dims,)\n",
      "    List of search space dimensions.\n",
      "    Each search dimension can be defined either as\n",
      "\n",
      "    - a `(lower_bound, upper_bound)` tuple (for `Real` or `Integer`\n",
      "      dimensions),\n",
      "    - a `(lower_bound, upper_bound, prior)` tuple (for `Real`\n",
      "      dimensions),\n",
      "    - as a list of categories (for `Categorical` dimensions), or\n",
      "    - an instance of a `Dimension` object (`Real`, `Integer` or\n",
      "      `Categorical`).\n",
      "\n",
      "n_calls : int, default: 100\n",
      "    Number of calls to `func` to find the minimum.\n",
      "\n",
      "initial_point_generator : str, InitialPointGenerator instance,             default: `\"random\"`\n",
      "    Sets a initial points generator. Can be either\n",
      "\n",
      "    - `\"random\"` for uniform random numbers,\n",
      "    - `\"sobol\"` for a Sobol' sequence,\n",
      "    - `\"halton\"` for a Halton sequence,\n",
      "    - `\"hammersly\"` for a Hammersly sequence,\n",
      "    - `\"lhs\"` for a latin hypercube sequence,\n",
      "    - `\"grid\"` for a uniform grid sequence\n",
      "\n",
      "x0 : list, list of lists or `None`\n",
      "    Initial input points.\n",
      "\n",
      "    - If it is a list of lists, use it as a list of input points.\n",
      "    - If it is a list, use it as a single initial input point.\n",
      "    - If it is `None`, no initial input points are used.\n",
      "\n",
      "y0 : list, scalar or `None`\n",
      "    Evaluation of initial input points.\n",
      "\n",
      "    - If it is a list, then it corresponds to evaluations of the function\n",
      "      at each element of `x0` : the i-th element of `y0` corresponds\n",
      "      to the function evaluated at the i-th element of `x0`.\n",
      "    - If it is a scalar, then it corresponds to the evaluation of the\n",
      "      function at `x0`.\n",
      "    - If it is None and `x0` is provided, then the function is evaluated\n",
      "      at each element of `x0`.\n",
      "\n",
      "random_state : int, RandomState instance, or None (default)\n",
      "    Set random state to something other than None for reproducible\n",
      "    results.\n",
      "\n",
      "verbose : boolean, default: False\n",
      "    Control the verbosity. It is advised to set the verbosity to True\n",
      "    for long optimization runs.\n",
      "\n",
      "callback : callable, list of callables, optional\n",
      "    If callable then `callback(res)` is called after each call to `func`.\n",
      "    If list of callables, then each callable in the list is called.\n",
      "\n",
      "model_queue_size : int or None, default: None\n",
      "    Keeps list of models only as long as the argument given. In the\n",
      "    case of None, the list has no capped length.\n",
      "\n",
      "Returns\n",
      "-------\n",
      "res : `OptimizeResult`, scipy object\n",
      "    The optimization result returned as a OptimizeResult object.\n",
      "    Important attributes are:\n",
      "\n",
      "    - `x` [list]: location of the minimum.\n",
      "    - `fun` [float]: function value at the minimum.\n",
      "    - `x_iters` [list of lists]: location of function evaluation for each\n",
      "      iteration.\n",
      "    - `func_vals` [array]: function value for each iteration.\n",
      "    - `space` [Space]: the optimisation space.\n",
      "    - `specs` [dict]: the call specifications.\n",
      "    - `rng` [RandomState instance]: State of the random state\n",
      "      at the end of minimization.\n",
      "\n",
      "    For more details related to the OptimizeResult object, refer\n",
      "    http://docs.scipy.org/doc/scipy/reference/generated/scipy.optimize.OptimizeResult.html\n",
      "\n",
      ".. seealso:: functions :class:`skopt.gp_minimize`,\n",
      "    :class:`skopt.forest_minimize`, :class:`skopt.gbrt_minimize`\n",
      "\u001b[1;31mFile:\u001b[0m      p:\\python\\github\\airbnb_prediction\\env_airbnb\\lib\\site-packages\\skopt\\optimizer\\dummy.py\n",
      "\u001b[1;31mType:\u001b[0m      function"
     ]
    }
   ],
   "source": [
    "from skopt import dummy_minimize\n",
    "?dummy_minimize"
   ]
  },
  {
   "cell_type": "code",
   "execution_count": 162,
   "id": "3da16617",
   "metadata": {},
   "outputs": [
    {
     "name": "stdout",
     "output_type": "stream",
     "text": [
      "Iteration No: 1 started. Evaluating function at random point.\n",
      "[0.09871192514273254, 74, 10, 0.3372159440002478, 0.23208030173540176] \n",
      "\n",
      "Iteration No: 1 ended. Evaluation done at random point.\n",
      "Time taken: 19.5620\n",
      "Function value obtained: -0.7470\n",
      "Current minimum: -0.7470\n",
      "Iteration No: 2 started. Evaluating function at random point.\n",
      "[0.001529949829431263, 78, 72, 0.3782826906908954, 0.457090726807603] \n",
      "\n",
      "Iteration No: 2 ended. Evaluation done at random point.\n",
      "Time taken: 14.7770\n",
      "Function value obtained: -0.8525\n",
      "Current minimum: -0.8525\n",
      "Iteration No: 3 started. Evaluating function at random point.\n",
      "[0.01195730942971637, 128, 19, 0.5483207515942279, 0.49910760440160107] \n",
      "\n",
      "Iteration No: 3 ended. Evaluation done at random point.\n",
      "Time taken: 20.9980\n",
      "Function value obtained: -0.8492\n",
      "Current minimum: -0.8525\n",
      "Iteration No: 4 started. Evaluating function at random point.\n",
      "[0.0028784217488024557, 16, 51, 0.9182639233502714, 0.5114843271882895] \n",
      "\n",
      "Iteration No: 4 ended. Evaluation done at random point.\n",
      "Time taken: 9.7820\n",
      "Function value obtained: -0.8536\n",
      "Current minimum: -0.8536\n",
      "Iteration No: 5 started. Evaluating function at random point.\n",
      "[0.007267702383040958, 96, 97, 0.7894697745197069, 0.7443734643715278] \n",
      "\n",
      "Iteration No: 5 ended. Evaluation done at random point.\n",
      "Time taken: 24.5930\n",
      "Function value obtained: -0.8512\n",
      "Current minimum: -0.8536\n",
      "Iteration No: 6 started. Evaluating function at random point.\n",
      "[0.04031948793713315, 63, 23, 0.5422449214947946, 0.8785182267810852] \n",
      "\n",
      "Iteration No: 6 ended. Evaluation done at random point.\n",
      "Time taken: 20.0520\n",
      "Function value obtained: -0.8481\n",
      "Current minimum: -0.8536\n",
      "Iteration No: 7 started. Evaluating function at random point.\n",
      "[0.045529597892867466, 90, 14, 0.30939747550591, 0.15331888117140713] \n",
      "\n",
      "Iteration No: 7 ended. Evaluation done at random point.\n",
      "Time taken: 13.8400\n",
      "Function value obtained: -0.8423\n",
      "Current minimum: -0.8536\n",
      "Iteration No: 8 started. Evaluating function at random point.\n",
      "[0.021930881089764206, 73, 4, 0.6880713925510277, 0.47060909107214777] \n",
      "\n",
      "Iteration No: 8 ended. Evaluation done at random point.\n",
      "Time taken: 13.0840\n",
      "Function value obtained: -0.8485\n",
      "Current minimum: -0.8536\n",
      "Iteration No: 9 started. Evaluating function at random point.\n",
      "[0.002483715204721354, 26, 44, 0.7021758812975045, 0.8511631047076357] \n",
      "\n",
      "Iteration No: 9 ended. Evaluation done at random point.\n",
      "Time taken: 11.7180\n",
      "Function value obtained: -0.8529\n",
      "Current minimum: -0.8536\n",
      "Iteration No: 10 started. Evaluating function at random point.\n",
      "[0.0010878688833867167, 43, 83, 0.98941803446117, 0.7733490889418555] \n",
      "\n",
      "Iteration No: 10 ended. Evaluation done at random point.\n",
      "Time taken: 16.3130\n",
      "Function value obtained: -0.8508\n",
      "Current minimum: -0.8536\n",
      "Iteration No: 11 started. Evaluating function at random point.\n",
      "[0.003638211850540798, 89, 8, 0.14806470624875995, 0.5031041735583147] \n",
      "\n",
      "Iteration No: 11 ended. Evaluation done at random point.\n",
      "Time taken: 14.1550\n",
      "Function value obtained: -0.8433\n",
      "Current minimum: -0.8536\n",
      "Iteration No: 12 started. Evaluating function at random point.\n",
      "[0.06564339077069616, 105, 24, 0.163515944581681, 0.572319439183401] \n",
      "\n",
      "Iteration No: 12 ended. Evaluation done at random point.\n",
      "Time taken: 14.2320\n",
      "Function value obtained: -0.8313\n",
      "Current minimum: -0.8536\n",
      "Iteration No: 13 started. Evaluating function at random point.\n",
      "[0.0014697585967435188, 40, 9, 0.9149259627034465, 0.36903710098874454] \n",
      "\n",
      "Iteration No: 13 ended. Evaluation done at random point.\n",
      "Time taken: 11.3060\n",
      "Function value obtained: -0.8514\n",
      "Current minimum: -0.8536\n",
      "Iteration No: 14 started. Evaluating function at random point.\n",
      "[0.014749532034944692, 89, 26, 0.633241401906253, 0.9608820910034701] \n",
      "\n",
      "Iteration No: 14 ended. Evaluation done at random point.\n",
      "Time taken: 18.2545\n",
      "Function value obtained: -0.8490\n",
      "Current minimum: -0.8536\n",
      "Iteration No: 15 started. Evaluating function at random point.\n",
      "[0.0033262735259356143, 34, 89, 0.5567760660749166, 0.9549443246793757] \n",
      "\n",
      "Iteration No: 15 ended. Evaluation done at random point.\n",
      "Time taken: 19.1580\n",
      "Function value obtained: -0.8537\n",
      "Current minimum: -0.8537\n",
      "Iteration No: 16 started. Evaluating function at random point.\n",
      "[0.009685436253688836, 2, 78, 0.09307844214592059, 0.225969507272543] \n",
      "\n",
      "Iteration No: 16 ended. Evaluation done at random point.\n",
      "Time taken: 3.8775\n",
      "Function value obtained: -0.8237\n",
      "Current minimum: -0.8537\n",
      "Iteration No: 17 started. Evaluating function at random point.\n",
      "[0.03844210597293627, 93, 22, 0.8889692020284521, 0.5867093706408683] \n",
      "\n",
      "Iteration No: 17 ended. Evaluation done at random point.\n",
      "Time taken: 25.7701\n",
      "Function value obtained: -0.8484\n",
      "Current minimum: -0.8537\n",
      "Iteration No: 18 started. Evaluating function at random point.\n",
      "[0.00786973960931508, 45, 21, 0.40870512409353993, 0.5845822248519866] \n",
      "\n",
      "Iteration No: 18 ended. Evaluation done at random point.\n",
      "Time taken: 14.1170\n",
      "Function value obtained: -0.8518\n",
      "Current minimum: -0.8537\n",
      "Iteration No: 19 started. Evaluating function at random point.\n",
      "[0.020164978538544195, 59, 83, 0.6559446598566927, 0.2136833965403995] \n",
      "\n",
      "Iteration No: 19 ended. Evaluation done at random point.\n",
      "Time taken: 12.8384\n",
      "Function value obtained: -0.8508\n",
      "Current minimum: -0.8537\n",
      "Iteration No: 20 started. Evaluating function at random point.\n",
      "[0.024010940718920456, 9, 25, 0.3814534248789504, 0.3429351025885235] \n",
      "\n",
      "Iteration No: 20 ended. Evaluation done at random point.\n",
      "Time taken: 8.3401\n",
      "Function value obtained: -0.8573\n",
      "Current minimum: -0.8573\n",
      "Iteration No: 21 started. Evaluating function at random point.\n",
      "[0.061911658253265375, 96, 61, 0.9665980447909663, 0.6970973480366033] \n",
      "\n",
      "Iteration No: 21 ended. Evaluation done at random point.\n",
      "Time taken: 24.9725\n",
      "Function value obtained: -0.8464\n",
      "Current minimum: -0.8573\n",
      "Iteration No: 22 started. Evaluating function at random point.\n",
      "[0.01751424579956557, 110, 93, 0.9520147957717178, 0.5049209201319466] \n",
      "\n",
      "Iteration No: 22 ended. Evaluation done at random point.\n",
      "Time taken: 23.6570\n",
      "Function value obtained: -0.8518\n",
      "Current minimum: -0.8573\n",
      "Iteration No: 23 started. Evaluating function at random point.\n",
      "[0.014347598955915168, 84, 87, 0.27517563123087635, 0.9130415685060285] \n",
      "\n",
      "Iteration No: 23 ended. Evaluation done at random point.\n",
      "Time taken: 17.3920\n",
      "Function value obtained: -0.8501\n",
      "Current minimum: -0.8573\n",
      "Iteration No: 24 started. Evaluating function at random point.\n",
      "[0.014039737029591284, 17, 6, 0.6362876679396877, 0.3939804115948866] \n",
      "\n",
      "Iteration No: 24 ended. Evaluation done at random point.\n",
      "Time taken: 10.5628\n",
      "Function value obtained: -0.8536\n",
      "Current minimum: -0.8573\n",
      "Iteration No: 25 started. Evaluating function at random point.\n",
      "[0.011327034010293172, 103, 14, 0.3894062720023748, 0.9176816358278194] \n",
      "\n",
      "Iteration No: 25 ended. Evaluation done at random point.\n",
      "Time taken: 17.1136\n",
      "Function value obtained: -0.8495\n",
      "Current minimum: -0.8573\n",
      "Iteration No: 26 started. Evaluating function at random point.\n",
      "[0.017649005221070314, 98, 56, 0.9329653720565734, 0.7218072257652316] \n",
      "\n",
      "Iteration No: 26 ended. Evaluation done at random point.\n",
      "Time taken: 22.8547\n",
      "Function value obtained: -0.8489\n",
      "Current minimum: -0.8573\n",
      "Iteration No: 27 started. Evaluating function at random point.\n",
      "[0.09877469581360704, 123, 84, 0.18027896214743389, 0.9393359167334473] \n",
      "\n",
      "Iteration No: 27 ended. Evaluation done at random point.\n",
      "Time taken: 24.3490\n",
      "Function value obtained: -0.8246\n",
      "Current minimum: -0.8573\n",
      "Iteration No: 28 started. Evaluating function at random point.\n",
      "[0.024753483395116363, 45, 7, 0.7676898999723432, 0.7784885696151218] \n",
      "\n",
      "Iteration No: 28 ended. Evaluation done at random point.\n",
      "Time taken: 17.0565\n",
      "Function value obtained: -0.8529\n",
      "Current minimum: -0.8573\n",
      "Iteration No: 29 started. Evaluating function at random point.\n",
      "[0.07015345605895347, 11, 67, 0.16805741387355647, 0.11789212045581604] \n",
      "\n",
      "Iteration No: 29 ended. Evaluation done at random point.\n",
      "Time taken: 6.8822\n",
      "Function value obtained: -0.8336\n",
      "Current minimum: -0.8573\n",
      "Iteration No: 30 started. Evaluating function at random point.\n",
      "[0.0011282932078263237, 23, 41, 0.28390051422289364, 0.8740251538145993] \n",
      "\n",
      "Iteration No: 30 ended. Evaluation done at random point.\n",
      "Time taken: 9.1190\n",
      "Function value obtained: -0.8542\n",
      "Current minimum: -0.8573\n"
     ]
    }
   ],
   "source": [
    "def treinar_modelo(params):\n",
    "    learning_rate = params[0]\n",
    "    num_leaves = params[1]\n",
    "    min_child_samples = params[2]\n",
    "    subsample = params[3]\n",
    "    colsample_bytree = params[4]\n",
    "    \n",
    "    print(params, '\\n')\n",
    "    \n",
    "    mdl = LGBMClassifier(learning_rate=learning_rate, num_leaves=num_leaves, min_child_samples=min_child_samples,\n",
    "                        subsample=subsample, colsample_bytree=colsample_bytree, random_state=42, subsample_freq=1, \n",
    "                         n_estimators=100)\n",
    "    mdl.fit(Xtrain, ytrain)\n",
    "    \n",
    "    p = mdl.predict_proba(Xtest)\n",
    "    \n",
    "    return -roc_auc_score(ytest, p, multi_class='ovr')\n",
    "\n",
    "space = [(1e-3, 1e-1, 'log-uniform'), #learning rate\n",
    "         (2, 128), # num_leaves\n",
    "         (1, 100), # min_child_samples\n",
    "         (0.05, 1.0), # subsample\n",
    "         (0.1, 1.0)] # colsample bytree\n",
    "\n",
    "resultado = dummy_minimize(treinar_modelo, space, random_state=1, verbose=1, n_calls=30)"
   ]
  },
  {
   "cell_type": "code",
   "execution_count": 165,
   "id": "e3a3b054",
   "metadata": {},
   "outputs": [
    {
     "data": {
      "text/plain": [
       "['fun',\n",
       " 'func_vals',\n",
       " 'models',\n",
       " 'random_state',\n",
       " 'space',\n",
       " 'specs',\n",
       " 'x',\n",
       " 'x_iters']"
      ]
     },
     "execution_count": 165,
     "metadata": {},
     "output_type": "execute_result"
    }
   ],
   "source": [
    "dir(resultado)"
   ]
  },
  {
   "cell_type": "code",
   "execution_count": 163,
   "id": "f7c0dc88",
   "metadata": {},
   "outputs": [
    {
     "data": {
      "text/plain": [
       "[0.024010940718920456, 9, 25, 0.3814534248789504, 0.3429351025885235]"
      ]
     },
     "execution_count": 163,
     "metadata": {},
     "output_type": "execute_result"
    }
   ],
   "source": [
    "resultado.x"
   ]
  },
  {
   "cell_type": "code",
   "execution_count": 178,
   "id": "f36ac984",
   "metadata": {},
   "outputs": [
    {
     "name": "stderr",
     "output_type": "stream",
     "text": [
      "p:\\Python\\GitHub\\airbnb_prediction\\env_airbnb\\lib\\site-packages\\lightgbm\\sklearn.py:736: UserWarning: 'verbose' argument is deprecated and will be removed in a future release of LightGBM. Pass 'log_evaluation()' callback via 'callbacks' argument instead.\n",
      "  _log_warning(\"'verbose' argument is deprecated and will be removed in a future release of LightGBM. \"\n"
     ]
    },
    {
     "name": "stdout",
     "output_type": "stream",
     "text": [
      "0.8726953467954346 \n",
      " 0.16666666666666666 \n",
      " 0.7640573431952373\n"
     ]
    }
   ],
   "source": [
    "\n",
    "lgbm = LGBMClassifier(learning_rate=resultado.x[0], num_leaves=resultado.x[1], min_child_samples=resultado.x[2],\n",
    "                        subsample=resultado.x[3], colsample_bytree=resultado.x[4], random_state=42, subsample_freq=1, \n",
    "                         n_estimators=100)\n",
    "lgbm.fit(Xtrain, ytrain, verbose=False)\n",
    "# prediction\n",
    "pred_lgbm = lgbm.predict( Xtest )\n",
    "pred_proba_lgbm = lgbm.predict_proba( Xtest )\n",
    "get_metrics( ytest, pred_lgbm )\n"
   ]
  },
  {
   "cell_type": "code",
   "execution_count": null,
   "id": "a5bee962",
   "metadata": {},
   "outputs": [],
   "source": []
  },
  {
   "cell_type": "code",
   "execution_count": 177,
   "id": "1903cdad",
   "metadata": {},
   "outputs": [
    {
     "ename": "AxisError",
     "evalue": "axis 1 is out of bounds for array of dimension 1",
     "output_type": "error",
     "traceback": [
      "\u001b[1;31m---------------------------------------------------------------------------\u001b[0m",
      "\u001b[1;31mAxisError\u001b[0m                                 Traceback (most recent call last)",
      "Cell \u001b[1;32mIn[177], line 1\u001b[0m\n\u001b[1;32m----> 1\u001b[0m roc_auc_score(ytest, pred_lgbm, multi_class\u001b[39m=\u001b[39;49m\u001b[39m\"\u001b[39;49m\u001b[39movr\u001b[39;49m\u001b[39m\"\u001b[39;49m)\n",
      "File \u001b[1;32mp:\\Python\\GitHub\\airbnb_prediction\\env_airbnb\\lib\\site-packages\\sklearn\\metrics\\_ranking.py:566\u001b[0m, in \u001b[0;36mroc_auc_score\u001b[1;34m(y_true, y_score, average, sample_weight, max_fpr, multi_class, labels)\u001b[0m\n\u001b[0;32m    564\u001b[0m     \u001b[39mif\u001b[39;00m multi_class \u001b[39m==\u001b[39m \u001b[39m\"\u001b[39m\u001b[39mraise\u001b[39m\u001b[39m\"\u001b[39m:\n\u001b[0;32m    565\u001b[0m         \u001b[39mraise\u001b[39;00m \u001b[39mValueError\u001b[39;00m(\u001b[39m\"\u001b[39m\u001b[39mmulti_class must be in (\u001b[39m\u001b[39m'\u001b[39m\u001b[39movo\u001b[39m\u001b[39m'\u001b[39m\u001b[39m, \u001b[39m\u001b[39m'\u001b[39m\u001b[39movr\u001b[39m\u001b[39m'\u001b[39m\u001b[39m)\u001b[39m\u001b[39m\"\u001b[39m)\n\u001b[1;32m--> 566\u001b[0m     \u001b[39mreturn\u001b[39;00m _multiclass_roc_auc_score(\n\u001b[0;32m    567\u001b[0m         y_true, y_score, labels, multi_class, average, sample_weight\n\u001b[0;32m    568\u001b[0m     )\n\u001b[0;32m    569\u001b[0m \u001b[39melif\u001b[39;00m y_type \u001b[39m==\u001b[39m \u001b[39m\"\u001b[39m\u001b[39mbinary\u001b[39m\u001b[39m\"\u001b[39m:\n\u001b[0;32m    570\u001b[0m     labels \u001b[39m=\u001b[39m np\u001b[39m.\u001b[39munique(y_true)\n",
      "File \u001b[1;32mp:\\Python\\GitHub\\airbnb_prediction\\env_airbnb\\lib\\site-packages\\sklearn\\metrics\\_ranking.py:638\u001b[0m, in \u001b[0;36m_multiclass_roc_auc_score\u001b[1;34m(y_true, y_score, labels, multi_class, average, sample_weight)\u001b[0m\n\u001b[0;32m    592\u001b[0m \u001b[39m\u001b[39m\u001b[39m\"\"\"Multiclass roc auc score.\u001b[39;00m\n\u001b[0;32m    593\u001b[0m \n\u001b[0;32m    594\u001b[0m \u001b[39mParameters\u001b[39;00m\n\u001b[1;32m   (...)\u001b[0m\n\u001b[0;32m    635\u001b[0m \n\u001b[0;32m    636\u001b[0m \u001b[39m\"\"\"\u001b[39;00m\n\u001b[0;32m    637\u001b[0m \u001b[39m# validation of the input y_score\u001b[39;00m\n\u001b[1;32m--> 638\u001b[0m \u001b[39mif\u001b[39;00m \u001b[39mnot\u001b[39;00m np\u001b[39m.\u001b[39mallclose(\u001b[39m1\u001b[39m, y_score\u001b[39m.\u001b[39;49msum(axis\u001b[39m=\u001b[39;49m\u001b[39m1\u001b[39;49m)):\n\u001b[0;32m    639\u001b[0m     \u001b[39mraise\u001b[39;00m \u001b[39mValueError\u001b[39;00m(\n\u001b[0;32m    640\u001b[0m         \u001b[39m\"\u001b[39m\u001b[39mTarget scores need to be probabilities for multiclass \u001b[39m\u001b[39m\"\u001b[39m\n\u001b[0;32m    641\u001b[0m         \u001b[39m\"\u001b[39m\u001b[39mroc_auc, i.e. they should sum up to 1.0 over classes\u001b[39m\u001b[39m\"\u001b[39m\n\u001b[0;32m    642\u001b[0m     )\n\u001b[0;32m    644\u001b[0m \u001b[39m# validation for multiclass parameter specifications\u001b[39;00m\n",
      "File \u001b[1;32mp:\\Python\\GitHub\\airbnb_prediction\\env_airbnb\\lib\\site-packages\\numpy\\core\\_methods.py:48\u001b[0m, in \u001b[0;36m_sum\u001b[1;34m(a, axis, dtype, out, keepdims, initial, where)\u001b[0m\n\u001b[0;32m     46\u001b[0m \u001b[39mdef\u001b[39;00m \u001b[39m_sum\u001b[39m(a, axis\u001b[39m=\u001b[39m\u001b[39mNone\u001b[39;00m, dtype\u001b[39m=\u001b[39m\u001b[39mNone\u001b[39;00m, out\u001b[39m=\u001b[39m\u001b[39mNone\u001b[39;00m, keepdims\u001b[39m=\u001b[39m\u001b[39mFalse\u001b[39;00m,\n\u001b[0;32m     47\u001b[0m          initial\u001b[39m=\u001b[39m_NoValue, where\u001b[39m=\u001b[39m\u001b[39mTrue\u001b[39;00m):\n\u001b[1;32m---> 48\u001b[0m     \u001b[39mreturn\u001b[39;00m umr_sum(a, axis, dtype, out, keepdims, initial, where)\n",
      "\u001b[1;31mAxisError\u001b[0m: axis 1 is out of bounds for array of dimension 1"
     ]
    }
   ],
   "source": [
    "roc_auc_score(ytest, pred_lgbmpred_proba_lgbm, multi_class=\"ovr\")"
   ]
  },
  {
   "cell_type": "code",
   "execution_count": 182,
   "id": "2cd1ce11",
   "metadata": {},
   "outputs": [
    {
     "name": "stdout",
     "output_type": "stream",
     "text": [
      "Fold Number: 1/5\n"
     ]
    },
    {
     "name": "stderr",
     "output_type": "stream",
     "text": [
      "p:\\Python\\GitHub\\airbnb_prediction\\env_airbnb\\lib\\site-packages\\lightgbm\\sklearn.py:736: UserWarning: 'verbose' argument is deprecated and will be removed in a future release of LightGBM. Pass 'log_evaluation()' callback via 'callbacks' argument instead.\n",
      "  _log_warning(\"'verbose' argument is deprecated and will be removed in a future release of LightGBM. \"\n"
     ]
    },
    {
     "name": "stdout",
     "output_type": "stream",
     "text": [
      "Fold Number: 1/5\n"
     ]
    },
    {
     "name": "stderr",
     "output_type": "stream",
     "text": [
      "p:\\Python\\GitHub\\airbnb_prediction\\env_airbnb\\lib\\site-packages\\lightgbm\\sklearn.py:736: UserWarning: 'verbose' argument is deprecated and will be removed in a future release of LightGBM. Pass 'log_evaluation()' callback via 'callbacks' argument instead.\n",
      "  _log_warning(\"'verbose' argument is deprecated and will be removed in a future release of LightGBM. \"\n"
     ]
    },
    {
     "name": "stdout",
     "output_type": "stream",
     "text": [
      "Fold Number: 1/5\n"
     ]
    },
    {
     "name": "stderr",
     "output_type": "stream",
     "text": [
      "p:\\Python\\GitHub\\airbnb_prediction\\env_airbnb\\lib\\site-packages\\lightgbm\\sklearn.py:736: UserWarning: 'verbose' argument is deprecated and will be removed in a future release of LightGBM. Pass 'log_evaluation()' callback via 'callbacks' argument instead.\n",
      "  _log_warning(\"'verbose' argument is deprecated and will be removed in a future release of LightGBM. \"\n"
     ]
    },
    {
     "name": "stdout",
     "output_type": "stream",
     "text": [
      "Fold Number: 1/5\n"
     ]
    },
    {
     "name": "stderr",
     "output_type": "stream",
     "text": [
      "p:\\Python\\GitHub\\airbnb_prediction\\env_airbnb\\lib\\site-packages\\lightgbm\\sklearn.py:736: UserWarning: 'verbose' argument is deprecated and will be removed in a future release of LightGBM. Pass 'log_evaluation()' callback via 'callbacks' argument instead.\n",
      "  _log_warning(\"'verbose' argument is deprecated and will be removed in a future release of LightGBM. \"\n"
     ]
    },
    {
     "name": "stdout",
     "output_type": "stream",
     "text": [
      "Fold Number: 1/5\n"
     ]
    },
    {
     "name": "stderr",
     "output_type": "stream",
     "text": [
      "p:\\Python\\GitHub\\airbnb_prediction\\env_airbnb\\lib\\site-packages\\lightgbm\\sklearn.py:736: UserWarning: 'verbose' argument is deprecated and will be removed in a future release of LightGBM. Pass 'log_evaluation()' callback via 'callbacks' argument instead.\n",
      "  _log_warning(\"'verbose' argument is deprecated and will be removed in a future release of LightGBM. \"\n"
     ]
    }
   ],
   "source": [
    "# generate k-fold\n",
    "num_folds = 5\n",
    "kfold = StratifiedKFold( n_splits=num_folds, shuffle=True, random_state=32 )\n",
    "\n",
    "balanced_acc_list = []\n",
    "kappa_acc_list = []\n",
    "\n",
    "i = 1\n",
    "for train_ix, val_ix in kfold.split( Xtrain, ytrain ):\n",
    "    print( 'Fold Number: {}/{}'.format( i, num_folds ) )\n",
    "    \n",
    "    # get fold\n",
    "    Xtrain_fold = Xtrain.iloc[train_ix]\n",
    "    ytrain_fold = ytrain.iloc[train_ix]\n",
    "    \n",
    "    x_val_fold = Xtrain.iloc[val_ix]\n",
    "    y_val_fold = ytrain.iloc[val_ix]\n",
    "\n",
    "    model = LGBMClassifier(learning_rate=resultado.x[0], num_leaves=resultado.x[1], min_child_samples=resultado.x[2],\n",
    "                        subsample=resultado.x[3], colsample_bytree=resultado.x[4], random_state=42, subsample_freq=1, \n",
    "                         n_estimators=100)\n",
    "    \n",
    "    model.fit(Xtrain_fold, ytrain_fold, verbose=False)\n",
    "\n",
    "    # prediction\n",
    "    pred = model.predict( x_val_fold )\n",
    "    \n",
    "\n",
    "    # metrics\n",
    "    ## Balanced Accuracy \n",
    "    balanced_acc = balanced_accuracy_score( y_val_fold, pred )\n",
    "    balanced_acc_list.append( balanced_acc )\n",
    "    \n",
    "    ## Kappa Metrics\n",
    "    kappa_acc = cohen_kappa_score( y_val_fold, pred )\n",
    "    kappa_acc_list.append( kappa_acc )"
   ]
  },
  {
   "cell_type": "code",
   "execution_count": 183,
   "id": "15367605",
   "metadata": {},
   "outputs": [
    {
     "data": {
      "text/plain": [
       "0.1666649386556074"
      ]
     },
     "execution_count": 183,
     "metadata": {},
     "output_type": "execute_result"
    }
   ],
   "source": [
    "np.mean(balanced_acc_list)"
   ]
  },
  {
   "cell_type": "code",
   "execution_count": 184,
   "id": "d2e423aa",
   "metadata": {},
   "outputs": [
    {
     "data": {
      "text/plain": [
       "[0.16666666666666666,\n",
       " 0.16666666666666666,\n",
       " 0.16666666666666666,\n",
       " 0.1666580266113703,\n",
       " 0.16666666666666666]"
      ]
     },
     "execution_count": 184,
     "metadata": {},
     "output_type": "execute_result"
    }
   ],
   "source": [
    "balanced_acc_list"
   ]
  },
  {
   "cell_type": "code",
   "execution_count": null,
   "id": "0495306b",
   "metadata": {},
   "outputs": [],
   "source": []
  }
 ],
 "metadata": {
  "kernelspec": {
   "display_name": "airbnb_env",
   "language": "python",
   "name": "python3"
  },
  "language_info": {
   "codemirror_mode": {
    "name": "ipython",
    "version": 3
   },
   "file_extension": ".py",
   "mimetype": "text/x-python",
   "name": "python",
   "nbconvert_exporter": "python",
   "pygments_lexer": "ipython3",
   "version": "3.10.4"
  },
  "toc-autonumbering": false,
  "toc-showmarkdowntxt": false,
  "vscode": {
   "interpreter": {
    "hash": "23d1fed749eb81f671e1ddaa2d06563fa3d71b2ecd23edccd00be5402ce84e06"
   }
  }
 },
 "nbformat": 4,
 "nbformat_minor": 5
}
