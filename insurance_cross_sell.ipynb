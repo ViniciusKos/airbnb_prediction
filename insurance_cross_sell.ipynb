{
 "cells": [
  {
   "cell_type": "markdown",
   "id": "79dc9465",
   "metadata": {},
   "source": [
    "# 0.0 IMPORTS"
   ]
  },
  {
   "cell_type": "markdown",
   "id": "a50225ed",
   "metadata": {},
   "source": [
    "## packages"
   ]
  },
  {
   "cell_type": "code",
   "execution_count": 7,
   "id": "3aa9ffad",
   "metadata": {},
   "outputs": [
    {
     "data": {
      "text/plain": [
       "'p:\\\\Python\\\\GitHub\\\\airbnb_prediction'"
      ]
     },
     "execution_count": 7,
     "metadata": {},
     "output_type": "execute_result"
    }
   ],
   "source": [
    "import os, pickle, datetime, json\n",
    "import matplotlib.pyplot as plt\n",
    "import pandas as pd\n",
    "from sklearn.model_selection import train_test_split\n",
    "from keras import models as ml\n",
    "from keras import layers as l\n",
    "\n",
    "\n",
    "pd.options.display.max_columns = 500 # this will set limit of columns to 500\n",
    "pd.set_option('display.float_format', lambda x: '%.5f' % x)\n",
    "\n",
    "%matplotlib inline\n",
    "os.getcwd()"
   ]
  },
  {
   "attachments": {},
   "cell_type": "markdown",
   "id": "f806856f",
   "metadata": {},
   "source": [
    "## 0.1 Helper Function"
   ]
  },
  {
   "cell_type": "markdown",
   "id": "6378bf2c",
   "metadata": {},
   "source": [
    "## 0.2 Loading Data"
   ]
  },
  {
   "cell_type": "code",
   "execution_count": 8,
   "id": "f6633406",
   "metadata": {},
   "outputs": [
    {
     "data": {
      "text/html": [
       "<div>\n",
       "<style scoped>\n",
       "    .dataframe tbody tr th:only-of-type {\n",
       "        vertical-align: middle;\n",
       "    }\n",
       "\n",
       "    .dataframe tbody tr th {\n",
       "        vertical-align: top;\n",
       "    }\n",
       "\n",
       "    .dataframe thead th {\n",
       "        text-align: right;\n",
       "    }\n",
       "</style>\n",
       "<table border=\"1\" class=\"dataframe\">\n",
       "  <thead>\n",
       "    <tr style=\"text-align: right;\">\n",
       "      <th></th>\n",
       "      <th>id</th>\n",
       "      <th>date_account_created</th>\n",
       "      <th>timestamp_first_active</th>\n",
       "      <th>date_first_booking</th>\n",
       "      <th>gender</th>\n",
       "      <th>age</th>\n",
       "      <th>signup_method</th>\n",
       "      <th>signup_flow</th>\n",
       "      <th>language</th>\n",
       "      <th>affiliate_channel</th>\n",
       "      <th>affiliate_provider</th>\n",
       "      <th>first_affiliate_tracked</th>\n",
       "      <th>signup_app</th>\n",
       "      <th>first_device_type</th>\n",
       "      <th>first_browser</th>\n",
       "      <th>country_destination</th>\n",
       "    </tr>\n",
       "  </thead>\n",
       "  <tbody>\n",
       "    <tr>\n",
       "      <th>0</th>\n",
       "      <td>gxn3p5htnn</td>\n",
       "      <td>2010-06-28</td>\n",
       "      <td>20090319043255</td>\n",
       "      <td>NaN</td>\n",
       "      <td>-unknown-</td>\n",
       "      <td>NaN</td>\n",
       "      <td>facebook</td>\n",
       "      <td>0</td>\n",
       "      <td>en</td>\n",
       "      <td>direct</td>\n",
       "      <td>direct</td>\n",
       "      <td>untracked</td>\n",
       "      <td>Web</td>\n",
       "      <td>Mac Desktop</td>\n",
       "      <td>Chrome</td>\n",
       "      <td>NDF</td>\n",
       "    </tr>\n",
       "    <tr>\n",
       "      <th>1</th>\n",
       "      <td>820tgsjxq7</td>\n",
       "      <td>2011-05-25</td>\n",
       "      <td>20090523174809</td>\n",
       "      <td>NaN</td>\n",
       "      <td>MALE</td>\n",
       "      <td>38.00000</td>\n",
       "      <td>facebook</td>\n",
       "      <td>0</td>\n",
       "      <td>en</td>\n",
       "      <td>seo</td>\n",
       "      <td>google</td>\n",
       "      <td>untracked</td>\n",
       "      <td>Web</td>\n",
       "      <td>Mac Desktop</td>\n",
       "      <td>Chrome</td>\n",
       "      <td>NDF</td>\n",
       "    </tr>\n",
       "    <tr>\n",
       "      <th>2</th>\n",
       "      <td>4ft3gnwmtx</td>\n",
       "      <td>2010-09-28</td>\n",
       "      <td>20090609231247</td>\n",
       "      <td>2010-08-02</td>\n",
       "      <td>FEMALE</td>\n",
       "      <td>56.00000</td>\n",
       "      <td>basic</td>\n",
       "      <td>3</td>\n",
       "      <td>en</td>\n",
       "      <td>direct</td>\n",
       "      <td>direct</td>\n",
       "      <td>untracked</td>\n",
       "      <td>Web</td>\n",
       "      <td>Windows Desktop</td>\n",
       "      <td>IE</td>\n",
       "      <td>US</td>\n",
       "    </tr>\n",
       "  </tbody>\n",
       "</table>\n",
       "</div>"
      ],
      "text/plain": [
       "           id date_account_created  timestamp_first_active date_first_booking  \\\n",
       "0  gxn3p5htnn           2010-06-28          20090319043255                NaN   \n",
       "1  820tgsjxq7           2011-05-25          20090523174809                NaN   \n",
       "2  4ft3gnwmtx           2010-09-28          20090609231247         2010-08-02   \n",
       "\n",
       "      gender      age signup_method  signup_flow language affiliate_channel  \\\n",
       "0  -unknown-      NaN      facebook            0       en            direct   \n",
       "1       MALE 38.00000      facebook            0       en               seo   \n",
       "2     FEMALE 56.00000         basic            3       en            direct   \n",
       "\n",
       "  affiliate_provider first_affiliate_tracked signup_app first_device_type  \\\n",
       "0             direct               untracked        Web       Mac Desktop   \n",
       "1             google               untracked        Web       Mac Desktop   \n",
       "2             direct               untracked        Web   Windows Desktop   \n",
       "\n",
       "  first_browser country_destination  \n",
       "0        Chrome                 NDF  \n",
       "1        Chrome                 NDF  \n",
       "2            IE                  US  "
      ]
     },
     "execution_count": 8,
     "metadata": {},
     "output_type": "execute_result"
    }
   ],
   "source": [
    "df0 = pd.read_csv(\"data/train_users_2.csv\")\n",
    "df0.columns = df0.columns.str.lower()\n",
    "df0.head(3)"
   ]
  },
  {
   "cell_type": "code",
   "execution_count": 9,
   "id": "bae78b61",
   "metadata": {},
   "outputs": [
    {
     "data": {
      "text/html": [
       "<div>\n",
       "<style scoped>\n",
       "    .dataframe tbody tr th:only-of-type {\n",
       "        vertical-align: middle;\n",
       "    }\n",
       "\n",
       "    .dataframe tbody tr th {\n",
       "        vertical-align: top;\n",
       "    }\n",
       "\n",
       "    .dataframe thead th {\n",
       "        text-align: right;\n",
       "    }\n",
       "</style>\n",
       "<table border=\"1\" class=\"dataframe\">\n",
       "  <thead>\n",
       "    <tr style=\"text-align: right;\">\n",
       "      <th></th>\n",
       "      <th>user_id</th>\n",
       "      <th>action</th>\n",
       "      <th>action_type</th>\n",
       "      <th>action_detail</th>\n",
       "      <th>device_type</th>\n",
       "      <th>secs_elapsed</th>\n",
       "    </tr>\n",
       "  </thead>\n",
       "  <tbody>\n",
       "    <tr>\n",
       "      <th>0</th>\n",
       "      <td>d1mm9tcy42</td>\n",
       "      <td>lookup</td>\n",
       "      <td>NaN</td>\n",
       "      <td>NaN</td>\n",
       "      <td>Windows Desktop</td>\n",
       "      <td>319.00000</td>\n",
       "    </tr>\n",
       "    <tr>\n",
       "      <th>1</th>\n",
       "      <td>d1mm9tcy42</td>\n",
       "      <td>search_results</td>\n",
       "      <td>click</td>\n",
       "      <td>view_search_results</td>\n",
       "      <td>Windows Desktop</td>\n",
       "      <td>67753.00000</td>\n",
       "    </tr>\n",
       "    <tr>\n",
       "      <th>2</th>\n",
       "      <td>d1mm9tcy42</td>\n",
       "      <td>lookup</td>\n",
       "      <td>NaN</td>\n",
       "      <td>NaN</td>\n",
       "      <td>Windows Desktop</td>\n",
       "      <td>301.00000</td>\n",
       "    </tr>\n",
       "  </tbody>\n",
       "</table>\n",
       "</div>"
      ],
      "text/plain": [
       "      user_id          action action_type        action_detail  \\\n",
       "0  d1mm9tcy42          lookup         NaN                  NaN   \n",
       "1  d1mm9tcy42  search_results       click  view_search_results   \n",
       "2  d1mm9tcy42          lookup         NaN                  NaN   \n",
       "\n",
       "       device_type  secs_elapsed  \n",
       "0  Windows Desktop     319.00000  \n",
       "1  Windows Desktop   67753.00000  \n",
       "2  Windows Desktop     301.00000  "
      ]
     },
     "execution_count": 9,
     "metadata": {},
     "output_type": "execute_result"
    }
   ],
   "source": [
    "df_sessions = pd.read_csv( \"data/sessions.csv\" )\n",
    "df_sessions.columns = df_sessions.columns.str.lower()\n",
    "df_sessions.head(3)"
   ]
  },
  {
   "attachments": {},
   "cell_type": "markdown",
   "id": "ac04ab1b",
   "metadata": {},
   "source": [
    "# 1.0 Data Description"
   ]
  },
  {
   "cell_type": "code",
   "execution_count": 10,
   "id": "4570efb1",
   "metadata": {},
   "outputs": [],
   "source": [
    "df1 = df0.copy()"
   ]
  },
  {
   "cell_type": "code",
   "execution_count": 11,
   "id": "be6f581f",
   "metadata": {},
   "outputs": [
    {
     "data": {
      "text/plain": [
       "(213451, 16)"
      ]
     },
     "execution_count": 11,
     "metadata": {},
     "output_type": "execute_result"
    }
   ],
   "source": [
    "df1.shape"
   ]
  },
  {
   "cell_type": "code",
   "execution_count": 12,
   "id": "b09e3086",
   "metadata": {},
   "outputs": [
    {
     "data": {
      "text/plain": [
       "id                        0.00000\n",
       "date_account_created      0.00000\n",
       "timestamp_first_active    0.00000\n",
       "date_first_booking        0.58347\n",
       "gender                    0.00000\n",
       "age                       0.41223\n",
       "signup_method             0.00000\n",
       "signup_flow               0.00000\n",
       "language                  0.00000\n",
       "affiliate_channel         0.00000\n",
       "affiliate_provider        0.00000\n",
       "first_affiliate_tracked   0.02841\n",
       "signup_app                0.00000\n",
       "first_device_type         0.00000\n",
       "first_browser             0.00000\n",
       "country_destination       0.00000\n",
       "dtype: float64"
      ]
     },
     "execution_count": 12,
     "metadata": {},
     "output_type": "execute_result"
    }
   ],
   "source": [
    "df1.isnull().sum()/len(df1)"
   ]
  },
  {
   "cell_type": "code",
   "execution_count": 13,
   "id": "759823f0",
   "metadata": {},
   "outputs": [
    {
     "name": "stdout",
     "output_type": "stream",
     "text": [
      "213451\n",
      "68171\n"
     ]
    }
   ],
   "source": [
    "print( len(df1) )\n",
    "df1 = df1.dropna()\n",
    "print( len(df1) )"
   ]
  },
  {
   "cell_type": "code",
   "execution_count": 14,
   "id": "aa6a16fd",
   "metadata": {},
   "outputs": [
    {
     "data": {
      "text/plain": [
       "id                          object\n",
       "date_account_created        object\n",
       "timestamp_first_active       int64\n",
       "date_first_booking          object\n",
       "gender                      object\n",
       "age                        float64\n",
       "signup_method               object\n",
       "signup_flow                  int64\n",
       "language                    object\n",
       "affiliate_channel           object\n",
       "affiliate_provider          object\n",
       "first_affiliate_tracked     object\n",
       "signup_app                  object\n",
       "first_device_type           object\n",
       "first_browser               object\n",
       "country_destination         object\n",
       "dtype: object"
      ]
     },
     "execution_count": 14,
     "metadata": {},
     "output_type": "execute_result"
    }
   ],
   "source": [
    "df1.dtypes"
   ]
  },
  {
   "cell_type": "code",
   "execution_count": 15,
   "id": "84ceb98d",
   "metadata": {},
   "outputs": [
    {
     "name": "stdout",
     "output_type": "stream",
     "text": [
      "id                                 object\n",
      "date_account_created       datetime64[ns]\n",
      "timestamp_first_active     datetime64[ns]\n",
      "date_first_booking         datetime64[ns]\n",
      "gender                             object\n",
      "age                                 int32\n",
      "signup_method                      object\n",
      "signup_flow                         int64\n",
      "language                           object\n",
      "affiliate_channel                  object\n",
      "affiliate_provider                 object\n",
      "first_affiliate_tracked            object\n",
      "signup_app                         object\n",
      "first_device_type                  object\n",
      "first_browser                      object\n",
      "country_destination                object\n",
      "dtype: object\n"
     ]
    }
   ],
   "source": [
    "for i in [\"date_account_created\", \"date_first_booking\"]:\n",
    "    df1[i] = pd.to_datetime(df1[i])\n",
    "df1[ 'timestamp_first_active' ] = pd.to_datetime( df1['timestamp_first_active'], format=\"%Y%m%d%H%M%S\" )\n",
    "df1['age'] = df1['age'].astype(int)\n",
    "print( df1.dtypes )"
   ]
  },
  {
   "attachments": {},
   "cell_type": "markdown",
   "id": "d8375f88",
   "metadata": {},
   "source": [
    "# 2.0 Data Filtering"
   ]
  },
  {
   "cell_type": "code",
   "execution_count": 16,
   "id": "05a56bb0",
   "metadata": {},
   "outputs": [],
   "source": [
    "df2 = df1.copy()"
   ]
  },
  {
   "attachments": {},
   "cell_type": "markdown",
   "id": "a8202577",
   "metadata": {},
   "source": [
    "# 3.0 Data Prep"
   ]
  },
  {
   "cell_type": "code",
   "execution_count": 23,
   "id": "245d19b4",
   "metadata": {},
   "outputs": [],
   "source": [
    "df3 = df2.copy()\n",
    "\n",
    "#dummy variable\n",
    "df3_dummy = pd.get_dummies( df3.drop( ['id', 'country_destination'], axis=1 ) )\n",
    "\n",
    "#join id and country destination\n",
    "df3 = pd.concat( [df3[['id', 'country_destination']], df3_dummy], axis=1 )"
   ]
  },
  {
   "cell_type": "markdown",
   "id": "5e001cbf",
   "metadata": {},
   "source": [
    "# 4.0 Feature Selection"
   ]
  },
  {
   "cell_type": "code",
   "execution_count": 24,
   "id": "9e03988a",
   "metadata": {},
   "outputs": [],
   "source": [
    "cols_drop = ['date_account_created', 'timestamp_first_active', \"date_first_booking\"]\n",
    "df4 = df3.drop( cols_drop , axis=1)"
   ]
  },
  {
   "attachments": {},
   "cell_type": "markdown",
   "id": "e9732242",
   "metadata": {},
   "source": [
    "# 5.0 Neural Network - Multi-Layer Perceptron"
   ]
  },
  {
   "cell_type": "code",
   "execution_count": 26,
   "id": "f68eee4c",
   "metadata": {},
   "outputs": [],
   "source": [
    "df5 = df4.copy()"
   ]
  },
  {
   "cell_type": "code",
   "execution_count": 27,
   "id": "4293b896",
   "metadata": {},
   "outputs": [],
   "source": [
    "X = df5.drop( [\"country_destination\",\"id\"] , axis=1 )\n",
    "y = df5['country_destination'].copy()"
   ]
  },
  {
   "cell_type": "code",
   "execution_count": 28,
   "id": "395a7392",
   "metadata": {},
   "outputs": [],
   "source": [
    "Xtrain, Xtest, ytrain, ytest = train_test_split( X, y, test_size = 0.2, random_state=42 )"
   ]
  },
  {
   "cell_type": "code",
   "execution_count": 29,
   "id": "e2842e2e",
   "metadata": {},
   "outputs": [],
   "source": [
    "from sklearn.preprocessing import OneHotEncoder\n",
    "\n",
    "ohe = OneHotEncoder()\n",
    "ytrain_nn = ohe.fit_transform( ytrain.values.reshape( -1, 1 ) ).toarray()\n"
   ]
  },
  {
   "cell_type": "code",
   "execution_count": 31,
   "id": "61a3cc59",
   "metadata": {},
   "outputs": [
    {
     "name": "stdout",
     "output_type": "stream",
     "text": [
      "Epoch 1/100\n",
      "1705/1705 [==============================] - 4s 2ms/step - loss: 1.3940 - accuracy: 0.7013\n",
      "Epoch 2/100\n",
      "1705/1705 [==============================] - 3s 2ms/step - loss: 1.2850 - accuracy: 0.7062\n",
      "Epoch 3/100\n",
      "1705/1705 [==============================] - 3s 2ms/step - loss: 1.2591 - accuracy: 0.7068\n",
      "Epoch 4/100\n",
      "1705/1705 [==============================] - 3s 2ms/step - loss: 1.2184 - accuracy: 0.7071\n",
      "Epoch 5/100\n",
      "1705/1705 [==============================] - 3s 2ms/step - loss: 1.1986 - accuracy: 0.7070\n",
      "Epoch 6/100\n",
      "1705/1705 [==============================] - 3s 2ms/step - loss: 1.1808 - accuracy: 0.7071\n",
      "Epoch 7/100\n",
      "1705/1705 [==============================] - 3s 2ms/step - loss: 1.1636 - accuracy: 0.7071\n",
      "Epoch 8/100\n",
      "1705/1705 [==============================] - 3s 2ms/step - loss: 1.1544 - accuracy: 0.7071\n",
      "Epoch 9/100\n",
      "1705/1705 [==============================] - 3s 2ms/step - loss: 1.1462 - accuracy: 0.7072\n",
      "Epoch 10/100\n",
      "1705/1705 [==============================] - 3s 2ms/step - loss: 1.1406 - accuracy: 0.7076\n",
      "Epoch 11/100\n",
      "1705/1705 [==============================] - 3s 2ms/step - loss: 1.1392 - accuracy: 0.7081\n",
      "Epoch 12/100\n",
      "1705/1705 [==============================] - 3s 2ms/step - loss: 1.1383 - accuracy: 0.7079\n",
      "Epoch 13/100\n",
      "1705/1705 [==============================] - 3s 2ms/step - loss: 1.1362 - accuracy: 0.7081\n",
      "Epoch 14/100\n",
      "1705/1705 [==============================] - 3s 2ms/step - loss: 1.1356 - accuracy: 0.7081\n",
      "Epoch 15/100\n",
      "1705/1705 [==============================] - 3s 2ms/step - loss: 1.1334 - accuracy: 0.7082\n",
      "Epoch 16/100\n",
      "1705/1705 [==============================] - 3s 2ms/step - loss: 1.1322 - accuracy: 0.7082\n",
      "Epoch 17/100\n",
      "1705/1705 [==============================] - 3s 2ms/step - loss: 1.1320 - accuracy: 0.7083\n",
      "Epoch 18/100\n",
      "1705/1705 [==============================] - 3s 2ms/step - loss: 1.1313 - accuracy: 0.7082\n",
      "Epoch 19/100\n",
      "1705/1705 [==============================] - 3s 2ms/step - loss: 1.1305 - accuracy: 0.7082\n",
      "Epoch 20/100\n",
      "1705/1705 [==============================] - 3s 2ms/step - loss: 1.1291 - accuracy: 0.7083\n",
      "Epoch 21/100\n",
      "1705/1705 [==============================] - 3s 2ms/step - loss: 1.1289 - accuracy: 0.7082\n",
      "Epoch 22/100\n",
      "1705/1705 [==============================] - 3s 2ms/step - loss: 1.1280 - accuracy: 0.7083\n",
      "Epoch 23/100\n",
      "1705/1705 [==============================] - 3s 2ms/step - loss: 1.1268 - accuracy: 0.7082\n",
      "Epoch 24/100\n",
      "1705/1705 [==============================] - 3s 2ms/step - loss: 1.1263 - accuracy: 0.7082\n",
      "Epoch 25/100\n",
      "1705/1705 [==============================] - 3s 2ms/step - loss: 1.1262 - accuracy: 0.7083\n",
      "Epoch 26/100\n",
      "1705/1705 [==============================] - 3s 2ms/step - loss: 1.1247 - accuracy: 0.7083\n",
      "Epoch 27/100\n",
      "1705/1705 [==============================] - 4s 2ms/step - loss: 1.1237 - accuracy: 0.7083\n",
      "Epoch 28/100\n",
      "1705/1705 [==============================] - 5s 3ms/step - loss: 1.1229 - accuracy: 0.7084\n",
      "Epoch 29/100\n",
      "1705/1705 [==============================] - 3s 2ms/step - loss: 1.1227 - accuracy: 0.7085\n",
      "Epoch 30/100\n",
      "1705/1705 [==============================] - 4s 2ms/step - loss: 1.1219 - accuracy: 0.7083\n",
      "Epoch 31/100\n",
      "1705/1705 [==============================] - 4s 2ms/step - loss: 1.1219 - accuracy: 0.7084\n",
      "Epoch 32/100\n",
      "1705/1705 [==============================] - 4s 2ms/step - loss: 1.1214 - accuracy: 0.7086\n",
      "Epoch 33/100\n",
      "1705/1705 [==============================] - 3s 2ms/step - loss: 1.1219 - accuracy: 0.7085\n",
      "Epoch 34/100\n",
      "1705/1705 [==============================] - 3s 2ms/step - loss: 1.1208 - accuracy: 0.7087\n",
      "Epoch 35/100\n",
      "1705/1705 [==============================] - 3s 2ms/step - loss: 1.1210 - accuracy: 0.7086\n",
      "Epoch 36/100\n",
      "1705/1705 [==============================] - 3s 2ms/step - loss: 1.1179 - accuracy: 0.7086\n",
      "Epoch 37/100\n",
      "1705/1705 [==============================] - 3s 2ms/step - loss: 1.1177 - accuracy: 0.7086\n",
      "Epoch 38/100\n",
      "1705/1705 [==============================] - 3s 2ms/step - loss: 1.1176 - accuracy: 0.7087\n",
      "Epoch 39/100\n",
      "1705/1705 [==============================] - 4s 2ms/step - loss: 1.1165 - accuracy: 0.7087\n",
      "Epoch 40/100\n",
      "1705/1705 [==============================] - 3s 2ms/step - loss: 1.1163 - accuracy: 0.7087\n",
      "Epoch 41/100\n",
      "1705/1705 [==============================] - 3s 2ms/step - loss: 1.1160 - accuracy: 0.7087\n",
      "Epoch 42/100\n",
      "1705/1705 [==============================] - 3s 2ms/step - loss: 1.1157 - accuracy: 0.7088\n",
      "Epoch 43/100\n",
      "1705/1705 [==============================] - 3s 2ms/step - loss: 1.1148 - accuracy: 0.7090\n",
      "Epoch 44/100\n",
      "1705/1705 [==============================] - 3s 2ms/step - loss: 1.1151 - accuracy: 0.7088\n",
      "Epoch 45/100\n",
      "1705/1705 [==============================] - 3s 2ms/step - loss: 1.1149 - accuracy: 0.7089\n",
      "Epoch 46/100\n",
      "1705/1705 [==============================] - 3s 2ms/step - loss: 1.1128 - accuracy: 0.7091\n",
      "Epoch 47/100\n",
      "1705/1705 [==============================] - 3s 2ms/step - loss: 1.1132 - accuracy: 0.7091\n",
      "Epoch 48/100\n",
      "1705/1705 [==============================] - 3s 2ms/step - loss: 1.1128 - accuracy: 0.7091\n",
      "Epoch 49/100\n",
      "1705/1705 [==============================] - 3s 2ms/step - loss: 1.1126 - accuracy: 0.7091\n",
      "Epoch 50/100\n",
      "1705/1705 [==============================] - 4s 2ms/step - loss: 1.1115 - accuracy: 0.7090\n",
      "Epoch 51/100\n",
      "1705/1705 [==============================] - 4s 2ms/step - loss: 1.1118 - accuracy: 0.7091\n",
      "Epoch 52/100\n",
      "1705/1705 [==============================] - 3s 2ms/step - loss: 1.1110 - accuracy: 0.7094\n",
      "Epoch 53/100\n",
      "1705/1705 [==============================] - 3s 2ms/step - loss: 1.1109 - accuracy: 0.7092\n",
      "Epoch 54/100\n",
      "1705/1705 [==============================] - 3s 2ms/step - loss: 1.1094 - accuracy: 0.7095\n",
      "Epoch 55/100\n",
      "1705/1705 [==============================] - 3s 2ms/step - loss: 1.1100 - accuracy: 0.7095\n",
      "Epoch 56/100\n",
      "1705/1705 [==============================] - 3s 2ms/step - loss: 1.1098 - accuracy: 0.7096\n",
      "Epoch 57/100\n",
      "1705/1705 [==============================] - 3s 2ms/step - loss: 1.1110 - accuracy: 0.7094\n",
      "Epoch 58/100\n",
      "1705/1705 [==============================] - 3s 2ms/step - loss: 1.1104 - accuracy: 0.7095\n",
      "Epoch 59/100\n",
      "1705/1705 [==============================] - 3s 2ms/step - loss: 1.1102 - accuracy: 0.7096\n",
      "Epoch 60/100\n",
      "1705/1705 [==============================] - 3s 2ms/step - loss: 1.1094 - accuracy: 0.7095\n",
      "Epoch 61/100\n",
      "1705/1705 [==============================] - 3s 2ms/step - loss: 1.1093 - accuracy: 0.7097\n",
      "Epoch 62/100\n",
      "1705/1705 [==============================] - 3s 2ms/step - loss: 1.1087 - accuracy: 0.7098\n",
      "Epoch 63/100\n",
      "1705/1705 [==============================] - 3s 2ms/step - loss: 1.1089 - accuracy: 0.7097\n",
      "Epoch 64/100\n",
      "1705/1705 [==============================] - 3s 2ms/step - loss: 1.1080 - accuracy: 0.7099\n",
      "Epoch 65/100\n",
      "1705/1705 [==============================] - 3s 2ms/step - loss: 1.1079 - accuracy: 0.7099\n",
      "Epoch 66/100\n",
      "1705/1705 [==============================] - 3s 1ms/step - loss: 1.1080 - accuracy: 0.7099\n",
      "Epoch 67/100\n",
      "1705/1705 [==============================] - 3s 2ms/step - loss: 1.1066 - accuracy: 0.7097\n",
      "Epoch 68/100\n",
      "1705/1705 [==============================] - 3s 2ms/step - loss: 1.1068 - accuracy: 0.7102\n",
      "Epoch 69/100\n",
      "1705/1705 [==============================] - 3s 2ms/step - loss: 1.1055 - accuracy: 0.7100\n",
      "Epoch 70/100\n",
      "1705/1705 [==============================] - 3s 2ms/step - loss: 1.1060 - accuracy: 0.7099\n",
      "Epoch 71/100\n",
      "1705/1705 [==============================] - 3s 2ms/step - loss: 1.1054 - accuracy: 0.7100\n",
      "Epoch 72/100\n",
      "1705/1705 [==============================] - 3s 2ms/step - loss: 1.1053 - accuracy: 0.7100\n",
      "Epoch 73/100\n",
      "1705/1705 [==============================] - 3s 2ms/step - loss: 1.1051 - accuracy: 0.7100\n",
      "Epoch 74/100\n",
      "1705/1705 [==============================] - 3s 2ms/step - loss: 1.1052 - accuracy: 0.7104\n",
      "Epoch 75/100\n",
      "1705/1705 [==============================] - 3s 2ms/step - loss: 1.1043 - accuracy: 0.7101\n",
      "Epoch 76/100\n",
      "1705/1705 [==============================] - 3s 2ms/step - loss: 1.1042 - accuracy: 0.7103\n",
      "Epoch 77/100\n",
      "1705/1705 [==============================] - 3s 2ms/step - loss: 1.1037 - accuracy: 0.7103\n",
      "Epoch 78/100\n",
      "1705/1705 [==============================] - 3s 2ms/step - loss: 1.1033 - accuracy: 0.7099\n",
      "Epoch 79/100\n",
      "1705/1705 [==============================] - 3s 2ms/step - loss: 1.1036 - accuracy: 0.7105\n",
      "Epoch 80/100\n",
      "1705/1705 [==============================] - 3s 2ms/step - loss: 1.1028 - accuracy: 0.7106\n",
      "Epoch 81/100\n",
      "1705/1705 [==============================] - 3s 2ms/step - loss: 1.1030 - accuracy: 0.7102\n",
      "Epoch 82/100\n",
      "1705/1705 [==============================] - 3s 2ms/step - loss: 1.1023 - accuracy: 0.7106\n",
      "Epoch 83/100\n",
      "1705/1705 [==============================] - 3s 2ms/step - loss: 1.1028 - accuracy: 0.7103\n",
      "Epoch 84/100\n",
      "1705/1705 [==============================] - 3s 2ms/step - loss: 1.1019 - accuracy: 0.7105\n",
      "Epoch 85/100\n",
      "1705/1705 [==============================] - 3s 2ms/step - loss: 1.1020 - accuracy: 0.7104\n",
      "Epoch 86/100\n",
      "1705/1705 [==============================] - 3s 2ms/step - loss: 1.1018 - accuracy: 0.7102\n",
      "Epoch 87/100\n",
      "1705/1705 [==============================] - 3s 2ms/step - loss: 1.1016 - accuracy: 0.7105\n",
      "Epoch 88/100\n",
      "1705/1705 [==============================] - 3s 2ms/step - loss: 1.1013 - accuracy: 0.7101\n",
      "Epoch 89/100\n",
      "1705/1705 [==============================] - 3s 2ms/step - loss: 1.1010 - accuracy: 0.7107\n",
      "Epoch 90/100\n",
      "1705/1705 [==============================] - 3s 2ms/step - loss: 1.1005 - accuracy: 0.7106\n",
      "Epoch 91/100\n",
      "1705/1705 [==============================] - 3s 2ms/step - loss: 1.1005 - accuracy: 0.7107\n",
      "Epoch 92/100\n",
      "1705/1705 [==============================] - 3s 2ms/step - loss: 1.1001 - accuracy: 0.7105\n",
      "Epoch 93/100\n",
      "1705/1705 [==============================] - 3s 2ms/step - loss: 1.1003 - accuracy: 0.7107\n",
      "Epoch 94/100\n",
      "1705/1705 [==============================] - 3s 2ms/step - loss: 1.1000 - accuracy: 0.7109\n",
      "Epoch 95/100\n",
      "1705/1705 [==============================] - 4s 2ms/step - loss: 1.1001 - accuracy: 0.7106\n",
      "Epoch 96/100\n",
      "1705/1705 [==============================] - 3s 2ms/step - loss: 1.0998 - accuracy: 0.7107\n",
      "Epoch 97/100\n",
      "1705/1705 [==============================] - 3s 2ms/step - loss: 1.0999 - accuracy: 0.7106\n",
      "Epoch 98/100\n",
      "1705/1705 [==============================] - 3s 2ms/step - loss: 1.0994 - accuracy: 0.7111\n",
      "Epoch 99/100\n",
      "1705/1705 [==============================] - 3s 2ms/step - loss: 1.0990 - accuracy: 0.7108\n",
      "Epoch 100/100\n",
      "1705/1705 [==============================] - 3s 2ms/step - loss: 1.0986 - accuracy: 0.7107\n"
     ]
    },
    {
     "data": {
      "text/plain": [
       "<keras.callbacks.History at 0x2dd805efa00>"
      ]
     },
     "execution_count": 31,
     "metadata": {},
     "output_type": "execute_result"
    }
   ],
   "source": [
    "model = ml.Sequential()\n",
    "model.add( l.Dense( 128, input_dim = Xtrain.shape[1], activation = \"relu\" ) )\n",
    "model.add( l.Dense( 11, activation=\"softmax\") )\n",
    "\n",
    "#model compile\n",
    "model.compile( loss='categorical_crossentropy', optimizer='adam', metrics=['accuracy'] )\n",
    "\n",
    "#train model\n",
    "model.fit( Xtrain, ytrain_nn, epochs=100 )"
   ]
  },
  {
   "attachments": {},
   "cell_type": "markdown",
   "id": "c0e8d801",
   "metadata": {},
   "source": [
    "# 6.0 NN Performance"
   ]
  },
  {
   "cell_type": "code",
   "execution_count": 35,
   "id": "0e247194",
   "metadata": {},
   "outputs": [
    {
     "name": "stdout",
     "output_type": "stream",
     "text": [
      "427/427 [==============================] - 1s 1ms/step\n"
     ]
    }
   ],
   "source": [
    "# prediction\n",
    "pred_nn = model.predict( Xtest )\n",
    "\n",
    "# invert prediction\n",
    "yhat_nn = ohe.inverse_transform( pred_nn )\n",
    "\n",
    "# prediction prepare\n",
    "ytest_nn = ytest.to_numpy()\n",
    "yhat_nn = yhat_nn.reshape( 1, -1 )[0]"
   ]
  },
  {
   "cell_type": "code",
   "execution_count": 42,
   "id": "1f1b97b1",
   "metadata": {},
   "outputs": [],
   "source": [
    "from sklearn.metrics import balanced_accuracy_score, cohen_kappa_score, accuracy_score, classification_report"
   ]
  },
  {
   "cell_type": "code",
   "execution_count": 41,
   "id": "33ff60d5",
   "metadata": {},
   "outputs": [
    {
     "name": "stdout",
     "output_type": "stream",
     "text": [
      "0.7068573524019068 \n",
      " 0.09175116530287762 \n",
      " 0.0055010028822155554\n"
     ]
    }
   ],
   "source": [
    "# accuracy\n",
    "\n",
    "acc_nn = accuracy_score(ytest_nn, yhat_nn)\n",
    "\n",
    "bacc_nn = balanced_accuracy_score(ytest_nn, yhat_nn)\n",
    "\n",
    "kappa_nn = cohen_kappa_score(ytest_nn, yhat_nn)\n",
    "\n",
    "print( acc_nn, \"\\n\", bacc_nn, \"\\n\", kappa_nn)"
   ]
  },
  {
   "cell_type": "code",
   "execution_count": 44,
   "id": "f573f09f",
   "metadata": {},
   "outputs": [
    {
     "name": "stderr",
     "output_type": "stream",
     "text": [
      "p:\\Python\\GitHub\\airbnb_prediction\\airbnb_env\\lib\\site-packages\\sklearn\\metrics\\_classification.py:1344: UndefinedMetricWarning: Precision and F-score are ill-defined and being set to 0.0 in labels with no predicted samples. Use `zero_division` parameter to control this behavior.\n",
      "  _warn_prf(average, modifier, msg_start, len(result))\n"
     ]
    },
    {
     "name": "stdout",
     "output_type": "stream",
     "text": [
      "              precision    recall  f1-score   support\n",
      "\n",
      "          AU       0.00      0.00      0.00        90\n",
      "          CA       0.00      0.00      0.00       210\n",
      "          DE       0.00      0.00      0.00       176\n",
      "          ES       0.11      0.00      0.01       344\n",
      "          FR       0.12      0.00      0.00       742\n",
      "          GB       0.00      0.00      0.00       356\n",
      "          IT       0.00      0.00      0.00       399\n",
      "          NL       0.00      0.00      0.00       107\n",
      "          PT       0.00      0.00      0.00        26\n",
      "          US       0.71      0.99      0.83      9704\n",
      "       other       0.18      0.01      0.03      1481\n",
      "\n",
      "    accuracy                           0.71     13635\n",
      "   macro avg       0.10      0.09      0.08     13635\n",
      "weighted avg       0.54      0.71      0.59     13635\n",
      "\n"
     ]
    },
    {
     "name": "stderr",
     "output_type": "stream",
     "text": [
      "p:\\Python\\GitHub\\airbnb_prediction\\airbnb_env\\lib\\site-packages\\sklearn\\metrics\\_classification.py:1344: UndefinedMetricWarning: Precision and F-score are ill-defined and being set to 0.0 in labels with no predicted samples. Use `zero_division` parameter to control this behavior.\n",
      "  _warn_prf(average, modifier, msg_start, len(result))\n",
      "p:\\Python\\GitHub\\airbnb_prediction\\airbnb_env\\lib\\site-packages\\sklearn\\metrics\\_classification.py:1344: UndefinedMetricWarning: Precision and F-score are ill-defined and being set to 0.0 in labels with no predicted samples. Use `zero_division` parameter to control this behavior.\n",
      "  _warn_prf(average, modifier, msg_start, len(result))\n"
     ]
    }
   ],
   "source": [
    "print(classification_report(ytest_nn, yhat_nn))"
   ]
  },
  {
   "cell_type": "code",
   "execution_count": null,
   "id": "51f0f0b9",
   "metadata": {},
   "outputs": [],
   "source": []
  }
 ],
 "metadata": {
  "kernelspec": {
   "display_name": "airbnb_env",
   "language": "python",
   "name": "python3"
  },
  "language_info": {
   "codemirror_mode": {
    "name": "ipython",
    "version": 3
   },
   "file_extension": ".py",
   "mimetype": "text/x-python",
   "name": "python",
   "nbconvert_exporter": "python",
   "pygments_lexer": "ipython3",
   "version": "3.10.4"
  },
  "toc-autonumbering": false,
  "toc-showmarkdowntxt": false,
  "vscode": {
   "interpreter": {
    "hash": "23d1fed749eb81f671e1ddaa2d06563fa3d71b2ecd23edccd00be5402ce84e06"
   }
  }
 },
 "nbformat": 4,
 "nbformat_minor": 5
}
